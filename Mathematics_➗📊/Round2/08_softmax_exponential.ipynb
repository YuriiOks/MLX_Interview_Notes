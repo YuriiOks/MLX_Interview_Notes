{
 "cells": [
  {
   "cell_type": "markdown",
   "metadata": {},
   "source": [
    "# **8️⃣ Softmax Function: Why Exponentials & Normalization? 📊🤖**"
   ]
  },
  {
   "cell_type": "markdown",
   "metadata": {},
   "source": [
    "## **💡 Real-Life Analogy: Deciding What to Eat at a Buffet 🍕🍔🍣**"
   ]
  },
  {
   "cell_type": "markdown",
   "metadata": {},
   "source": [
    "Imagine you’re at a buffet with **3 dishes**:  \n",
    "- **Pizza (7/10 preference)** 🍕  \n",
    "- **Burger (5/10 preference)** 🍔  \n",
    "- **Sushi (8/10 preference)** 🍣  \n",
    "\n",
    "📌 **How do you assign probabilities to each dish?**  \n",
    "- You could say, “I like pizza 7/10, burger 5/10, and sushi 8/10” **(raw scores/logits)**.  \n",
    "- But to get **probabilities** (values between **0 and 1** that sum to **1**),  \n",
    "  - **Use exponentials to amplify differences** 🔥  \n",
    "  - **Normalize by dividing by the sum** to get a valid probability distribution ✅  \n",
    "\n",
    "📌 **This is exactly what the Softmax function does!**"
   ]
  },
  {
   "cell_type": "markdown",
   "metadata": {},
   "source": [
    "## **📌 What is the Softmax Function?**"
   ]
  },
  {
   "cell_type": "markdown",
   "metadata": {},
   "source": [
    "✅ The **Softmax function** converts a vector of raw scores (**logits**) into a **probability distribution**.  \n",
    "✅ Ensures that outputs:  \n",
    "  - Are **positive**  \n",
    "  - Sum to **1**  (values between **0 and 1** and a valid probability distribution)  "
   ]
  },
  {
   "cell_type": "markdown",
   "metadata": {},
   "source": [
    "## **📌 Mathematical Formula (Softmax Function):**"
   ]
  },
  {
   "cell_type": "markdown",
   "metadata": {},
   "source": [
    "For a vector of logits $z = [z_1, z_2, \\dots, z_n]$, Softmax is:  \n",
    "$$\n",
    "S(z_i) = \\frac{e^{z_i}}{\\sum_{j=1}^{n} e^{z_j}}\n",
    "$$\n",
    "\n",
    "Where:  \n",
    "- $z_i$ = **Raw score (logit) for class $i$**  \n",
    "- $e^{z_i}$ = **Exponential function** (makes all values positive & amplifies differences)  \n",
    "- $\\sum e^{z_j}$ = **Normalization term** (ensures probabilities sum to 1)  "
   ]
  },
  {
   "cell_type": "markdown",
   "metadata": {},
   "source": [
    "## **📊 Example: Softmax Calculation**"
   ]
  },
  {
   "cell_type": "markdown",
   "metadata": {},
   "source": [
    "📌 **Given logits:**  \n",
    "$$z = [2, 1, 0]$$  "
   ]
  },
  {
   "cell_type": "markdown",
   "metadata": {},
   "source": [
    "📌 **Step 1: Compute Exponentials**  \n",
    "$$e^2 = 7.39, \\quad e^1 = 2.72, \\quad e^0 = 1.00$$  "
   ]
  },
  {
   "cell_type": "markdown",
   "metadata": {},
   "source": [
    "📌 **Step 2: Compute the Sum of Exponentials**  \n",
    "$$7.39 + 2.72 + 1.00 = 11.11$$  "
   ]
  },
  {
   "cell_type": "markdown",
   "metadata": {},
   "source": [
    "📌 **Step 3: Compute Softmax Probabilities**  \n",
    "$$S(2) = \\frac{7.39}{11.11} = 0.665, \\quad S(1) = \\frac{2.72}{11.11} = 0.245, \\quad S(0) = \\frac{1.00}{11.11} = 0.090$$  "
   ]
  },
  {
   "cell_type": "markdown",
   "metadata": {},
   "source": [
    "✅ **Final Probability Distribution:**  \n",
    "\n",
    "| Class   | Logit $z$ | $e^z$   | Softmax Probability $S(z)$ |  \n",
    "|---------|-----------|---------|----------------------------|  \n",
    "| Class 1 | 2         | 7.39    | 0.665                      |  \n",
    "| Class 2 | 1         | 2.72    | 0.245                      |  \n",
    "| Class 3 | 0         | 1.00    | 0.090                      |  "
   ]
  },
  {
   "cell_type": "markdown",
   "metadata": {},
   "source": [
    "📌 **Interpretation:**  \n",
    "- Class **1 has the highest probability (66.5%)**.  \n",
    "- Class **3 is least likely (9%)**.  \n",
    "- **All probabilities sum to 1** ✅  "
   ]
  },
  {
   "cell_type": "markdown",
   "metadata": {},
   "source": [
    "## **🔎 Why Do We Use Exponentials?**"
   ]
  },
  {
   "cell_type": "markdown",
   "metadata": {},
   "source": [
    "✅ **1️⃣ Ensures All Values Are Positive**  \n",
    "- Some logits may be **negative**  → Exponential **makes them positive**.  \n",
    "- Example: If logits = $[-2, 0, 3]$, exponentiation transforms them into **positive values**.  "
   ]
  },
  {
   "cell_type": "markdown",
   "metadata": {},
   "source": [
    "✅ **2️⃣ Amplifies Large Differences** 🔥  \n",
    "- Small logit differences **become larger** after exponentiation.  \n",
    "- Example: If logits are **[10, 9, 8]**, the raw difference between 10 and 8 is **2**,  \n",
    "  - But after exponentiation:  \n",
    "    - $e^{10} = 22026$  \n",
    "    - $e^{9} = 8103$  \n",
    "    - $e^{8} = 2980$  \n",
    "  - The gap between 10 and 8 **increases significantly**, making class 1 much more confident.  "
   ]
  },
  {
   "cell_type": "markdown",
   "metadata": {},
   "source": [
    "✅ **3️⃣ Mimics a “Winner-Takes-Most” Effect** 🎯  \n",
    "- If one class has a much higher logit, **Softmax assigns it a very high probability**.  "
   ]
  },
  {
   "cell_type": "markdown",
   "metadata": {},
   "source": [
    "## **🔎 Why Do We Divide by the Sum of Exponentials?**"
   ]
  },
  {
   "cell_type": "markdown",
   "metadata": {},
   "source": [
    "✅ **1️⃣ Normalization → Ensures Probabilities Sum to 1**  \n",
    "- Without division, we would get **unbounded values** (not valid probabilities).  \n",
    "- Example: If logits = [3, 1], exponentials = [20.1, 2.72], but we need:  \n",
    "  $$\\frac{20.1}{20.1 + 2.72} = 0.88, \\quad \\frac{2.72}{20.1 + 2.72} = 0.12$$  "
   ]
  },
  {
   "cell_type": "markdown",
   "metadata": {},
   "source": [
    "✅ **2️⃣ Allows Fair Comparison of Different Logit Scales**  \n",
    "- Example: If logits were scaled by **10** (e.g., [30, 10] instead of [3, 1]),  \n",
    "  - The exponentials would explode!  \n",
    "  - Normalization **keeps probabilities meaningful**.  "
   ]
  },
  {
   "cell_type": "markdown",
   "metadata": {},
   "source": [
    "## **📌 What Are Logits?**"
   ]
  },
  {
   "cell_type": "markdown",
   "metadata": {},
   "source": [
    "✅ **Logits are raw scores before Softmax is applied.**  \n",
    "✅ In a neural network:  \n",
    "- The **final layer produces logits** (real numbers, can be negative).  \n",
    "- **Softmax converts them into probabilities** for classification.  \n",
    "✅ **Logits don’t sum to 1, but Softmax probabilities do!**  "
   ]
  },
  {
   "cell_type": "markdown",
   "metadata": {},
   "source": [
    "## **🛠️ Python Code: Softmax Implementation**"
   ]
  },
  {
   "cell_type": "code",
   "execution_count": 1,
   "metadata": {},
   "outputs": [
    {
     "data": {
      "text/plain": [
       "array([0.66524096, 0.24472847, 0.09003057])"
      ]
     },
     "metadata": {},
     "output_type": "display_data"
    }
   ],
   "source": [
    "import numpy as np\n",
    "\n",
    "# Define logits\n",
    "logits = np.array([2, 1, 0])\n",
    "\n",
    "# Compute softmax\n",
    "softmax_probs = np.exp(logits) / np.sum(np.exp(logits))\n",
    "\n",
    "# Replace print with display if needed:\n",
    "display(softmax_probs)"
   ]
  },
  {
   "cell_type": "markdown",
   "metadata": {},
   "source": [
    "## **🚀 Applications of Softmax in AI/ML 🤖**"
   ]
  },
  {
   "cell_type": "markdown",
   "metadata": {},
   "source": [
    "✅ **Neural Networks (Classification Tasks)**: Converts logits into class probabilities.  \n",
    "✅ **Natural Language Processing (NLP)**: Used in **transformers & LSTMs** for predicting words.  \n",
    "✅ **Reinforcement Learning**: Selects actions based on probability distributions.  \n",
    "✅ **Multi-Class Classification**: Used in **image recognition (e.g., CIFAR-10, MNIST)**.  "
   ]
  },
  {
   "cell_type": "markdown",
   "metadata": {},
   "source": [
    "## **🔥 Summary**"
   ]
  },
  {
   "cell_type": "markdown",
   "metadata": {},
   "source": [
    "1. **Softmax converts logits into probabilities using exponentials & normalization.**  \n",
    "2. Exponentials make all values positive & amplify differences.  \n",
    "3. Dividing by the sum ensures probabilities sum to 1.  \n",
    "4. Used in AI/ML for classification tasks, NLP, and reinforcement learning.  "
   ]
  },
  {
   "cell_type": "markdown",
   "metadata": {},
   "source": [
    "# **📌 5 More Examples of Applying Logits, Softmax & Exponentials in AI/ML 🤖📊**"
   ]
  },
  {
   "cell_type": "markdown",
   "metadata": {},
   "source": [
    "## **💡 Example 1: Predicting Sentiment in Text (Positive, Neutral, Negative) 📝😃😐😡**"
   ]
  },
  {
   "cell_type": "markdown",
   "metadata": {},
   "source": [
    "A Natural Language Processing (NLP) model analyzes a tweet and determines whether the sentiment is **Positive, Neutral, or Negative**."
   ]
  },
  {
   "cell_type": "markdown",
   "metadata": {},
   "source": [
    "📌 **Raw Model Outputs (Logits):**"
   ]
  },
  {
   "cell_type": "markdown",
   "metadata": {},
   "source": [
    "$$\n",
    "z = [2.1, 1.5, -0.8]\n",
    "$$"
   ]
  },
  {
   "cell_type": "markdown",
   "metadata": {},
   "source": [
    "📌 **What These Values Represent:**"
   ]
  },
  {
   "cell_type": "markdown",
   "metadata": {},
   "source": [
    "- **2.1** → Model is leaning toward **Positive sentiment**.  \n",
    "- **1.5** → Model is somewhat **Neutral** but not as strong as **Positive**.  \n",
    "- **-0.8** → Model is **very unlikely** to predict **Negative sentiment**.  "
   ]
  },
  {
   "cell_type": "markdown",
   "metadata": {},
   "source": [
    "📌 **Apply Softmax:**"
   ]
  },
  {
   "cell_type": "markdown",
   "metadata": {},
   "source": [
    "$$\n",
    " e^z = [e^{2.1}, e^{1.5}, e^{-0.8}] = [8.16, 4.48, 0.45]\n",
    "$$\n",
    "$$\n",
    "\\sum e^z = 8.16 + 4.48 + 0.45 = 13.09\n",
    "$$"
   ]
  },
  {
   "cell_type": "markdown",
   "metadata": {},
   "source": [
    "📌 **Final Probabilities:**"
   ]
  },
  {
   "cell_type": "markdown",
   "metadata": {},
   "source": [
    "$$\n",
    "S(z) = \\left[ \\frac{8.16}{13.09}, \\frac{4.48}{13.09}, \\frac{0.45}{13.09} \\right] = [0.62, 0.34, 0.03]\n",
    "$$"
   ]
  },
  {
   "cell_type": "markdown",
   "metadata": {},
   "source": [
    "✅ **Model Prediction:** **62% chance of being Positive**!"
   ]
  },
  {
   "cell_type": "markdown",
   "metadata": {},
   "source": [
    "## **💡 Example 2: Autonomous Driving (Traffic Light Detection) 🚦🚗**"
   ]
  },
  {
   "cell_type": "markdown",
   "metadata": {},
   "source": [
    "A self-driving car camera detects a **traffic light** and classifies it as **Red, Yellow, or Green**."
   ]
  },
  {
   "cell_type": "markdown",
   "metadata": {},
   "source": [
    "📌 **Raw Model Outputs (Logits):**"
   ]
  },
  {
   "cell_type": "markdown",
   "metadata": {},
   "source": [
    "$$\n",
    "z = [4.5, 2.1, 0.3]\n",
    "$$"
   ]
  },
  {
   "cell_type": "markdown",
   "metadata": {},
   "source": [
    "📌 **What These Values Represent:**"
   ]
  },
  {
   "cell_type": "markdown",
   "metadata": {},
   "source": [
    "- **4.5** → Model strongly believes the **light is Red**.  \n",
    "- **2.1** → Some chance it’s **Yellow**, but less likely.  \n",
    "- **0.3** → **Very unlikely** to be Green.  "
   ]
  },
  {
   "cell_type": "markdown",
   "metadata": {},
   "source": [
    "📌 **Apply Softmax:**"
   ]
  },
  {
   "cell_type": "markdown",
   "metadata": {},
   "source": [
    "$$\n",
    " e^z = [e^{4.5}, e^{2.1}, e^{0.3}] = [90.02, 8.16, 1.35]\n",
    "$$\n",
    "$$\n",
    "\\sum e^z = 90.02 + 8.16 + 1.35 = 99.53\n",
    "$$"
   ]
  },
  {
   "cell_type": "markdown",
   "metadata": {},
   "source": [
    "📌 **Final Probabilities:**"
   ]
  },
  {
   "cell_type": "markdown",
   "metadata": {},
   "source": [
    "$$\n",
    "S(z) = \\left[ \\frac{90.02}{99.53}, \\frac{8.16}{99.53}, \\frac{1.35}{99.53} \\right] = [0.90, 0.08, 0.01]\n",
    "$$"
   ]
  },
  {
   "cell_type": "markdown",
   "metadata": {},
   "source": [
    "✅ **Model Prediction:** **90% chance of Red Light** → STOP! 🚦"
   ]
  },
  {
   "cell_type": "markdown",
   "metadata": {},
   "source": [
    "## **💡 Example 3: Email Spam Classification (Spam vs. Not Spam) 📧🚫**"
   ]
  },
  {
   "cell_type": "markdown",
   "metadata": {},
   "source": [
    "A spam filter decides whether an incoming email is **Spam** or **Not Spam**."
   ]
  },
  {
   "cell_type": "markdown",
   "metadata": {},
   "source": [
    "📌 **Raw Model Outputs (Logits):**"
   ]
  },
  {
   "cell_type": "markdown",
   "metadata": {},
   "source": [
    "$$\n",
    "z = [-1.5, 3.2]\n",
    "$$"
   ]
  },
  {
   "cell_type": "markdown",
   "metadata": {},
   "source": [
    "📌 **What These Values Represent:**"
   ]
  },
  {
   "cell_type": "markdown",
   "metadata": {},
   "source": [
    "- **-1.5** → Model thinks it’s **unlikely to be Spam**.  \n",
    "- **3.2** → Strong likelihood that it is **Not Spam**.  "
   ]
  },
  {
   "cell_type": "markdown",
   "metadata": {},
   "source": [
    "📌 **Apply Softmax:**"
   ]
  },
  {
   "cell_type": "markdown",
   "metadata": {},
   "source": [
    "$$\n",
    " e^z = [e^{-1.5}, e^{3.2}] = [0.22, 24.53]\n",
    "$$\n",
    "$$\n",
    "\\sum e^z = 0.22 + 24.53 = 24.75\n",
    "$$"
   ]
  },
  {
   "cell_type": "markdown",
   "metadata": {},
   "source": [
    "📌 **Final Probabilities:**"
   ]
  },
  {
   "cell_type": "markdown",
   "metadata": {},
   "source": [
    "$$\n",
    "S(z) = \\left[ \\frac{0.22}{24.75}, \\frac{24.53}{24.75} \\right] = [0.009, 0.991]\n",
    "$$"
   ]
  },
  {
   "cell_type": "markdown",
   "metadata": {},
   "source": [
    "✅ **Model Prediction:** **99.1% probability of Not Spam** → Safe email! ✅"
   ]
  },
  {
   "cell_type": "markdown",
   "metadata": {},
   "source": [
    "## **💡 Example 4: Handwritten Digit Recognition (MNIST - 0 to 9) 🔢✍️**"
   ]
  },
  {
   "cell_type": "markdown",
   "metadata": {},
   "source": [
    "A neural network classifies handwritten digits from **0 to 9**."
   ]
  },
  {
   "cell_type": "markdown",
   "metadata": {},
   "source": [
    "📌 **Raw Model Outputs (Logits) for a given image:**"
   ]
  },
  {
   "cell_type": "markdown",
   "metadata": {},
   "source": [
    "$$\n",
    "z = [-2.5, 0.3, 3.1, 1.7, -0.9, 2.5, 0.0, 1.2, -1.2, 2.9]\n",
    "$$"
   ]
  },
  {
   "cell_type": "markdown",
   "metadata": {},
   "source": [
    "📌 **What These Values Represent:**"
   ]
  },
  {
   "cell_type": "markdown",
   "metadata": {},
   "source": [
    "- **3.1** (highest value) → Model strongly thinks the digit is **\"2\"**.  \n",
    "- **2.9, 2.5** → Some probability for **\"9\"** and **\"5\"** but less likely.  \n",
    "- **Negative values** → Very **unlikely digits**.  "
   ]
  },
  {
   "cell_type": "markdown",
   "metadata": {},
   "source": [
    "📌 **Apply Softmax (only top values for simplicity):**"
   ]
  },
  {
   "cell_type": "markdown",
   "metadata": {},
   "source": [
    "$$\n",
    " e^z = [e^{-2.5}, e^{0.3}, e^{3.1}, e^{1.7}, e^{-0.9}, e^{2.5}, e^{0.0}, e^{1.2}, e^{-1.2}, e^{2.9}]\n",
    "$$\n",
    "$$\n",
    "\\sum e^z = 0.08 + 1.35 + 22.2 + 5.47 + 0.40 + 12.18 + 1.00 + 3.32 + 0.30 + 18.17 = 64.47\n",
    "$$"
   ]
  },
  {
   "cell_type": "markdown",
   "metadata": {},
   "source": [
    "📌 **Final Probabilities (only top 3 values):**"
   ]
  },
  {
   "cell_type": "markdown",
   "metadata": {},
   "source": [
    "$$\n",
    "S(3.1) = \\frac{22.2}{64.47} = 0.34\n",
    "$$\n",
    "$$\n",
    "S(2.9) = \\frac{18.17}{64.47} = 0.28\n",
    "$$\n",
    "$$\n",
    "S(2.5) = \\frac{12.18}{64.47} = 0.19\n",
    "$$"
   ]
  },
  {
   "cell_type": "markdown",
   "metadata": {},
   "source": [
    "✅ **Model Prediction:** **34% chance of \"2\" → The model classifies the digit as \"2\"!** 🔢"
   ]
  },
  {
   "cell_type": "markdown",
   "metadata": {},
   "source": [
    "## **💡 Example 5: Recommender System for Movies 🎥🍿**"
   ]
  },
  {
   "cell_type": "markdown",
   "metadata": {},
   "source": [
    "A movie streaming service recommends a movie based on genres **(Action, Comedy, Drama, Horror)**."
   ]
  },
  {
   "cell_type": "markdown",
   "metadata": {},
   "source": [
    "📌 **Raw Model Outputs (Logits):**"
   ]
  },
  {
   "cell_type": "markdown",
   "metadata": {},
   "source": [
    "$$\n",
    "z = [1.8, 3.4, 0.5, -2.1]\n",
    "$$"
   ]
  },
  {
   "cell_type": "markdown",
   "metadata": {},
   "source": [
    "📌 **What These Values Represent:**"
   ]
  },
  {
   "cell_type": "markdown",
   "metadata": {},
   "source": [
    "- **3.4** → Model believes the user prefers **Comedy**.  \n",
    "- **1.8** → Some interest in **Action**.  \n",
    "- **0.5** → Less interest in **Drama**.  \n",
    "- **-2.1** → Very unlikely to pick **Horror**.  "
   ]
  },
  {
   "cell_type": "markdown",
   "metadata": {},
   "source": [
    "📌 **Apply Softmax:**"
   ]
  },
  {
   "cell_type": "markdown",
   "metadata": {},
   "source": [
    "$$\n",
    " e^z = [e^{1.8}, e^{3.4}, e^{0.5}, e^{-2.1}] = [6.05, 29.96, 1.65, 0.12]\n",
    "$$\n",
    "$$\n",
    "\\sum e^z = 6.05 + 29.96 + 1.65 + 0.12 = 37.78\n",
    "$$"
   ]
  },
  {
   "cell_type": "markdown",
   "metadata": {},
   "source": [
    "📌 **Final Probabilities:**"
   ]
  },
  {
   "cell_type": "markdown",
   "metadata": {},
   "source": [
    "$$\n",
    "S(3.4) = \\frac{29.96}{37.78} = 0.79\n",
    "$$\n",
    "$$\n",
    "S(1.8) = \\frac{6.05}{37.78} = 0.16\n",
    "$$\n",
    "$$\n",
    "S(0.5) = \\frac{1.65}{37.78} = 0.04\n",
    "$$\n",
    "$$\n",
    "S(-2.1) = \\frac{0.12}{37.78} = 0.003\n",
    "$$"
   ]
  },
  {
   "cell_type": "markdown",
   "metadata": {},
   "source": [
    "✅ **Model Prediction:** **79% chance the user prefers Comedy! 🎭**"
   ]
  },
  {
   "cell_type": "markdown",
   "metadata": {},
   "source": [
    "## **🔥 Summary**"
   ]
  },
  {
   "cell_type": "markdown",
   "metadata": {},
   "source": [
    "1️⃣ **Logits are raw scores from a model that represent confidence before Softmax is applied.**  \n",
    "2️⃣ **Exponentials make values positive & amplify differences.**  \n",
    "3️⃣ **Dividing by the sum normalizes probabilities (ensures they sum to 1).**  \n",
    "4️⃣ **Used in NLP (sentiment analysis), self-driving cars, recommendation systems, and more!**  "
   ]
  }
 ],
 "metadata": {
  "kernelspec": {
   "display_name": "Python 3",
   "language": "python",
   "name": "python3"
  },
  "language_info": {
   "codemirror_mode": {
    "name": "ipython",
    "version": 3
   },
   "file_extension": ".py",
   "mimetype": "text/x-python",
   "name": "python",
   "nbconvert_exporter": "python",
   "pygments_lexer": "ipython3",
   "version": "3.13.0"
  }
 },
 "nbformat": 4,
 "nbformat_minor": 2
}
