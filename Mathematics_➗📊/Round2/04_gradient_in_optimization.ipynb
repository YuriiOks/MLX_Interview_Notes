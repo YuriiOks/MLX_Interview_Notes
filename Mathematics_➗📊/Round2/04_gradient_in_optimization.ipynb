{
 "cells": [
  {
   "cell_type": "markdown",
   "metadata": {},
   "source": [
    "# **4️⃣ Gradient in Optimization: Concept, Role & Applications 📉🚀**  "
   ]
  },
  {
   "cell_type": "markdown",
   "metadata": {},
   "source": [
    "## **💡 Real-Life Analogy: Hiking Down a Mountain ⛰️🏃**  "
   ]
  },
  {
   "cell_type": "markdown",
   "metadata": {},
   "source": [
    "Imagine you're **standing on top of a mountain** and want to reach **the lowest point (valley)**:  \n",
    "- If it's **foggy**, you can’t see the valley.  \n",
    "- You check **which direction is steepest downward** and take **a small step** in that direction.  \n",
    "- Keep repeating this process until you reach the **lowest point**.  \n",
    "\n",
    "📌 **This is exactly how gradient-based optimization works!**  \n",
    "The **gradient points in the steepest uphill direction**, so we move in the **opposite direction** to minimize a function.  "
   ]
  },
  {
   "cell_type": "markdown",
   "metadata": {},
   "source": [
    "## **📌 What is a Gradient in Optimization?**  "
   ]
  },
  {
   "cell_type": "markdown",
   "metadata": {},
   "source": [
    "✅ The **gradient** of a function is a **vector** that points in the **direction of the steepest ascent**.  \n",
    "✅ In optimization, we move **opposite to the gradient** to find **minimum values** of functions.  \n",
    "✅ Used in **machine learning, physics, and engineering** to find **optimal solutions**.  "
   ]
  },
  {
   "cell_type": "markdown",
   "metadata": {},
   "source": [
    "## **📌 Mathematical Definition:**  "
   ]
  },
  {
   "cell_type": "markdown",
   "metadata": {},
   "source": [
    "For a function $f(x, y)$, the gradient is:\n",
    "\n",
    "$$\n",
    "\\nabla f(x, y) = \\left( \\frac{\\partial f}{\\partial x}, \\frac{\\partial f}{\\partial y} \\right)\n",
    "$$\n",
    "\n",
    "Where:  \n",
    "- $\\frac{\\partial f}{\\partial x}$ = Rate of change along the **x-axis**.  \n",
    "- $\\frac{\\partial f}{\\partial y}$ = Rate of change along the **y-axis**.  "
   ]
  },
  {
   "cell_type": "markdown",
   "metadata": {},
   "source": [
    "## **🔄 How Gradient is Used in Optimization (Gradient Descent)**  "
   ]
  },
  {
   "cell_type": "markdown",
   "metadata": {},
   "source": [
    "✅ **Optimization means finding the minimum (or maximum) of a function.**  \n",
    "✅ **Gradient Descent** is a popular algorithm used to find **the lowest point** (minimum) of a function.  \n",
    "\n",
    "📌 **Gradient Descent Formula (Update Rule)**  \n",
    "$$\n",
    "x_{\\text{new}} = x_{\\text{old}} - \\alpha \\nabla f(x)\n",
    "$$\n",
    "Where:  \n",
    "- $\\alpha$ = **Learning rate (step size)**.  \n",
    "- $\\nabla f(x)$ = **Gradient (direction of steepest ascent)**.  \n",
    "- **Move in the negative gradient direction** to find the minimum.  "
   ]
  },
  {
   "cell_type": "markdown",
   "metadata": {},
   "source": [
    "📌 **Steps in Gradient Descent:**  "
   ]
  },
  {
   "cell_type": "markdown",
   "metadata": {},
   "source": [
    "1️⃣ **Compute the Gradient** → Find $\\nabla f(x)$ at the current point.  \n",
    "2️⃣ **Take a Step in the Opposite Direction** → Move **downhill** by adjusting $x$.  \n",
    "3️⃣ **Repeat Until Convergence** → Stop when updates are **very small** or function value stops improving.  "
   ]
  },
  {
   "cell_type": "markdown",
   "metadata": {},
   "source": [
    "## **📊 Example: Minimizing $f(x) = x^2$ Using Gradient Descent**  "
   ]
  },
  {
   "cell_type": "markdown",
   "metadata": {},
   "source": [
    "📌 **Function:**  \n",
    "$$\n",
    "f(x) = x^2\n",
    "$$\n",
    "📌 **Compute the Gradient:**  \n",
    "$$\n",
    "\\frac{df}{dx} = 2x\n",
    "$$\n",
    "\n",
    "📌 **Apply Gradient Descent:**  \n",
    "- Start at $x = 4$.  \n",
    "- Update using **$x = x - \\alpha \\times 2x$** (e.g., $\\alpha = 0.1$).  \n",
    "- Repeat until $x \\approx 0$ (the minimum).  "
   ]
  },
  {
   "cell_type": "markdown",
   "metadata": {},
   "source": [
    "✅ **Interpretation:**  \n",
    "- Each step **moves closer to the minimum**.  \n",
    "- A **smaller learning rate** makes steps **slower** but more precise.  \n",
    "- A **larger learning rate** may **overshoot** the minimum.  "
   ]
  },
  {
   "cell_type": "markdown",
   "metadata": {},
   "source": [
    "## **🛠️ Python Code: Gradient Descent for $f(x) = x^2$**  "
   ]
  },
  {
   "cell_type": "code",
   "execution_count": 3,
   "metadata": {},
   "outputs": [
    {
     "data": {
      "image/png": "[encoded data removed]",
      "text/plain": [
       "<Figure size 640x480 with 1 Axes>"
      ]
     },
     "metadata": {},
     "output_type": "display_data"
    }
   ],
   "source": [
    "import numpy as np\n",
    "import matplotlib.pyplot as plt\n",
    "\n",
    "# Define function and derivative\n",
    "def f(x):\n",
    "    return x**2\n",
    "\n",
    "def gradient(x):\n",
    "    return 2*x  # Derivative of x^2 is 2x\n",
    "\n",
    "# Gradient Descent Parameters\n",
    "alpha = 0.1  # Learning rate\n",
    "x = 4  # Starting point\n",
    "steps = [x]  # Store steps\n",
    "\n",
    "# Perform Gradient Descent\n",
    "for _ in range(10):\n",
    "    x = x - alpha * gradient(x)  # Update x\n",
    "    steps.append(x)\n",
    "\n",
    "# Plot function and descent path\n",
    "x_vals = np.linspace(-5, 5, 100)\n",
    "y_vals = f(x_vals)\n",
    "\n",
    "plt.plot(x_vals, y_vals, label=\"f(x) = x²\", color='b')\n",
    "plt.scatter(steps, [f(s) for s in steps], color='r', label=\"Gradient Descent Steps\")\n",
    "plt.xlabel(\"x\")\n",
    "plt.ylabel(\"f(x)\")\n",
    "plt.legend()\n",
    "plt.title(\"Gradient Descent Visualization\")\n",
    "plt.show()"
   ]
  },
  {
   "cell_type": "markdown",
   "metadata": {},
   "source": [
    "✅ **Output:**  \n",
    "- The **red dots** show how **gradient descent moves toward the minimum** at $x = 0$.  "
   ]
  },
  {
   "cell_type": "markdown",
   "metadata": {},
   "source": [
    "## **🆚 Gradient Descent Variants**  "
   ]
  },
  {
   "cell_type": "markdown",
   "metadata": {},
   "source": [
    "| Variant | Description | Use Case |  \n",
    "|---------|-------------|----------|  \n",
    "| **Batch Gradient Descent** | Uses **all data points** for each update  | Used in small datasets  |  \n",
    "| **Stochastic Gradient Descent (SGD)** | Uses **one data point at a time** (noisy updates)  | Faster for large datasets  |  \n",
    "| **Mini-Batch Gradient Descent** | Uses **a small batch of data** at each step  | Balances efficiency & accuracy  |  \n"
   ]
  },
  {
   "cell_type": "markdown",
   "metadata": {},
   "source": [
    "✅ **SGD is widely used in deep learning** to optimize neural networks efficiently.  "
   ]
  },
  {
   "cell_type": "markdown",
   "metadata": {},
   "source": [
    "## **🚀 Applications of Gradient-Based Optimization in AI/ML 🤖**  "
   ]
  },
  {
   "cell_type": "markdown",
   "metadata": {},
   "source": [
    "✅ **Training Neural Networks (Backpropagation)**: Optimizing weights in deep learning.  \n",
    "✅ **Logistic Regression & Linear Regression**: Finding optimal model parameters.  \n",
    "✅ **Support Vector Machines (SVMs)**: Optimizing hyperplanes for classification.  \n",
    "✅ **Reinforcement Learning**: Policy optimization in AI decision-making.  "
   ]
  },
  {
   "cell_type": "markdown",
   "metadata": {},
   "source": [
    "## **🔥 Summary**  "
   ]
  },
  {
   "cell_type": "markdown",
   "metadata": {},
   "source": [
    "1️⃣ **The gradient is a vector pointing in the steepest ascent direction of a function.**  \n",
    "2️⃣ **Gradient Descent is used to minimize functions by moving opposite to the gradient.**  \n",
    "3️⃣ **Formula:** $x_{\\text{new}} = x_{\\text{old}} - \\alpha \\nabla f(x)$.  \n",
    "4️⃣ **Used in machine learning, deep learning, physics, and finance for optimization.**  \n"
   ]
  },
  {
   "cell_type": "markdown",
   "metadata": {},
   "source": [
    "# **📌 Learning Rate ($ \\alpha $) in Gradient Descent 🚀📉**  "
   ]
  },
  {
   "cell_type": "markdown",
   "metadata": {},
   "source": [
    "## **💡 Real-Life Analogy: Walking Down a Hill 🏔️🚶‍♂️**  "
   ]
  },
  {
   "cell_type": "markdown",
   "metadata": {},
   "source": [
    "Imagine you’re **walking down a steep hill**:  \n",
    "- If you take **small steps**, you move **slowly but safely** to the bottom.  \n",
    "- If you take **big steps**, you might get there **faster**, but you **risk overshooting** or falling.  \n",
    "\n",
    "📌 **In optimization, the *learning rate* ($ \\alpha $) controls the step size in Gradient Descent.**  "
   ]
  },
  {
   "cell_type": "markdown",
   "metadata": {},
   "source": [
    "## **📌 What is the Learning Rate?**  "
   ]
  },
  {
   "cell_type": "markdown",
   "metadata": {},
   "source": [
    "✅ **The learning rate ($ \\alpha $) determines how much we update the model parameters at each step.**  \n",
    "✅ It **balances speed vs. accuracy** in optimization.  "
   ]
  },
  {
   "cell_type": "markdown",
   "metadata": {},
   "source": [
    "## **📌 Update Rule in Gradient Descent:**  "
   ]
  },
  {
   "cell_type": "markdown",
   "metadata": {},
   "source": [
    "$$\n",
    "x_{\\text{new}} = x_{\\text{old}} - \\alpha \\nabla f(x)\n",
    "$$\n",
    "Where:  \n",
    "- $ \\alpha $ = Learning rate (**step size**).  \n",
    "- $ \\nabla f(x) $= Gradient (direction of steepest ascent).  "
   ]
  },
  {
   "cell_type": "markdown",
   "metadata": {},
   "source": [
    "✅ **Choosing the Right Learning Rate:**  "
   ]
  },
  {
   "cell_type": "markdown",
   "metadata": {},
   "source": [
    "| Learning Rate $ \\alpha $ | Effect  |  \n",
    "|----------------------------|---------|  \n",
    "| **Too Small ($ \\alpha \\to 0 $)**  | Converges **slowly**, takes many steps.  |  \n",
    "| **Optimal ($ \\alpha $ is just right)**  | Converges **efficiently** to the minimum.  |  \n",
    "| **Too Large ($ \\alpha \\to 1 $)**  | **Overshoots** the minimum, may never converge.  |  \n"
   ]
  },
  {
   "cell_type": "markdown",
   "metadata": {},
   "source": [
    "## **🔄 Example: Learning Rate Effect**  "
   ]
  },
  {
   "cell_type": "markdown",
   "metadata": {},
   "source": [
    "| Iteration | **$ x $ with Small $ \\alpha = 0.01 $** | **$ x $ with Large $ \\alpha = 0.5 $** |  \n",
    "|-----------|----------------------------------------------|----------------------------------------------|  \n",
    "| **1**     | $ 4.00 \\to 3.92 $                        | $ 4.00 \\to 2.00 $                        |  \n",
    "| **2**     | $ 3.92 \\to 3.84 $                        | $ 2.00 \\to -2.00 $                       |  \n",
    "| **3**     | $ 3.84 \\to 3.76 $                        | **Oscillating, not converging** 🚨          |  \n"
   ]
  },
  {
   "cell_type": "markdown",
   "metadata": {},
   "source": [
    "✅ **Observation:**  \n",
    "- **Small $ \\alpha $** → Converges **slowly but steadily**.  \n",
    "- **Large $ \\alpha $** → Jumps around and **never settles**.  "
   ]
  },
  {
   "cell_type": "markdown",
   "metadata": {},
   "source": [
    "## **🛠️ Python Code: Effect of Learning Rate**  "
   ]
  },
  {
   "cell_type": "code",
   "execution_count": 4,
   "metadata": {},
   "outputs": [
    {
     "data": {
      "image/png": "[encoded data removed]",
      "text/plain": [
       "<Figure size 800x500 with 1 Axes>"
      ]
     },
     "metadata": {},
     "output_type": "display_data"
    }
   ],
   "source": [
    "import numpy as np\n",
    "import matplotlib.pyplot as plt\n",
    "\n",
    "# Define function and gradient\n",
    "def f(x):\n",
    "    return x**2\n",
    "\n",
    "def gradient(x):\n",
    "    return 2*x  # Derivative of x^2 is 2x\n",
    "\n",
    "# Learning rate comparison\n",
    "alphas = [0.01, 0.5]  # Small and large learning rates\n",
    "x_start = 4\n",
    "iterations = 10\n",
    "history = {alpha: [x_start] for alpha in alphas}\n",
    "\n",
    "# Perform Gradient Descent for different learning rates\n",
    "for alpha in alphas:\n",
    "    x = x_start\n",
    "    for _ in range(iterations):\n",
    "        x = x - alpha * gradient(x)\n",
    "        history[alpha].append(x)\n",
    "\n",
    "# Plot\n",
    "plt.figure(figsize=(8,5))\n",
    "for alpha, steps in history.items():\n",
    "    plt.plot(range(len(steps)), steps, marker='o', label=f\"α = {alpha}\")\n",
    "plt.xlabel(\"Iteration\")\n",
    "plt.ylabel(\"x value\")\n",
    "plt.legend()\n",
    "plt.title(\"Effect of Learning Rate in Gradient Descent\")\n",
    "plt.show()"
   ]
  },
  {
   "cell_type": "markdown",
   "metadata": {},
   "source": [
    "✅ **Output:**  \n",
    "- **Small $ \\alpha $ (Blue Curve)**: Converges **smoothly**.  \n",
    "- **Large $ \\alpha $ (Red Curve)**: **Overshoots & oscillates**.  "
   ]
  },
  {
   "cell_type": "markdown",
   "metadata": {},
   "source": [
    "## **🚀 Practical Tips for Choosing Learning Rate**  "
   ]
  },
  {
   "cell_type": "markdown",
   "metadata": {},
   "source": [
    "✅ **Start with a small learning rate** (e.g., **0.01** or **0.1**) and adjust.  \n",
    "✅ **Use adaptive learning rates** (e.g., **Adam, RMSprop**) for better optimization.  \n",
    "✅ **If the loss is decreasing too slowly**, **increase $ \\alpha $**.  \n",
    "✅ **If the loss is oscillating**, **decrease $ \\alpha $**.  "
   ]
  },
  {
   "cell_type": "markdown",
   "metadata": {},
   "source": [
    "## **🔥 Summary**  "
   ]
  },
  {
   "cell_type": "markdown",
   "metadata": {},
   "source": [
    "1️⃣ **The gradient is a vector pointing in the steepest ascent direction of a function.**  \n",
    "2️⃣ **Gradient Descent is used to minimize functions by moving opposite to the gradient.**  \n",
    "3️⃣ **Formula:** $x_{\\text{new}} = x_{\\text{old}} - \\alpha \\nabla f(x)$.  \n",
    "4️⃣ **Used in machine learning, deep learning, physics, and finance for optimization.**  \n"
   ]
  }
 ],
 "metadata": {
  "kernelspec": {
   "display_name": "Python 3",
   "language": "python",
   "name": "python3"
  },
  "language_info": {
   "codemirror_mode": {
    "name": "ipython",
    "version": 3
   },
   "file_extension": ".py",
   "mimetype": "text/x-python",
   "name": "python",
   "nbconvert_exporter": "python",
   "pygments_lexer": "ipython3",
   "version": "3.13.0"
  }
 },
 "nbformat": 4,
 "nbformat_minor": 2
}
