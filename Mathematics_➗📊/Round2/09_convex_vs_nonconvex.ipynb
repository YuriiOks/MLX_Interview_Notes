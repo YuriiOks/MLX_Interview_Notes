{
 "cells": [
  {
   "cell_type": "markdown",
   "metadata": {},
   "source": [
    "# **9️⃣ Convex vs. Non-Convex Functions: Key Differences & Importance in Optimization 📉🤖**  "
   ]
  },
  {
   "cell_type": "markdown",
   "metadata": {},
   "source": [
    "## **💡 Real-Life Analogy: Finding the Lowest Point in a Landscape ⛰️🏔️**  "
   ]
  },
  {
   "cell_type": "markdown",
   "metadata": {},
   "source": [
    "Imagine you're **hiking in the mountains** and want to reach the **lowest point (valley)**:  \n",
    "- If the landscape is **a smooth bowl shape** (single dip) → **You will always reach the lowest point** no matter where you start. ✅  \n",
    "- If the landscape has **multiple dips and peaks** → **You might get stuck in a smaller dip, not the deepest valley**. ❌  \n",
    "\n",
    "📌 **This is the difference between a convex and a non-convex function in optimization!**  "
   ]
  },
  {
   "cell_type": "markdown",
   "metadata": {},
   "source": [
    "## **📌 What is a Convex Function?**"
   ]
  },
  {
   "cell_type": "markdown",
   "metadata": {},
   "source": [
    "✅ A function **$ f(x) $** is **convex** if **its graph always curves upwards** (like a bowl 🥣)."
   ]
  },
  {
   "cell_type": "markdown",
   "metadata": {},
   "source": [
    "✅ **Mathematically,** $ f(x) $ is convex if:"
   ]
  },
  {
   "cell_type": "markdown",
   "metadata": {},
   "source": [
    "$$\n",
    "f(\\lambda x_1 + (1 - \\lambda) x_2) \\leq \\lambda f(x_1) + (1 - \\lambda) f(x_2), \\quad \\forall x_1, x_2 \\text{ and } \\lambda \\in [0,1]\n",
    "$$"
   ]
  },
  {
   "cell_type": "markdown",
   "metadata": {},
   "source": [
    "📌 **Key Property:**"
   ]
  },
  {
   "cell_type": "markdown",
   "metadata": {},
   "source": [
    "- The line segment between any two points **always lies above or on the function’s curve**.  "
   ]
  },
  {
   "cell_type": "markdown",
   "metadata": {},
   "source": [
    "✅ **Second Derivative Condition** (for differentiable functions):"
   ]
  },
  {
   "cell_type": "markdown",
   "metadata": {},
   "source": [
    "- If $ f''(x) \\geq 0 $ for all $ x $, then $ f(x) $ is convex.  "
   ]
  },
  {
   "cell_type": "markdown",
   "metadata": {},
   "source": [
    "📌 **Examples of Convex Functions:**"
   ]
  },
  {
   "cell_type": "markdown",
   "metadata": {},
   "source": [
    "- **Quadratic Function**: $ f(x) = x^2 $ 📈  \n",
    "- **Exponential Function**: $ f(x) = e^x $ 🔥  \n",
    "- **Absolute Value**: $ f(x) = |x| $  "
   ]
  },
  {
   "cell_type": "markdown",
   "metadata": {},
   "source": [
    "✅ **Optimization Advantage:** **Gradient Descent is guaranteed to find the global minimum!** 🎯  "
   ]
  },
  {
   "cell_type": "markdown",
   "metadata": {},
   "source": [
    "## **📌 What is a Non-Convex Function?**"
   ]
  },
  {
   "cell_type": "markdown",
   "metadata": {},
   "source": [
    "✅ A function **$ f(x) $** is **non-convex** if it has **multiple dips (local minima and maxima)**."
   ]
  },
  {
   "cell_type": "markdown",
   "metadata": {},
   "source": [
    "✅ **Gradient Descent may get stuck in local minima instead of reaching the global minimum**."
   ]
  },
  {
   "cell_type": "markdown",
   "metadata": {},
   "source": [
    "📌 **Examples of Non-Convex Functions:**"
   ]
  },
  {
   "cell_type": "markdown",
   "metadata": {},
   "source": [
    "- **Polynomial Functions**: $ f(x) = x^4 - 3x^2 + 2 $ 🔄  \n",
    "- **Trigonometric Functions**: $ f(x) = \\sin(x) $ 🌊  \n",
    "- **Neural Network Loss Functions**: High-dimensional weight landscapes 📊  "
   ]
  },
  {
   "cell_type": "markdown",
   "metadata": {},
   "source": [
    "✅ **Optimization Challenge:** Finding the **global minimum** is harder, and optimization algorithms need **special techniques** like momentum, Adam optimizer, or simulated annealing.  "
   ]
  },
  {
   "cell_type": "markdown",
   "metadata": {},
   "source": [
    "## **📊 Example: Convex vs. Non-Convex Functions**"
   ]
  },
  {
   "cell_type": "markdown",
   "metadata": {},
   "source": [
    "| Function | Convex? | Why? |\n",
    "|----------|--------|------|\n",
    "| **$ f(x) = x^2 $** | ✅ Yes | Always curves **upward** (bowl shape). |\n",
    "| **$ f(x) = x^4 - 3x^2 + 2 $** | ❌ No | Has **multiple peaks and dips**. |\n",
    "| **$ f(x) = e^x $** | ✅ Yes | Exponentially increasing, no dips. |\n",
    "| **$ f(x) = \\sin(x) $** | ❌ No | Oscillates infinitely, has many minima/maxima. |"
   ]
  },
  {
   "cell_type": "markdown",
   "metadata": {},
   "source": [
    "✅ **Convex functions = Easy optimization (single minimum).**  "
   ]
  },
  {
   "cell_type": "markdown",
   "metadata": {},
   "source": [
    "❌ **Non-convex functions = Harder optimization (local minima).**  "
   ]
  },
  {
   "cell_type": "markdown",
   "metadata": {},
   "source": [
    "## **🔄 Why Is This Distinction Important in Optimization?**"
   ]
  },
  {
   "cell_type": "markdown",
   "metadata": {},
   "source": [
    "### **1️⃣ Convex Functions → Easy to Optimize ✅**  \n",
    "- **Guaranteed Global Minimum** → No risk of getting stuck in a local minimum.  \n",
    "- **Efficient Algorithms Work** → Gradient Descent **always** finds the solution.  "
   ]
  },
  {
   "cell_type": "markdown",
   "metadata": {},
   "source": [
    "### **2️⃣ Non-Convex Functions → Difficult to Optimize ❌**  \n",
    "- **Multiple Local Minima** → Gradient Descent may stop at the **wrong** minimum.  \n",
    "- **Requires Advanced Optimizers** → Adam, Momentum, Simulated Annealing, etc.  "
   ]
  },
  {
   "cell_type": "markdown",
   "metadata": {},
   "source": [
    "📌 **Example in Deep Learning:**  \n",
    "- Training a **linear model (logistic regression)** → Convex loss function ✅.  \n",
    "- Training a **deep neural network** → Non-convex loss function ❌ → Harder to optimize!  "
   ]
  },
  {
   "cell_type": "markdown",
   "metadata": {},
   "source": [
    "## **🛠️ Python Code: Visualizing Convex vs. Non-Convex Functions**"
   ]
  },
  {
   "cell_type": "code",
   "execution_count": 1,
   "metadata": {},
   "outputs": [
    {
     "data": {
      "image/png": "[encoded data removed]",
      "text/plain": [
       "<Figure size 1000x500 with 2 Axes>"
      ]
     },
     "metadata": {},
     "output_type": "display_data"
    }
   ],
   "source": [
    "import numpy as np\n",
    "import matplotlib.pyplot as plt\n",
    "\n",
    "# Define convex and non-convex functions\n",
    "x = np.linspace(-3, 3, 100)\n",
    "convex_fn = x**2  # Convex function (parabola)\n",
    "non_convex_fn = x**4 - 3*x**2 + 2  # Non-convex function\n",
    "\n",
    "# Plot both functions\n",
    "plt.figure(figsize=(10, 5))\n",
    "plt.subplot(1, 2, 1)\n",
    "plt.plot(x, convex_fn, label=\"Convex Function: x^2\", color='blue')\n",
    "plt.xlabel(\"x\")\n",
    "plt.ylabel(\"f(x)\")\n",
    "plt.title(\"Convex Function\")\n",
    "plt.legend()\n",
    "\n",
    "plt.subplot(1, 2, 2)\n",
    "plt.plot(x, non_convex_fn, label=\"Non-Convex Function: x^4 - 3x^2 + 2\", color='red')\n",
    "plt.xlabel(\"x\")\n",
    "plt.ylabel(\"f(x)\")\n",
    "plt.title(\"Non-Convex Function\")\n",
    "plt.legend()\n",
    "\n",
    "plt.tight_layout()\n",
    "plt.show()\n"
   ]
  },
  {
   "cell_type": "markdown",
   "metadata": {},
   "source": [
    "✅ **Output:**  \n",
    "- **Left plot (Convex)** → A smooth **bowl shape** (easy optimization).  \n",
    "- **Right plot (Non-Convex)** → **Multiple dips and peaks** (harder optimization).  "
   ]
  },
  {
   "cell_type": "markdown",
   "metadata": {},
   "source": [
    "## **🚀 Applications in AI/ML 🤖**"
   ]
  },
  {
   "cell_type": "markdown",
   "metadata": {},
   "source": [
    "✅ **Convex Optimization (Easy Problems)**  \n",
    "- **Linear Regression** → $ f(x) = (y - X\\beta)^2 $ (quadratic, convex).  \n",
    "- **Support Vector Machines (SVMs)** → Convex loss functions.  "
   ]
  },
  {
   "cell_type": "markdown",
   "metadata": {},
   "source": [
    "✅ **Non-Convex Optimization (Harder Problems)**  \n",
    "- **Neural Networks** → Loss surfaces have multiple minima.  \n",
    "- **Hyperparameter Tuning** → Grid search over a complex, non-convex landscape.  "
   ]
  },
  {
   "cell_type": "markdown",
   "metadata": {},
   "source": [
    "## **🔥 Summary**\n",
    "1️⃣ **Convex functions** → Easy to optimize (single minimum, guaranteed convergence).  \n",
    "2️⃣ **Non-convex functions** → Harder to optimize (multiple minima, local traps).  \n",
    "3️⃣ **Optimization algorithms** → Work well with convex functions but need advanced techniques for non-convex functions.  \n",
    "4️⃣ **Deep learning & neural networks** → Require adaptive optimizers to deal with non-convexity.  "
   ]
  },
  {
   "cell_type": "markdown",
   "metadata": {},
   "source": [
    "# **Convex vs. Non-Convex Functions: Real-World Examples 📉⚡**  "
   ]
  },
  {
   "cell_type": "markdown",
   "metadata": {},
   "source": [
    "Now let’s break it down into examples **you can relate to**, beyond just mathematical functions. We'll explore cases in **football (soccer), NBA, finance, and real-life decision-making**.  "
   ]
  },
  {
   "cell_type": "markdown",
   "metadata": {},
   "source": [
    "## **💡 Example 1: Football (Soccer) - Player Fatigue & Performance ⚽**  "
   ]
  },
  {
   "cell_type": "markdown",
   "metadata": {},
   "source": [
    "**Scenario:** A footballer’s **performance** is affected by **fatigue** as the match progresses.  "
   ]
  },
  {
   "cell_type": "markdown",
   "metadata": {},
   "source": [
    "✅ **Convex Function: Linear Fatigue Drop-Off**  "
   ]
  },
  {
   "cell_type": "markdown",
   "metadata": {},
   "source": [
    "- Suppose **performance drops consistently as fatigue increases**.  \n",
    "- This means **the decline is smooth and predictable** (e.g., energy burns at a steady rate).  \n",
    "- **Graph:** A simple **downward curve**, always decreasing.  "
   ]
  },
  {
   "cell_type": "markdown",
   "metadata": {},
   "source": [
    "📌 **Example Function:**  "
   ]
  },
  {
   "cell_type": "markdown",
   "metadata": {},
   "source": [
    "$$\n",
    "f(x) = x^2\n",
    "$$"
   ]
  },
  {
   "cell_type": "markdown",
   "metadata": {},
   "source": [
    "Where:"
   ]
  },
  {
   "cell_type": "markdown",
   "metadata": {},
   "source": [
    "- $ x $ = Fatigue Level (minutes played).  \n",
    "- $ f(x) $ = Performance Decline (higher = worse).  "
   ]
  },
  {
   "cell_type": "markdown",
   "metadata": {},
   "source": [
    "🔹 **Optimization is easy**: If you sub off the player at **minute 70**, you can predict the exact drop-off in performance.  "
   ]
  },
  {
   "cell_type": "markdown",
   "metadata": {},
   "source": [
    "❌ **Non-Convex Function: Sudden Drop After a Certain Point**  "
   ]
  },
  {
   "cell_type": "markdown",
   "metadata": {},
   "source": [
    "- A player might **play at a high level for 80 minutes**, but after **85 minutes, performance suddenly collapses**.  \n",
    "- This would be a **non-convex** scenario because **small changes in fatigue can cause massive performance drops** (injuries, exhaustion).  "
   ]
  },
  {
   "cell_type": "markdown",
   "metadata": {},
   "source": [
    "📌 **Example Function:**  "
   ]
  },
  {
   "cell_type": "markdown",
   "metadata": {},
   "source": [
    "$$\n",
    "f(x) = x^4 - 3x^2 + 2\n",
    "$$"
   ]
  },
  {
   "cell_type": "markdown",
   "metadata": {},
   "source": [
    "🔹 **Optimization is tricky**: You **don’t know exactly when the drop-off will happen** → Coaches must gamble on substitutions."
   ]
  },
  {
   "cell_type": "markdown",
   "metadata": {},
   "source": [
    "## **💡 Example 2: NBA - Shot Difficulty vs. Scoring Probability 🏀**  "
   ]
  },
  {
   "cell_type": "markdown",
   "metadata": {},
   "source": [
    "**Scenario:** In the NBA, **shot difficulty** affects **scoring probability**.  "
   ]
  },
  {
   "cell_type": "markdown",
   "metadata": {},
   "source": [
    "✅ **Convex Function: Layups vs. Long Shots**  "
   ]
  },
  {
   "cell_type": "markdown",
   "metadata": {},
   "source": [
    "- As the **distance from the basket increases**, the probability of scoring **steadily decreases**.  \n",
    "- **Graph:** A smooth curve decreasing from **90% at the rim** to **30% at deep three-point range**.  "
   ]
  },
  {
   "cell_type": "markdown",
   "metadata": {},
   "source": [
    "📌 **Example Function:**  "
   ]
  },
  {
   "cell_type": "markdown",
   "metadata": {},
   "source": [
    "$$\n",
    "f(x) = e^x\n",
    "$$"
   ]
  },
  {
   "cell_type": "markdown",
   "metadata": {},
   "source": [
    "Where:"
   ]
  },
  {
   "cell_type": "markdown",
   "metadata": {},
   "source": [
    "- $ x $ = Distance from basket (in feet).  \n",
    "- $ f(x) $ = Decrease in scoring probability.  "
   ]
  },
  {
   "cell_type": "markdown",
   "metadata": {},
   "source": [
    "🔹 **Optimization is easy**: Players should **take more layups and fewer long twos**.  "
   ]
  },
  {
   "cell_type": "markdown",
   "metadata": {},
   "source": [
    "❌ **Non-Convex Function: Step-Back Three-Pointers**  "
   ]
  },
  {
   "cell_type": "markdown",
   "metadata": {},
   "source": [
    "- Some NBA players (e.g., Steph Curry) **actually shoot better from deep three-point range than mid-range**!  \n",
    "- If shooting probability **drops at mid-range but increases again at deep range**, the function is **non-convex**.  "
   ]
  },
  {
   "cell_type": "markdown",
   "metadata": {},
   "source": [
    "📌 **Example Function:**  "
   ]
  },
  {
   "cell_type": "markdown",
   "metadata": {},
   "source": [
    "$$\n",
    "f(x) = \\sin(x) + x^2\n",
    "$$"
   ]
  },
  {
   "cell_type": "markdown",
   "metadata": {},
   "source": [
    "🔹 **Optimization is tricky**: The best shot selection **isn’t always straightforward** → You must analyze **individual shooting zones**."
   ]
  },
  {
   "cell_type": "markdown",
   "metadata": {},
   "source": [
    "## **💡 Example 3: Finance - Investment Risk vs. Returns 📈💰**  "
   ]
  },
  {
   "cell_type": "markdown",
   "metadata": {},
   "source": [
    "**Scenario:** A hedge fund manager wants to **maximize returns while managing risk**.  "
   ]
  },
  {
   "cell_type": "markdown",
   "metadata": {},
   "source": [
    "✅ **Convex Function: Conservative Investing**  "
   ]
  },
  {
   "cell_type": "markdown",
   "metadata": {},
   "source": [
    "- **Low-risk investments (bonds, index funds)** give **predictable** returns with smooth trade-offs.  \n",
    "- **Graph:** A consistent, upward curve showing **higher returns for higher risk**.  "
   ]
  },
  {
   "cell_type": "markdown",
   "metadata": {},
   "source": [
    "📌 **Example Function:**  "
   ]
  },
  {
   "cell_type": "markdown",
   "metadata": {},
   "source": [
    "$$\n",
    "f(x) = \\log(x)\n",
    "$$"
   ]
  },
  {
   "cell_type": "markdown",
   "metadata": {},
   "source": [
    "Where:"
   ]
  },
  {
   "cell_type": "markdown",
   "metadata": {},
   "source": [
    "- $ x $ = Risk Level.  \n",
    "- $ f(x) $ = Expected Returns.  "
   ]
  },
  {
   "cell_type": "markdown",
   "metadata": {},
   "source": [
    "🔹 **Optimization is easy**: If you increase risk, **returns increase at a predictable rate**.  "
   ]
  },
  {
   "cell_type": "markdown",
   "metadata": {},
   "source": [
    "❌ **Non-Convex Function: Cryptocurrency Trading**  "
   ]
  },
  {
   "cell_type": "markdown",
   "metadata": {},
   "source": [
    "- Crypto markets **don't behave predictably**!  \n",
    "- **Too much risk** can **wipe out all profits**, while **medium risk may yield the best gains**.  \n",
    "- This creates **multiple peaks and valleys in risk vs. reward**.  "
   ]
  },
  {
   "cell_type": "markdown",
   "metadata": {},
   "source": [
    "📌 **Example Function:**  "
   ]
  },
  {
   "cell_type": "markdown",
   "metadata": {},
   "source": [
    "$$\n",
    "f(x) = x^3 - 5x + 4\n",
    "$$"
   ]
  },
  {
   "cell_type": "markdown",
   "metadata": {},
   "source": [
    "🔹 **Optimization is tricky**: Investors **can't just \"increase risk\" to get better returns** → They must **carefully select risk levels**."
   ]
  },
  {
   "cell_type": "markdown",
   "metadata": {},
   "source": [
    "## **💡 Example 4: Studying for an Exam - Learning vs. Fatigue 📚**  "
   ]
  },
  {
   "cell_type": "markdown",
   "metadata": {},
   "source": [
    "**Scenario:** You’re preparing for an important **machine learning exam**.  "
   ]
  },
  {
   "cell_type": "markdown",
   "metadata": {},
   "source": [
    "✅ **Convex Function: Gradual Knowledge Gain**  "
   ]
  },
  {
   "cell_type": "markdown",
   "metadata": {},
   "source": [
    "- Studying **an extra hour always improves your score** but at a **diminishing rate**.  \n",
    "- **Graph:** Learning curve **slows down but never drops** (you always get better).  "
   ]
  },
  {
   "cell_type": "markdown",
   "metadata": {},
   "source": [
    "📌 **Example Function:**  "
   ]
  },
  {
   "cell_type": "markdown",
   "metadata": {},
   "source": [
    "$$\n",
    "f(x) = \\sqrt{x}\n",
    "$$"
   ]
  },
  {
   "cell_type": "markdown",
   "metadata": {},
   "source": [
    "Where:"
   ]
  },
  {
   "cell_type": "markdown",
   "metadata": {},
   "source": [
    "- $ x $ = Hours studied.  \n",
    "- $ f(x) $ = Knowledge retained.  "
   ]
  },
  {
   "cell_type": "markdown",
   "metadata": {},
   "source": [
    "🔹 **Optimization is easy**: More study **always improves results**, even if at **a slower rate**.  "
   ]
  },
  {
   "cell_type": "markdown",
   "metadata": {},
   "source": [
    "❌ **Non-Convex Function: Burnout Effect**  "
   ]
  },
  {
   "cell_type": "markdown",
   "metadata": {},
   "source": [
    "- After **10 hours of studying**, your brain **starts forgetting information**.  \n",
    "- **Graph:** Performance increases, then suddenly **drops due to fatigue**.  "
   ]
  },
  {
   "cell_type": "markdown",
   "metadata": {},
   "source": [
    "📌 **Example Function:**  "
   ]
  },
  {
   "cell_type": "markdown",
   "metadata": {},
   "source": [
    "$$\n",
    "f(x) = -x^3 + 6x^2 - 5x\n",
    "$$"
   ]
  },
  {
   "cell_type": "markdown",
   "metadata": {},
   "source": [
    "🔹 **Optimization is tricky**: You must **balance study & rest** to **avoid cognitive overload**."
   ]
  },
  {
   "cell_type": "markdown",
   "metadata": {},
   "source": [
    "## **💡 Example 5: Decision-Making in a Chess Game ♟️**  "
   ]
  },
  {
   "cell_type": "markdown",
   "metadata": {},
   "source": [
    "**Scenario:** A chess engine evaluates different moves **to minimize losing probability**.  "
   ]
  },
  {
   "cell_type": "markdown",
   "metadata": {},
   "source": [
    "✅ **Convex Function: Simple Chess Position**  "
   ]
  },
  {
   "cell_type": "markdown",
   "metadata": {},
   "source": [
    "- In **basic endgames**, a good move **always improves your position** linearly.  \n",
    "- **Graph:** A smooth function where **each good move decreases losing probability**.  "
   ]
  },
  {
   "cell_type": "markdown",
   "metadata": {},
   "source": [
    "📌 **Example Function:**  "
   ]
  },
  {
   "cell_type": "markdown",
   "metadata": {},
   "source": [
    "$$\n",
    "f(x) = -x^2\n",
    "$$"
   ]
  },
  {
   "cell_type": "markdown",
   "metadata": {},
   "source": [
    "Where:"
   ]
  },
  {
   "cell_type": "markdown",
   "metadata": {},
   "source": [
    "- $ x $ = Move Quality.  \n",
    "- $ f(x) $ = Probability of losing (lower is better).  "
   ]
  },
  {
   "cell_type": "markdown",
   "metadata": {},
   "source": [
    "🔹 **Optimization is easy**: The **engine can brute-force the best move**.  "
   ]
  },
  {
   "cell_type": "markdown",
   "metadata": {},
   "source": [
    "❌ **Non-Convex Function: Complex Mid-Game Positions**  "
   ]
  },
  {
   "cell_type": "markdown",
   "metadata": {},
   "source": [
    "- In **complicated positions**, some moves **look bad initially but lead to brilliant checkmates later**!  \n",
    "- The function has **multiple peaks and valleys** → Meaning **local minima and maxima exist**.  "
   ]
  },
  {
   "cell_type": "markdown",
   "metadata": {},
   "source": [
    "📌 **Example Function:**  "
   ]
  },
  {
   "cell_type": "markdown",
   "metadata": {},
   "source": [
    "$$\n",
    "f(x) = x^4 - 3x^2 + 2\n",
    "$$"
   ]
  },
  {
   "cell_type": "markdown",
   "metadata": {},
   "source": [
    "🔹 **Optimization is tricky**: The chess engine **must analyze multiple future moves** to **avoid local minima**."
   ]
  },
  {
   "cell_type": "markdown",
   "metadata": {},
   "source": [
    "## **🔥 Summary: Choosing the Best Optimization Method**"
   ]
  },
  {
   "cell_type": "markdown",
   "metadata": {},
   "source": [
    "| Scenario | Best Optimization Method | Why? |\n",
    "|----------|-----------------|------|\n",
    "| **NBA Shot Selection** 🏀 | Gradient Descent ✅ | Works for simple shot probability models. |\n",
    "| **Football Fatigue Management** ⚽ | SGD ✅ | Helps escape bad fatigue drop-offs. |\n",
    "| **Stock Market Trading** 💰 | Momentum ✅ | Avoids oscillations in non-convex returns. |\n",
    "| **Studying for Exams** 📚 | Adam Optimizer ✅ | Adapts learning rate dynamically. |\n",
    "| **Chess Move Selection** ♟️ | Simulated Annealing ✅ | Helps find deep tactics (Queen sacrifices). |\n",
    "| **Poker Bluffing Strategy** 🃏 | Reinforcement Learning ✅ | Learns optimal strategies dynamically. |"
   ]
  },
  {
   "cell_type": "markdown",
   "metadata": {},
   "source": [
    "✅ **Convex problems? Use simple GD or SGD.**  "
   ]
  },
  {
   "cell_type": "markdown",
   "metadata": {},
   "source": [
    "✅ **Non-convex problems? Use Adam, Simulated Annealing, or RL.**  "
   ]
  },
  {
   "cell_type": "markdown",
   "metadata": {},
   "source": [
    "# **Optimization Algorithms: Handling Convex & Non-Convex Problems 🎯🚀**  "
   ]
  },
  {
   "cell_type": "markdown",
   "metadata": {},
   "source": [
    "Now that you understand **convex vs. non-convex functions**, let’s explore how different **optimization algorithms** deal with them. We’ll apply these methods to the **same real-world examples** (football, NBA, finance, studying, chess) plus **Texas Hold'em Poker**! 🃏🔥  "
   ]
  },
  {
   "cell_type": "markdown",
   "metadata": {},
   "source": [
    "## **💡 Real-Life Analogy: Finding the Best Route on a Mountain ⛰️**"
   ]
  },
  {
   "cell_type": "markdown",
   "metadata": {},
   "source": [
    "Imagine you're trying to **find the lowest point in a mountainous landscape**:  "
   ]
  },
  {
   "cell_type": "markdown",
   "metadata": {},
   "source": [
    "- **Gradient Descent** = Walking downhill step by step, following the steepest slope.  \n",
    "- **Momentum** = Running downhill with inertia to avoid getting stuck in small dips.  \n",
    "- **Adam Optimizer** = Using a **GPS map** that combines gradient + momentum for efficient navigation.  \n",
    "- **Simulated Annealing** = Occasionally **jumping to new locations** to escape bad valleys.  "
   ]
  },
  {
   "cell_type": "markdown",
   "metadata": {},
   "source": [
    "📌 **These techniques help us optimize convex & non-convex functions in machine learning!**  "
   ]
  },
  {
   "cell_type": "markdown",
   "metadata": {},
   "source": [
    "# **📌 Optimization Algorithms Overview**"
   ]
  },
  {
   "cell_type": "markdown",
   "metadata": {},
   "source": [
    "| Algorithm | Works Best For | Problem in Non-Convex Optimization |\n",
    "|------------|-----------------|--------------------------|\n",
    "| **Gradient Descent (GD)** | Convex functions ✅ | Stuck in local minima ❌ |\n",
    "| **Stochastic Gradient Descent (SGD)** | Large datasets, Deep Learning 🤖 | Noisy updates, needs tuning 🎛️ |\n",
    "| **Momentum-Based GD** | Neural networks 🏀 | Can overshoot & oscillate 🚀 |\n",
    "| **Adam Optimizer** | Deep learning, complex landscapes 🔥 | Slower convergence sometimes 🐢 |\n",
    "| **Simulated Annealing** | Non-convex problems (chess, poker) 🎭 | Computationally expensive 🖥️ |"
   ]
  },
  {
   "cell_type": "markdown",
   "metadata": {},
   "source": [
    "## **1️⃣ Gradient Descent (GD): Simple but Gets Stuck in Valleys**"
   ]
  },
  {
   "cell_type": "markdown",
   "metadata": {},
   "source": [
    "### **🏀 NBA: Shot Selection & Gradient Descent**"
   ]
  },
  {
   "cell_type": "markdown",
   "metadata": {},
   "source": [
    "**Scenario:** You’re a coach optimizing a player’s **shot selection**.  "
   ]
  },
  {
   "cell_type": "markdown",
   "metadata": {},
   "source": [
    "- The function is **convex** (higher shot distance = lower scoring %).  "
   ]
  },
  {
   "cell_type": "markdown",
   "metadata": {},
   "source": [
    "- **Gradient Descent follows the steepest downward slope** to find the best shot zone.  "
   ]
  },
  {
   "cell_type": "markdown",
   "metadata": {},
   "source": [
    "📌 **Formula:**  "
   ]
  },
  {
   "cell_type": "markdown",
   "metadata": {},
   "source": [
    "$$\n",
    "x_{\\text{new}} = x_{\\text{old}} - \\alpha \\nabla f(x)\n",
    "$$"
   ]
  },
  {
   "cell_type": "markdown",
   "metadata": {},
   "source": [
    "Where:"
   ]
  },
  {
   "cell_type": "markdown",
   "metadata": {},
   "source": [
    "- $ \\alpha $ = Learning Rate (step size).  \n",
    "- $ \\nabla f(x) $ = Gradient (direction of steepest decrease).  "
   ]
  },
  {
   "cell_type": "markdown",
   "metadata": {},
   "source": [
    "🔹 **Problem in Non-Convex Functions**:  "
   ]
  },
  {
   "cell_type": "markdown",
   "metadata": {},
   "source": [
    "- If **shot difficulty vs. success rate is non-convex**, GD might **get stuck in mid-range jumpers** instead of finding that **deep threes (Curry) are better**!  "
   ]
  },
  {
   "cell_type": "markdown",
   "metadata": {},
   "source": [
    "- **Solution? Use Momentum or Adam Optimizer!** 🚀  "
   ]
  },
  {
   "cell_type": "markdown",
   "metadata": {},
   "source": [
    "## **2️⃣ Stochastic Gradient Descent (SGD): Adding Randomness to Escape Local Minima**"
   ]
  },
  {
   "cell_type": "markdown",
   "metadata": {},
   "source": [
    "### **⚽ Football: Fatigue & Performance**"
   ]
  },
  {
   "cell_type": "markdown",
   "metadata": {},
   "source": [
    "**Scenario:** You want to predict **when to sub off a player** based on fatigue.  "
   ]
  },
  {
   "cell_type": "markdown",
   "metadata": {},
   "source": [
    "- Fatigue vs. performance is often **non-convex** (sudden drop-off at 85+ minutes).  "
   ]
  },
  {
   "cell_type": "markdown",
   "metadata": {},
   "source": [
    "📌 **SGD vs. GD:**  "
   ]
  },
  {
   "cell_type": "markdown",
   "metadata": {},
   "source": [
    "| Algorithm | How It Works | Advantage |\n",
    "|------------|-----------------|-------------|\n",
    "| **Gradient Descent** | Computes the gradient from **all data points** each step. | More stable but slow 🚶‍♂️ |\n",
    "| **Stochastic Gradient Descent (SGD)** | Uses **one random data point** per step. | Faster but noisier ⚡ |"
   ]
  },
  {
   "cell_type": "markdown",
   "metadata": {},
   "source": [
    "🔹 **SGD’s Benefit:** The randomness helps **jump out of bad local minima** (e.g., unexpected drop-off at 85 minutes).  "
   ]
  },
  {
   "cell_type": "markdown",
   "metadata": {},
   "source": [
    "✅ **Solution:** Using **SGD with momentum** improves optimization efficiency!  "
   ]
  },
  {
   "cell_type": "markdown",
   "metadata": {},
   "source": [
    "## **3️⃣ Momentum-Based Gradient Descent: Avoiding Oscillation 🚀**"
   ]
  },
  {
   "cell_type": "markdown",
   "metadata": {},
   "source": [
    "### **💰 Finance: Investment Risk vs. Returns**"
   ]
  },
  {
   "cell_type": "markdown",
   "metadata": {},
   "source": [
    "**Scenario:** You’re adjusting **risk levels in your stock portfolio** to maximize returns.  "
   ]
  },
  {
   "cell_type": "markdown",
   "metadata": {},
   "source": [
    "- The function is **non-convex** (crypto investments may have random spikes).  \n",
    "- **Gradient Descent oscillates** because the landscape has multiple dips.  "
   ]
  },
  {
   "cell_type": "markdown",
   "metadata": {},
   "source": [
    "📌 **Momentum Formula:**  "
   ]
  },
  {
   "cell_type": "markdown",
   "metadata": {},
   "source": [
    "$$\n",
    "v_t = \\beta v_{t-1} + (1 - \\beta) \\nabla f(x)\n",
    "$$"
   ]
  },
  {
   "cell_type": "markdown",
   "metadata": {},
   "source": [
    "$$\n",
    "x_{\\text{new}} = x_{\\text{old}} - \\alpha v_t\n",
    "$$"
   ]
  },
  {
   "cell_type": "markdown",
   "metadata": {},
   "source": [
    "Where:"
   ]
  },
  {
   "cell_type": "markdown",
   "metadata": {},
   "source": [
    "- $ v_t $ = Velocity (stores previous updates).  \n",
    "- $ \\beta $ = Momentum coefficient (controls inertia).  "
   ]
  },
  {
   "cell_type": "markdown",
   "metadata": {},
   "source": [
    "✅ **Solution:** Momentum keeps pushing **past bad local minima** (e.g., avoiding **panic-selling** in crypto).  "
   ]
  },
  {
   "cell_type": "markdown",
   "metadata": {},
   "source": [
    "## **4️⃣ Adam Optimizer: The Best of All Worlds 🔥**"
   ]
  },
  {
   "cell_type": "markdown",
   "metadata": {},
   "source": [
    "### **📚 Studying: Balancing Learning vs. Burnout**"
   ]
  },
  {
   "cell_type": "markdown",
   "metadata": {},
   "source": [
    "**Scenario:** You’re studying for a **Machine Learning exam** and need to optimize study time.  "
   ]
  },
  {
   "cell_type": "markdown",
   "metadata": {},
   "source": [
    "- Too little studying → **Bad performance**.  \n",
    "- Too much studying → **Burnout & forgetfulness** (non-convex).  \n",
    "- **Adam helps find the sweet spot efficiently!**  "
   ]
  },
  {
   "cell_type": "markdown",
   "metadata": {},
   "source": [
    "📌 **Why is Adam Better?**  "
   ]
  },
  {
   "cell_type": "markdown",
   "metadata": {},
   "source": [
    "- Combines **Momentum (fast updates) + Adaptive Learning Rate (smart step sizes)**.  \n",
    "- Uses **past gradients + second-moment estimates** to **adjust each step dynamically**.  \n",
    "- **Works great on deep learning loss surfaces (very non-convex)!**  "
   ]
  },
  {
   "cell_type": "markdown",
   "metadata": {},
   "source": [
    "✅ **Solution:** Adam finds the **optimal study time** faster than **GD or SGD**.  "
   ]
  },
  {
   "cell_type": "markdown",
   "metadata": {},
   "source": [
    "## **5️⃣ Simulated Annealing: Random Jumps to Escape Local Minima**"
   ]
  },
  {
   "cell_type": "markdown",
   "metadata": {},
   "source": [
    "### **♟️ Chess: Evaluating Mid-Game Moves**"
   ]
  },
  {
   "cell_type": "markdown",
   "metadata": {},
   "source": [
    "**Scenario:** A chess engine evaluates **thousands of possible moves** to **minimize losing probability**.  "
   ]
  },
  {
   "cell_type": "markdown",
   "metadata": {},
   "source": [
    "- **Deep mid-game positions** are **non-convex** (some bad-looking moves lead to checkmates later!).  "
   ]
  },
  {
   "cell_type": "markdown",
   "metadata": {},
   "source": [
    "📌 **How Simulated Annealing Works:**  "
   ]
  },
  {
   "cell_type": "markdown",
   "metadata": {},
   "source": [
    "- Instead of **always going downhill (GD)**, it sometimes **jumps to a random spot**.  \n",
    "- **If the jump improves the solution**, it’s kept.  \n",
    "- **If it’s worse, it may still be kept with some probability** (to avoid getting stuck).  "
   ]
  },
  {
   "cell_type": "markdown",
   "metadata": {},
   "source": [
    "🔹 **Example: Sacrificing a Queen 👑 for Checkmate**  "
   ]
  },
  {
   "cell_type": "markdown",
   "metadata": {},
   "source": [
    "- Gradient-based optimizers **reject the Queen sacrifice** because it **immediately looks bad**.  \n",
    "- **Simulated Annealing explores deeper, realizing it leads to checkmate!** 🔥  "
   ]
  },
  {
   "cell_type": "markdown",
   "metadata": {},
   "source": [
    "✅ **Solution:** Chess engines **combine GD + Monte Carlo Tree Search** to find the best moves!  "
   ]
  },
  {
   "cell_type": "markdown",
   "metadata": {},
   "source": [
    "## **6️⃣ Reinforcement Learning (Q-Learning) in Texas Hold’em Poker 🃏**"
   ]
  },
  {
   "cell_type": "markdown",
   "metadata": {},
   "source": [
    "### **🃏 Poker: Bluffing & Decision Optimization**"
   ]
  },
  {
   "cell_type": "markdown",
   "metadata": {},
   "source": [
    "**Scenario:** You're playing **Texas Hold'em Poker** and must **decide whether to bluff or fold**.  "
   ]
  },
  {
   "cell_type": "markdown",
   "metadata": {},
   "source": [
    "- **Winning probability is non-convex** (some bad hands win with bluffs).  \n",
    "- **Gradient-based methods fail** because they assume consistent patterns.  \n",
    "- **Reinforcement Learning (Q-learning) helps optimize decision-making dynamically.**  "
   ]
  },
  {
   "cell_type": "markdown",
   "metadata": {},
   "source": [
    "📌 **How Q-Learning Works:**  "
   ]
  },
  {
   "cell_type": "markdown",
   "metadata": {},
   "source": [
    "1️⃣ Simulates **thousands of hands** to explore decision outcomes.  \n",
    "2️⃣ Assigns **rewards to good bluffs & folds**.  \n",
    "3️⃣ Uses a **policy to maximize expected winnings over time**.  "
   ]
  },
  {
   "cell_type": "markdown",
   "metadata": {},
   "source": [
    "🔹 **Example:**  "
   ]
  },
  {
   "cell_type": "markdown",
   "metadata": {},
   "source": [
    "- **You have 2♠️ and 7♦️ (worst hand)**.  \n",
    "- **Traditional models (GD) suggest folding.**  \n",
    "- **Q-learning might suggest bluffing based on opponent tendencies!**  "
   ]
  },
  {
   "cell_type": "markdown",
   "metadata": {},
   "source": [
    "✅ **Solution:** **Reinforcement Learning (RL) optimizes poker strategies dynamically.**  "
   ]
  },
  {
   "cell_type": "markdown",
   "metadata": {},
   "source": [
    "## **🔥 Summary: Choosing the Best Optimization Method**"
   ]
  },
  {
   "cell_type": "markdown",
   "metadata": {},
   "source": [
    "| Scenario | Best Optimization Method | Why? |\n",
    "|----------|-----------------|------|\n",
    "| **NBA Shot Selection** 🏀 | Gradient Descent ✅ | Works for simple shot probability models. |\n",
    "| **Football Fatigue Management** ⚽ | SGD ✅ | Helps escape bad fatigue drop-offs. |\n",
    "| **Stock Market Trading** 💰 | Momentum ✅ | Avoids oscillations in non-convex returns. |\n",
    "| **Studying for Exams** 📚 | Adam Optimizer ✅ | Adapts learning rate dynamically. |\n",
    "| **Chess Move Selection** ♟️ | Simulated Annealing ✅ | Helps find deep tactics (Queen sacrifices). |\n",
    "| **Poker Bluffing Strategy** 🃏 | Reinforcement Learning ✅ | Learns optimal strategies dynamically. |"
   ]
  },
  {
   "cell_type": "markdown",
   "metadata": {},
   "source": [
    "✅ **Convex problems? Use simple GD or SGD.**  "
   ]
  },
  {
   "cell_type": "markdown",
   "metadata": {},
   "source": [
    "✅ **Non-convex problems? Use Adam, Simulated Annealing, or RL.**  "
   ]
  }
 ],
 "metadata": {
  "kernelspec": {
   "display_name": "Python 3",
   "language": "python",
   "name": "python3"
  },
  "language_info": {
   "codemirror_mode": {
    "name": "ipython",
    "version": 3
   },
   "file_extension": ".py",
   "mimetype": "text/x-python",
   "name": "python",
   "nbconvert_exporter": "python",
   "pygments_lexer": "ipython3",
   "version": "3.13.0"
  }
 },
 "nbformat": 4,
 "nbformat_minor": 2
}
