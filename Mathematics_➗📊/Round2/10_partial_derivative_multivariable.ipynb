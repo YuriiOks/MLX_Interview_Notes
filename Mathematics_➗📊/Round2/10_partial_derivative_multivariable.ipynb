{
 "cells": [
  {
   "cell_type": "markdown",
   "metadata": {},
   "source": [
    "# **1️⃣0️⃣ Partial Derivatives in Multivariable Optimization: Concept, Explanation, and Applications 🧮🔍🚀**"
   ]
  },
  {
   "cell_type": "markdown",
   "metadata": {},
   "source": [
    "## **💡 Real-Life Analogy: Adjusting a Basketball Team's Strategy 🏀📊**"
   ]
  },
  {
   "cell_type": "markdown",
   "metadata": {},
   "source": [
    "Imagine you're a basketball coach planning the game strategy.  \n",
    "- **Multiple Factors:**  \n",
    "  - The team's scoring might depend on several factors: shooting accuracy, defense, rebounds, and assists.  \n",
    "- **Partial Focus:**  \n",
    "  - You want to understand how a **small change** in one factor (say, shooting accuracy) affects the overall team performance, while all other factors remain constant.  \n",
    "- **Partial Derivative:**  \n",
    "  - This is like examining one player’s influence in isolation—even though the game is complex, focusing on one aspect helps refine your strategy.  \n",
    "- In mathematical terms, a **partial derivative** tells you the rate of change of a multivariable function with respect to **one variable**, keeping the other variables fixed. 🎯"
   ]
  },
  {
   "cell_type": "markdown",
   "metadata": {},
   "source": [
    "## **📌 What Is a Partial Derivative?**"
   ]
  },
  {
   "cell_type": "markdown",
   "metadata": {},
   "source": [
    "✅ **Definition**:  \n",
    "- For a function of multiple variables, $f(x, y, \\\\dots)$, a **partial derivative** with respect to $x$ (denoted $\\frac{\\partial f}{\\partial x}$) measures how the function changes as **$x$ changes**, while **all other variables remain constant**."
   ]
  },
  {
   "cell_type": "markdown",
   "metadata": {},
   "source": [
    "✅ **Mathematical Formulation**:  \n",
    "For a function $f(x, y)$, the partial derivative with respect to $x$ is defined as:\n",
    "$$\n",
    "\\frac{\\partial f}{\\partial x} = \\lim_{h \\to 0} \\frac{f(x+h, y) - f(x, y)}{h}\n",
    "$$\n",
    "- Similarly, the partial derivative with respect to $y$ is:\n",
    "$$\n",
    "\\frac{\\partial f}{\\partial y} = \\lim_{h \\to 0} \\frac{f(x, y+h) - f(x, y)}{h}\n",
    "$$"
   ]
  },
  {
   "cell_type": "markdown",
   "metadata": {},
   "source": [
    "## **🔍 How Partial Derivatives Are Used in Multivariable Optimization**"
   ]
  },
  {
   "cell_type": "markdown",
   "metadata": {},
   "source": [
    "1️⃣ **Gradient Computation**:  \n",
    "   - In optimization, especially in training neural networks, we often need the **gradient** of a loss function.  \n",
    "   - The gradient is a vector of partial derivatives:\n",
    "     $$\n",
    "     \\nabla f(x, y, \\dots) = \\left[ \\frac{\\partial f}{\\partial x}, \\frac{\\partial f}{\\partial y}, \\dots \\right]\n",
    "     $$\n",
    "   - This vector points in the direction of the steepest increase of the function.  \n",
    "\n",
    "2️⃣ **Gradient Descent**:  \n",
    "   - To minimize a function (such as a loss function in machine learning), we update the parameters in the **opposite direction** of the gradient:\n",
    "     $$\n",
    "     \\theta_{\\text{new}} = \\theta_{\\text{old}} - \\alpha \\, \\nabla f(\\theta)\n",
    "     $$\n",
    "   - Here, each component of the gradient (i.e., each partial derivative) tells you how to adjust a specific variable to reduce the loss.  \n",
    "\n",
    "3️⃣ **Interpreting Influence**:  \n",
    "   - Partial derivatives reveal how **sensitive** the function is to changes in each variable.  \n",
    "   - In our basketball analogy, knowing the partial derivative with respect to shooting accuracy helps you understand how crucial improving shooting is relative to, say, rebounding.  "
   ]
  },
  {
   "cell_type": "markdown",
   "metadata": {},
   "source": [
    "## **🧮 Example Calculation: Partial Derivatives of a Function**"
   ]
  },
  {
   "cell_type": "markdown",
   "metadata": {},
   "source": [
    "Consider a simple function that might represent a team's performance metric:\n",
    "$$\n",
    "f(x, y) = 3x^2 + 2xy + y^2\n",
    "$$\n",
    "where:  \n",
    "- $x$ could represent shooting accuracy, and  \n",
    "- $y$ could represent assists."
   ]
  },
  {
   "cell_type": "markdown",
   "metadata": {},
   "source": [
    "**Partial Derivative with Respect to $x$:**\n",
    "\n",
    "1. Compute:\n",
    "   $$\n",
    "   \\frac{\\partial f}{\\partial x} = \\frac{\\partial}{\\partial x}(3x^2) + \\frac{\\partial}{\\partial x}(2xy) + \\frac{\\partial}{\\partial x}(y^2)\n",
    "   $$\n",
    "2. Since $y$ is constant with respect to $x$:  \n",
    "   $$\n",
    "   \\frac{\\partial f}{\\partial x} = 6x + 2y + 0 = 6x + 2y\n",
    "   $$"
   ]
  },
  {
   "cell_type": "markdown",
   "metadata": {},
   "source": [
    "**Partial Derivative with Respect to $y$:**\n",
    "\n",
    "1. Compute:\n",
    "   $$\n",
    "   \\frac{\\partial f}{\\partial y} = \\frac{\\partial}{\\partial y}(3x^2) + \\frac{\\partial}{\\partial y}(2xy) + \\frac{\\partial}{\\partial y}(y^2)\n",
    "   $$\n",
    "2. Here, $x$ is constant with respect to $y$:  \n",
    "   $$\n",
    "   \\frac{\\partial f}{\\partial y} = 0 + 2x + 2y = 2x + 2y\n",
    "   $$"
   ]
  },
  {
   "cell_type": "markdown",
   "metadata": {},
   "source": [
    "## **🛠️ Python Code Example: Computing Partial Derivatives with Sympy**"
   ]
  },
  {
   "cell_type": "markdown",
   "metadata": {},
   "source": [
    "Below is a Python example using **Sympy** to compute the partial derivatives of $f(x, y) = 3x^2 + 2xy + y^2$:"
   ]
  },
  {
   "cell_type": "code",
   "execution_count": 1,
   "metadata": {},
   "outputs": [
    {
     "name": "stdout",
     "output_type": "stream",
     "text": [
      "Partial derivative with respect to x: 6*x + 2*y\n",
      "Partial derivative with respect to y: 2*x + 2*y\n"
     ]
    }
   ],
   "source": [
    "import sympy as sp\n",
    "\n",
    "# Define symbols and function\n",
    "x, y = sp.symbols('x y')\n",
    "f = 3*x**2 + 2*x*y + y**2\n",
    "\n",
    "# Compute partial derivatives\n",
    "f_x = sp.diff(f, x)\n",
    "f_y = sp.diff(f, y)\n",
    "\n",
    "print(\"Partial derivative with respect to x:\", f_x)\n",
    "print(\"Partial derivative with respect to y:\", f_y)"
   ]
  },
  {
   "cell_type": "markdown",
   "metadata": {},
   "source": [
    "## **🚀 Real-World Sports Context Recap**"
   ]
  },
  {
   "cell_type": "markdown",
   "metadata": {},
   "source": [
    "- **NBA Example 🏀**:  \n",
    "  - When predicting a player's performance, the partial derivative with respect to shooting accuracy (or any other feature) tells you how much that factor contributes to the overall performance metric.  \n",
    "  \n",
    "- **Football Example ⚽**:  \n",
    "  - In optimizing a team's tactics, partial derivatives help understand the impact of changing one variable (e.g., passing accuracy) while holding other factors constant.  \n",
    "  \n",
    "- **Poker Example ♠️**:  \n",
    "  - In a complex model predicting betting behavior, partial derivatives reveal how changes in specific variables (like bet size or position) affect the overall strategy."
   ]
  },
  {
   "cell_type": "markdown",
   "metadata": {},
   "source": [
    "## **🔥 Final Takeaways**"
   ]
  },
  {
   "cell_type": "markdown",
   "metadata": {},
   "source": [
    "1. **Partial Derivatives** measure the rate of change of a multivariable function with respect to one variable while holding others constant. 🧮🔍  \n",
    "2. They are essential in computing the **gradient** used in optimization techniques like gradient descent. 🚀  \n",
    "3. **Multivariable Optimization** leverages the gradient (composed of partial derivatives) to update model parameters and minimize loss functions. 🎯🤖  \n",
    "4. Real-life sports examples illustrate how understanding the influence of individual factors can lead to better strategies on the court, field, or table. 🏀⚽♠️  \n",
    "5. **Python tools** like Sympy can compute these derivatives, aiding in both understanding and practical applications."
   ]
  }
 ],
 "metadata": {
  "kernelspec": {
   "display_name": "Python 3",
   "language": "python",
   "name": "python3"
  },
  "language_info": {
   "codemirror_mode": {
    "name": "ipython",
    "version": 3
   },
   "file_extension": ".py",
   "mimetype": "text/x-python",
   "name": "python",
   "nbconvert_exporter": "python",
   "pygments_lexer": "ipython3",
   "version": "3.13.0"
  }
 },
 "nbformat": 4,
 "nbformat_minor": 2
}
