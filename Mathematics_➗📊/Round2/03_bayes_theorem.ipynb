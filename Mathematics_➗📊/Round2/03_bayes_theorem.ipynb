{
 "cells": [
  {
   "cell_type": "markdown",
   "metadata": {},
   "source": [
    "# **3️⃣ Bayes' Theorem: Concept, Formula, and Applications 🎲📊**"
   ]
  },
  {
   "cell_type": "markdown",
   "metadata": {},
   "source": [
    "## **💡 Real-Life Analogy: Medical Diagnosis 🏥🩺**"
   ]
  },
  {
   "cell_type": "markdown",
   "metadata": {},
   "source": [
    "Imagine a doctor is testing for a **rare disease**:  \n",
    "- The test is **90% accurate**, but the disease affects only **1 in 10,000 people**.  \n",
    "- If you test **positive**, does that mean you **definitely** have the disease? 🤔  \n",
    "- **No!** Because the disease is so rare, most **positive results are false alarms**.  \n",
    "\n",
    "📌 **Bayes’ Theorem helps update probabilities based on new evidence**!  "
   ]
  },
  {
   "cell_type": "markdown",
   "metadata": {},
   "source": [
    "## **📌 What is Bayes' Theorem?**"
   ]
  },
  {
   "cell_type": "markdown",
   "metadata": {},
   "source": [
    "✅ **Bayes' theorem describes how to update probabilities when new evidence is introduced.**  \n",
    "✅ It’s a fundamental tool in **statistics, AI, and decision-making**.  "
   ]
  },
  {
   "cell_type": "markdown",
   "metadata": {},
   "source": [
    "## **📌 Mathematical Formula:**"
   ]
  },
  {
   "cell_type": "markdown",
   "metadata": {},
   "source": [
    "$$\n",
    "P(A | B) = \\frac{P(B | A) P(A)}{P(B)}\n",
    "$$\n",
    "\n",
    "Where:  \n",
    "- **$P(A | B)$** = Probability of event **$A$** occurring **given** that **$B$** has occurred (**posterior probability**).  \n",
    "- **$P(B | A)$** = Probability of **$B$** occurring **given** that **$A$** is true (**likelihood**).  \n",
    "- **$P(A)$** = Probability of **$A$** occurring (**prior probability**).  \n",
    "- **$P(B)$** = Probability of **$B$** occurring (**marginal probability**).  "
   ]
  },
  {
   "cell_type": "markdown",
   "metadata": {},
   "source": [
    "## **📊 Example: Medical Diagnosis (False Positives in Testing)**"
   ]
  },
  {
   "cell_type": "markdown",
   "metadata": {},
   "source": [
    "📌 **Scenario:** A disease affects **1 in 10,000 people (0.01%)**. A test for the disease is:  \n",
    "- **90% accurate if you have the disease** ($P(T^+ | D) = 0.9$).  \n",
    "- **5% false positive rate** ($P(T^+ | \\neg D) = 0.05$).  "
   ]
  },
  {
   "cell_type": "markdown",
   "metadata": {},
   "source": [
    "📌 **Question:** If you test positive, what is the probability that you actually have the disease?  "
   ]
  },
  {
   "cell_type": "markdown",
   "metadata": {},
   "source": [
    "📌 **Step 1: Define Probabilities**  \n",
    "- $P(D) = 0.0001$  (Prior probability of disease)  \n",
    "- $P(\\neg D) = 0.9999$  (Probability of NOT having disease)  \n",
    "- $P(T^+ | D) = 0.9$  (Likelihood of positive test if diseased)  \n",
    "- $P(T^+ | \\neg D) = 0.05$  (False positive rate)  "
   ]
  },
  {
   "cell_type": "markdown",
   "metadata": {},
   "source": [
    "📌 **Step 2: Compute $P(T^+)$ (Total Probability of Testing Positive)**  \n",
    "$$\n",
    "P(T^+) = P(T^+ | D) P(D) + P(T^+ | \\neg D) P(\\neg D)\n",
    "$$\n",
    "\n",
    "$$\n",
    "= (0.9 \\times 0.0001) + (0.05 \\times 0.9999)\n",
    "$$\n",
    "\n",
    "$$\n",
    "= 0.00009 + 0.049995 = 0.050085\n",
    "$$  "
   ]
  },
  {
   "cell_type": "markdown",
   "metadata": {},
   "source": [
    "📌 **Step 3: Compute $P(D | T^+)$ (Using Bayes' Theorem)**  \n",
    "$$\n",
    "P(D | T^+) = \\frac{P(T^+ | D) P(D)}{P(T^+)}\n",
    "$$\n",
    "\n",
    "$$\n",
    "= \\frac{(0.9 \\times 0.0001)}{0.050085}\n",
    "$$\n",
    "\n",
    "$$\n",
    "= \\frac{0.00009}{0.050085} \\approx 0.0018\n",
    "$$  "
   ]
  },
  {
   "cell_type": "markdown",
   "metadata": {},
   "source": [
    "✅ **Final Answer:** **Only 0.18% of positive test results are actually correct**! 😲  "
   ]
  },
  {
   "cell_type": "markdown",
   "metadata": {},
   "source": [
    "## **🔄 Interpretation**"
   ]
  },
  {
   "cell_type": "markdown",
   "metadata": {},
   "source": [
    "Even though the test is **90% accurate**, the disease is so rare that **most positive results are false positives**.  \n",
    "📌 **This is why doctors often require multiple tests for rare diseases**.  "
   ]
  },
  {
   "cell_type": "markdown",
   "metadata": {},
   "source": [
    "## **🛠️ Python Code: Computing Bayes’ Theorem**"
   ]
  },
  {
   "cell_type": "code",
   "execution_count": 1,
   "metadata": {},
   "outputs": [
    {
     "name": "stdout",
     "output_type": "stream",
     "text": [
      "Probability of having the disease given a positive test: 0.0018 (0.18%)\n"
     ]
    }
   ],
   "source": [
    "def bayes_theorem(prior_D, likelihood_T_given_D, false_positive_T_given_not_D):\n",
    "    # Compute marginal probability P(T^+)\n",
    "    prior_not_D = 1 - prior_D\n",
    "    marginal_T = (likelihood_T_given_D * prior_D) + (false_positive_T_given_not_D * prior_not_D)\n",
    "    \n",
    "    # Compute posterior probability P(D | T^+)\n",
    "    posterior_D_given_T = (likelihood_T_given_D * prior_D) / marginal_T\n",
    "    return posterior_D_given_T\n",
    "\n",
    "# Given values\n",
    "prior_D = 0.0001  # Probability of disease\n",
    "likelihood_T_given_D = 0.9  # Sensitivity\n",
    "false_positive_T_given_not_D = 0.05  # False positive rate\n",
    "\n",
    "# Compute posterior probability\n",
    "posterior = bayes_theorem(prior_D, likelihood_T_given_D, false_positive_T_given_not_D)\n",
    "print(f\"Probability of having the disease given a positive test: {posterior:.4f} ({posterior*100:.2f}%)\")"
   ]
  },
  {
   "cell_type": "markdown",
   "metadata": {},
   "source": [
    "✅ **Output:**  \n",
    "```\n",
    "Probability of having the disease given a positive test: 0.0018 (0.18%)\n",
    "```  "
   ]
  },
  {
   "cell_type": "markdown",
   "metadata": {},
   "source": [
    "## **🆚 Frequentist vs. Bayesian Probability**"
   ]
  },
  {
   "cell_type": "markdown",
   "metadata": {},
   "source": [
    "| Feature | Frequentist Approach | Bayesian Approach |\n",
    "|---------|----------------------|-------------------|\n",
    "| **Definition** | Probability is based on **long-term frequency**  | Probability is a **degree of belief** updated with evidence  |\n",
    "| **Example** | \"If I flip a fair coin **1000 times**, heads should appear **~500 times**.\"  | \"I saw **4 heads in a row**, so I update my belief that the coin may be biased.\"  |\n",
    "| **Used in** | Classical statistics, A/B testing  | Machine learning, spam filters, medical testing  |"
   ]
  },
  {
   "cell_type": "markdown",
   "metadata": {},
   "source": [
    "## **🚀 Applications of Bayes' Theorem in AI & ML 🤖**"
   ]
  },
  {
   "cell_type": "markdown",
   "metadata": {},
   "source": [
    "✅ **Spam Filtering (Naive Bayes Classifier)**: Determines if an email is spam 📧  \n",
    "✅ **Medical Diagnosis**: Evaluates disease probability based on test results 🏥  \n",
    "✅ **Autonomous Vehicles**: Probabilistic decision-making in self-driving cars 🚗  \n",
    "✅ **Fraud Detection**: Identifies fraudulent transactions 💳  \n",
    "✅ **Natural Language Processing (NLP)**: Sentiment analysis and text classification 📝  "
   ]
  },
  {
   "cell_type": "markdown",
   "metadata": {},
   "source": [
    "## **🔥 Summary**"
   ]
  },
  {
   "cell_type": "markdown",
   "metadata": {},
   "source": [
    "1️⃣ **Bayes' Theorem updates probabilities when new evidence appears.**  \n",
    "2️⃣ **Formula:** $P(A | B) = \\frac{P(B | A) P(A)}{P(B)}$.  \n",
    "3️⃣ **Example:** Even with a 90% accurate test, rare diseases often give false positives.  \n",
    "4️⃣ **Used in AI, spam filters, medical testing, and fraud detection.**  \n"
   ]
  },
  {
   "cell_type": "markdown",
   "metadata": {},
   "source": [
    "Would you like an explanation of **how Naive Bayes Classifiers use Bayes' Theorem in Machine Learning?** 😊  "
   ]
  }
 ],
 "metadata": {
  "kernelspec": {
   "display_name": "Python 3",
   "language": "python",
   "name": "python3"
  },
  "language_info": {
   "codemirror_mode": {
    "name": "ipython",
    "version": 3
   },
   "file_extension": ".py",
   "mimetype": "text/x-python",
   "name": "python",
   "nbconvert_exporter": "python",
   "pygments_lexer": "ipython3",
   "version": "3.13.0"
  }
 },
 "nbformat": 4,
 "nbformat_minor": 2
}
