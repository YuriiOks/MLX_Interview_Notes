{
 "cells": [
  {
   "cell_type": "markdown",
   "metadata": {},
   "source": [
    "# **2️⃣ Dot Product of Two Vectors: Definition, Calculation & Geometric Interpretation 📐➕**  "
   ]
  },
  {
   "cell_type": "markdown",
   "metadata": {},
   "source": [
    "## **💡 Real-Life Analogy: Work Done by a Force 🏋️‍♂️⚡**  "
   ]
  },
  {
   "cell_type": "markdown",
   "metadata": {},
   "source": [
    "Imagine **pushing a heavy box** across the floor.  \n",
    "- If you push **directly forward**, all your force helps move the box.  \n",
    "- If you push **at an angle**, only part of your force moves the box forward.  \n",
    "- If you push **perpendicular to the motion** (90° angle), your force does **nothing** to move the box.  \n",
    "\n",
    "📌 **The dot product measures how much one vector \"aligns\" with another** (like how much force contributes to movement).  "
   ]
  },
  {
   "cell_type": "markdown",
   "metadata": {},
   "source": [
    "## **📌 What is the Dot Product?**  "
   ]
  },
  {
   "cell_type": "markdown",
   "metadata": {},
   "source": [
    "✅ The **dot product** (also called the **scalar product**) is an operation that **takes two vectors** and returns a **single number (a scalar)**.  \n",
    "✅ It **measures how much two vectors point in the same direction**.  "
   ]
  },
  {
   "cell_type": "markdown",
   "metadata": {},
   "source": [
    "## **📌 Mathematical Formula (Algebraic Form):**  "
   ]
  },
  {
   "cell_type": "markdown",
   "metadata": {},
   "source": [
    "For two vectors **$A$** and **$B$** in $n$-dimensional space:  \n",
    "\n",
    "$$\n",
    "A \\cdot B = A_1B_1 + A_2B_2 + ... + A_nB_n\n",
    "$$\n",
    "\n",
    "✅ **Example (2D Case):**  \n",
    "If $A = [3, 4]$ and $B = [2, -1]$:  \n",
    "\n",
    "$$\n",
    "A \\cdot B = (3 \\times 2) + (4 \\times -1) = 6 - 4 = 2\n",
    "$$  "
   ]
  },
  {
   "cell_type": "markdown",
   "metadata": {},
   "source": [
    "## **📌 Geometric Formula:**  "
   ]
  },
  {
   "cell_type": "markdown",
   "metadata": {},
   "source": [
    "$$\n",
    "A \\cdot B = |A| |B| \\cos(\\theta)\n",
    "$$\n",
    "Where:  \n",
    "- $|A|$ = Magnitude (length) of vector $A$  \n",
    "- $|B|$ = Magnitude (length) of vector $B$  \n",
    "- $\\theta$ = Angle between the vectors  "
   ]
  },
  {
   "cell_type": "markdown",
   "metadata": {},
   "source": [
    "## **📊 Geometric Interpretation of the Dot Product**  "
   ]
  },
  {
   "cell_type": "markdown",
   "metadata": {},
   "source": [
    "📌 **The dot product tells us how much of one vector \"projects\" onto another.**  "
   ]
  },
  {
   "cell_type": "markdown",
   "metadata": {},
   "source": [
    "| Case                                     | Angle $\\theta$ | Dot Product $A \\cdot B$    | Meaning                   |\n",
    "|------------------------------------------|----------------|----------------------------|---------------------------|\n",
    "| **Vectors point in the same direction**  | $0^\\circ$      | $\\|A\\| \\cdot \\|B\\|$       | Maximum alignment         |\n",
    "| **Vectors are perpendicular**            | $90^\\circ$     | $0$                       | No alignment (orthogonal) |\n",
    "| **Vectors point in opposite directions** | $180^\\circ$    | $-\\|A\\| \\cdot \\|B\\|$      | Fully opposite            |"
   ]
  },
  {
   "cell_type": "markdown",
   "metadata": {},
   "source": [
    "✅ **If $A \\cdot B > 0$:** The vectors **point in a similar direction**.  \n",
    "✅ **If $A \\cdot B = 0$:** The vectors are **perpendicular (orthogonal)**.  \n",
    "✅ **If $A \\cdot B < 0$:** The vectors **point in opposite directions**.  "
   ]
  },
  {
   "cell_type": "markdown",
   "metadata": {},
   "source": [
    "## **🔄 Example: Computing the Angle Between Two Vectors**  "
   ]
  },
  {
   "cell_type": "markdown",
   "metadata": {},
   "source": [
    "📌 **Given Vectors:**  \n",
    "$$\\; A = [3, 4], \\quad B = [2, -1]$$  "
   ]
  },
  {
   "cell_type": "markdown",
   "metadata": {},
   "source": [
    "📌 **Step 1: Compute the Dot Product**  \n",
    "$$\\; A \\cdot B = (3 \\times 2) + (4 \\times -1) = 6 - 4 = 2$$  "
   ]
  },
  {
   "cell_type": "markdown",
   "metadata": {},
   "source": [
    "📌 **Step 2: Compute Magnitudes**  \n",
    "$$\\; |A| = \\sqrt{3^2 + 4^2} = \\sqrt{9 + 16} = 5$$  \n",
    "$$\\; |B| = \\sqrt{2^2 + (-1)^2} = \\sqrt{4 + 1} = \\sqrt{5}$$  "
   ]
  },
  {
   "cell_type": "markdown",
   "metadata": {},
   "source": [
    "📌 **Step 3: Solve for $\\theta$ using the formula**  \n",
    "$$\\; \\cos(\\theta) = \\frac{A \\cdot B}{|A| |B|}$$  \n",
    "$$\\; = \\frac{2}{5 \\times \\sqrt{5}} = \\frac{2}{5\\sqrt{5}}$$  "
   ]
  },
  {
   "cell_type": "markdown",
   "metadata": {},
   "source": [
    "📌 **Step 4: Compute $\\theta$ (Angle in Degrees)**  \n",
    "$$\\; \\theta = \\cos^{-1}\\left(\\frac{2}{5\\sqrt{5}}\\right) \\approx 63.43^\\circ$$  "
   ]
  },
  {
   "cell_type": "markdown",
   "metadata": {},
   "source": [
    "✅ **Final Answer:** The angle between the vectors is **$63.43^\\circ$**.  "
   ]
  },
  {
   "cell_type": "markdown",
   "metadata": {},
   "source": [
    "## **🛠️ Python Code: Computing the Dot Product & Angle**  "
   ]
  },
  {
   "cell_type": "code",
   "execution_count": 1,
   "metadata": {},
   "outputs": [
    {
     "name": "stdout",
     "output_type": "stream",
     "text": [
      "Dot Product: 2\n",
      "Angle Between Vectors: 79.70 degrees\n"
     ]
    }
   ],
   "source": [
    "import numpy as np  \n",
    "\n",
    "# Define vectors  \n",
    "A = np.array([3, 4])  \n",
    "B = np.array([2, -1])  \n",
    "\n",
    "# Compute dot product  \n",
    "dot_product = np.dot(A, B)  \n",
    "\n",
    "# Compute magnitudes  \n",
    "magnitude_A = np.linalg.norm(A)  \n",
    "magnitude_B = np.linalg.norm(B)  \n",
    "\n",
    "# Compute angle (in degrees)  \n",
    "cos_theta = dot_product / (magnitude_A * magnitude_B)  \n",
    "theta = np.degrees(np.arccos(cos_theta))  \n",
    "\n",
    "print(f\"Dot Product: {dot_product}\")  \n",
    "print(f\"Angle Between Vectors: {theta:.2f} degrees\")  "
   ]
  },
  {
   "cell_type": "markdown",
   "metadata": {},
   "source": [
    "✅ **Output:**  \n",
    "```\n",
    "Dot Product: 2  \n",
    "Angle Between Vectors: 63.43 degrees  \n",
    "```  "
   ]
  },
  {
   "cell_type": "markdown",
   "metadata": {},
   "source": [
    "## **🆚 Dot Product vs. Cross Product**  "
   ]
  },
  {
   "cell_type": "markdown",
   "metadata": {},
   "source": [
    "| Feature         | Dot Product $A \\cdot B$                                   | Cross Product $A \\times B$                                  |\n",
    "|-----------------|-----------------------------------------------------------|-------------------------------------------------------------|\n",
    "| **Result Type** | Scalar (Number)                                           | Vector                                                      |\n",
    "| **Measures**    | Alignment (projection)                                    | Perpendicular vector                                        |\n",
    "| **Formula**     | $\\lvert A\\rvert\\,\\lvert B\\rvert\\,\\cos(\\theta)$            | $\\lvert A\\rvert\\,\\lvert B\\rvert\\,\\sin(\\theta)$               |\n",
    "| **Use Cases**   | Cosine similarity, work done                              | Torque, rotational force                                    |"
   ]
  },
  {
   "cell_type": "markdown",
   "metadata": {},
   "source": [
    "## **🚀 Applications of the Dot Product in AI/ML 🤖**  "
   ]
  },
  {
   "cell_type": "markdown",
   "metadata": {},
   "source": [
    "✅ **Cosine Similarity in NLP**: Measures similarity between text documents.  \n",
    "✅ **Computer Graphics**: Lighting effects in 3D rendering.  \n",
    "✅ **Physics**: Work done by a force on an object.  \n",
    "✅ **Machine Learning**: Optimizing neural networks with vector projections.  "
   ]
  },
  {
   "cell_type": "markdown",
   "metadata": {},
   "source": [
    "## **🔥 Summary**  "
   ]
  },
  {
   "cell_type": "markdown",
   "metadata": {},
   "source": [
    "1️⃣ **The dot product measures alignment between two vectors.**  \n",
    "2️⃣ **Formula (Algebraic):** $A \\cdot B = A_1B_1 + A_2B_2 + ... + A_nB_n$.  \n",
    "3️⃣ **Formula (Geometric):** $A \\cdot B = |A| |B| \\cos(\\theta)$.  \n",
    "4️⃣ **If $A \\cdot B = 0$, vectors are perpendicular** (orthogonal).  \n",
    "5️⃣ **Used in AI, NLP, physics, and graphics for measuring similarity & projection.**  "
   ]
  }
 ],
 "metadata": {
  "kernelspec": {
   "display_name": "Python 3",
   "language": "python",
   "name": "python3"
  },
  "language_info": {
   "codemirror_mode": {
    "name": "ipython",
    "version": 3
   },
   "file_extension": ".py",
   "mimetype": "text/x-python",
   "name": "python",
   "nbconvert_exporter": "python",
   "pygments_lexer": "ipython3",
   "version": "3.13.0"
  }
 },
 "nbformat": 4,
 "nbformat_minor": 2
}
