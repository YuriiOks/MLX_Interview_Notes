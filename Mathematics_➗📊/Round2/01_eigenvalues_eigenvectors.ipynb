{
 "cells": [
  {
   "cell_type": "markdown",
   "metadata": {},
   "source": [
    "# **1️⃣ Eigenvalues & Eigenvectors: Definition, Linear Transformations & Applications 🔢📊**  "
   ]
  },
  {
   "cell_type": "markdown",
   "metadata": {},
   "source": [
    "## **💡 Real-Life Analogy: Stretching and Rotating an Object 🎭**  "
   ]
  },
  {
   "cell_type": "markdown",
   "metadata": {},
   "source": [
    "Imagine you are **stretching or rotating a rubber sheet**:  \n",
    "- Some **directions stay unchanged** (they just stretch or shrink) → These are **eigenvectors**.  \n",
    "- The **amount they stretch or shrink** is the **eigenvalue**.  \n",
    "- The rest of the rubber may distort, but **eigenvectors remain on their original lines**, just scaled.  "
   ]
  },
  {
   "cell_type": "markdown",
   "metadata": {},
   "source": [
    "📌 **Eigenvalues and eigenvectors help us understand how transformations affect spaces!**  "
   ]
  },
  {
   "cell_type": "markdown",
   "metadata": {},
   "source": [
    "## **📌 What are Eigenvalues and Eigenvectors?**  "
   ]
  },
  {
   "cell_type": "markdown",
   "metadata": {},
   "source": [
    "✅ **Eigenvectors** are **special vectors** that, when a linear transformation (matrix) is applied, **do not change direction**, only their **magnitude changes**.  \n",
    "✅ **Eigenvalues** are the **scaling factors** that describe how much the eigenvector is **stretched or shrunk** during the transformation.  "
   ]
  },
  {
   "cell_type": "markdown",
   "metadata": {},
   "source": [
    "## **📌 Mathematical Definition:**  "
   ]
  },
  {
   "cell_type": "markdown",
   "metadata": {},
   "source": [
    "For a **square matrix** $A$, an **eigenvector** $v$ and **eigenvalue** $\\lambda$ satisfy:  \n",
    "  \n",
    "$$  \n",
    "A v = \\lambda v  \n",
    "$$  \n",
    "  \n",
    "Where:  \n",
    "- $A$ = **Transformation matrix**.  \n",
    "- $v$ = **Eigenvector (a nonzero vector that remains in the same direction)**.  \n",
    "- $\\lambda$ = **Eigenvalue (scaling factor of the eigenvector)**.  "
   ]
  },
  {
   "cell_type": "markdown",
   "metadata": {},
   "source": [
    "## **📊 Example 1: Simple 2D Linear Transformation**  "
   ]
  },
  {
   "cell_type": "markdown",
   "metadata": {},
   "source": [
    "📌 **Given Transformation Matrix:**  \n",
    "$$  \n",
    "A = \\begin{bmatrix} 2 & 1 \\\\ 1 & 2 \\end{bmatrix}  \n",
    "$$  "
   ]
  },
  {
   "cell_type": "markdown",
   "metadata": {},
   "source": [
    "📌 **Finding Eigenvalues:**  \n",
    "Solve $\\det(A - \\lambda I) = 0$, where $I$ is the identity matrix.  \n",
    "  \n",
    "$$  \n",
    "\\begin{vmatrix} 2 - \\lambda & 1 \\\\ 1 & 2 - \\lambda \\end{vmatrix} = 0  \n",
    "$$  "
   ]
  },
  {
   "cell_type": "markdown",
   "metadata": {},
   "source": [
    "Expanding the determinant:  \n",
    "  \n",
    "$$  \n",
    "(2-\\lambda)(2-\\lambda) - (1)(1) = 0  \n",
    "$$  "
   ]
  },
  {
   "cell_type": "markdown",
   "metadata": {},
   "source": [
    "$$  \n",
    "(4 - 4\\lambda + \\lambda^2) - 1 = 0  \n",
    "$$  "
   ]
  },
  {
   "cell_type": "markdown",
   "metadata": {},
   "source": [
    "$$  \n",
    "\\lambda^2 - 4\\lambda + 3 = 0  \n",
    "$$  "
   ]
  },
  {
   "cell_type": "markdown",
   "metadata": {},
   "source": [
    "$$  \n",
    "(\\lambda - 3)(\\lambda - 1) = 0  \n",
    "$$  "
   ]
  },
  {
   "cell_type": "markdown",
   "metadata": {},
   "source": [
    "✅ **Eigenvalues:** $\\lambda_1 = 3$, $\\lambda_2 = 1$.  "
   ]
  },
  {
   "cell_type": "markdown",
   "metadata": {},
   "source": [
    "📌 **Finding Eigenvectors:** Solve $(A - \\lambda I)v = 0$ for each $\\lambda$.  "
   ]
  },
  {
   "cell_type": "markdown",
   "metadata": {},
   "source": [
    "For $\\lambda_1 = 3$:  \n",
    "$$  \n",
    "\\begin{bmatrix} -1 & 1 \\\\ 1 & -1 \\end{bmatrix} \\begin{bmatrix} x \\\\ y \\end{bmatrix} = \\begin{bmatrix} 0 \\\\ 0 \\end{bmatrix}  \n",
    "$$  \n",
    "Solving: $x = y$, so an eigenvector is **$v_1 = \\begin{bmatrix} 1 \\\\ 1 \\end{bmatrix}$**.  "
   ]
  },
  {
   "cell_type": "markdown",
   "metadata": {},
   "source": [
    "For $\\lambda_2 = 1$:  \n",
    "$$  \n",
    "\\begin{bmatrix} 1 & 1 \\\\ 1 & 1 \\end{bmatrix} \\begin{bmatrix} x \\\\ y \\end{bmatrix} = \\begin{bmatrix} 0 \\\\ 0 \\end{bmatrix}  \n",
    "$$  \n",
    "Solving: $x = -y$, so an eigenvector is **$v_2 = \\begin{bmatrix} 1 \\\\ -1 \\end{bmatrix}$**.  "
   ]
  },
  {
   "cell_type": "markdown",
   "metadata": {},
   "source": [
    "✅ **Eigenpairs:**  \n",
    "$$  \n",
    "\\lambda_1 = 3, \\quad v_1 = \\begin{bmatrix} 1 \\\\ 1 \\end{bmatrix}  \n",
    "$$  \n",
    "$$  \n",
    "\\lambda_2 = 1, \\quad v_2 = \\begin{bmatrix} 1 \\\\ -1 \\end{bmatrix}  \n",
    "$$  "
   ]
  },
  {
   "cell_type": "markdown",
   "metadata": {},
   "source": [
    "📌 **Interpretation:**  \n",
    "- **$v_1 = [1,1]$** is **stretched by 3x**.  \n",
    "- **$v_2 = [1,-1]$** is **stretched by 1x (remains the same)**.  "
   ]
  },
  {
   "cell_type": "markdown",
   "metadata": {},
   "source": [
    "## **📌 What is a Linear Transformation?**  "
   ]
  },
  {
   "cell_type": "markdown",
   "metadata": {},
   "source": [
    "✅ A **linear transformation** is a function that **maps vectors to new vectors**, preserving **addition** and **scalar multiplication**.  \n",
    "✅ It can represent **scaling, rotation, shearing, and reflection**.  "
   ]
  },
  {
   "cell_type": "markdown",
   "metadata": {},
   "source": [
    "📌 **Matrix Representation:** If a transformation $T(x)$ is **linear**, there exists a matrix $A$ such that:  "
   ]
  },
  {
   "cell_type": "markdown",
   "metadata": {},
   "source": [
    "$$  \n",
    "T(x) = Ax  \n",
    "$$  "
   ]
  },
  {
   "cell_type": "markdown",
   "metadata": {},
   "source": [
    "✅ **Examples of Linear Transformations & Their Meaning:**  "
   ]
  },
  {
   "cell_type": "markdown",
   "metadata": {},
   "source": [
    "| Transformation                  | Matrix $A$                                        | Meaning                         |  \n",
    "|---------------------------------|---------------------------------------------------|---------------------------------|  \n",
    "| **Scaling**                     | $\\begin{bmatrix} k & 0 \\\\ 0 & k \\end{bmatrix}$   | Stretches space by $k$          |  \n",
    "| **Rotation (90° CCW)**          | $\\begin{bmatrix} 0 & -1 \\\\ 1 & 0 \\end{bmatrix}$  | Rotates counterclockwise        |  \n",
    "| **Reflection over x-axis**      | $\\begin{bmatrix} 1 & 0 \\\\ 0 & -1 \\end{bmatrix}$  | Flips over x-axis               |  \n",
    "| **Shear (x-direction)**         | $\\begin{bmatrix} 1 & k \\\\ 0 & 1 \\end{bmatrix}$   | Tilts space                    |  "
   ]
  },
  {
   "cell_type": "markdown",
   "metadata": {},
   "source": [
    "✅ **Eigenvalues in Linear Transformations:**  \n",
    "- **Scaling transformation:** Eigenvalues represent **how much the space is stretched**.  \n",
    "- **Rotation transformation:** Eigenvalues are **complex numbers** (rotation does not have real eigenvalues).  \n",
    "- **Reflection transformation:** Eigenvalues are **+1 (same direction) and -1 (flipped direction)**.  "
   ]
  },
  {
   "cell_type": "markdown",
   "metadata": {},
   "source": [
    "## **🛠️ Python Code: Finding Eigenvalues & Eigenvectors**  "
   ]
  },
  {
   "cell_type": "markdown",
   "metadata": {},
   "source": [
    "```python  "
   ]
  },
  {
   "cell_type": "code",
   "execution_count": 1,
   "metadata": {},
   "outputs": [
    {
     "name": "stdout",
     "output_type": "stream",
     "text": [
      "Eigenvalues: [3. 1.]\n",
      "Eigenvectors:\n",
      " [[ 0.70710678 -0.70710678]\n",
      " [ 0.70710678  0.70710678]]\n"
     ]
    }
   ],
   "source": [
    "import numpy as np\n",
    "\n",
    "# Define matrix\n",
    "A = np.array([[2, 1], [1, 2]])\n",
    "\n",
    "# Compute eigenvalues and eigenvectors\n",
    "eigenvalues, eigenvectors = np.linalg.eig(A)\n",
    "\n",
    "print(\"Eigenvalues:\", eigenvalues)\n",
    "print(\"Eigenvectors:\\n\", eigenvectors)"
   ]
  },
  {
   "cell_type": "markdown",
   "metadata": {},
   "source": [
    "```  "
   ]
  },
  {
   "cell_type": "markdown",
   "metadata": {},
   "source": [
    "✅ **Output:**  \n",
    "```  \n",
    "Eigenvalues: [3. 1.]\n",
    "Eigenvectors:\n",
    " [[ 0.707  0.707]\n",
    " [ 0.707 -0.707]]  \n",
    "```  "
   ]
  },
  {
   "cell_type": "markdown",
   "metadata": {},
   "source": [
    "📌 **Interpretation:** The eigenvectors are **normalized** (scaled to length 1).  "
   ]
  },
  {
   "cell_type": "markdown",
   "metadata": {},
   "source": [
    "## **🚀 Real-World Applications of Eigenvalues & Eigenvectors**  "
   ]
  },
  {
   "cell_type": "markdown",
   "metadata": {},
   "source": [
    "✅ **Machine Learning (PCA - Principal Component Analysis):** Reducing data dimensions 📊  \n",
    "✅ **Computer Vision (Image Compression):** Eigenvectors define important features in images 📷  \n",
    "✅ **Physics (Quantum Mechanics):** Finding energy levels of particles 🔬  \n",
    "✅ **Vibrations & Stability Analysis:** Engineering applications for stability analysis ⚙️  \n",
    "✅ **Google PageRank Algorithm:** Uses eigenvectors to rank web pages 🌍  "
   ]
  },
  {
   "cell_type": "markdown",
   "metadata": {},
   "source": [
    "## **🔥 Summary**  "
   ]
  },
  {
   "cell_type": "markdown",
   "metadata": {},
   "source": [
    "1️⃣ **Eigenvectors stay in the same direction during a transformation, eigenvalues are the scaling factors.**  \n",
    "2️⃣ **Formula:** $Av = \\lambda v$, where $A$ is a matrix, $v$ is an eigenvector, and $\\lambda$ is an eigenvalue.  \n",
    "3️⃣ **Linear transformations (scaling, rotation, reflection) determine how space is changed.**  \n",
    "4️⃣ **Used in PCA, computer vision, quantum mechanics, and engineering stability analysis.**  "
   ]
  }
 ],
 "metadata": {
  "kernelspec": {
   "display_name": "Python 3",
   "language": "python",
   "name": "python3"
  },
  "language_info": {
   "codemirror_mode": {
    "name": "ipython",
    "version": 3
   },
   "file_extension": ".py",
   "mimetype": "text/x-python",
   "name": "python",
   "nbconvert_exporter": "python",
   "pygments_lexer": "ipython3",
   "version": "3.13.0"
  }
 },
 "nbformat": 4,
 "nbformat_minor": 2
}
