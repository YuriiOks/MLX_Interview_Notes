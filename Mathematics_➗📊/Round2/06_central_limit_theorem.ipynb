{
 "cells": [
  {
   "cell_type": "markdown",
   "metadata": {},
   "source": [
    "# **6️⃣ Central Limit Theorem (CLT): Concept, Importance & Applications 📊📈**"
   ]
  },
  {
   "cell_type": "markdown",
   "metadata": {},
   "source": [
    "## **💡 Real-Life Analogy: Election Polling 🗳️📉**"
   ]
  },
  {
   "cell_type": "markdown",
   "metadata": {},
   "source": [
    "Imagine you want to predict **who will win an election**:  \n",
    "- You **survey 100 random voters** → Their preferences **vary** widely.  \n",
    "- You **repeat the survey 1,000 times**, each time with a new random sample.  \n",
    "- When you plot the **average results** of these surveys, they form a **bell-shaped curve (normal distribution)**!  "
   ]
  },
  {
   "cell_type": "markdown",
   "metadata": {},
   "source": [
    "📌 **This is the Central Limit Theorem (CLT) in action!**  Even if the **individual data is NOT normally distributed**, the **distribution of sample means will be approximately normal** as sample size increases.  "
   ]
  },
  {
   "cell_type": "markdown",
   "metadata": {},
   "source": [
    "## **📌 What is the Central Limit Theorem (CLT)?**"
   ]
  },
  {
   "cell_type": "markdown",
   "metadata": {},
   "source": [
    "✅ The **Central Limit Theorem (CLT)** states that:  \n",
    "- When you **take many random samples** of size $n$ from any population (regardless of its shape),  \n",
    "- The **distribution of the sample means** will **approach a normal distribution** as $n$ increases.  "
   ]
  },
  {
   "cell_type": "markdown",
   "metadata": {},
   "source": [
    "## **📌 Mathematical Definition:**"
   ]
  },
  {
   "cell_type": "markdown",
   "metadata": {},
   "source": [
    "If $X_1, X_2, ..., X_n$ are **independent, identically distributed (i.i.d.)** random variables with:  \n",
    "- **Mean** $\\mu$  \n",
    "- **Standard deviation** $\\sigma$  \n",
    "\n",
    "Then, for a sufficiently **large sample size** $n$, the sample mean:  \n",
    "\n",
    "$$\n",
    "\\bar{X} = \\frac{X_1 + X_2 + ... + X_n}{n}\n",
    "$$\n",
    "\n",
    "follows an **approximate normal distribution**:  \n",
    "\n",
    "$$\n",
    "\\bar{X} \\sim N\\left(\\mu, \\frac{\\sigma}{\\sqrt{n}}\\right)\n",
    "$$  "
   ]
  },
  {
   "cell_type": "markdown",
   "metadata": {},
   "source": [
    "✅ **Key Takeaways:**  \n",
    "- **The larger the sample size $n$, the closer the sample mean follows a normal distribution.**  \n",
    "- **Doesn’t matter if the original population is skewed, uniform, or exponential—CLT still applies!**  "
   ]
  },
  {
   "cell_type": "markdown",
   "metadata": {},
   "source": [
    "## **📊 Example: Rolling a Die 🎲**"
   ]
  },
  {
   "cell_type": "markdown",
   "metadata": {},
   "source": [
    "📌 **Scenario:** You roll a **fair 6-sided die** (values: **1, 2, 3, 4, 5, 6**)  \n",
    "- The original distribution is **uniform** (each number has equal probability).  \n",
    "- We take **random samples of size $n$** and compute their **means**.  "
   ]
  },
  {
   "cell_type": "markdown",
   "metadata": {},
   "source": [
    "✅ **Results:**  \n",
    "| Sample Size $n$ | Shape of Sample Means |  \n",
    "|-----------------|--------------------|  \n",
    "| $n = 1$         | Uniform (original shape)  |  \n",
    "| $n = 5$         | Slightly normal-looking  |  \n",
    "| $n = 30$        | **Very close to normal!**  |  "
   ]
  },
  {
   "cell_type": "markdown",
   "metadata": {},
   "source": [
    "📌 **CLT in Action:** As **$n$ increases**, the distribution of the **sample means** **approaches normal**!  "
   ]
  },
  {
   "cell_type": "markdown",
   "metadata": {},
   "source": [
    "## **🔄 Why is CLT Important?**"
   ]
  },
  {
   "cell_type": "markdown",
   "metadata": {},
   "source": [
    "✅ **1️⃣ Justifies the Use of Normal Distribution in Statistics**  \n",
    "- Many statistical techniques assume **normality** (e.g., hypothesis testing, confidence intervals).  \n",
    "- Thanks to CLT, these techniques **work even if the original data is not normal**!  "
   ]
  },
  {
   "cell_type": "markdown",
   "metadata": {},
   "source": [
    "✅ **2️⃣ Makes Sampling More Predictable**  \n",
    "- CLT allows us to **estimate population parameters (mean, variance) using samples**.  \n",
    "- Example: Predicting **average income** in a city using a **small sample**.  "
   ]
  },
  {
   "cell_type": "markdown",
   "metadata": {},
   "source": [
    "✅ **3️⃣ Enables Hypothesis Testing & Confidence Intervals**  \n",
    "- Since sample means follow a normal distribution, we can compute:  \n",
    "  - **Confidence Intervals**: Range of likely values for population mean.  \n",
    "  - **p-values**: Assess statistical significance.  "
   ]
  },
  {
   "cell_type": "markdown",
   "metadata": {},
   "source": [
    "✅ **4️⃣ Used in Machine Learning & Data Science**  \n",
    "- Feature scaling, normalization, and bootstrapping use CLT to improve model accuracy.  "
   ]
  },
  {
   "cell_type": "markdown",
   "metadata": {},
   "source": [
    "## **🛠️ Python Code: Simulating the Central Limit Theorem**"
   ]
  },
  {
   "cell_type": "code",
   "execution_count": 1,
   "metadata": {},
   "outputs": [
    {
     "data": {
      "image/png": "[encoded data removed]",
      "text/plain": [
       "<Figure size 1000x500 with 3 Axes>"
      ]
     },
     "metadata": {},
     "output_type": "display_data"
    }
   ],
   "source": [
    "import numpy as np  \n",
    "import matplotlib.pyplot as plt  \n",
    "\n",
    "# Simulate rolling a die (population distribution)  \n",
    "np.random.seed(42)  \n",
    "population = np.random.randint(1, 7, 10000)  # 10,000 rolls of a 6-sided die  \n",
    "\n",
    "# Take 1,000 samples of different sizes  \n",
    "sample_sizes = [1, 5, 30]  \n",
    "plt.figure(figsize=(10, 5))  \n",
    "\n",
    "for i, n in enumerate(sample_sizes):  \n",
    "    sample_means = [np.mean(np.random.choice(population, n)) for _ in range(1000)]  \n",
    "    plt.subplot(1, 3, i+1)  \n",
    "    plt.hist(sample_means, bins=30, density=True, alpha=0.6, color='blue')  \n",
    "    plt.title(f\"Sample Size n={n}  \")  \n",
    "\n",
    "plt.tight_layout()  \n",
    "plt.show()"
   ]
  },
  {
   "cell_type": "markdown",
   "metadata": {},
   "source": [
    "## **✅ Output:**  \n",
    "- **$n=1$** → Histogram looks uniform (original shape).  \n",
    "- **$n=5$** → Slightly normal.  \n",
    "- **$n=30$** → **Clearly bell-shaped (normal distribution)!**  "
   ]
  },
  {
   "cell_type": "markdown",
   "metadata": {},
   "source": [
    "## **🆚 CLT vs. Law of Large Numbers (LLN)**"
   ]
  },
  {
   "cell_type": "markdown",
   "metadata": {},
   "source": [
    "| Feature | Central Limit Theorem (CLT) | Law of Large Numbers (LLN) |  \n",
    "|---------|-----------------------------|-----------------------------|  \n",
    "| **Focus** | Distribution of **sample means**  | Convergence of **sample mean to true mean**  |  \n",
    "| **Key Idea** | Sample means follow a **normal distribution**  | More samples → Sample mean **gets closer to true mean**  |  \n",
    "| **Example** | Repeated polling results form a **normal curve**  | More coin flips → $\\text{Heads} \\approx 50\\%$  |  "
   ]
  },
  {
   "cell_type": "markdown",
   "metadata": {},
   "source": [
    "## **🚀 Applications of CLT in Real-World Problems**"
   ]
  },
  {
   "cell_type": "markdown",
   "metadata": {},
   "source": [
    "✅ **Election Polling**: Predicting voter preferences with small sample surveys 🗳️  \n",
    "✅ **Quality Control in Manufacturing**: Testing a small number of products to estimate overall defects 🏭  \n",
    "✅ **Medical Studies**: Estimating average recovery times from clinical trials 🏥  \n",
    "✅ **A/B Testing**: Determining which version of a website performs better 🌐  \n",
    "✅ **Financial Markets**: Stock price movements and risk estimation 📈  "
   ]
  },
  {
   "cell_type": "markdown",
   "metadata": {},
   "source": [
    "## **🔥 Summary**"
   ]
  },
  {
   "cell_type": "markdown",
   "metadata": {},
   "source": [
    "1️⃣ **CLT states that sample means follow a normal distribution, even if the original data isn’t normal.**  \n",
    "2️⃣ **Formula:** $\\bar{X} \\sim N(\\mu, \\sigma/\\sqrt{n})$  \n",
    "3️⃣ **Larger sample size $n$ leads to a better approximation of normality.**  \n",
    "4️⃣ **Used in hypothesis testing, polling, machine learning, and finance.**  "
   ]
  }
 ],
 "metadata": {
  "kernelspec": {
   "display_name": "Python 3",
   "language": "python",
   "name": "python3"
  },
  "language_info": {
   "codemirror_mode": {
    "name": "ipython",
    "version": 3
   },
   "file_extension": ".py",
   "mimetype": "text/x-python",
   "name": "python",
   "nbconvert_exporter": "python",
   "pygments_lexer": "ipython3",
   "version": "3.13.0"
  }
 },
 "nbformat": 4,
 "nbformat_minor": 2
}
