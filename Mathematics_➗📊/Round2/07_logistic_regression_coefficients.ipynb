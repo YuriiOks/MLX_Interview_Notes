{
 "cells": [
  {
   "cell_type": "markdown",
   "metadata": {},
   "source": [
    "# **7️⃣ Interpreting Coefficients in Logistic Regression 📊🤖**  "
   ]
  },
  {
   "cell_type": "markdown",
   "metadata": {},
   "source": [
    "## **💡 Real-Life Analogy: Predicting Loan Approval 💰🏦**  "
   ]
  },
  {
   "cell_type": "markdown",
   "metadata": {},
   "source": [
    "Imagine a **bank loan officer** wants to predict **whether a customer will default on a loan (Yes/No)** based on:  \n",
    "- **Income** 💰  \n",
    "- **Credit Score** 📊  \n",
    "- **Debt Amount** 💳  \n",
    "  "
   ]
  },
  {
   "cell_type": "markdown",
   "metadata": {},
   "source": [
    "📌 **Logistic regression models the probability of an event occurring (e.g., default = 1, no default = 0).**  \n",
    "📌 The **coefficients tell us how each feature influences this probability!**  "
   ]
  },
  {
   "cell_type": "markdown",
   "metadata": {},
   "source": [
    "## **📌 What is Logistic Regression?**  "
   ]
  },
  {
   "cell_type": "markdown",
   "metadata": {},
   "source": [
    "✅ Logistic Regression is used for **binary classification** problems (e.g., spam vs. not spam, fraud vs. legit).  \n",
    "✅ Unlike linear regression, which predicts **continuous values**, logistic regression predicts **probabilities**.  "
   ]
  },
  {
   "cell_type": "markdown",
   "metadata": {},
   "source": [
    "📌 **Mathematical Model (Logit Function):**  "
   ]
  },
  {
   "cell_type": "markdown",
   "metadata": {},
   "source": [
    "$$\n",
    "P(Y=1 | X) = \\frac{1}{1 + e^{-(\\beta_0 + \\beta_1X_1 + \\beta_2X_2 + ... + \\beta_nX_n)}}\n",
    "$$  "
   ]
  },
  {
   "cell_type": "markdown",
   "metadata": {},
   "source": [
    "Where:  \n",
    "- $P(Y=1 | X)$ = Probability that the outcome is **1** (e.g., loan default).  \n",
    "- $\\beta_0$ = Intercept (baseline log-odds).  \n",
    "- $\\beta_1, \\beta_2, ..., \\beta_n$ = **Feature coefficients** (to be interpreted).  \n",
    "- $X_1, X_2, ..., X_n$ = Feature values (e.g., income, credit score).  "
   ]
  },
  {
   "cell_type": "markdown",
   "metadata": {},
   "source": [
    "✅ **The coefficients affect the log-odds (logistic transformation of probability).**  "
   ]
  },
  {
   "cell_type": "markdown",
   "metadata": {},
   "source": [
    "## **📊 How to Interpret Logistic Regression Coefficients?**  "
   ]
  },
  {
   "cell_type": "markdown",
   "metadata": {},
   "source": [
    "### **Step 1: Convert Coefficients to Odds Ratio**  "
   ]
  },
  {
   "cell_type": "markdown",
   "metadata": {},
   "source": [
    "📌 **The coefficient $\\beta_i$ represents the change in log-odds per unit change in $X_i$.**  \n",
    "- **To interpret more intuitively**, convert it to the **Odds Ratio (OR)** using:  "
   ]
  },
  {
   "cell_type": "markdown",
   "metadata": {},
   "source": [
    "$$\n",
    "OR = e^{\\beta_i}\n",
    "$$  "
   ]
  },
  {
   "cell_type": "markdown",
   "metadata": {},
   "source": [
    "📌 **Interpretation of $OR$:**  \n",
    "- If **$OR > 1$** → Increasing $X_i$ **increases** the probability of $Y=1$ 📈  \n",
    "- If **$OR < 1$** → Increasing $X_i$ **decreases** the probability of $Y=1$ 📉  \n",
    "- If **$OR = 1$** → $X_i$ has **no effect** on $Y$  "
   ]
  },
  {
   "cell_type": "markdown",
   "metadata": {},
   "source": [
    "## **🔄 Example: Loan Default Prediction**  "
   ]
  },
  {
   "cell_type": "markdown",
   "metadata": {},
   "source": [
    "📌 **Logistic Regression Model:**  \n",
    "$$\n",
    "\\log \\left( \\frac{P(Y=1)}{P(Y=0)} \\right) = -3.5 + 0.02 \\times \\text{Income} + 0.8 \\times \\text{Credit Score} - 1.2 \\times \\text{Debt}\n",
    "$$  "
   ]
  },
  {
   "cell_type": "markdown",
   "metadata": {},
   "source": [
    "✅ **Interpreting the Coefficients:**  "
   ]
  },
  {
   "cell_type": "markdown",
   "metadata": {},
   "source": [
    "| Variable | Coefficient $\\beta$ | Odds Ratio $e^{\\beta}$ | Interpretation |  \n",
    "|----------|---------------------|------------------------|----------------|  \n",
    "| **Intercept ($\\beta_0$)** | -3.5 | - | Baseline log-odds when all variables = 0 |  \n",
    "| **Income (1000 units)** | 0.02 | $e^{0.02} = 1.02$ | Every **$1000** increase in **income** increases the odds of default by **2%**.  |  \n",
    "| **Credit Score** | 0.8 | $e^{0.8} = 2.23$ | A **1-unit** increase in **credit score** makes loan default **2.23 times more likely**.  |  \n",
    "| **Debt (in $1000$)** | -1.2 | $e^{-1.2} = 0.30$ | A **$1000** increase in **debt** reduces the odds of default to **30% of the original** (protective effect).  |"
   ]
  },
  {
   "cell_type": "markdown",
   "metadata": {},
   "source": [
    "✅ **Key Takeaways:**  \n",
    "- **Higher income** reduces the risk of default slightly.  \n",
    "- **Higher credit scores** make **default more likely** (unusual case, might indicate risky borrowers with high scores).  \n",
    "- **More debt decreases default risk**, suggesting a possible **non-linear effect** (e.g., responsible borrowers take on manageable debt).  "
   ]
  },
  {
   "cell_type": "markdown",
   "metadata": {},
   "source": [
    "## **🛠️ Python Code: Extracting Coefficients & Odds Ratios**  "
   ]
  },
  {
   "cell_type": "code",
   "execution_count": 2,
   "metadata": {},
   "outputs": [
    {
     "data": {
      "text/html": [
       "<div>\n",
       "<style scoped>\n",
       "    .dataframe tbody tr th:only-of-type {\n",
       "        vertical-align: middle;\n",
       "    }\n",
       "\n",
       "    .dataframe tbody tr th {\n",
       "        vertical-align: top;\n",
       "    }\n",
       "\n",
       "    .dataframe thead th {\n",
       "        text-align: right;\n",
       "    }\n",
       "</style>\n",
       "<table border=\"1\" class=\"dataframe\">\n",
       "  <thead>\n",
       "    <tr style=\"text-align: right;\">\n",
       "      <th></th>\n",
       "      <th>Feature</th>\n",
       "      <th>Coefficient</th>\n",
       "      <th>Odds Ratio</th>\n",
       "    </tr>\n",
       "  </thead>\n",
       "  <tbody>\n",
       "    <tr>\n",
       "      <th>0</th>\n",
       "      <td>Income</td>\n",
       "      <td>-0.164002</td>\n",
       "      <td>0.848740</td>\n",
       "    </tr>\n",
       "    <tr>\n",
       "      <th>1</th>\n",
       "      <td>Credit Score</td>\n",
       "      <td>-0.000356</td>\n",
       "      <td>0.999644</td>\n",
       "    </tr>\n",
       "    <tr>\n",
       "      <th>2</th>\n",
       "      <td>Debt</td>\n",
       "      <td>-0.511399</td>\n",
       "      <td>0.599656</td>\n",
       "    </tr>\n",
       "  </tbody>\n",
       "</table>\n",
       "</div>"
      ],
      "text/plain": [
       "        Feature  Coefficient  Odds Ratio\n",
       "0        Income    -0.164002    0.848740\n",
       "1  Credit Score    -0.000356    0.999644\n",
       "2          Debt    -0.511399    0.599656"
      ]
     },
     "metadata": {},
     "output_type": "display_data"
    }
   ],
   "source": [
    "import numpy as np\n",
    "import pandas as pd\n",
    "from sklearn.linear_model import LogisticRegression\n",
    "\n",
    "# Sample dataset\n",
    "X = np.array([[40, 700, 5], [30, 650, 8], [50, 800, 3], [35, 720, 6]])  # [Income, Credit Score, Debt]\n",
    "y = np.array([1, 0, 0, 1])  # Loan default (1 = default, 0 = no default)\n",
    "\n",
    "# Train Logistic Regression model\n",
    "model = LogisticRegression()\n",
    "model.fit(X, y)\n",
    "\n",
    "# Extract coefficients\n",
    "coefficients = model.coef_[0]\n",
    "odds_ratios = np.exp(coefficients)\n",
    "\n",
    "# Display results\n",
    "df = pd.DataFrame({\n",
    "    'Feature': ['Income', 'Credit Score', 'Debt'],\n",
    "    'Coefficient': coefficients,\n",
    "    'Odds Ratio': odds_ratios\n",
    "})\n",
    "\n",
    "display(df)"
   ]
  },
  {
   "cell_type": "markdown",
   "metadata": {},
   "source": [
    "## **🚀 Applications of Logistic Regression Coefficients in AI/ML 🤖**  "
   ]
  },
  {
   "cell_type": "markdown",
   "metadata": {},
   "source": [
    "✅ **Credit Scoring**: Predicting loan approvals based on income, credit score 💳  \n",
    "✅ **Spam Filtering**: Determining whether an email is spam or not 📧  \n",
    "✅ **Medical Diagnosis**: Predicting disease risk from medical factors 🏥  \n",
    "✅ **Customer Churn Prediction**: Analyzing why customers leave a service 📉  \n",
    "✅ **Fraud Detection**: Identifying suspicious transactions in finance 🔍  "
   ]
  },
  {
   "cell_type": "markdown",
   "metadata": {},
   "source": [
    "## **🔥 Summary**  "
   ]
  },
  {
   "cell_type": "markdown",
   "metadata": {},
   "source": [
    "1️⃣ **Logistic Regression models probabilities using the log-odds function.**  \n",
    "2️⃣ **Coefficients ($\\beta$) measure how features affect the log-odds.**  \n",
    "3️⃣ **Exponentiating ($e^{\\beta}$) converts coefficients to Odds Ratios (ORs).**  \n",
    "4️⃣ **OR > 1 → Increases probability of event; OR < 1 → Decreases probability.**  \n",
    "5️⃣ **Used in credit scoring, medical diagnosis, fraud detection, and spam filtering.**  "
   ]
  }
 ],
 "metadata": {
  "kernelspec": {
   "display_name": "Python 3",
   "language": "python",
   "name": "python3"
  },
  "language_info": {
   "codemirror_mode": {
    "name": "ipython",
    "version": 3
   },
   "file_extension": ".py",
   "mimetype": "text/x-python",
   "name": "python",
   "nbconvert_exporter": "python",
   "pygments_lexer": "ipython3",
   "version": "3.13.0"
  }
 },
 "nbformat": 4,
 "nbformat_minor": 2
}
