{
 "cells": [
  {
   "cell_type": "markdown",
   "metadata": {},
   "source": [
    "# **7️⃣ Chain Rule in Calculus: Differentiation of Composite Functions 🔗📈**"
   ]
  },
  {
   "cell_type": "markdown",
   "metadata": {},
   "source": [
    "## **💡 Real-Life Analogy: Factory Assembly Line ⚙️🏭**"
   ]
  },
  {
   "cell_type": "markdown",
   "metadata": {},
   "source": [
    "Imagine a **car assembly line**:\n",
    "- First, **workers build the engine**.\n",
    "- Then, **the engine is installed in the car**.\n",
    "- Finally, **the car is painted and ready for delivery**.\n",
    "\n",
    "📌 **Each step depends on the previous one**, and the overall time required depends on all steps combined.\n",
    "\n",
    "Similarly, in calculus, when you differentiate a **composite function** (a function inside another function), you must apply the **chain rule** to account for the dependencies between functions! 🔄"
   ]
  },
  {
   "cell_type": "markdown",
   "metadata": {},
   "source": [
    "## **📌 What is the Chain Rule?**"
   ]
  },
  {
   "cell_type": "markdown",
   "metadata": {},
   "source": [
    "✅ The **chain rule** is a fundamental differentiation rule for composite functions of the form:\n",
    "\n",
    "$$\n",
    "y = f(g(x))\n",
    "$$\n",
    "\n",
    "✅ It allows us to **differentiate a function inside another function** by multiplying their derivatives."
   ]
  },
  {
   "cell_type": "markdown",
   "metadata": {},
   "source": [
    "## **📌 Mathematical Formula:**"
   ]
  },
  {
   "cell_type": "markdown",
   "metadata": {},
   "source": [
    "$$\n",
    "\\frac{d}{dx} f(g(x)) = f'(g(x)) \\cdot g'(x)\n",
    "$$\n",
    "\n",
    "Where:\n",
    "- $f(g(x))$ is the **outer function**.\n",
    "- $g(x)$ is the **inner function**.\n",
    "- $f'(g(x))$ is the **derivative of the outer function** (keeping $g(x)$ as it is).\n",
    "- $g'(x)$ is the **derivative of the inner function**."
   ]
  },
  {
   "cell_type": "markdown",
   "metadata": {},
   "source": [
    "## **🔢 Example: Differentiating $f(x) = (3x + 2)^5$**"
   ]
  },
  {
   "cell_type": "markdown",
   "metadata": {},
   "source": [
    "📌 **Step 1: Identify Inner and Outer Functions**\n",
    "- **Inner function:** $g(x) = 3x + 2$\n",
    "- **Outer function:** $f(g) = g^5$"
   ]
  },
  {
   "cell_type": "markdown",
   "metadata": {},
   "source": [
    "## **📌 Step 2: Differentiate Each Function**\n",
    "- $g'(x) = 3$\n",
    "- $f'(g) = 5g^4 = 5(3x + 2)^4$"
   ]
  },
  {
   "cell_type": "markdown",
   "metadata": {},
   "source": [
    "## **📌 Step 3: Apply the Chain Rule**\n",
    "$$\n",
    "\\frac{d}{dx} (3x + 2)^5 = 5(3x + 2)^4 \\cdot 3\n",
    "$$"
   ]
  },
  {
   "cell_type": "markdown",
   "metadata": {},
   "source": [
    "## **📌 Step 4: Simplify**\n",
    "$$\n",
    "= 15(3x + 2)^4\n",
    "$$"
   ]
  },
  {
   "cell_type": "markdown",
   "metadata": {},
   "source": [
    "✅ **Final Answer:** $15(3x + 2)^4$"
   ]
  },
  {
   "cell_type": "markdown",
   "metadata": {},
   "source": [
    "## **🛠️ Python Code: Chain Rule Differentiation**"
   ]
  },
  {
   "cell_type": "code",
   "execution_count": 1,
   "metadata": {},
   "outputs": [
    {
     "name": "stdout",
     "output_type": "stream",
     "text": [
      "15*(3*x + 2)**4\n"
     ]
    }
   ],
   "source": [
    "import sympy as sp\n",
    "\n",
    "# Define variable and function\n",
    "x = sp.Symbol('x')\n",
    "f = (3*x + 2)**5  # Composite function\n",
    "\n",
    "# Compute derivative using chain rule\n",
    "derivative = sp.diff(f, x)\n",
    "print(derivative)"
   ]
  },
  {
   "cell_type": "markdown",
   "metadata": {},
   "source": [
    "✅ **Output:**  \n",
    "```\n",
    "15*(3*x + 2)**4\n",
    "```"
   ]
  },
  {
   "cell_type": "markdown",
   "metadata": {},
   "source": [
    "## **📊 Example Table: Common Chain Rule Applications**"
   ]
  },
  {
   "cell_type": "markdown",
   "metadata": {},
   "source": [
    "| Function $y = f(g(x))$ | Inner Function $g(x)$ | Outer Function $f(g)$ | Derivative $\\frac{dy}{dx}$ |\n",
    "|------------------|--------------|--------------|------------------|\n",
    "| $(3x + 2)^5$ | $3x + 2$ | $g^5$ | $15(3x + 2)^4$ |\n",
    "| $e^{2x}$ | $2x$ | $e^g$ | $2e^{2x}$ |\n",
    "| $\\sin(4x)$ | $4x$ | $\\sin g$ | $4\\cos(4x)$ |\n",
    "| $\\ln(x^2 + 1)$ | $x^2 + 1$ | $\\ln g$ | $\\frac{2x}{x^2 + 1}$ |"
   ]
  },
  {
   "cell_type": "markdown",
   "metadata": {},
   "source": [
    "## **🚀 Real-World Applications of the Chain Rule**"
   ]
  },
  {
   "cell_type": "markdown",
   "metadata": {},
   "source": [
    "✅ **Physics:** Computing velocity and acceleration in dynamic systems 🚗  \n",
    "✅ **Machine Learning:** Backpropagation in neural networks 🤖  \n",
    "✅ **Economics:** Modeling compound interest growth 💰  \n",
    "✅ **Engineering:** Analyzing heat transfer in complex materials 🔥 "
   ]
  },
  {
   "cell_type": "markdown",
   "metadata": {},
   "source": [
    "## **🔥 Summary**"
   ]
  },
  {
   "cell_type": "markdown",
   "metadata": {},
   "source": [
    "1️⃣ **The chain rule helps differentiate composite functions of the form $f(g(x))$.**  \n",
    "2️⃣ **Formula:** $\\frac{d}{dx} f(g(x)) = f'(g(x)) \\cdot g'(x)$  \n",
    "3️⃣ **Break it into outer and inner functions, then multiply their derivatives.**  \n",
    "4️⃣ **Used in physics, AI, finance, and engineering.**  "
   ]
  }
 ],
 "metadata": {
  "kernelspec": {
   "display_name": "Python 3",
   "language": "python",
   "name": "python3"
  },
  "language_info": {
   "codemirror_mode": {
    "name": "ipython",
    "version": 3
   },
   "file_extension": ".py",
   "mimetype": "text/x-python",
   "name": "python",
   "nbconvert_exporter": "python",
   "pygments_lexer": "ipython3",
   "version": "3.13.0"
  }
 },
 "nbformat": 4,
 "nbformat_minor": 2
}
