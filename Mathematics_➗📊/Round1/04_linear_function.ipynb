{
 "cells": [
  {
   "cell_type": "markdown",
   "metadata": {},
   "source": [
    "# **4️⃣ Linear Function: Definition, Formula, and Applications 📈📊**  \n",
    "\n"
   ]
  },
  {
   "cell_type": "markdown",
   "metadata": {},
   "source": [
    "## **💡 Real-Life Analogy: Walking at a Constant Speed 🚶‍♂️⏳**  \n"
   ]
  },
  {
   "cell_type": "markdown",
   "metadata": {},
   "source": [
    "Imagine you are walking at a **steady speed** of **5 km/h**:  \n",
    "- Every hour, you **increase your distance by 5 km**.  \n",
    "- Your movement is **consistent** and **predictable**—you don’t speed up or slow down.  \n",
    "- This relationship between **time (x)** and **distance (y)** follows a **linear function**!  \n"
   ]
  },
  {
   "cell_type": "markdown",
   "metadata": {},
   "source": [
    "## **📌 What is a Linear Function?**  \n"
   ]
  },
  {
   "cell_type": "markdown",
   "metadata": {},
   "source": [
    "✅ A **linear function** is a function that creates a **straight line** when plotted on a graph.  \n",
    "✅ It has a **constant rate of change** (slope).  \n",
    "✅ It follows the general form:  \n",
    "\n",
    "$\n",
    "f(x) = mx + b\n",
    "$  \n",
    "\n",
    "Where:  \n",
    "- $ f(x) $ or $ y $ = **Dependent variable (output)**  \n",
    "- $ x $ = **Independent variable (input)**  \n",
    "- $ m $ = **Slope (rate of change, how much $ y $ changes per unit of $ x $)**  \n",
    "- $ b $ = **Y-intercept (the point where the line crosses the y-axis when $ x = 0 $)**  \n",
    "\n",
    "✅ **Example Linear Function:**  \n",
    "$\n",
    "y = 3x + 2\n",
    "$  \n",
    "- **Slope ($ m = 3 $)** → For every increase of **1 in $ x $**, $ y $ increases by **3**.  \n",
    "- **Intercept ($ b = 2 $)** → The graph crosses the y-axis at **$ (0, 2) $**.  \n"
   ]
  },
  {
   "cell_type": "markdown",
   "metadata": {},
   "source": [
    "## **📊 Example Table: Walking Distance Over Time**\n"
   ]
  },
  {
   "cell_type": "markdown",
   "metadata": {},
   "source": [
    "📌 **Scenario:** You walk at **5 km/h**. The function describing your distance is:  \n",
    "$\n",
    "y = 5x\n",
    "$  \n",
    "\n",
    "| Time (hours) $ x $ | Distance (km) $ y $ |\n",
    "|----------------|--------------|\n",
    "| 0 | 0 |\n",
    "| 1 | 5 |\n",
    "| 2 | 10 |\n",
    "| 3 | 15 |\n",
    "| 4 | 20 |\n",
    "\n",
    "✅ **Graph:** The data points lie on a straight line with a slope of **5**.  \n"
   ]
  },
  {
   "cell_type": "markdown",
   "metadata": {},
   "source": [
    "## **🔄 Key Properties of a Linear Function**\n"
   ]
  },
  {
   "cell_type": "markdown",
   "metadata": {},
   "source": [
    "1️⃣ **Straight-line graph** 📈  \n",
    "2️⃣ **Constant slope (rate of change)** 🔄  \n",
    "3️⃣ **Can have positive, negative, or zero slope**  \n",
    "4️⃣ **No exponents on $ x $ (only power 1)**  \n",
    "\n",
    "📌 **Types of Slopes:**\n",
    "| Slope Type | Graph Direction | Example |\n",
    "|------------|----------------|---------|\n",
    "| **Positive Slope ($ m > 0 $)** | Increasing ↗️ | $ y = 2x + 1 $ |\n",
    "| **Negative Slope ($ m < 0 $)** | Decreasing ↘️ | $ y = -3x + 5 $ |\n",
    "| **Zero Slope ($ m = 0 $)** | Horizontal Line ➖ | $ y = 4 $ |\n",
    "| **Undefined Slope** | Vertical Line ⬆️⬇️ | $ x = 2 $ |\n",
    "\n"
   ]
  },
  {
   "cell_type": "markdown",
   "metadata": {},
   "source": [
    "## **🛠️ Python Code: Plotting a Linear Function**\n"
   ]
  },
  {
   "cell_type": "code",
   "execution_count": null,
   "metadata": {},
   "outputs": [],
   "source": [
    "import numpy as np\n",
    "import matplotlib.pyplot as plt\n",
    "\n",
    "# Define linear function y = 3x + 2\n",
    "def linear_function(x):\n",
    "    return 3*x + 2\n",
    "\n",
    "# Generate x values\n",
    "x = np.linspace(-5, 5, 100)\n",
    "y = linear_function(x)\n",
    "\n",
    "# Plot the function\n",
    "plt.plot(x, y, label=\"y = 3x + 2\", color='r')\n",
    "plt.axhline(0, color='black', linewidth=0.5)\n",
    "plt.axvline(0, color='black', linewidth=0.5)\n",
    "plt.grid()\n",
    "plt.legend()\n",
    "plt.title(\"Linear Function Graph\")\n",
    "plt.xlabel(\"x\")\n",
    "plt.ylabel(\"y\")\n",
    "plt.show()"
   ]
  },
  {
   "cell_type": "markdown",
   "metadata": {},
   "source": [
    "\n",
    "✅ **Output:** A **straight line** with a **slope of 3** and **y-intercept of 2**.  \n"
   ]
  },
  {
   "cell_type": "markdown",
   "metadata": {},
   "source": [
    "## **🚀 Real-World Applications of Linear Functions**\n"
   ]
  },
  {
   "cell_type": "markdown",
   "metadata": {},
   "source": [
    "✅ **Finance:** Calculating profits based on sales 💰  \n",
    "✅ **Physics:** Constant velocity motion 🚗  \n",
    "✅ **Engineering:** Electrical resistance calculations ⚡  \n",
    "✅ **Business:** Predicting revenue growth 📊  \n"
   ]
  },
  {
   "cell_type": "markdown",
   "metadata": {},
   "source": [
    "## **🔥 Summary**\n"
   ]
  },
  {
   "cell_type": "markdown",
   "metadata": {},
   "source": [
    "1️⃣ **A linear function is a straight-line equation of the form $ y = mx + b $.**  \n",
    "2️⃣ **It has a constant rate of change (slope).**  \n",
    "3️⃣ **Linear graphs can be increasing, decreasing, or horizontal.**  \n",
    "4️⃣ **Used in finance, physics, engineering, and business predictions.**  "
   ]
  }
 ],
 "metadata": {
  "kernelspec": {
   "display_name": "Python 3",
   "language": "python",
   "name": "python3"
  },
  "language_info": {
   "codemirror_mode": {
    "name": "ipython",
    "version": 3
   },
   "file_extension": ".py",
   "mimetype": "text/x-python",
   "name": "python",
   "nbconvert_exporter": "python",
   "pygments_lexer": "ipython3",
   "version": "3.13.0"
  }
 },
 "nbformat": 4,
 "nbformat_minor": 2
}
