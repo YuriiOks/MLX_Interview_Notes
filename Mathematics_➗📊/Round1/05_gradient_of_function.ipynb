{
 "cells": [
  {
   "cell_type": "markdown",
   "metadata": {},
   "source": [
    "# **5️⃣ Gradient of a Function: Definition, Formula, and Optimization Applications 📈🔄**"
   ]
  },
  {
   "cell_type": "markdown",
   "metadata": {},
   "source": [
    "## **💡 Real-Life Analogy: Climbing a Mountain ⛰️🏔️**"
   ]
  },
  {
   "cell_type": "markdown",
   "metadata": {},
   "source": [
    "Imagine you are **hiking up a mountain**, but it’s foggy, and you **can’t see the peak**.  \n",
    "- You check **how steep** the slope is at your location.  \n",
    "- You decide to move in the direction of **steepest ascent** to reach the peak faster.  \n",
    "- If you want to **descend**, you move in the **steepest downhill direction**.  \n",
    "\n",
    "📌 **This is exactly how the gradient works**—it tells you the **steepest direction** to move in!"
   ]
  },
  {
   "cell_type": "markdown",
   "metadata": {},
   "source": [
    "## **📌 What is the Gradient of a Function?**"
   ]
  },
  {
   "cell_type": "markdown",
   "metadata": {},
   "source": [
    "✅ The **gradient** of a function is a **vector** that points in the **direction of the steepest increase** of the function.  \n",
    "✅ It measures **how much** the function **changes** at a given point.  \n",
    "✅ Used in **optimization, physics, machine learning, and economics**."
   ]
  },
  {
   "cell_type": "markdown",
   "metadata": {},
   "source": [
    "## **📌 Mathematical Definition:**"
   ]
  },
  {
   "cell_type": "markdown",
   "metadata": {},
   "source": [
    "For a function $f(x, y)$ with two variables, the gradient is:\n",
    "\n",
    "$$\n",
    "\\nabla f(x, y) = \\left( \\frac{\\partial f}{\\partial x}, \\frac{\\partial f}{\\partial y} \\right)\n",
    "$$\n",
    "\n",
    "Where:  \n",
    "- **$\\frac{\\partial f}{\\partial x}$** = Partial derivative of $f$ with respect to $x$ (measures rate of change along the $x$-axis).  \n",
    "- **$\\frac{\\partial f}{\\partial y}$** = Partial derivative of $f$ with respect to $y$ (measures rate of change along the $y$-axis).  \n",
    "- **$\\nabla f(x, y)$** represents the **gradient vector**."
   ]
  },
  {
   "cell_type": "markdown",
   "metadata": {},
   "source": [
    "## **📌 For a single-variable function $f(x)$, the gradient is just its derivative:**"
   ]
  },
  {
   "cell_type": "markdown",
   "metadata": {},
   "source": [
    "$$\n",
    "\\nabla f(x) = \\frac{df}{dx}\n",
    "$$"
   ]
  },
  {
   "cell_type": "markdown",
   "metadata": {},
   "source": [
    "## **📊 Example: Finding the Gradient of $f(x, y) = x^2 + y^2$**"
   ]
  },
  {
   "cell_type": "markdown",
   "metadata": {},
   "source": [
    "📌 **Step 1: Compute Partial Derivatives**  \n",
    "$$\n",
    "\\frac{\\partial f}{\\partial x} = 2x, \\quad \\frac{\\partial f}{\\partial y} = 2y\n",
    "$$\n"
   ]
  },
  {
   "cell_type": "markdown",
   "metadata": {},
   "source": [
    "📌 **Step 2: Write the Gradient Vector**  \n",
    "$$\n",
    "\\nabla f(x, y) = (2x, 2y)\n",
    "$$"
   ]
  },
  {
   "cell_type": "markdown",
   "metadata": {},
   "source": [
    "📌 **Step 3: Evaluate at $ (1, 2) $**  \n",
    "$$\n",
    "\\nabla f(1,2) = (2(1), 2(2)) = (2, 4)\n",
    "$$"
   ]
  },
  {
   "cell_type": "markdown",
   "metadata": {},
   "source": [
    "✅ **Interpretation:**  \n",
    "- At $(1,2)$, the function increases fastest in the **(2,4) direction**.  \n",
    "- If you move **against** the gradient (opposite direction), you decrease the function's value."
   ]
  },
  {
   "cell_type": "markdown",
   "metadata": {},
   "source": [
    "## **🔄 Gradient in Optimization (Gradient Descent)**"
   ]
  },
  {
   "cell_type": "markdown",
   "metadata": {},
   "source": [
    "✅ **Optimization means finding the minimum (or maximum) of a function.**  \n",
    "✅ **Gradient Descent** is an algorithm used to find **the lowest point** (minimum) of a function.  \n",
    "✅ It follows the rule:  \n",
    "$$\n",
    "x_{new} = x_{old} - \\alpha \\nabla f(x)\n",
    "$$\n",
    "Where:  \n",
    "- $\\alpha$ = Learning rate (step size).  \n",
    "- $\\nabla f(x)$ = Gradient (direction of steepest ascent).  \n",
    "- **Move in the negative gradient direction** to find the minimum."
   ]
  },
  {
   "cell_type": "markdown",
   "metadata": {},
   "source": [
    "📌 **Example: Minimizing $f(x) = x^2$ using Gradient Descent**"
   ]
  },
  {
   "cell_type": "markdown",
   "metadata": {},
   "source": [
    "1️⃣ Compute derivative: $f'(x) = 2x$.  \n",
    "2️⃣ Start at $x = 4$.  \n",
    "3️⃣ Update using **$x = x - \\alpha \\times 2x$** (e.g., $\\alpha = 0.1$).  \n",
    "4️⃣ After several steps, reach **$x = 0$** (minimum point)."
   ]
  },
  {
   "cell_type": "markdown",
   "metadata": {},
   "source": [
    "## **🛠️ Python Code: Gradient Descent for $f(x) = x^2$**"
   ]
  },
  {
   "cell_type": "code",
   "execution_count": 2,
   "metadata": {},
   "outputs": [
    {
     "data": {
      "image/png": "[encoded data removed]",
      "text/plain": [
       "<Figure size 640x480 with 1 Axes>"
      ]
     },
     "metadata": {},
     "output_type": "display_data"
    }
   ],
   "source": [
    "import numpy as np\n",
    "import matplotlib.pyplot as plt\n",
    "\n",
    "# Define function and derivative\n",
    "def f(x):\n",
    "    return x**2\n",
    "\n",
    "def gradient(x):\n",
    "    return 2*x  # Derivative of x^2 is 2x\n",
    "\n",
    "# Gradient Descent Parameters\n",
    "alpha = 0.1  # Learning rate\n",
    "x = 4  # Starting point\n",
    "steps = [x]  # Store steps\n",
    "\n",
    "# Perform Gradient Descent\n",
    "for _ in range(10):\n",
    "    x = x - alpha * gradient(x)  # Update x\n",
    "    steps.append(x)\n",
    "\n",
    "# Plot function and descent path\n",
    "x_vals = np.linspace(-5, 5, 100)\n",
    "y_vals = f(x_vals)\n",
    "\n",
    "plt.plot(x_vals, y_vals, label=\"f(x) = x²\", color='b')\n",
    "plt.scatter(steps, [f(s) for s in steps], color='r', label=\"Gradient Descent Steps\")\n",
    "plt.xlabel(\"x\")\n",
    "plt.ylabel(\"f(x)\")\n",
    "plt.legend()\n",
    "plt.title(\"Gradient Descent Visualization\")\n",
    "plt.show()"
   ]
  },
  {
   "cell_type": "markdown",
   "metadata": {},
   "source": [
    "✅ **Output:**  \n",
    "- The **red dots** show how **gradient descent moves toward the minimum** at $x = 0$."
   ]
  },
  {
   "cell_type": "markdown",
   "metadata": {},
   "source": [
    "## **🆚 Gradient vs. Derivative**"
   ]
  },
  {
   "cell_type": "markdown",
   "metadata": {},
   "source": [
    "| Feature | Derivative $f'(x)$ | Gradient $\\nabla f(x)$ |\n",
    "|---------|--------------------|-------------------------|\n",
    "| **Definition** | Rate of change of a function | Multi-variable rate of change |\n",
    "| **Applies to** | Single-variable functions | Multi-variable functions |\n",
    "| **Example** | $f(x) = x^2 \\Rightarrow f'(x) = 2x$ | $f(x,y) = x^2 + y^2 \\Rightarrow \\nabla f = (2x, 2y)$ |\n",
    "| **Optimization** | Used in **1D optimization** | Used in **multi-dimensional optimization** |\n"
   ]
  },
  {
   "cell_type": "markdown",
   "metadata": {},
   "source": [
    "## **🚀 Real-World Applications**"
   ]
  },
  {
   "cell_type": "markdown",
   "metadata": {},
   "source": [
    "✅ **Machine Learning:** Optimizing weights in deep learning 🤖  \n",
    "✅ **Economics:** Maximizing profit & minimizing costs 💰  \n",
    "✅ **Physics:** Calculating force fields ⚡  \n",
    "✅ **Robotics:** Motion planning and control 🤖"
   ]
  },
  {
   "cell_type": "markdown",
   "metadata": {},
   "source": [
    "## **🔥 Summary**"
   ]
  },
  {
   "cell_type": "markdown",
   "metadata": {},
   "source": [
    "1️⃣ **The gradient is a vector pointing in the steepest ascent direction of a function.**  \n",
    "2️⃣ **Gradient Descent is an optimization method that moves in the negative gradient direction to find the function's minimum.**  \n",
    "3️⃣ **Used in machine learning, physics, economics, and robotics.**  \n",
    "4️⃣ **The gradient extends derivatives to multi-variable functions.**"
   ]
  }
 ],
 "metadata": {
  "kernelspec": {
   "display_name": "Python 3",
   "language": "python",
   "name": "python3"
  },
  "language_info": {
   "name": "python",
   "version": "3.13.0"
  }
 },
 "nbformat": 4,
 "nbformat_minor": 2
}
