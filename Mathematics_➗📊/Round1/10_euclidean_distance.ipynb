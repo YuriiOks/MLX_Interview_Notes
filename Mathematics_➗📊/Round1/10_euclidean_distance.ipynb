{
 "cells": [
  {
   "cell_type": "markdown",
   "metadata": {},
   "source": [
    "# **🔟 Euclidean Distance: Formula, Calculation & Applications 📏📊**"
   ]
  },
  {
   "cell_type": "markdown",
   "metadata": {},
   "source": [
    "## **💡 Real-Life Analogy: Measuring the Shortest Path Between Two Cities on a Map 🗺️🚗**"
   ]
  },
  {
   "cell_type": "markdown",
   "metadata": {},
   "source": [
    "Imagine you want to find **the shortest distance** between **London and Paris**.  \n",
    "- You could travel by **road** (which follows turns and detours).  \n",
    "- But the **straight-line (air) distance** between the cities is the **shortest possible path**.  "
   ]
  },
  {
   "cell_type": "markdown",
   "metadata": {},
   "source": [
    "📌 **This straight-line distance is called the *Euclidean Distance*!**  "
   ]
  },
  {
   "cell_type": "markdown",
   "metadata": {},
   "source": [
    "## **📌 What is Euclidean Distance?**"
   ]
  },
  {
   "cell_type": "markdown",
   "metadata": {},
   "source": [
    "✅ **Euclidean Distance** is the **straight-line** distance between two points in a Euclidean space.  \n",
    "✅ It is the most commonly used metric for **measuring similarity** in AI, geometry, and physics.  \n",
    "✅ In **2D space**, it represents the **Pythagorean theorem** applied to two points.  "
   ]
  },
  {
   "cell_type": "markdown",
   "metadata": {},
   "source": [
    "## **📌 Formula (2D space)**  \n",
    "For two points $P_1(x_1, y_1)$ and $P_2(x_2, y_2)$:  \n",
    "\n",
    "$$\n",
    "d = \\sqrt{(x_2 - x_1)^2 + (y_2 - y_1)^2}\n",
    "$$"
   ]
  },
  {
   "cell_type": "markdown",
   "metadata": {},
   "source": [
    "## **📌 Formula (3D space)**  \n",
    "For points $P_1(x_1, y_1, z_1)$ and $P_2(x_2, y_2, z_2)$:  \n",
    "\n",
    "$$\n",
    "d = \\sqrt{(x_2 - x_1)^2 + (y_2 - y_1)^2 + (z_2 - z_1)^2}\n",
    "$$"
   ]
  },
  {
   "cell_type": "markdown",
   "metadata": {},
   "source": [
    "## **📌 General Formula (n-dimensional space)**  \n",
    "For points $P_1$ and $P_2$ in $n$-dimensional space:  \n",
    "\n",
    "$$\n",
    "d = \\sqrt{\\sum_{i=1}^{n} (p_{2i} - p_{1i})^2}\n",
    "$$"
   ]
  },
  {
   "cell_type": "markdown",
   "metadata": {},
   "source": [
    "## **📊 Example: Computing Euclidean Distance (2D)**"
   ]
  },
  {
   "cell_type": "markdown",
   "metadata": {},
   "source": [
    "📌 **Given Points:**  \n",
    "$P_1(2, 3)$, $P_2(6, 7)$  "
   ]
  },
  {
   "cell_type": "markdown",
   "metadata": {},
   "source": [
    "## **📌 Step-by-Step Calculation:**  \n",
    "$$\\begin{aligned}\n",
    "d &= \\sqrt{(6 - 2)^2 + (7 - 3)^2} \\\\ \n",
    "  &= \\sqrt{4^2 + 4^2} \\\\ \n",
    "  &= \\sqrt{16 + 16} \\\\ \n",
    "  &= \\sqrt{32} \\approx 5.66\n",
    "\\end{aligned}$$"
   ]
  },
  {
   "cell_type": "markdown",
   "metadata": {},
   "source": [
    "✅ **Final Answer:**  \n",
    "$d \\approx 5.66$  "
   ]
  },
  {
   "cell_type": "markdown",
   "metadata": {},
   "source": [
    "## **🛠️ Python Code: Computing Euclidean Distance**"
   ]
  },
  {
   "cell_type": "code",
   "execution_count": 1,
   "metadata": {},
   "outputs": [
    {
     "name": "stdout",
     "output_type": "stream",
     "text": [
      "Euclidean Distance: 5.66\n"
     ]
    }
   ],
   "source": [
    "import numpy as np  \n",
    "\n",
    "# Define points  \n",
    "P1 = np.array([2, 3])  \n",
    "P2 = np.array([6, 7])  \n",
    "\n",
    "# Compute Euclidean distance  \n",
    "distance = np.linalg.norm(P1 - P2)  \n",
    "\n",
    "print(f\"Euclidean Distance: {distance:.2f}\")  "
   ]
  },
  {
   "cell_type": "markdown",
   "metadata": {},
   "source": [
    "✅ **Output:**  \n",
    "```\n",
    "Euclidean Distance: 5.66\n",
    "```  "
   ]
  },
  {
   "cell_type": "markdown",
   "metadata": {},
   "source": [
    "## **🆚 Euclidean vs. Other Distance Metrics**"
   ]
  },
  {
   "cell_type": "markdown",
   "metadata": {},
   "source": [
    "| Metric                  | Formula                                                               | Use Case                             |\n",
    "|-------------------------|-----------------------------------------------------------------------|--------------------------------------|\n",
    "| **Euclidean Distance** 📏  | $d = \\sqrt{\\sum_{i}(x_i - y_i)^2}$                                    | Clustering (K-Means), Geometry       |\n",
    "| **Manhattan Distance** 🏙️   | $d = \\sum_{i}\\lvert x_i - y_i \\rvert$                                   | Grid-based movement (taxicab distance)|\n",
    "| **Cosine Similarity** 📐     | $\\cos(\\theta) = \\frac{A \\cdot B}{\\|A\\| \\|B\\|}$                          | NLP, Recommendation Systems          |\n",
    "| **Minkowski Distance** 📊    | $d = \\left(\\sum_{i}\\lvert x_i - y_i \\rvert^p\\right)^{\\frac{1}{p}}$     | Generalized metric                   |"
   ]
  },
  {
   "cell_type": "markdown",
   "metadata": {},
   "source": [
    "## **🚀 Applications in AI/ML 🤖**"
   ]
  },
  {
   "cell_type": "markdown",
   "metadata": {},
   "source": [
    "✅ **K-Nearest Neighbors (KNN):** Finds closest data points in classification problems.  \n",
    "✅ **K-Means Clustering:** Groups similar data points by minimizing Euclidean distances.  \n",
    "✅ **Computer Vision:** Measures similarity between images (e.g., face recognition).  \n",
    "✅ **Robotics & Navigation:** Computes optimal movement paths for robots.  "
   ]
  },
  {
   "cell_type": "markdown",
   "metadata": {},
   "source": [
    "## **🔥 Summary**"
   ]
  },
  {
   "cell_type": "markdown",
   "metadata": {},
   "source": [
    "1️⃣ **Euclidean Distance is the straight-line distance between two points in space.**  \n",
    "2️⃣ **Formula:** $d = \\sqrt{(x_2 - x_1)^2 + (y_2 - y_1)^2}$ for 2D, extended for n-dimensions.  \n",
    "3️⃣ **Used in AI, ML, computer vision, and clustering algorithms.**  \n",
    "4️⃣ **Alternative metrics include Manhattan, Cosine Similarity, and Minkowski Distance.**  "
   ]
  }
 ],
 "metadata": {
  "kernelspec": {
   "display_name": "Python 3",
   "language": "python",
   "name": "python3"
  },
  "language_info": {
   "codemirror_mode": {
    "name": "ipython",
    "version": 3
   },
   "file_extension": ".py",
   "mimetype": "text/x-python",
   "name": "python",
   "nbconvert_exporter": "python",
   "pygments_lexer": "ipython3",
   "version": "3.13.0"
  }
 },
 "nbformat": 4,
 "nbformat_minor": 2
}
