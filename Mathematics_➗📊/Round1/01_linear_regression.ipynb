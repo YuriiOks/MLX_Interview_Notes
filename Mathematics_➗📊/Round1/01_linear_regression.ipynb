{
  "cells": [
    {
      "cell_type": "markdown",
      "metadata": {},
      "source": [
        "# **1️⃣ Linear Regression: Concept, Formula, and Applications 📈🤖**"
      ]
    },
    {
      "cell_type": "markdown",
      "metadata": {},
      "source": [
        "## **💡 Real-Life Analogy: Predicting House Prices 🏡💰**  \n",
        "Imagine you're a **real estate investor** trying to estimate house prices.  \n",
        "- If **larger houses** tend to be more expensive, you can plot **house size vs. price** on a graph.  \n",
        "- A **straight line** can be drawn to **predict future prices** based on past data.  \n",
        "- This is exactly what **Linear Regression** does—it finds the best-fit line that represents the relationship between the variables.  \n",
        "\n"
      ]
    },
    {
      "cell_type": "markdown",
      "metadata": {},
      "source": [
        "## **📌 What is Linear Regression?**\n",
        "✅ **Linear Regression is a fundamental statistical and machine learning technique that models the relationship between a dependent variable (target) and one or more independent variables (features).**  \n",
        "✅ It **fits a straight line** to data to **predict future values** based on existing trends.  \n",
        "✅ Used in **finance, economics, engineering, and AI** to make **data-driven decisions**.  \n",
        "\n"
      ]
    },
    {
      "cell_type": "markdown",
      "metadata": {},
      "source": [
        "## **🧮 Mathematical Formula**\n",
        "📌 **Simple Linear Regression (One Independent Variable):**  \n",
        "$y = mx + b$  \n",
        "Where:  \n",
        "- $y$ = Predicted value (dependent variable)  \n",
        "- $x$ = Independent variable (feature)  \n",
        "- $m$ = Slope (rate of change)  \n",
        "- $b$ = Intercept (value of $y$ when $x = 0$)  \n",
        "\n",
        "📌 **Multiple Linear Regression (Multiple Independent Variables):**  \n",
        "$y = b_0 + b_1x_1 + b_2x_2 + ... + b_nx_n$  \n",
        "Where:  \n",
        "- $b_0$ = Intercept  \n",
        "- $b_1, b_2, ..., b_n$ = Coefficients for each independent variable $x_1, x_2, ..., x_n$  \n",
        "\n"
      ]
    },
    {
      "cell_type": "markdown",
      "metadata": {},
      "source": [
        "## **🔄 Step-by-Step Process**\n",
        "1️⃣ **Plot the Data** 📊 → Visualize the relationship between variables.  \n",
        "2️⃣ **Find the Best Fit Line** 📏 → Minimize the distance between actual and predicted values using the **Least Squares Method**.  \n",
        "3️⃣ **Optimize with Cost Function (MSE)** 📉 → Use **Mean Squared Error (MSE)** to measure accuracy:  \n",
        "   $MSE = \\frac{1}{n} \\sum_{i=1}^{n} (y_i - \\hat{y_i})^2$  \n",
        "   Where:\n",
        "   - $y_i$ = Actual value  \n",
        "   - $\\hat{y_i}$ = Predicted value  \n",
        "4️⃣ **Train the Model** 🎯 → Find the best slope and intercept using **Gradient Descent**.  \n",
        "5️⃣ **Make Predictions** 🚀 → Use the regression equation to estimate values.  \n",
        "\n"
      ]
    },
    {
      "cell_type": "markdown",
      "metadata": {},
      "source": [
        "## **📊 Example: Predicting House Prices**\n",
        "📌 **Scenario:**  \n",
        "You want to **predict house prices** based on **square footage**.\n",
        "\n",
        "| House Size (sqft) | Price ($) |\n",
        "|-------------------|----------|\n",
        "| 1000              | 200,000  |\n",
        "| 1500              | 250,000  |\n",
        "| 2000              | 300,000  |\n",
        "| 2500              | ???      |\n",
        "\n",
        "✅ **Linear Regression finds the best line that fits the data:**  \n",
        "$\\text{Price} = 50 \\times \\text{House Size} + 150,000$  \n",
        "🔍 **Prediction for a 1800 sqft house:**  \n",
        "$50 \\times 1800 + 150,000 = 240,000$\n",
        "\n"
      ]
    },
    {
      "cell_type": "markdown",
      "metadata": {},
      "source": [
        "## **🛠️ Python Code Example**"
      ]
    },
    {
      "cell_type": "code",
      "execution_count": null,
      "metadata": {},
      "outputs": [
        {
          "name": "stdout",
          "output_type": "stream",
          "text": [
            "Predicted Price: $350,000.00\n"
          ]
        },
        {
          "data": {
            "image/png": "[encoded data removed]",
            "text/plain": [
              "<Figure size 640x480 with 1 Axes>"
            ]
          },
          "metadata": {},
          "output_type": "display_data"
        }
      ],
      "source": [
        "import numpy as np\n",
        "import matplotlib.pyplot as plt\n",
        "from sklearn.linear_model import LinearRegression\n",
        "import matplotlib.ticker as ticker\n",
        "\n",
        "# Sample data\n",
        "X = np.array([1000, 1500, 2000]).reshape(-1, 1)  # Independent variable (house size)\n",
        "y = np.array([200000, 250000, 300000])  # Dependent variable (house price)\n",
        "\n",
        "# Train model\n",
        "model = LinearRegression()\n",
        "model.fit(X, y)\n",
        "\n",
        "# Predict for 2500 sqft house\n",
        "predicted_price = model.predict([[2500]])\n",
        "print(f\"Predicted Price: ${predicted_price[0]:,.2f}\")\n",
        "\n",
        "# Visualize\n",
        "plt.scatter(X, y, color='blue', label=\"Actual Prices\")\n",
        "plt.plot(X, model.predict(X), color='red', label=\"Regression Line\")\n",
        "plt.xlabel(\"House Size (sqft)\")\n",
        "plt.ylabel(\"Price ($)\")\n",
        "# Format the y-axis ticks\n",
        "plt.gca().yaxis.set_major_formatter(ticker.FuncFormatter(lambda x, pos: f'${x:,.0f}'))\n",
        "plt.legend()\n",
        "plt.show()"
      ]
    },
    {
      "cell_type": "markdown",
      "metadata": {},
      "source": [
        "✅ **Output:**  \n",
        "Predicted Price: **$350,000.00**\n",
        "\n"
      ]
    },
    {
      "cell_type": "markdown",
      "metadata": {},
      "source": [
        "## **🆚 Simple vs. Multiple Linear Regression**\n",
        "| Feature                       | Simple Linear Regression      | Multiple Linear Regression                         |\n",
        "|-------------------------------|-------------------------------|---------------------------------------------------|\n",
        "| **Definition**                | One independent variable $x$  | Multiple independent variables                    |\n",
        "| **Equation**                  | $y = mx + b$                  | $y = b_0 + b_1x_1 + b_2x_2 + ... + b_nx_n$           |\n",
        "| **Example**                   | House price based on size     | House price based on size, location, and age       |\n",
        "\n"
      ]
    },
    {
      "cell_type": "markdown",
      "metadata": {},
      "source": [
        "## **🚀 Real-World Applications**\n",
        "✅ **Finance:** Predicting stock prices 📈  \n",
        "✅ **Marketing:** Forecasting sales based on ad spend 📊  \n",
        "✅ **Healthcare:** Estimating patient recovery time 🏥  \n",
        "✅ **Manufacturing:** Predicting product demand ⚙️  \n",
        "\n"
      ]
    },
    {
      "cell_type": "markdown",
      "metadata": {},
      "source": [
        "## **🔥 Summary**\n",
        "1️⃣ **Linear Regression fits a straight line to predict outcomes.**  \n",
        "2️⃣ **Equation: $y = mx + b$, optimized using Least Squares.**  \n",
        "3️⃣ **Used for predictions in finance, marketing, healthcare, and AI.**  \n",
        "4️⃣ **Multiple Linear Regression extends to multiple variables.**  \n",
        "\n",
        "Would you like me to add a **Polynomial Regression** section for non-linear relationships? 😊"
      ]
    }
  ],
  "metadata": {
    "kernelspec": {
      "display_name": "Python 3",
      "language": "python",
      "name": "python3"
    },
    "language_info": {
      "file_extension": ".py",
      "mimetype": "text/x-python",
      "name": "python",
      "version": "3.x"
    }
  },
  "nbformat": 4,
  "nbformat_minor": 2
}
