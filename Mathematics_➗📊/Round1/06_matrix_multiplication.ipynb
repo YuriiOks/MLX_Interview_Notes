{
 "cells": [
  {
   "cell_type": "markdown",
   "metadata": {},
   "source": [
    "# **6️⃣ Matrix Multiplication: Concept, Rules, and Applications 🟩✖️🟦**"
   ]
  },
  {
   "cell_type": "markdown",
   "metadata": {},
   "source": [
    "## **💡 Real-Life Analogy: Mixing Ingredients in a Recipe 🍕🧑‍🍳**"
   ]
  },
  {
   "cell_type": "markdown",
   "metadata": {},
   "source": [
    "Imagine you are a **chef** making **different types of pizzas** 🍕.  \n",
    "- You have a **list of ingredients** (cheese, flour, tomatoes).  \n",
    "- You also have **different recipes** that tell you how much of each ingredient to use.  \n",
    "- If you **multiply the ingredients by the recipe**, you get **the total quantity** needed for each pizza type!"
   ]
  },
  {
   "cell_type": "markdown",
   "metadata": {},
   "source": [
    "📌 **Matrix multiplication works similarly!**  \n",
    "- The first matrix (ingredients) represents **inputs**.  \n",
    "- The second matrix (recipe) represents **how each input is used**.  \n",
    "- The result gives **the final output quantities**."
   ]
  },
  {
   "cell_type": "markdown",
   "metadata": {},
   "source": [
    "## **📌 What is Matrix Multiplication?**"
   ]
  },
  {
   "cell_type": "markdown",
   "metadata": {},
   "source": [
    "✅ **Matrix multiplication** is a mathematical operation where we combine two matrices to produce a new matrix.  \n",
    "✅ It is widely used in **computer graphics, machine learning, physics, and economics**."
   ]
  },
  {
   "cell_type": "markdown",
   "metadata": {},
   "source": [
    "📌 **For two matrices $A$ and $B$, multiplication is defined as:**  \n",
    "$$\n",
    "C = A \\times B\n",
    "$$\n",
    "Where:\n",
    "- $A$ is an **$m \\times n$** matrix (rows × columns).  \n",
    "- $B$ is an **$n \\times p$** matrix.  \n",
    "- The result $C$ will have **dimensions $m \\times p$**."
   ]
  },
  {
   "cell_type": "markdown",
   "metadata": {},
   "source": [
    "📌 **Condition for Multiplication:**  \n",
    "- The **number of columns** in **$A$** must **match the number of rows** in **$B$**."
   ]
  },
  {
   "cell_type": "markdown",
   "metadata": {},
   "source": [
    "## **🔢 How to Multiply Two Matrices?**"
   ]
  },
  {
   "cell_type": "markdown",
   "metadata": {},
   "source": [
    "### **Step-by-Step Method**  \n",
    "1️⃣ **Take a row from Matrix $A$ and a column from Matrix $B$**.  \n",
    "2️⃣ **Multiply corresponding elements** and sum them up.  \n",
    "3️⃣ **Place the result in the corresponding position** in Matrix $C$.  \n",
    "4️⃣ **Repeat for all rows and columns**."
   ]
  },
  {
   "cell_type": "markdown",
   "metadata": {},
   "source": [
    "## **📊 Example: Multiplying Two Matrices**"
   ]
  },
  {
   "cell_type": "markdown",
   "metadata": {},
   "source": [
    "📌 **Given Matrices:**  \n",
    "$$\n",
    "A =\n",
    "\\begin{bmatrix}\n",
    "1 & 2 \\\\\n",
    "3 & 4\n",
    "\\end{bmatrix}\n",
    "$$\n",
    "$$\n",
    "B =\n",
    "\\begin{bmatrix}\n",
    "5 & 6 \\\\\n",
    "7 & 8\n",
    "\\end{bmatrix}\n",
    "$$"
   ]
  },
  {
   "cell_type": "markdown",
   "metadata": {},
   "source": [
    "📌 **Step-by-Step Multiplication:**\n",
    "$$\n",
    "C = A \\times B\n",
    "$$\n",
    "$$\n",
    "C_{11} = (1 \\times 5) + (2 \\times 7) = 5 + 14 = 19\n",
    "$$\n",
    "$$\n",
    "C_{12} = (1 \\times 6) + (2 \\times 8) = 6 + 16 = 22\n",
    "$$\n",
    "$$\n",
    "C_{21} = (3 \\times 5) + (4 \\times 7) = 15 + 28 = 43\n",
    "$$\n",
    "$$\n",
    "C_{22} = (3 \\times 6) + (4 \\times 8) = 18 + 32 = 50\n",
    "$$"
   ]
  },
  {
   "cell_type": "markdown",
   "metadata": {},
   "source": [
    "📌 **Final Result:**\n",
    "$$\n",
    "C =\n",
    "\\begin{bmatrix}\n",
    "19 & 22 \\\\\n",
    "43 & 50\n",
    "\\end{bmatrix}\n",
    "$$"
   ]
  },
  {
   "cell_type": "markdown",
   "metadata": {},
   "source": [
    "✅ **Key Observations:**  \n",
    "- Each **element** in the result comes from **row-column multiplication**.  \n",
    "- Matrix multiplication is **not commutative** ($A \\times B \\neq B \\times A$)."
   ]
  },
  {
   "cell_type": "markdown",
   "metadata": {},
   "source": [
    "## **🛠️ Python Code for Matrix Multiplication**"
   ]
  },
  {
   "cell_type": "code",
   "execution_count": 1,
   "metadata": {},
   "outputs": [
    {
     "name": "stdout",
     "output_type": "stream",
     "text": [
      "[[19 22]\n",
      " [43 50]]\n"
     ]
    }
   ],
   "source": [
    "import numpy as np\n",
    "\n",
    "# Define matrices\n",
    "A = np.array([[1, 2], [3, 4]])\n",
    "B = np.array([[5, 6], [7, 8]])\n",
    "\n",
    "# Perform matrix multiplication\n",
    "C = np.dot(A, B)\n",
    "\n",
    "# Print result\n",
    "print(C)"
   ]
  },
  {
   "cell_type": "markdown",
   "metadata": {},
   "source": [
    "✅ **Output:**  \n",
    "```\n",
    "[[19 22]\n",
    " [43 50]]\n",
    "```"
   ]
  },
  {
   "cell_type": "markdown",
   "metadata": {},
   "source": [
    "## **🆚 Comparison: Matrix Addition vs. Matrix Multiplication**"
   ]
  },
  {
   "cell_type": "markdown",
   "metadata": {},
   "source": [
    "| Operation | Formula | Rule |\n",
    "|-----------|---------|------|\n",
    "| **Addition** | $C = A + B$ | Only possible if matrices have the **same dimensions** |\n",
    "| **Multiplication** | $C = A \\times B$ | **Columns of A must match rows of B** |"
   ]
  },
  {
   "cell_type": "markdown",
   "metadata": {},
   "source": [
    "## **🚀 Real-World Applications of Matrix Multiplication**"
   ]
  },
  {
   "cell_type": "markdown",
   "metadata": {},
   "source": [
    "✅ **Machine Learning & AI:** Neural networks and deep learning 🤖  \n",
    "✅ **Computer Graphics:** Transformations in 3D rendering 🎮  \n",
    "✅ **Economics & Finance:** Input-output models for economic predictions 💰  \n",
    "✅ **Physics & Engineering:** Solving equations in electrical circuits ⚡"
   ]
  },
  {
   "cell_type": "markdown",
   "metadata": {},
   "source": [
    "## **🔥 Summary**"
   ]
  },
  {
   "cell_type": "markdown",
   "metadata": {},
   "source": [
    "1️⃣ **Matrix multiplication combines two matrices by summing element-wise products of rows and columns.**  \n",
    "2️⃣ **Only possible if the number of columns in the first matrix matches the number of rows in the second.**  \n",
    "3️⃣ **The result has dimensions $m \\times p$ if $A$ is $m \\times n$ and $B$ is $n \\times p$.**  \n",
    "4️⃣ **Used in AI, physics, economics, and 3D graphics.**"
   ]
  }
 ],
 "metadata": {
  "kernelspec": {
   "display_name": "Python 3",
   "language": "python",
   "name": "python3"
  },
  "language_info": {
   "codemirror_mode": {
    "name": "ipython",
    "version": 3
   },
   "file_extension": ".py",
   "mimetype": "text/x-python",
   "name": "python",
   "nbconvert_exporter": "python",
   "pygments_lexer": "ipython3",
   "version": "3.13.0"
  }
 },
 "nbformat": 4,
 "nbformat_minor": 2
}
