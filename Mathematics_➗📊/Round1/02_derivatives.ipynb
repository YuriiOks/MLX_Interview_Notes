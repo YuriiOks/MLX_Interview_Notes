{
  "cells": [
    {
      "cell_type": "markdown",
      "metadata": {},
      "source": [
        "# **2️⃣ Derivative of a Function: Concept, Formula, and Applications 📉🤖**"
      ]
    },
    {
      "cell_type": "markdown",
      "metadata": {},
      "source": [
        "## **💡 Real-Life Analogy: Speedometer of a Car 🚗💨**"
      ]
    },
    {
      "cell_type": "markdown",
      "metadata": {},
      "source": [
        "Imagine you're **driving a car** and checking your **speedometer**:\n",
        "- If your **speed is increasing**, you are accelerating 🚀.\n",
        "- If your **speed is decreasing**, you are braking 🛑.\n",
        "- The derivative of your position function tells you **how fast your speed is changing** at any moment."
      ]
    },
    {
      "cell_type": "markdown",
      "metadata": {},
      "source": [
        "## **📌 What is a Derivative?**"
      ]
    },
    {
      "cell_type": "markdown",
      "metadata": {},
      "source": [
        "✅ A **derivative** represents the **rate of change** of a function with respect to its input.\n",
        "✅ It measures how much a function **increases or decreases** at any given point.\n",
        "✅ In physics, it's used for **velocity, acceleration, and growth rates**.\n",
        "\n",
        "📌 **Intuition:**\n",
        "- If $f(x)$ represents **distance traveled**, then $f'(x)$ (the derivative) represents **speed**.\n",
        "- If $f(x)$ represents **speed**, then $f'(x)$ represents **acceleration**."
      ]
    },
    {
      "cell_type": "markdown",
      "metadata": {},
      "source": [
        "## **🧮 Mathematical Definition**"
      ]
    },
    {
      "cell_type": "markdown",
      "metadata": {},
      "source": [
        "The derivative of a function $f(x)$ at a point $x$ is defined as:\n",
        "\n",
        "$$\n",
        "f'(x) = \\lim_{h \\to 0} \\frac{f(x+h) - f(x)}{h}\n",
        "$$\n",
        "\n",
        "Where:\n",
        "- $f'(x)$ = Derivative of $f(x)$\n",
        "- $h$ = A very small change in $x$\n",
        "- The fraction represents the **average rate of change** over a small interval.\n",
        "\n",
        "📌 **In Simple Terms:**\n",
        "- This formula calculates the **slope of the tangent line** to the function at point $x$.\n",
        "- It shows how **steep** the function is at that point."
      ]
    },
    {
      "cell_type": "markdown",
      "metadata": {},
      "source": [
        "## **🔄 How to Compute a Derivative?**"
      ]
    },
    {
      "cell_type": "markdown",
      "metadata": {},
      "source": [
        "1️⃣ **Apply the Limit Definition:**\n",
        "   Use the formula:\n",
        "   $$\n",
        "   f'(x) = \\lim_{h \\to 0} \\frac{f(x+h) - f(x)}{h}\n",
        "   $$\n",
        "2️⃣ **Use Differentiation Rules:**\n",
        "   - **Power Rule:** $\\frac{d}{dx} x^n = nx^{n-1}$\n",
        "   - **Product Rule:** $\\frac{d}{dx}[u \\cdot v] = u'v + uv'$\n",
        "   - **Quotient Rule:** $\\frac{d}{dx}\\left(\\frac{u}{v}\\right) = \\frac{u'v - uv'}{v^2}$\n",
        "   - **Chain Rule:** $\\frac{d}{dx}f(g(x)) = f'(g(x)) \\cdot g'(x)$"
      ]
    },
    {
      "cell_type": "markdown",
      "metadata": {},
      "source": [
        "## **📊 Example: Finding the Derivative of f(x) = x²**"
      ]
    },
    {
      "cell_type": "markdown",
      "metadata": {},
      "source": [
        "📌 **Step 1: Use the Limit Definition**\n",
        "$$\n",
        "f'(x) = \\lim_{h \\to 0} \\frac{(x+h)^2 - x^2}{h}\n",
        "$$\n",
        "\n",
        "📌 **Step 2: Expand the Numerator**\n",
        "$$\n",
        "(x+h)^2 - x^2 = x^2 + 2xh + h^2 - x^2 = 2xh + h^2\n",
        "$$\n",
        "\n",
        "📌 **Step 3: Divide by $h$**\n",
        "$$\n",
        "\\frac{2xh + h^2}{h} = 2x + h\n",
        "$$\n",
        "\n",
        "📌 **Step 4: Take the Limit $h \\to 0$**\n",
        "$$\n",
        "f'(x) = 2x\n",
        "$$\n",
        "\n",
        "✅ **Conclusion:** The derivative of $f(x) = x^2$ is **$f'(x) = 2x$**."
      ]
    },
    {
      "cell_type": "markdown",
      "metadata": {},
      "source": [
        "## **🛠️ Python Code to Compute Derivative**"
      ]
    },
    {
      "cell_type": "code",
      "execution_count": 1,
      "metadata": {},
      "outputs": [
        {
          "name": "stdout",
          "output_type": "stream",
          "text": [
            "Derivative of f(x) = x² is: 2*x\n"
          ]
        }
      ],
      "source": [
        "import sympy as sp\n",
        "\n",
        "# Define variable and function\n",
        "x = sp.Symbol('x')\n",
        "f = x**2\n",
        "\n",
        "# Compute derivative\n",
        "f_derivative = sp.diff(f, x)\n",
        "print(f\"Derivative of f(x) = x² is: {f_derivative}\")"
      ]
    },
    {
      "cell_type": "markdown",
      "metadata": {},
      "source": [
        "## **🆚 Comparison: Derivatives of Common Functions**"
      ]
    },
    {
      "cell_type": "markdown",
      "metadata": {},
      "source": [
        "| Function $f(x)$ | Derivative $f'(x)$ |\n",
        "|--------------------|------------------|\n",
        "| $x^n$ | $nx^{n-1}$ |\n",
        "| $e^x$ | $e^x$ |\n",
        "| $\\ln(x)$ | $\\frac{1}{x}$ |\n",
        "| $\\sin(x)$ | $\\cos(x)$ |\n",
        "| $\\cos(x)$ | $-\\sin(x)$ |\n",
        "| $\\tan(x)$ | $\\sec^2(x)$ |"
      ]
    },
    {
      "cell_type": "markdown",
      "metadata": {},
      "source": [
        "## **🚀 Real-World Applications**"
      ]
    },
    {
      "cell_type": "markdown",
      "metadata": {},
      "source": [
        "✅ **Physics:** Velocity & acceleration in motion 🚗  \n",
        "✅ **Economics:** Maximizing profit & minimizing cost 📉  \n",
        "✅ **Machine Learning:** Gradient Descent for optimization 🤖  \n",
        "✅ **Engineering:** Analyzing structural stress & deformation 🏗️  "
      ]
    },
    {
      "cell_type": "markdown",
      "metadata": {},
      "source": [
        "## **🔥 Summary**"
      ]
    },
    {
      "cell_type": "markdown",
      "metadata": {},
      "source": [
        "1️⃣ **A derivative represents the rate of change of a function.**  \n",
        "2️⃣ **It is computed using limits and differentiation rules.**  \n",
        "3️⃣ **The derivative of $x^n$ is $nx^{n-1}$.**  \n",
        "4️⃣ **Used in physics, finance, AI, and optimization.**  "
      ]
    }
  ],
  "metadata": {
    "kernelspec": {
      "display_name": "Python 3",
      "language": "python",
      "name": "python3"
    },
    "language_info": {
      "codemirror_mode": {
        "name": "ipython",
        "version": 3
      },
      "file_extension": ".py",
      "mimetype": "text/x-python",
      "name": "python",
      "nbconvert_exporter": "python",
      "pygments_lexer": "ipython3",
      "version": "3.13.0"
    }
  },
  "nbformat": 4,
  "nbformat_minor": 2
}
