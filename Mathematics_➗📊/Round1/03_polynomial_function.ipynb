{
 "cells": [
  {
   "cell_type": "markdown",
   "metadata": {},
   "source": [
    "# **3️⃣ Polynomial Functions: Definition, Examples, and Applications 🔢📈**"
   ]
  },
  {
   "cell_type": "markdown",
   "metadata": {},
   "source": [
    "## **💡 Real-Life Analogy: Roller Coasters 🎢**"
   ]
  },
  {
   "cell_type": "markdown",
   "metadata": {},
   "source": [
    "Imagine you’re designing a **roller coaster**:\n",
    "- The track has **ups and downs** with smooth curves and turns.\n",
    "- You need a mathematical function to describe the shape of the track.\n",
    "- A **polynomial function** is perfect for this as it models curves, peaks, and dips smoothly!"
   ]
  },
  {
   "cell_type": "markdown",
   "metadata": {},
   "source": [
    "## **📌 What is a Polynomial Function?**"
   ]
  },
  {
   "cell_type": "markdown",
   "metadata": {},
   "source": [
    "✅ A **polynomial function** is a mathematical expression consisting of **variables (x)** raised to **non-negative integer exponents**, multiplied by coefficients, and combined using **addition or subtraction**.  \n",
    "✅ It is used to **model curves** in physics, engineering, machine learning, and economics.  \n",
    "\n",
    "📌 **General Form of a Polynomial Function**  \n",
    "$\n",
    "P(x) = a_nx^n + a_{n-1}x^{n-1} + ... + a_2x^2 + a_1x + a_0\n",
    "$  \n",
    "Where:  \n",
    "- $ a_n, a_{n-1}, ..., a_0 $ are **coefficients** (real numbers).  \n",
    "- $ n $ is a **non-negative integer** (highest power of $ x $).  \n",
    "- $ x $ is the **variable**.  \n",
    "\n",
    "✅ **Example Polynomial:**  \n",
    "$\n",
    "P(x) = 4x^3 - 2x^2 + 3x - 5\n",
    "$  \n",
    "- **Degree:** 3 (highest exponent is 3)  \n",
    "- **Coefficients:** 4, -2, 3, -5  \n",
    "- **Constant term:** -5  "
   ]
  },
  {
   "cell_type": "markdown",
   "metadata": {},
   "source": [
    "## **📊 Example: Quadratic Polynomial (Parabola)**"
   ]
  },
  {
   "cell_type": "markdown",
   "metadata": {},
   "source": [
    "📌 **Consider the function:**  \n",
    "$\n",
    "P(x) = x^2 - 4x + 3\n",
    "$\n",
    "\n",
    "📌 **Evaluating at different points:**\n",
    "| $ x $ | $ P(x) $ |\n",
    "|--------|-----------|\n",
    "| -1 | $ (-1)^2 - 4(-1) + 3 = 8 $ |\n",
    "| 0 | $ (0)^2 - 4(0) + 3 = 3 $ |\n",
    "| 1 | $ (1)^2 - 4(1) + 3 = 0 $ |\n",
    "| 2 | $ (2)^2 - 4(2) + 3 = -1 $ |\n",
    "| 3 | $ (3)^2 - 4(3) + 3 = 0 $ |\n",
    "\n",
    "📌 **Graph:** The function **forms a parabola** that touches the x-axis at $ x = 1 $ and $ x = 3 $.  "
   ]
  },
  {
   "cell_type": "markdown",
   "metadata": {},
   "source": [
    "## **🔄 Types of Polynomial Functions**"
   ]
  },
  {
   "cell_type": "markdown",
   "metadata": {},
   "source": [
    "| Type      | General Form                       | Example               | Shape           |\n",
    "|-----------|------------------------------------|-----------------------|-----------------|\n",
    "| Constant  | $P(x)=c$                          | $P(x)=5$              | Horizontal line |\n",
    "| Linear    | $P(x)=ax+b$                       | $P(x)=2x+1$           | Straight line   |\n",
    "| Quadratic | $P(x)=ax^2+bx+c$                  | $P(x)=x^2-4x+3$       | Parabola        |\n",
    "| Cubic     | $P(x)=ax^3+bx^2+cx+d$              | $P(x)=x^3-x$          | S-shaped curve  |\n",
    "| Quartic   | $P(x)=ax^4+bx^3+cx^2+dx+e$         | $P(x)=x^4-2x^2+1$     | W-shaped curve  |"
   ]
  },
  {
   "cell_type": "markdown",
   "metadata": {},
   "source": [
    "## **🛠️ Python Code: Plotting a Polynomial Function**"
   ]
  },
  {
   "cell_type": "code",
   "execution_count": 1,
   "metadata": {},
   "outputs": [
    {
     "data": {
      "image/png": "[encoded data removed]",
      "text/plain": [
       "<Figure size 640x480 with 1 Axes>"
      ]
     },
     "metadata": {},
     "output_type": "display_data"
    }
   ],
   "source": [
    "import numpy as np\n",
    "import matplotlib.pyplot as plt\n",
    "\n",
    "# Define polynomial function P(x) = x^2 - 4x + 3\n",
    "def P(x):\n",
    "    return x**2 - 4*x + 3\n",
    "\n",
    "# Generate x values\n",
    "x = np.linspace(-2, 5, 100)\n",
    "y = P(x)\n",
    "\n",
    "# Plot the polynomial\n",
    "plt.plot(x, y, label=\"P(x) = x² - 4x + 3\", color='b')\n",
    "plt.axhline(0, color='black', linewidth=0.5)\n",
    "plt.axvline(0, color='black', linewidth=0.5)\n",
    "plt.grid()\n",
    "plt.legend()\n",
    "plt.title(\"Quadratic Polynomial Graph\")\n",
    "plt.xlabel(\"x\")\n",
    "plt.ylabel(\"P(x)\")\n",
    "plt.show()\n"
   ]
  },
  {
   "cell_type": "markdown",
   "metadata": {},
   "source": [
    "✅ **Output:** A **parabola** opening upwards with roots at $ x = 1 $ and $ x = 3 $.  \n"
   ]
  },
  {
   "cell_type": "markdown",
   "metadata": {},
   "source": [
    "## **🚀 Real-World Applications**"
   ]
  },
  {
   "cell_type": "markdown",
   "metadata": {},
   "source": [
    "✅ **Physics:** Motion of objects (quadratic equations in free-fall).  \n",
    "✅ **Economics:** Profit maximization & cost functions.  \n",
    "✅ **Machine Learning:** Polynomial regression for curved data trends.  \n",
    "✅ **Engineering:** Structural analysis of bridges & materials.  "
   ]
  },
  {
   "cell_type": "markdown",
   "metadata": {},
   "source": [
    "## **🔥 Summary**"
   ]
  },
  {
   "cell_type": "markdown",
   "metadata": {},
   "source": [
    "1️⃣ **A polynomial function is a sum of terms where the variable is raised to non-negative integer powers.**  \n",
    "2️⃣ **Example:** \\( P(x) = x^2 - 4x + 3 \\) (Quadratic Polynomial).  \n",
    "3️⃣ **Polynomial graphs form smooth curves** like lines, parabolas, and S-shapes.  \n",
    "4️⃣ **Used in physics, economics, engineering, and AI.**  \n"
   ]
  }
 ],
 "metadata": {
  "kernelspec": {
   "display_name": "Python 3",
   "language": "python",
   "name": "python3"
  },
  "language_info": {
   "codemirror_mode": {
    "name": "ipython",
    "version": 3
   },
   "file_extension": ".py",
   "mimetype": "text/x-python",
   "name": "python",
   "nbconvert_exporter": "python",
   "pygments_lexer": "ipython3",
   "version": "3.13.0"
  }
 },
 "nbformat": 4,
 "nbformat_minor": 2
}
