{
 "cells": [
  {
   "cell_type": "markdown",
   "metadata": {},
   "source": [
    "# **1️⃣3️⃣ Gradient-Based Optimization Algorithms: Trade-Offs Between SGD, Adam, and RMSprop 🤖🚀🔥**"
   ]
  },
  {
   "cell_type": "markdown",
   "metadata": {},
   "source": [
    "When training deep learning models, selecting the right gradient-based optimizer can make a huge difference in convergence speed, stability, and overall performance. Let’s dive into the trade-offs between **Stochastic Gradient Descent (SGD)**, **Adam (Adaptive Moment Estimation)**, and **RMSprop (Root Mean Square Propagation)** using a blend of mathematical insights, real-life sports analogies, and practical Python code examples! ⚽🏀♠️"
   ]
  },
  {
   "cell_type": "markdown",
   "metadata": {},
   "source": [
    "## **💡 Real-Life Analogy: Coaching Strategies in Sports 🏆**\n",
    "\n",
    "- **SGD (Stochastic Gradient Descent)** is like a **traditional coach** who makes gradual, consistent adjustments based solely on recent game outcomes.  \n",
    "  - **Pros:** Simple, steady, and can lead to good generalization if tuned well.  \n",
    "  - **Cons:** May take longer to converge and can get stuck in local minima without extra tricks (like momentum).  \n",
    "\n",
    "- **Adam (Adaptive Moment Estimation)** is like a **modern coach** who uses both past performance trends and the current game situation to make rapid adjustments.  \n",
    "  - **Pros:** Fast convergence and adaptive learning rates for each parameter; great for noisy or sparse data.  \n",
    "  - **Cons:** Sometimes it might overfit or lead to less generalizable models, and it uses more memory.  \n",
    "\n",
    "- **RMSprop (Root Mean Square Propagation)** is like a **specialist coach** who focuses on stabilizing performance by monitoring the variability of players’ performance over time.  \n",
    "  - **Pros:** Particularly effective for non-stationary problems (e.g., time-series data or recurrent networks).  \n",
    "  - **Cons:** Requires careful tuning of its decay parameter $γ$ and can be less robust than Adam in some scenarios."
   ]
  },
  {
   "cell_type": "markdown",
   "metadata": {},
   "source": [
    "## **📌 Mathematical Trade-Offs**"
   ]
  },
  {
   "cell_type": "markdown",
   "metadata": {},
   "source": [
    "### **Stochastic Gradient Descent (SGD)**\n",
    "\n",
    "- **Update Rule**:  \n",
    "  $$\n",
    "  \\theta \\leftarrow \\theta - \\alpha \\nabla_\\theta L(\\theta)\n",
    "  $$\n",
    "  - $\\alpha$ is the learning rate.\n",
    "\n",
    "- **Pros**:  \n",
    "  - Simple implementation.  \n",
    "  - Low memory usage.  \n",
    "\n",
    "- **Cons**:  \n",
    "  - Sensitive to learning rate selection.  \n",
    "  - Convergence can be slow and noisy without momentum."
   ]
  },
  {
   "cell_type": "markdown",
   "metadata": {},
   "source": [
    "### **Adam**\n",
    "\n",
    "- **Update Rule**:  \n",
    "  Adam computes adaptive learning rates using:\n",
    "  $$\n",
    "  m_t = \\beta_1 m_{t-1} + (1-\\beta_1) \\nabla_\\theta L(\\theta)\n",
    "  $$\n",
    "  $$\n",
    "  v_t = \\beta_2 v_{t-1} + (1-\\beta_2) (\\nabla_\\theta L(\\theta))^2\n",
    "  $$\n",
    "  $$\n",
    "  \\hat{m}_t = \\frac{m_t}{1-\\beta_1^t}, \\quad \\hat{v}_t = \\frac{v_t}{1-\\beta_2^t}\n",
    "  $$\n",
    "  $$\n",
    "  \\theta \\leftarrow \\theta - \\alpha \\frac{\\hat{m}_t}{\\sqrt{\\hat{v}_t} + \\epsilon}\n",
    "  $$\n",
    "\n",
    "- **Pros**:  \n",
    "  - Fast convergence due to adaptive learning rates.  \n",
    "  - Robust to sparse gradients.  \n",
    "\n",
    "- **Cons**:  \n",
    "  - Uses more memory.  \n",
    "  - Sometimes might lead to overfitting or suboptimal generalization."
   ]
  },
  {
   "cell_type": "markdown",
   "metadata": {},
   "source": [
    "### **RMSprop**\n",
    "\n",
    "- **Update Rule**:  \n",
    "  RMSprop maintains a running average of squared gradients:\n",
    "  $$\n",
    "  E[g^2]_t = \\gamma E[g^2]_{t-1} + (1-\\gamma)(\\nabla_\\theta L(\\theta))^2\n",
    "  $$\n",
    "  $$\n",
    "  \\theta \\leftarrow \\theta - \\alpha \\frac{\\nabla_\\theta L(\\theta)}{\\sqrt{E[g^2]_t} + \\epsilon}\n",
    "  $$\n",
    "\n",
    "- **Pros**:  \n",
    "  - Well-suited for recurrent neural networks and non-stationary objectives.  \n",
    "\n",
    "- **Cons**:  \n",
    "  - Requires careful tuning of its decay parameter $\\gamma$.  \n",
    "  - May not be as robust as Adam for some complex tasks."
   ]
  },
  {
   "cell_type": "markdown",
   "metadata": {},
   "source": [
    "## **📊 Python Code: Comparing SGD, Adam, and RMSprop on Synthetic Sports Data 🏀⚽**"
   ]
  },
  {
   "cell_type": "code",
   "execution_count": 1,
   "metadata": {},
   "outputs": [],
   "source": [
    "import numpy as np\n",
    "import matplotlib.pyplot as plt\n",
    "import tensorflow as tf\n",
    "from tensorflow.keras.models import Sequential\n",
    "from tensorflow.keras.layers import Dense\n",
    "from tensorflow.keras.optimizers import SGD, Adam, RMSprop\n",
    "\n",
    "# Set seeds for reproducibility 🔒\n",
    "np.random.seed(42)\n",
    "tf.random.set_seed(42)"
   ]
  },
  {
   "cell_type": "code",
   "execution_count": 2,
   "metadata": {},
   "outputs": [],
   "source": [
    "# Generate synthetic sports data (e.g., predicting points per game)\n",
    "# Let's assume a simple linear relationship: points = 3 * X + noise\n",
    "X = np.linspace(0, 10, 100).reshape(-1, 1)\n",
    "y = 3 * X.squeeze() + np.random.randn(100) * 2  # Linear relation with noise"
   ]
  },
  {
   "cell_type": "code",
   "execution_count": 3,
   "metadata": {},
   "outputs": [],
   "source": [
    "def build_model(optimizer):\n",
    "    model = Sequential([\n",
    "        Dense(10, activation='relu', input_shape=(1,)),\n",
    "        Dense(1)\n",
    "    ])\n",
    "    model.compile(optimizer=optimizer, loss='mse')\n",
    "    return model"
   ]
  },
  {
   "cell_type": "code",
   "execution_count": 4,
   "metadata": {},
   "outputs": [],
   "source": [
    "# Define optimizers with a fixed learning rate for fair comparison\n",
    "optimizers_dict = {\n",
    "    'SGD': SGD(learning_rate=0.01, momentum=0.9),\n",
    "    'Adam': Adam(learning_rate=0.01),\n",
    "    'RMSprop': RMSprop(learning_rate=0.01)\n",
    "}"
   ]
  },
  {
   "cell_type": "code",
   "execution_count": 5,
   "metadata": {},
   "outputs": [
    {
     "name": "stdout",
     "output_type": "stream",
     "text": [
      "Training with SGD optimizer ⚡\n"
     ]
    },
    {
     "name": "stderr",
     "output_type": "stream",
     "text": [
      "/Users/Oks_WORKSPACE/Desktop/DEV/MLX_Interview_Notes/.venv/lib/python3.12/site-packages/keras/src/layers/core/dense.py:87: UserWarning: Do not pass an `input_shape`/`input_dim` argument to a layer. When using Sequential models, prefer using an `Input(shape)` object as the first layer in the model instead.\n",
      "  super().__init__(activity_regularizer=activity_regularizer, **kwargs)\n"
     ]
    },
    {
     "name": "stdout",
     "output_type": "stream",
     "text": [
      "Training with Adam optimizer ⚡\n",
      "Training with RMSprop optimizer ⚡\n"
     ]
    }
   ],
   "source": [
    "history_dict = {}\n",
    "\n",
    "# Train a model with each optimizer\n",
    "for opt_name, opt in optimizers_dict.items():\n",
    "    print(f\"Training with {opt_name} optimizer ⚡\")\n",
    "    model = build_model(opt)\n",
    "    history = model.fit(X, y, epochs=100, batch_size=8, verbose=0)\n",
    "    history_dict[opt_name] = history.history['loss']"
   ]
  },
  {
   "cell_type": "code",
   "execution_count": 6,
   "metadata": {},
   "outputs": [
    {
     "name": "stderr",
     "output_type": "stream",
     "text": [
      "/Users/Oks_WORKSPACE/Desktop/DEV/MLX_Interview_Notes/.venv/lib/python3.12/site-packages/IPython/core/pylabtools.py:170: UserWarning: Glyph 128640 (\\N{ROCKET}) missing from font(s) DejaVu Sans.\n",
      "  fig.canvas.print_figure(bytes_io, **kw)\n"
     ]
    },
    {
     "data": {
      "image/png": "[encoded data removed]",
      "text/plain": [
       "<Figure size 1000x600 with 1 Axes>"
      ]
     },
     "metadata": {},
     "output_type": "display_data"
    }
   ],
   "source": [
    "# Plot the training loss curves\n",
    "plt.figure(figsize=(10,6))\n",
    "for opt_name, loss_history in history_dict.items():\n",
    "    plt.plot(loss_history, label=f\"{opt_name} Loss\")\n",
    "plt.xlabel(\"Epoch\")\n",
    "plt.ylabel(\"Mean Squared Error Loss\")\n",
    "plt.title(\"Optimizer Comparison: SGD vs. Adam vs. RMSprop 🚀\")\n",
    "plt.legend()\n",
    "plt.grid(True)\n",
    "plt.show()"
   ]
  },
  {
   "cell_type": "markdown",
   "metadata": {},
   "source": [
    "### **Interpreting the Results:**\n",
    "\n",
    "- **SGD**: May show a **slower decrease** in loss and more oscillations if not finely tuned.\n",
    "- **Adam**: Typically converges **faster and smoother** due to adaptive learning rates.\n",
    "- **RMSprop**: Often similar to Adam but may require extra tuning of decay parameters."
   ]
  },
  {
   "cell_type": "markdown",
   "metadata": {},
   "source": [
    "## **🔥 Final Takeaways**\n",
    "\n",
    "- **SGD** is simple and efficient but requires **careful tuning** and can converge slowly. ⏳🚶‍♂️  \n",
    "- **Adam** offers **fast convergence** and adapts learning rates automatically, but may use more memory and occasionally overfit. 🚀💡  \n",
    "- **RMSprop** strikes a balance for **non-stationary or sequential data** but can be sensitive to its decay hyperparameter. 🎢🤹‍♀️  \n",
    "- **The choice** depends on your specific task, data complexity, and computational resources—just as a coach might choose different training strategies based on the game plan. 🏆⚽🏀"
   ]
  }
 ],
 "metadata": {
  "kernelspec": {
   "display_name": "tf-env",
   "language": "python",
   "name": "tf-env"
  },
  "language_info": {
   "codemirror_mode": {
    "name": "ipython",
    "version": 3
   },
   "file_extension": ".py",
   "mimetype": "text/x-python",
   "name": "python",
   "nbconvert_exporter": "python",
   "pygments_lexer": "ipython3",
   "version": "3.12.9"
  }
 },
 "nbformat": 4,
 "nbformat_minor": 2
}
