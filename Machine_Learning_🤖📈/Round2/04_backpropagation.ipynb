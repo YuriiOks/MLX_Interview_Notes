{
 "cells": [
  {
   "cell_type": "markdown",
   "metadata": {},
   "source": [
    "# **4️⃣ Backpropagation Algorithm: Mathematical Foundations & Detailed Code 🏗️🤖**"
   ]
  },
  {
   "cell_type": "markdown",
   "metadata": {},
   "source": [
    "When training a **neural network**, **backpropagation** (backward propagation of errors) is the **key algorithm** that adjusts the **model’s parameters** (weights and biases) to **minimize the loss**. Below, we’ll delve into:\n",
    "\n",
    "1. A **conceptual overview** of backpropagation.  \n",
    "2. The **mathematical details** (chain rule, partial derivatives).  \n",
    "3. A **step-by-step code example** from scratch in **Python**.  \n",
    "4. **Visualizations** to clarify how data flows forward and errors flow backward."
   ]
  },
  {
   "cell_type": "markdown",
   "metadata": {},
   "source": [
    "## **💡 Real-Life Analogy: Coaching a Sports Team ⚽**"
   ]
  },
  {
   "cell_type": "markdown",
   "metadata": {},
   "source": [
    "Imagine you’re **coaching a football team**:  \n",
    "1. **Forward Pass** = The team **plays a match** (feedforward: how the inputs produce outputs).  \n",
    "2. **Loss** = **Final score** (difference from the desired outcome).  \n",
    "3. **Backward Pass** = You watch **match replays** to see **where mistakes happened** (chain rule).  \n",
    "4. **Update Strategy** = You **improve tactics** (update weights) for the next match.\n",
    "\n",
    "Backpropagation does exactly this: it **records the network’s mistakes** (loss) and **updates weights** by **tracing the errors back** through each layer."
   ]
  },
  {
   "cell_type": "markdown",
   "metadata": {},
   "source": [
    "## **1️⃣ Neural Network Architecture (Simple Example)**"
   ]
  },
  {
   "cell_type": "markdown",
   "metadata": {},
   "source": [
    "Let’s consider a **fully-connected feedforward neural network** with:\n",
    "- **2 inputs**: $ x_1, x_2 $  \n",
    "- **1 hidden layer** with **2 neurons** (each using, say, a **Sigmoid** activation).  \n",
    "- **1 output neuron** (with Sigmoid activation for binary classification or MSE demo)."
   ]
  },
  {
   "cell_type": "markdown",
   "metadata": {},
   "source": [
    "### **Network Diagram** (ASCII Visualization)"
   ]
  },
  {
   "cell_type": "markdown",
   "metadata": {},
   "source": [
    "```yaml\n",
    "   (x1)  ---\\\n",
    "             >--- [ W(1,1), b(1) ] ---> (h1) ---\\\n",
    "   (x2)  ---/                                  \\\n",
    "                                                >--- [ W(2,1), b(2) ] ---> (output)\n",
    "   (x1)  ---\\                                  /\n",
    "             >--- [ W(1,2), b(1) ] ---> (h2) -/\n",
    "   (x2)  ---/\n",
    "```"
   ]
  },
  {
   "cell_type": "markdown",
   "metadata": {},
   "source": [
    "```mermaid\n",
    "flowchart TD\n",
    "    subgraph InputLayer[Input Layer]\n",
    "        X1((x₁))\n",
    "        X2((x₂))\n",
    "    end\n",
    "\n",
    "    subgraph HiddenLayer[Hidden Layer]\n",
    "        H1((h₁))\n",
    "        H2((h₂))\n",
    "    end\n",
    "\n",
    "    subgraph OutputLayer[Output Layer]\n",
    "        O((output))\n",
    "    end\n",
    "\n",
    "    %% Aggregation node for h₁ with weight & bias inside the box\n",
    "    X1 --> A1\n",
    "    X2 --> A1\n",
    "    A1[\"W(1,1), b(1)\"] --> H1\n",
    "\n",
    "    %% Aggregation node for h₂ with weight & bias inside the box\n",
    "    X1 --> A2\n",
    "    X2 --> A2\n",
    "    A2[\"W(1,2), b(1)\"] --> H2\n",
    "\n",
    "    %% Aggregation node for output connections (if needed)\n",
    "    H1 --> A3\n",
    "    H2 --> A3\n",
    "    A3[\"W(2,1), b(2)\"] --> O\n",
    "```"
   ]
  },
  {
   "cell_type": "markdown",
   "metadata": {},
   "source": [
    "- **h1, h2** = hidden layer neuron outputs  \n",
    "- **output** = final layer output  \n",
    "\n",
    "In matrix form, the forward pass for the hidden layer might be:\n",
    "\n",
    "$$\n",
    "\\mathbf{h} = \\sigma(\\mathbf{W^{(1)}} \\cdot \\mathbf{x} + \\mathbf{b}^{(1)})\n",
    "$$\n",
    "\n",
    "where:\n",
    "- $\\mathbf{x} = [x_1, x_2]^T$  \n",
    "- $\\mathbf{W^{(1)}}$ = weight matrix for layer 1 (shape: 2 neurons $\\times$ 2 inputs)  \n",
    "- $\\mathbf{b}^{(1)}$ = bias vector (shape: 2 neurons)  \n",
    "- $\\sigma$ = Sigmoid or ReLU (activation).  \n",
    "\n",
    "Then the final output:\n",
    "\n",
    "$$\n",
    "\\text{output} = \\sigma(\\mathbf{W^{(2)}} \\cdot \\mathbf{h} + \\mathbf{b}^{(2)})\n",
    "$$"
   ]
  },
  {
   "cell_type": "markdown",
   "metadata": {},
   "source": [
    "## **2️⃣ Forward Pass & Loss Calculation**"
   ]
  },
  {
   "cell_type": "markdown",
   "metadata": {},
   "source": [
    "### **a) Forward Pass Equations**\n",
    "\n",
    "1. **Hidden Layer** (using Sigmoid activation $\\sigma(z) = \\frac{1}{1 + e^{-z}}$):\n",
    "\n",
    "$$\n",
    "h_1 = \\sigma(w_{11}^{(1)} x_1 + w_{12}^{(1)} x_2 + b_{1}^{(1)})\n",
    "$$\n",
    "$$\n",
    "h_2 = \\sigma(w_{21}^{(1)} x_1 + w_{22}^{(1)} x_2 + b_{2}^{(1)})\n",
    "$$\n",
    "\n",
    "2. **Output Layer** (Sigmoid for binary classification or MSE example):\n",
    "\n",
    "$$\n",
    "\\hat{y} = \\sigma(w_{1}^{(2)} h_1 + w_{2}^{(2)} h_2 + b^{(2)})\n",
    "$$\n",
    "\n",
    "where $\\hat{y}$ is the network’s **predicted output**."
   ]
  },
  {
   "cell_type": "markdown",
   "metadata": {},
   "source": [
    "### **b) Loss Function**\n",
    "\n",
    "For a single training example with label $ y $, we can use:\n",
    "\n",
    "- **Mean Squared Error (MSE)**: $ L = \\frac{1}{2}( \\hat{y} - y )^2 $  (factor $\\frac{1}{2}$ often used for easier derivative)  \n",
    "**or**  \n",
    "- **Binary Cross-Entropy**: $ L = -\\big[y \\log(\\hat{y}) + (1 - y) \\log(1 - \\hat{y})\\big] $\n",
    "\n",
    "For **simplicity**, let’s demonstrate with **MSE**:\n",
    "\n",
    "$$\n",
    "L = \\frac{1}{2} (\\hat{y} - y)^2\n",
    "$$"
   ]
  },
  {
   "cell_type": "markdown",
   "metadata": {},
   "source": [
    "## **3️⃣ Backward Pass (Backpropagation with the Chain Rule)**"
   ]
  },
  {
   "cell_type": "markdown",
   "metadata": {},
   "source": [
    "### **Core Idea**  \n",
    "We compute **partial derivatives** of the loss $L$ w.r.t. each parameter ($w$ and $b$) by **propagating errors backward**. Then we do:\n",
    "\n",
    "$$\n",
    "w \\leftarrow w - \\alpha \\frac{\\partial L}{\\partial w}\n",
    "\\quad\\quad\n",
    "b \\leftarrow b - \\alpha \\frac{\\partial L}{\\partial b}\n",
    "$$\n",
    "\n",
    "where $\\alpha$ is the **learning rate**."
   ]
  },
  {
   "cell_type": "markdown",
   "metadata": {},
   "source": [
    "### **Detailed Steps**"
   ]
  },
  {
   "cell_type": "markdown",
   "metadata": {},
   "source": [
    "#### **Step 1: Derivative at the Output Layer**\n",
    "\n",
    "- For MSE: $ L = \\frac{1}{2}(\\hat{y} - y)^2 $\n",
    "\n",
    "$$\n",
    "\\frac{\\partial L}{\\partial \\hat{y}} = (\\hat{y} - y)\n",
    "$$\n",
    "\n",
    "- The output $\\hat{y} = \\sigma(z^{(2)})$, where $ z^{(2)} = w_{1}^{(2)} h_1 + w_{2}^{(2)} h_2 + b^{(2)} $\n",
    "\n",
    "$$\n",
    "\\frac{\\partial \\hat{y}}{\\partial z^{(2)}} = \\sigma'(z^{(2)}) = \\hat{y}(1 - \\hat{y})\n",
    "$$\n",
    "\n",
    "Hence,\n",
    "\n",
    "$$\n",
    "\\frac{\\partial L}{\\partial z^{(2)}} = \\frac{\\partial L}{\\partial \\hat{y}} \\cdot \\frac{\\partial \\hat{y}}{\\partial z^{(2)}}\n",
    " = (\\hat{y} - y) \\cdot \\hat{y}(1 - \\hat{y})\n",
    "$$"
   ]
  },
  {
   "cell_type": "markdown",
   "metadata": {},
   "source": [
    "#### **Step 2: Derivatives for Output Layer Weights**\n",
    "\n",
    "$$\n",
    "\\frac{\\partial L}{\\partial w_{1}^{(2)}} = \\frac{\\partial L}{\\partial z^{(2)}} \\cdot \\frac{\\partial z^{(2)}}{\\partial w_{1}^{(2)}}\n",
    " = \\left[(\\hat{y} - y) \\cdot \\hat{y}(1 - \\hat{y})\\right] \\cdot h_1\n",
    "$$\n",
    "\n",
    "Similarly,\n",
    "\n",
    "$$\n",
    "\\frac{\\partial L}{\\partial w_{2}^{(2)}} = \\left[(\\hat{y} - y) \\cdot \\hat{y}(1 - \\hat{y})\\right] \\cdot h_2\n",
    "$$\n",
    "\n",
    "and\n",
    "\n",
    "$$\n",
    "\\frac{\\partial L}{\\partial b^{(2)}} = (\\hat{y} - y) \\cdot \\hat{y}(1 - \\hat{y})\n",
    "$$"
   ]
  },
  {
   "cell_type": "markdown",
   "metadata": {},
   "source": [
    "#### **Step 3: Derivatives for Hidden Layer**\n",
    "\n",
    "We also need $\\frac{\\partial L}{\\partial h_1}$ and $\\frac{\\partial L}{\\partial h_2}$ to update the **first layer**:\n",
    "\n",
    "$$\n",
    "\\frac{\\partial L}{\\partial h_1} = \\frac{\\partial L}{\\partial z^{(2)}} \\cdot \\frac{\\partial z^{(2)}}{\\partial h_1}\n",
    " = \\left[(\\hat{y} - y)\\hat{y}(1 - \\hat{y})\\right] \\cdot w_{1}^{(2)}\n",
    "$$\n",
    "\n",
    "(same for $h_2$).\n",
    "\n",
    "Then for **layer 1** weights: $h_1 = \\sigma(z^{(1)}_1) = \\sigma(w_{11}^{(1)} x_1 + w_{12}^{(1)} x_2 + b_{1}^{(1)})$:\n",
    "\n",
    "$$\n",
    "\\frac{\\partial L}{\\partial w_{11}^{(1)}} \n",
    "= \\frac{\\partial L}{\\partial h_1} \\cdot \\frac{\\partial h_1}{\\partial z^{(1)}_1} \\cdot \\frac{\\partial z^{(1)}_1}{\\partial w_{11}^{(1)}}\n",
    "= \\left[ \\frac{\\partial L}{\\partial h_1} \\right] \\cdot [ h_1(1 - h_1 )] \\cdot x_1\n",
    "$$\n",
    "\n",
    "Similarly for other weights and biases."
   ]
  },
  {
   "cell_type": "markdown",
   "metadata": {},
   "source": [
    "#### **Step 4: Parameter Updates**\n",
    "\n",
    "**Gradient Descent** update rule:\n",
    "\n",
    "$$\n",
    "w \\leftarrow w - \\alpha \\frac{\\partial L}{\\partial w}, \\quad b \\leftarrow b - \\alpha \\frac{\\partial L}{\\partial b}\n",
    "$$"
   ]
  },
  {
   "cell_type": "markdown",
   "metadata": {},
   "source": [
    "## **4️⃣ End-to-End Python Example: Building a Small Neural Network from Scratch**"
   ]
  },
  {
   "cell_type": "markdown",
   "metadata": {},
   "source": [
    "Below is a **full example** using **NumPy** to illustrate a 2-2-1 network (like our diagram). We’ll:\n",
    "\n",
    "1. Create a **dummy dataset** (XOR-like pattern).  \n",
    "2. Initialize weights & biases.  \n",
    "3. Implement **forward pass** and **backprop**.  \n",
    "4. Plot **loss over epochs** for visualization."
   ]
  },
  {
   "cell_type": "markdown",
   "metadata": {},
   "source": [
    "### **a) Setup & Imports**"
   ]
  },
  {
   "cell_type": "code",
   "execution_count": 1,
   "metadata": {},
   "outputs": [],
   "source": [
    "import numpy as np\n",
    "import matplotlib.pyplot as plt\n",
    "\n",
    "# For reproducibility\n",
    "np.random.seed(42)"
   ]
  },
  {
   "cell_type": "markdown",
   "metadata": {},
   "source": [
    "### **b) Create a Small Dataset**\n",
    "\n",
    "Here, we create a **XOR-like** dataset with **2 inputs** and **1 binary output**:"
   ]
  },
  {
   "cell_type": "code",
   "execution_count": 2,
   "metadata": {},
   "outputs": [],
   "source": [
    "# XOR dataset\n",
    "X = np.array([\n",
    "    [0, 0],\n",
    "    [0, 1],\n",
    "    [1, 0],\n",
    "    [1, 1]\n",
    "], dtype=np.float32)\n",
    "\n",
    "y = np.array([\n",
    "    [0],\n",
    "    [1],\n",
    "    [1],\n",
    "    [0]\n",
    "], dtype=np.float32)"
   ]
  },
  {
   "cell_type": "markdown",
   "metadata": {},
   "source": [
    "### **c) Initialize Network Parameters**\n",
    "\n",
    "We have:\n",
    "- 2 inputs $\\to$ 2 hidden neurons $\\to$ 1 output neuron.  \n",
    "- Sigmoid activation in hidden & output."
   ]
  },
  {
   "cell_type": "code",
   "execution_count": 3,
   "metadata": {},
   "outputs": [],
   "source": [
    "# Hyperparameters\n",
    "lr = 0.5      # learning rate\n",
    "epochs = 5000 # training epochs\n",
    "\n",
    "# Weights for layer 1 (2x2)\n",
    "W1 = np.random.randn(2, 2) * 0.1\n",
    "b1 = np.zeros((1, 2))\n",
    "\n",
    "# Weights for layer 2 (2x1)\n",
    "W2 = np.random.randn(2, 1) * 0.1\n",
    "b2 = np.zeros((1, 1))"
   ]
  },
  {
   "cell_type": "markdown",
   "metadata": {},
   "source": [
    "### **d) Define Helper Functions**"
   ]
  },
  {
   "cell_type": "markdown",
   "metadata": {},
   "source": [
    "#### **Sigmoid & Its Derivative**"
   ]
  },
  {
   "cell_type": "code",
   "execution_count": 4,
   "metadata": {},
   "outputs": [],
   "source": [
    "def sigmoid(z):\n",
    "    return 1.0 / (1.0 + np.exp(-z))\n",
    "\n",
    "def sigmoid_deriv(a):\n",
    "    # 'a' is the output of sigmoid\n",
    "    return a * (1.0 - a)"
   ]
  },
  {
   "cell_type": "markdown",
   "metadata": {},
   "source": [
    "#### **Forward Pass**"
   ]
  },
  {
   "cell_type": "code",
   "execution_count": 5,
   "metadata": {},
   "outputs": [],
   "source": [
    "def forward_pass(X, W1, b1, W2, b2):\n",
    "    \"\"\"\n",
    "    X: (batch_size, 2)\n",
    "    W1: (2, 2), b1: (1, 2)\n",
    "    W2: (2, 1), b2: (1, 1)\n",
    "    \"\"\"\n",
    "    # Hidden layer\n",
    "    z1 = np.dot(X, W1) + b1   # shape: (batch_size, 2)\n",
    "    h = sigmoid(z1)          # shape: (batch_size, 2)\n",
    "    \n",
    "    # Output layer\n",
    "    z2 = np.dot(h, W2) + b2  # shape: (batch_size, 1)\n",
    "    out = sigmoid(z2)        # shape: (batch_size, 1)\n",
    "    \n",
    "    return z1, h, z2, out"
   ]
  },
  {
   "cell_type": "markdown",
   "metadata": {},
   "source": [
    "#### **Compute Loss (MSE)**"
   ]
  },
  {
   "cell_type": "code",
   "execution_count": 6,
   "metadata": {},
   "outputs": [],
   "source": [
    "def mse_loss(pred, target):\n",
    "    # pred, target: shape (batch_size, 1)\n",
    "    return 0.5 * np.mean((pred - target)**2)"
   ]
  },
  {
   "cell_type": "markdown",
   "metadata": {},
   "source": [
    "### **e) Training Loop (Backprop)**"
   ]
  },
  {
   "cell_type": "code",
   "execution_count": 7,
   "metadata": {},
   "outputs": [
    {
     "name": "stdout",
     "output_type": "stream",
     "text": [
      "Final Loss after 5000 epochs: 0.1250\n",
      "Predictions: [[0.5]\n",
      " [0.5]\n",
      " [0.5]\n",
      " [0.5]]\n",
      "Targets:     [0. 1. 1. 0.]\n"
     ]
    }
   ],
   "source": [
    "losses = []\n",
    "\n",
    "for epoch in range(epochs):\n",
    "    # 1) Forward Pass\n",
    "    z1, h, z2, out = forward_pass(X, W1, b1, W2, b2)\n",
    "    \n",
    "    # 2) Compute Loss\n",
    "    loss = mse_loss(out, y)\n",
    "    \n",
    "    # 3) Backpropagation\n",
    "    \n",
    "    # dL/dOut = (out - y)\n",
    "    dOut = (out - y)  # shape (4,1)\n",
    "    \n",
    "    # dOut/dZ2 = derivative of sigmoid => out * (1 - out)\n",
    "    dZ2 = dOut * sigmoid_deriv(out) # shape (4,1)\n",
    "    \n",
    "    # Grad for W2, b2 => h is shape (4,2)\n",
    "    dW2 = np.dot(h.T, dZ2)  # shape (2,1)\n",
    "    db2 = np.sum(dZ2, axis=0, keepdims=True)  # shape (1,1)\n",
    "    \n",
    "    # Backprop to hidden: dZ1 = dZ2 * W2^T * derivative(sigmoid of z1)\n",
    "    dZ1 = np.dot(dZ2, W2.T) * sigmoid_deriv(h)\n",
    "    \n",
    "    # Grad for W1, b1 => X is shape (4,2)\n",
    "    dW1 = np.dot(X.T, dZ1)  # shape (2,2)\n",
    "    db1 = np.sum(dZ1, axis=0, keepdims=True)  # shape (1,2)\n",
    "    \n",
    "    # 4) Parameter Update\n",
    "    W2 -= lr * dW2\n",
    "    b2 -= lr * db2\n",
    "    W1 -= lr * dW1\n",
    "    b1 -= lr * db1\n",
    "    \n",
    "    # Record loss\n",
    "    losses.append(loss)\n",
    "\n",
    "print(f\"Final Loss after {epochs} epochs: {loss:.4f}\")\n",
    "\n",
    "# Let's see predictions\n",
    "_, _, _, final_out = forward_pass(X, W1, b1, W2, b2)\n",
    "print(\"Predictions:\", final_out.round(3))\n",
    "print(\"Targets:    \", y.reshape(-1))"
   ]
  },
  {
   "cell_type": "markdown",
   "metadata": {},
   "source": [
    "### **f) Visualize the Loss Over Training**"
   ]
  },
  {
   "cell_type": "code",
   "execution_count": 8,
   "metadata": {},
   "outputs": [
    {
     "data": {
      "image/png": "[encoded data removed]",
      "text/plain": [
       "<Figure size 800x500 with 1 Axes>"
      ]
     },
     "metadata": {},
     "output_type": "display_data"
    }
   ],
   "source": [
    "plt.figure(figsize=(8,5))\n",
    "plt.plot(losses, color='blue', label=\"Training Loss\")\n",
    "plt.xlabel(\"Epoch\")\n",
    "plt.ylabel(\"Loss (MSE)\")\n",
    "plt.title(\"Loss Curve for XOR Example\")\n",
    "plt.legend()\n",
    "plt.show()"
   ]
  },
  {
   "cell_type": "markdown",
   "metadata": {},
   "source": [
    "**Expected Result**: The network should **learn the XOR function** (outputs close to $[0, 1, 1, 0]$), with decreasing loss over epochs."
   ]
  },
  {
   "cell_type": "markdown",
   "metadata": {},
   "source": [
    "## **5️⃣ Visualizing Forward & Backward Flow**"
   ]
  },
  {
   "cell_type": "markdown",
   "metadata": {},
   "source": [
    "A **simplified diagram** of how data flows forward and gradients flow backward:"
   ]
  },
  {
   "cell_type": "markdown",
   "metadata": {},
   "source": [
    "```yaml\n",
    "Forward Pass:\n",
    "   x1, x2 ---> [Hidden Layer] ---> [Output Layer] ---> Prediction\n",
    "```"
   ]
  },
  {
   "cell_type": "markdown",
   "metadata": {},
   "source": [
    "```mermaid\n",
    "flowchart LR\n",
    "    I[Input: x₁, x₂] --> HL[Hidden Layer]\n",
    "    HL --> OL[Output Layer]\n",
    "    OL --> P[Prediction]\n",
    "```"
   ]
  },
  {
   "cell_type": "markdown",
   "metadata": {},
   "source": [
    "```yaml\n",
    "Backward Pass (Gradients):\n",
    "   (Prediction - Actual) <--- [Output Layer] <--- [Hidden Layer] <--- (Propagated Errors)\n",
    "```\n"
   ]
  },
  {
   "cell_type": "markdown",
   "metadata": {},
   "source": [
    "```mermaid\n",
    "flowchart LR\n",
    "    PE[Propagated Errors] --> HL[Hidden Layer]\n",
    "    HL --> OL[Output Layer]\n",
    "    OL --> G[Prediction - Actual]\n",
    "```"
   ]
  },
  {
   "cell_type": "markdown",
   "metadata": {},
   "source": [
    "\n",
    "1. **Forward**: Input $\\to$ Hidden $\\to$ Output $\\to$ Loss  \n",
    "2. **Backward**: Loss $\\to$ Output Gradients $\\to$ Hidden Gradients $\\to$ Weight Updates"
   ]
  },
  {
   "cell_type": "markdown",
   "metadata": {},
   "source": [
    "## **🔥 Key Takeaways**\n",
    "\n",
    "1. **Backpropagation uses the chain rule** to compute partial derivatives of the loss w.r.t. weights.  \n",
    "2. **Gradients are propagated backward** from output to hidden to input layers.  \n",
    "3. **Parameter updates** are done via **gradient descent** (or variants like Adam, RMSprop).  \n",
    "4. This process **iterates for many epochs** until the network **minimizes the loss**.  \n",
    "5. In code, we handle it by computing forward pass outputs, computing loss, then deriving partials for each layer in reverse.\n",
    "\n",
    "### **Why It Matters?**  \n",
    "- Backprop allows neural networks to **learn complex mappings** (e.g., classifying images, predicting sports outcomes, NLP tasks).  \n",
    "- It’s the **foundation** of **deep learning**—enabling multi-layer networks to train effectively."
   ]
  },
  {
   "cell_type": "markdown",
   "metadata": {},
   "source": [
    "### **Further Extensions**\n",
    "\n",
    "- **Use Cross-Entropy Loss** for **classification** tasks.  \n",
    "- **Use ReLU** for faster training.  \n",
    "- **Use advanced optimizers** (Adam, RMSProp) instead of plain gradient descent.  \n",
    "- **Add more layers** (deep networks) to handle more complex tasks (e.g., player detection in video)."
   ]
  },
  {
   "cell_type": "markdown",
   "metadata": {},
   "source": [
    "# **Backpropagation Algorithm (Deep Dive Continued) 🤖⚡**"
   ]
  },
  {
   "cell_type": "markdown",
   "metadata": {},
   "source": [
    "When we talk about **backpropagation**, we often hear the phrase **“backward propagation of errors”**. Below, we’ll break down:  \n",
    "1. **What “backward propagation of errors” means** 🚀💥  \n",
    "2. **Difference between forward & backward propagation (with the concept of “propagation”)** ↔️  \n",
    "3. **Practical examples** in **Football ⚽**, **NBA 🏀**, and **Texas Hold’em Poker ♠️♥️**  \n",
    "4. **Graphs 📈 and Python code 🐍** to visualize and solidify learning"
   ]
  },
  {
   "cell_type": "markdown",
   "metadata": {},
   "source": [
    "## **1️⃣ “Backward Propagation of Errors” — What Does It Mean? 🚀👀**"
   ]
  },
  {
   "cell_type": "markdown",
   "metadata": {},
   "source": [
    "- **“Backward propagation of errors”** is a fancy way of saying:  \n",
    "  - **We find how much each neuron contributed to the final error (loss)** in a neural network.  \n",
    "  - We do this **in reverse**, starting from the **output** (where the error is seen) and moving **backwards** through the hidden layers.  \n",
    "\n",
    "Imagine a **Football Striker** who **missed a goal** 🎯:  \n",
    "1. **Output (Error)** → The team lost 1-0! ❌  \n",
    "2. **Trace it Backwards** → Where did the breakdown happen? Poor pass? Bad positioning?  \n",
    "3. **Assign Responsibility** → Each player’s mistake is identified and corrected for next time.  \n",
    "\n",
    "In neural nets 🤖, the **loss** is computed at the output layer (like the final score). Then, we distribute that **“blame”** to each weight and neuron upstream by applying the **chain rule** of calculus."
   ]
  },
  {
   "cell_type": "markdown",
   "metadata": {},
   "source": [
    "## **2️⃣ Propagation: Difference Between Forward & Backward 📡↔️**"
   ]
  },
  {
   "cell_type": "markdown",
   "metadata": {},
   "source": [
    "### **Forward Propagation (Forward Pass) 🏃‍♂️🔥**  \n"
   ]
  },
  {
   "cell_type": "markdown",
   "metadata": {},
   "source": [
    "- We **input data** (e.g., Shots on target for Football, or Player stats in NBA, or Poker hand ranks).  \n",
    "- The data flows **layer by layer**, with each neuron producing an **activation**.  \n",
    "- Finally, we get a **prediction** at the output layer.  \n"
   ]
  },
  {
   "cell_type": "markdown",
   "metadata": {},
   "source": [
    "\n",
    "**Football Example** ⚽:  \n",
    "- **Inputs** → $ x_1 = \\text{shots on target},\\ x_2 = \\text{team possession\\%} $  \n",
    "- **Hidden Layer** → Weighted sums + activations (like analyzing synergy of shots & possession).  \n",
    "- **Output** → Probability of “Win or Lose.”  \n"
   ]
  },
  {
   "cell_type": "markdown",
   "metadata": {},
   "source": [
    "\n",
    "**NBA Example** 🏀:  \n",
    "- **Inputs** → $ x_1 = \\text{points per game},\\ x_2 = \\text{assists},\\ x_3 = \\text{rebounds} $  \n",
    "- **Output** → Probability of “Playoff Success.”  \n"
   ]
  },
  {
   "cell_type": "markdown",
   "metadata": {},
   "source": [
    "\n",
    "**Texas Hold’em Example** ♠️♥️:  \n",
    "- **Inputs** → $ x_1 = \\text{card rank},\\ x_2 = \\text{card suit},\\ x_3 = \\text{position} $  \n",
    "- **Output** → Probability of “Winning the Hand.”  \n",
    "\n"
   ]
  },
  {
   "cell_type": "markdown",
   "metadata": {},
   "source": [
    "**Forward propagation** is like a **team strategy**: we combine features to get a **final tactic**."
   ]
  },
  {
   "cell_type": "markdown",
   "metadata": {},
   "source": [
    "### **Backward Propagation (Backward Pass) 🔙⚡**  \n"
   ]
  },
  {
   "cell_type": "markdown",
   "metadata": {},
   "source": [
    "- After **seeing the final prediction** (like a “team lost the match” 😢), we compute **error** (difference from the desired outcome).  \n",
    "- We **move backwards** through the network layers to see **which weights** were responsible for the error.  \n",
    "- Then we **update** those weights to reduce future mistakes.  \n",
    "\n",
    "**In a Sports Context**:  \n",
    "- **Coach** reviews the **match highlight** (loss function) 🍿🔍.  \n",
    "- Identifies **which players** (neurons) messed up.  \n",
    "- **Assigns blame** (gradient of the loss w.r.t. each weight) to fix next time.  \n",
    "\n",
    "Hence, forward pass is the **“play”**, backward pass is the **“review and correction”**."
   ]
  },
  {
   "cell_type": "markdown",
   "metadata": {},
   "source": [
    "## **3️⃣ Practical Examples**"
   ]
  },
  {
   "cell_type": "markdown",
   "metadata": {},
   "source": [
    "### **(A) Football (Goal Prediction) ⚽**\n",
    "\n",
    "**Forward Pass**:  \n",
    "- Input features: **Shots on target** (S), **Possession%** (P), **xG** (expected goals).  \n",
    "- Hidden Layer: Combines these features into learned representations (like synergy between xG & possession).  \n",
    "- Output Layer: Probability of “Goal = 1” vs. “No Goal = 0.”  \n",
    "\n",
    "**Backward Pass**:  \n",
    "- If the model predicted **Goal** but it was **No Goal**: error = $ \\hat{y} - y $.  \n",
    "- The network adjusts how it **weights “Shots on target”** or “Possession%” in future predictions."
   ]
  },
  {
   "cell_type": "markdown",
   "metadata": {},
   "source": [
    "### **(B) NBA (Predicting Next Champion) 🏀**\n",
    "\n",
    "**Forward Pass**:  \n",
    "- Input features: **Points per game** (PPG), **Team EFF rating**, **Win-Loss ratio**.  \n",
    "- Output: Probability of “Winning NBA Championship.”  \n",
    "\n",
    "**Backward Pass**:  \n",
    "- If the network is **too confident** about a certain team (e.g., predicted 80% chance, but they lost early), the **error** is large.  \n",
    "- The model looks back at each layer’s parameters (maybe it weighed “PPG” too heavily).  \n",
    "- Adjust parameters so it won’t overestimate high-scoring teams as often."
   ]
  },
  {
   "cell_type": "markdown",
   "metadata": {},
   "source": [
    "### **(C) Texas Hold’em Poker (Winning Probability) ♠️♥️**\n",
    "\n",
    "**Forward Pass**:  \n",
    "- Input features: **Hole cards** + **position** + **chip stack**.  \n",
    "- Output: Probability of “Winning the round.”  \n",
    "\n",
    "**Backward Pass**:  \n",
    "- If the model says 70% chance to win, but you lose with your **pocket aces** 🍀😫, error is big.  \n",
    "- The network sees maybe it overlooked the “board texture” or “opponent style.”  \n",
    "- It **updates** those parameter connections so next time it’s more cautious with certain board runouts."
   ]
  },
  {
   "cell_type": "markdown",
   "metadata": {},
   "source": [
    "## **4️⃣ Graphs & Python Code 🐍📈**"
   ]
  },
  {
   "cell_type": "markdown",
   "metadata": {},
   "source": [
    "### **A) Visualization of Forward & Backward Flow**\n"
   ]
  },
  {
   "cell_type": "markdown",
   "metadata": {},
   "source": [
    "```mermaid\n",
    "flowchart TD\n",
    "    %% Forward Pass\n",
    "    subgraph Forward_Pass[\"Forward Pass (Inputs -> Outputs)\"]\n",
    "        A[(Shots on Target, Possession)]\n",
    "        B[Hidden Layer]\n",
    "        C[Output: Probability of Goal?]\n",
    "        A --> B\n",
    "        B --> C\n",
    "    end\n",
    "\n",
    "\n",
    "    %% Backward Pass\n",
    "    subgraph Backward_Pass[\"Backward Pass (Error -> Parameter Updates)\"]\n",
    "        G[(Error from mismatch of predicted vs actual)]\n",
    "        E[Hidden Layer Grads]\n",
    "        F[Input Weights Grads]\n",
    "        G --> E\n",
    "        E --> F\n",
    "    end\n",
    "```"
   ]
  },
  {
   "cell_type": "markdown",
   "metadata": {},
   "source": [
    "### **B) Minimal Python Example (Backprop with Sports Data)**"
   ]
  },
  {
   "cell_type": "code",
   "execution_count": 12,
   "metadata": {},
   "outputs": [
    {
     "data": {
      "image/png": "[encoded data removed]",
      "text/plain": [
       "<Figure size 800x500 with 1 Axes>"
      ]
     },
     "metadata": {},
     "output_type": "display_data"
    },
    {
     "name": "stdout",
     "output_type": "stream",
     "text": [
      "Sample predictions: [0.574 0.565 0.638 0.574 0.574]\n",
      "Actual labels: [0. 1. 1. 0. 1.]\n"
     ]
    }
   ],
   "source": [
    "import numpy as np\n",
    "import matplotlib.pyplot as plt\n",
    "\n",
    "np.random.seed(42)\n",
    "\n",
    "# Simulate some data (Shots, Possession) -> Goal(1)/NoGoal(0)\n",
    "# Just random for demonstration\n",
    "X = np.random.rand(100, 2) * [10, 100]  # Shots up to 10, Possession up to 100%\n",
    "y = (0.05*X[:,0] + 0.01*X[:,1] + np.random.normal(0, 10, size=100) > 0.8).astype(float)\n",
    "y = y.reshape(-1,1)\n",
    "\n",
    "def sigmoid(z):\n",
    "    return 1/(1 + np.exp(-z))\n",
    "\n",
    "def sigmoid_deriv(a):\n",
    "    return a*(1 - a)\n",
    "\n",
    "# Weights (2 inputs -> 2 hidden -> 1 output)\n",
    "W1 = np.random.randn(2,2)*0.1\n",
    "b1 = np.zeros((1,2))\n",
    "W2 = np.random.randn(2,1)*0.1\n",
    "b2 = np.zeros((1,1))\n",
    "\n",
    "lr = 0.01\n",
    "losses = []\n",
    "\n",
    "def forward_pass(X):\n",
    "    z1 = np.dot(X, W1) + b1\n",
    "    h = sigmoid(z1)\n",
    "    z2 = np.dot(h, W2) + b2\n",
    "    out = sigmoid(z2)\n",
    "    return z1, h, z2, out\n",
    "\n",
    "def mse_loss(pred, target):\n",
    "    return 0.5*np.mean((pred - target)**2)\n",
    "\n",
    "for epoch in range(2000):\n",
    "    z1, h, z2, out = forward_pass(X)\n",
    "    loss = mse_loss(out, y)\n",
    "    \n",
    "    # Backprop\n",
    "    dOut = (out - y)\n",
    "    dZ2 = dOut * sigmoid_deriv(out)  # shape(100,1)\n",
    "    dW2 = np.dot(h.T, dZ2)\n",
    "    db2 = np.sum(dZ2, axis=0, keepdims=True)\n",
    "    \n",
    "    dZ1 = np.dot(dZ2, W2.T) * sigmoid_deriv(h)\n",
    "    dW1 = np.dot(X.T, dZ1)\n",
    "    db1 = np.sum(dZ1, axis=0, keepdims=True)\n",
    "    \n",
    "    # Update\n",
    "    W2 -= lr*dW2\n",
    "    b2 -= lr*db2\n",
    "    W1 -= lr*dW1\n",
    "    b1 -= lr*db1\n",
    "    \n",
    "    losses.append(loss)\n",
    "\n",
    "# Plot the loss\n",
    "plt.figure(figsize=(8,5))\n",
    "plt.plot(losses, color='purple')\n",
    "plt.title(\"Training Loss for Simple Football Network\")\n",
    "plt.xlabel(\"Epoch\")\n",
    "plt.ylabel(\"MSE Loss\")\n",
    "plt.show()\n",
    "\n",
    "# Check final predictions\n",
    "_, _, _, final_out = forward_pass(X)\n",
    "print(\"Sample predictions:\", final_out[:5].round(3).flatten())\n",
    "print(\"Actual labels:\", y[:5].flatten())"
   ]
  },
  {
   "cell_type": "markdown",
   "metadata": {},
   "source": [
    "#### **Interpretation:**\n",
    "\n",
    "- We do a **forward pass** (Shots on Target + Possession → Probability of Goal).  \n",
    "- We compute **MSE**.  \n",
    "- We do a **backward pass** (error → gradients → parameter update).  \n",
    "- Over 2000 epochs, the **loss** should decrease."
   ]
  },
  {
   "cell_type": "markdown",
   "metadata": {},
   "source": [
    "## **5️⃣ Visualizing Forward & Backward Flow**"
   ]
  },
  {
   "cell_type": "markdown",
   "metadata": {},
   "source": [
    "A **simplified diagram** of how data flows forward and gradients flow backward:\n",
    "\n",
    "```yaml\n",
    "Forward Pass:\n",
    "   x1, x2 ---> [Hidden Layer] ---> [Output Layer] ---> Prediction\n",
    "\n",
    "Backward Pass (Gradients):\n",
    "   (Prediction - Actual) <--- [Output Layer] <--- [Hidden Layer] <--- (Propagated Errors)\n",
    "```\n",
    "\n",
    "1. **Forward**: Input $\\to$ Hidden $\\to$ Output $\\to$ Loss  \n",
    "2. **Backward**: Loss $\\to$ Output Gradients $\\to$ Hidden Gradients $\\to$ Weight Updates"
   ]
  },
  {
   "cell_type": "markdown",
   "metadata": {},
   "source": [
    "## **🔥 Key Takeaways**\n",
    "\n",
    "1. **Backward Propagation of Errors** = We **trace the final error** back through hidden layers to see how each parameter caused the mistake 🤕🔙.  \n",
    "2. **Propagation**:  \n",
    "   - **Forward** → data flows from input to output, generating predictions.  \n",
    "   - **Backward** → error flows from output back to input, adjusting weights 🏋️.  \n",
    "3. **Sports & Poker Analogies**:  \n",
    "   - **Football**: Miss a shot → figure out the mistake (passing, positioning).  \n",
    "   - **NBA**: Overestimate a team → fix weighting of certain stats next time.  \n",
    "   - **Texas Hold’em**: Thought your pocket aces would win → re-evaluate how board texture is weighed.  \n",
    "4. **Code**: We can implement a mini neural network in Python using only NumPy to see forward pass + backward pass in action 🤖.\n",
    "\n",
    "The magic is in the **chain rule** 🧮 + **iterative updates** = **learn from errors** to get better predictions over time 🎉🔥."
   ]
  },
  {
   "cell_type": "markdown",
   "metadata": {},
   "source": [
    "# **Continuing Our Backpropagation Discussion: Mermaid Graphs & Python Code for Football ⚽ & NBA 🏀**"
   ]
  },
  {
   "cell_type": "markdown",
   "metadata": {},
   "source": [
    "In this section, we will:\n",
    "\n",
    "1. **Create Mermaid diagrams** to show how data flows (forward propagation) and how errors flow (backward propagation) in **Football** and **NBA** contexts.  \n",
    "2. **Write Python code** to demonstrate a mini neural network using **random data** that looks like Football and NBA stats."
   ]
  },
  {
   "cell_type": "markdown",
   "metadata": {},
   "source": [
    "## **1️⃣ Mermaid Graphs for Football & NBA Propagation**"
   ]
  },
  {
   "cell_type": "markdown",
   "metadata": {},
   "source": [
    "### **(A) Football Example: Forward & Backward Propagation ⚽**\n",
    "\n",
    "Below is a **Mermaid flowchart** illustrating **forward propagation** (left to right) and **backpropagation** (right to left). We use **subgraphs** to show the input, hidden, and output layers, plus the error feed.\n",
    "\n",
    "```mermaid\n",
    "flowchart LR\n",
    "    A((Shots on Target)) --> sub1((Hidden Layer h1,h2))\n",
    "    B((Possession %)) --> sub1\n",
    "    C((Opposition Strength)) --> sub1\n",
    "    \n",
    "    subgraph sub1[Hidden Layer]\n",
    "    h1((Neuron 1)) & h2((Neuron 2))\n",
    "    end\n",
    "    \n",
    "    sub1 --> sub2((Output Layer))\n",
    "    \n",
    "    subgraph sub2[Output: Probability of Goal]\n",
    "    o((Goal Probability))\n",
    "    end\n",
    "\n",
    "    o --> L((Loss Function))\n",
    "\n",
    "    %% Backprop (Errors go backwards)\n",
    "    L -- Error Signal --> sub2\n",
    "    sub2 -- Gradients --> sub1\n",
    "    sub1 -- Gradients --> A & B & C\n",
    "```\n",
    "\n",
    "- **Forward Pass**:  \n",
    "  1. **Inputs**: Shots on Target, Possession, Opposition Strength.  \n",
    "  2. Through **Hidden Layer** h1, h2.  \n",
    "  3. **Output**: Probability of scoring a Goal.  \n",
    "\n",
    "- **Backward Pass**:\n",
    "  - We compute a **loss** (difference from actual outcome).  \n",
    "  - The error signal flows **backwards** from the Output Layer → Hidden Layer → Input Weights."
   ]
  },
  {
   "cell_type": "markdown",
   "metadata": {},
   "source": [
    "### **(B) NBA Example: Forward & Backward Propagation 🏀**\n",
    "\n",
    "This Mermaid diagram shows a neural net predicting **Chance of Winning the NBA Finals**:\n",
    "\n",
    "```mermaid\n",
    "flowchart LR\n",
    "    subgraph Input Layer\n",
    "    A((Points Per Game))\n",
    "    B((Assists/ Rebounds))\n",
    "    C((Team Efficiency))\n",
    "    end\n",
    "    \n",
    "    A --> HL1((Neuron 1 in Hidden Layer))\n",
    "    B --> HL1\n",
    "    C --> HL1\n",
    "    \n",
    "    A --> HL2((Neuron 2 in Hidden Layer))\n",
    "    B --> HL2\n",
    "    C --> HL2\n",
    "\n",
    "    subgraph Hidden Layer\n",
    "    HL1\n",
    "    HL2\n",
    "    end\n",
    "    \n",
    "    HL1 --> OL((Output Neuron))\n",
    "    HL2 --> OL\n",
    "\n",
    "    subgraph Output Layer\n",
    "    OL((Win Probability))\n",
    "    end\n",
    "\n",
    "    OL --> L2((Loss Function))\n",
    "\n",
    "    %% Backprop\n",
    "    L2 -- Gradients --> OL\n",
    "    OL -- Gradients --> HL1 & HL2\n",
    "    HL1 & HL2 -- Gradients --> A & B & C\n",
    "```\n",
    "\n",
    "- **Forward Pass**:  \n",
    "  1. **Inputs**: Points/Game, Assists/Rebounds, Team Efficiency.  \n",
    "  2. **Hidden Neurons**: two neurons combine these features.  \n",
    "  3. **Output**: Probability of winning the NBA Championship.  \n",
    "\n",
    "- **Backward Pass**:  \n",
    "  - If actual result is different (team lost), the **loss** is computed.  \n",
    "  - Gradients flow **backwards**, adjusting the weights in the Hidden Layer and Input connections."
   ]
  },
  {
   "cell_type": "markdown",
   "metadata": {},
   "source": [
    "### **(C) Texas Hold’em Poker Example: Forward & Backward Propagation ♠️♥️**\n"
   ]
  },
  {
   "cell_type": "markdown",
   "metadata": {},
   "source": [
    "Below is a **Mermaid flowchart** illustrating **forward propagation** (left to right) and **backpropagation** (right to left) for a neural network predicting the **winning probability** in a Texas Hold’em Poker hand.\n",
    "\n",
    "```mermaid\n",
    "flowchart LR\n",
    "    A((Hole Card 1)) --> sub1((Hidden Layer h1, h2))\n",
    "    B((Hole Card 2)) --> sub1\n",
    "    C((Player Position)) --> sub1\n",
    "    D((Chip Stack)) --> sub1\n",
    "    \n",
    "    subgraph sub1[Hidden Layer]\n",
    "    h1((Neuron 1)) & h2((Neuron 2))\n",
    "    end\n",
    "    \n",
    "    sub1 --> sub2((Output Layer))\n",
    "    \n",
    "    subgraph sub2[Output: Win Probability]\n",
    "    o((Win Probability))\n",
    "    end\n",
    "\n",
    "    o --> L((Loss Function))\n",
    "\n",
    "    %% Backprop (Errors flow backwards)\n",
    "    L -- Error Signal --> sub2\n",
    "    sub2 -- Gradients --> sub1\n",
    "    sub1 -- Gradients --> A & B & C & D\n",
    "```\n",
    "\n",
    "- **Forward Pass**:\n",
    "  1. **Inputs**: Hole Card 1, Hole Card 2, Player Position, Chip Stack.\n",
    "  2. Data flows through the **Hidden Layer** (neurons h1 and h2).\n",
    "  3. **Output**: The network produces the probability of winning the hand.\n",
    "\n",
    "- **Backward Pass**:\n",
    "  - The **loss** is computed by comparing the predicted win probability with the actual outcome.\n",
    "  - The error signal flows **backwards** from the Output Layer to the Hidden Layer, then to the Input layer, allowing the model to update its weights and biases."
   ]
  },
  {
   "cell_type": "markdown",
   "metadata": {},
   "source": [
    "## **2️⃣ Python Code: Football & NBA Mini Neural Networks 🏆🐍**"
   ]
  },
  {
   "cell_type": "markdown",
   "metadata": {},
   "source": [
    "We’ll build **two small examples** using random data to simulate **(A) Football** and **(B) NBA** stats, then do a **tiny neural net** with backprop."
   ]
  },
  {
   "cell_type": "markdown",
   "metadata": {},
   "source": [
    "### **(A) Football Neural Net** ⚽\n",
    "\n",
    "**Scenario**: Predict whether a team **scores a goal** based on:\n",
    "- **Shots on Target**  \n",
    "- **Possession (%)**  \n",
    "- **Opposition Strength**"
   ]
  },
  {
   "cell_type": "code",
   "execution_count": 13,
   "metadata": {},
   "outputs": [],
   "source": [
    "import numpy as np\n",
    "import matplotlib.pyplot as plt\n",
    "\n",
    "np.random.seed(42)\n",
    "\n",
    "# 1) Generate Random \"Football\" Data\n",
    "# Shots: range(0..10), Possession: range(0..100), OppStrength: range(0..10)\n",
    "n_samples = 200\n",
    "shots = np.random.randint(0, 11, (n_samples, 1))\n",
    "possession = np.random.randint(20, 101, (n_samples, 1))\n",
    "opp_strength = np.random.randint(0, 11, (n_samples, 1))\n",
    "\n",
    "# Combine into X\n",
    "X_foot = np.hstack([shots, possession, opp_strength]).astype(float)\n",
    "\n",
    "# Fake label: if Shots + 0.5*OppStrength - 0.02*Possession > 2 => 1 else 0\n",
    "y_foot = ((shots + 0.5*opp_strength - 0.02*possession) > 2).astype(int).ravel()\n",
    "\n",
    "# 2) Normalize data (simple)\n",
    "X_foot_norm = X_foot / np.array([10.0, 100.0, 10.0])\n",
    "\n",
    "# 3) Build a small neural net (3 inputs -> 2 hidden -> 1 output)\n",
    "def sigmoid(z):\n",
    "    return 1/(1+np.exp(-z))\n",
    "\n",
    "def sigmoid_deriv(z):\n",
    "    return z*(1-z)\n",
    "\n",
    "# Initialize Weights\n",
    "W1_foot = np.random.randn(3,2)*0.1\n",
    "b1_foot = np.zeros((1,2))\n",
    "W2_foot = np.random.randn(2,1)*0.1\n",
    "b2_foot = np.zeros((1,1))\n",
    "\n",
    "lr = 0.05\n",
    "epochs = 2000\n",
    "losses_foot = []\n",
    "\n",
    "def forward_foot(X):\n",
    "    z1 = X.dot(W1_foot) + b1_foot\n",
    "    h = sigmoid(z1)\n",
    "    z2 = h.dot(W2_foot) + b2_foot\n",
    "    out = sigmoid(z2)\n",
    "    return z1, h, z2, out\n",
    "\n",
    "def binary_cross_entropy(pred, target):\n",
    "    pred = np.clip(pred, 1e-7, 1-1e-7)\n",
    "    return -np.mean(target*np.log(pred) + (1-target)*np.log(1-pred))\n",
    "\n",
    "y_foot = y_foot.reshape(-1,1).astype(float)\n",
    "for epoch in range(epochs):\n",
    "    z1, h, z2, out = forward_foot(X_foot_norm)\n",
    "    loss = binary_cross_entropy(out, y_foot)\n",
    "    \n",
    "    # Backprop\n",
    "    dOut = out - y_foot\n",
    "    dZ2 = dOut * sigmoid_deriv(out)\n",
    "    dW2 = h.T.dot(dZ2)\n",
    "    db2 = np.sum(dZ2, axis=0, keepdims=True)\n",
    "    \n",
    "    dH = dZ2.dot(W2_foot.T)\n",
    "    dZ1 = dH * sigmoid_deriv(h)\n",
    "    dW1 = X_foot_norm.T.dot(dZ1)\n",
    "    db1 = np.sum(dZ1, axis=0, keepdims=True)\n",
    "    \n",
    "    # Update\n",
    "    W2_foot -= lr*dW2\n",
    "    b2_foot -= lr*db2\n",
    "    W1_foot -= lr*dW1\n",
    "    b1_foot -= lr*db1\n",
    "    \n",
    "    losses_foot.append(loss)"
   ]
  },
  {
   "cell_type": "code",
   "execution_count": 15,
   "metadata": {},
   "outputs": [
    {
     "data": {
      "image/png": "[encoded data removed]",
      "text/plain": [
       "<Figure size 600x400 with 1 Axes>"
      ]
     },
     "metadata": {},
     "output_type": "display_data"
    },
    {
     "name": "stdout",
     "output_type": "stream",
     "text": [
      "Football Model Accuracy: 1.0\n"
     ]
    }
   ],
   "source": [
    "plt.figure(figsize=(6,4))\n",
    "plt.plot(losses_foot, color='blue')\n",
    "plt.title(\"Football Model Loss\")\n",
    "plt.xlabel(\"Epoch\")\n",
    "plt.ylabel(\"Binary Cross-Entropy Loss\")\n",
    "plt.show()\n",
    "\n",
    "_, _, _, final_out_foot = forward_foot(X_foot_norm)\n",
    "preds_foot = (final_out_foot > 0.5).astype(int)\n",
    "acc_foot = np.mean(preds_foot == y_foot)\n",
    "print(\"Football Model Accuracy:\", acc_foot)"
   ]
  },
  {
   "cell_type": "markdown",
   "metadata": {},
   "source": [
    "### **(B) NBA Neural Net** 🏀\n",
    "\n",
    "**Scenario**: Predict if a team will **win the next game** based on:\n",
    "- **Points Per Game (PPG)**  \n",
    "- **Assists/ Rebounds**  \n",
    "- **Team Efficiency Rating**"
   ]
  },
  {
   "cell_type": "code",
   "execution_count": 16,
   "metadata": {},
   "outputs": [],
   "source": [
    "n_samples_nba = 200\n",
    "ppg = np.random.randint(80, 121, (n_samples_nba, 1))\n",
    "asst_reb = np.random.randint(10, 51, (n_samples_nba, 1))\n",
    "team_eff = np.random.rand(n_samples_nba,1)*50.0\n",
    "\n",
    "X_nba = np.hstack([ppg, asst_reb, team_eff])\n",
    "y_nba = ((ppg + 0.5*asst_reb + 2*team_eff) > 160).astype(int).ravel()\n",
    "\n",
    "# Normalize\n",
    "X_nba_norm = X_nba / np.array([120.0, 50.0, 50.0])\n",
    "\n",
    "# Initialize Weights (3->2->1 again)\n",
    "W1_nba = np.random.randn(3,2)*0.1\n",
    "b1_nba = np.zeros((1,2))\n",
    "W2_nba = np.random.randn(2,1)*0.1\n",
    "b2_nba = np.zeros((1,1))\n",
    "\n",
    "lr_nba = 0.05\n",
    "epochs_nba = 2000\n",
    "losses_nba = []\n",
    "\n",
    "def forward_nba(X):\n",
    "    z1 = X.dot(W1_nba) + b1_nba\n",
    "    h = sigmoid(z1)\n",
    "    z2 = h.dot(W2_nba) + b2_nba\n",
    "    out = sigmoid(z2)\n",
    "    return z1, h, z2, out\n",
    "\n",
    "y_nba = y_nba.reshape(-1,1).astype(float)\n",
    "\n",
    "for epoch in range(epochs_nba):\n",
    "    z1, h, z2, out = forward_nba(X_nba_norm)\n",
    "    loss = binary_cross_entropy(out, y_nba)\n",
    "    \n",
    "    dOut = out - y_nba\n",
    "    dZ2 = dOut * sigmoid_deriv(out)\n",
    "    dW2 = h.T.dot(dZ2)\n",
    "    db2 = np.sum(dZ2, axis=0, keepdims=True)\n",
    "    \n",
    "    dH = dZ2.dot(W2_nba.T)\n",
    "    dZ1 = dH * sigmoid_deriv(h)\n",
    "    dW1 = X_nba_norm.T.dot(dZ1)\n",
    "    db1 = np.sum(dZ1, axis=0, keepdims=True)\n",
    "    \n",
    "    W2_nba -= lr_nba*dW2\n",
    "    b2_nba -= lr_nba*db2\n",
    "    W1_nba -= lr_nba*dW1\n",
    "    b1_nba -= lr_nba*db1\n",
    "    \n",
    "    losses_nba.append(loss)"
   ]
  },
  {
   "cell_type": "code",
   "execution_count": 17,
   "metadata": {},
   "outputs": [
    {
     "data": {
      "image/png": "[encoded data removed]",
      "text/plain": [
       "<Figure size 600x400 with 1 Axes>"
      ]
     },
     "metadata": {},
     "output_type": "display_data"
    },
    {
     "name": "stdout",
     "output_type": "stream",
     "text": [
      "NBA Model Accuracy: 0.975\n"
     ]
    }
   ],
   "source": [
    "plt.figure(figsize=(6,4))\n",
    "plt.plot(losses_nba, color='orange')\n",
    "plt.title(\"NBA Model Loss\")\n",
    "plt.xlabel(\"Epoch\")\n",
    "plt.ylabel(\"Binary Cross-Entropy Loss\")\n",
    "plt.show()\n",
    "\n",
    "_, _, _, final_out_nba = forward_nba(X_nba_norm)\n",
    "preds_nba = (final_out_nba > 0.5).astype(int)\n",
    "acc_nba = np.mean(preds_nba == y_nba)\n",
    "print(\"NBA Model Accuracy:\", acc_nba)"
   ]
  },
  {
   "cell_type": "markdown",
   "metadata": {},
   "source": [
    "## **Summary & Key Points** 🎉✅\n",
    "\n",
    "1. We used **Mermaid** diagrams 🏗️ to visualise how **forward propagation** (input → hidden → output) and **backward propagation** (error → gradient updates) work in both **Football** ⚽ and **NBA** 🏀 contexts.  \n",
    "2. We wrote **Python code** for two mini neural networks:  \n",
    "   - **Football**: Shots on Target, Possession, Opp. Strength → Probability of Goal.  \n",
    "   - **NBA**: Points Per Game, Assists/Rebounds, Team Efficiency → Probability of Win.  \n",
    "3. Each network does a **forward pass** + **compute loss** + **backprop** → **updates weights** → improves performance."
   ]
  }
 ],
 "metadata": {
  "kernelspec": {
   "display_name": "Python 3",
   "language": "python",
   "name": "python3"
  },
  "language_info": {
   "name": "python",
   "version": "3.13.0"
  }
 },
 "nbformat": 4,
 "nbformat_minor": 2
}
