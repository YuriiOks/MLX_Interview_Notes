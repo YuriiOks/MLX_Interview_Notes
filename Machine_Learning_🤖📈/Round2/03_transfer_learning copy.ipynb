{
    "cells": [
     {
      "cell_type": "markdown",
      "metadata": {},
      "source": [
       "# **3️⃣ Transfer Learning: What It Is & When to Use It 🤖🔄**"
      ]
     },
     {
      "cell_type": "markdown",
      "metadata": {},
      "source": [
       "## **💡 Real-Life Analogy: A Footballer Switching Leagues ⚽**"
      ]
     },
     {
      "cell_type": "markdown",
      "metadata": {},
      "source": [
       "Imagine **Cristiano Ronaldo** moves from **La Liga (Spain) to the Premier League (England)**.  ",
       "- He **doesn’t need to relearn football** from scratch.  ",
       "- He **applies his existing skills** but adapts to the new league’s **style & pace**.  ",
       "- He **fine-tunes specific aspects** (e.g., adjusting to Premier League’s physicality)."
      ]
     },
     {
      "cell_type": "markdown",
      "metadata": {},
      "source": [
       "📌 **In machine learning, Transfer Learning works the same way! A model trained on one task can be reused for another, with minimal retraining.**"
      ]
     },
     {
      "cell_type": "markdown",
      "metadata": {},
      "source": [
       "# **📌 What is Transfer Learning?**"
      ]
     },
     {
      "cell_type": "markdown",
      "metadata": {},
      "source": [
       "✅ **Transfer Learning is a technique where a pre-trained model is adapted to solve a new but related problem.**  ",
       "✅ Instead of training a model **from scratch**, we **reuse knowledge** from a model trained on a **large dataset**.  ",
       "✅ It **saves time, improves accuracy, and requires less data** for the new task."
      ]
     },
     {
      "cell_type": "markdown",
      "metadata": {},
      "source": [
       "📌 **Mathematical Representation:**  ",
       "$$",
       "\\text{New Model} = \\text{Pre-Trained Model} + \\text{Fine-Tuning on New Data}",
       "$$"
      ]
     },
     {
      "cell_type": "markdown",
      "metadata": {},
      "source": [
       "✅ **Instead of starting from zero, we modify an existing model for our specific needs!**"
      ]
     },
     {
      "cell_type": "markdown",
      "metadata": {},
      "source": [
       "# **📊 When Would You Use Transfer Learning?**"
      ]
     },
     {
      "cell_type": "markdown",
      "metadata": {},
      "source": [
       "| **Scenario**                                   | **Why Use Transfer Learning?**                                                                 |",
       "|------------------------------------------------|------------------------------------------------------------------------------------------------|",
       "| **Image Classification (Football Players) ⚽📷**  | If a model is trained on **millions of general images**, we can adapt it for **identifying football players**. |",
       "| **Sports Video Analysis 🎥🏀**                     | A model trained on **YouTube videos** can be fine-tuned for **detecting dribbles, shots, and passes**.           |",
       "| **Medical Image Diagnosis 🏥🩻**                   | A model trained on **general images** can be adapted to **detect diseases in X-rays or MRIs**.                      |",
       "| **Self-Driving Cars 🚗🛣️**                        | A model trained on **American roads** can be adapted for **UK roads** with minor adjustments.                      |",
       "| **NLP (Chatbots, Sentiment Analysis) 🗣️📢**         | A language model trained on **Wikipedia data** can be fine-tuned for **customer support**.                         |"
      ]
     },
     {
      "cell_type": "markdown",
      "metadata": {},
      "source": [
       "✅ **Transfer Learning is ideal when:**  ",
       "- **We have limited data** for the new task.  ",
       "- **Training a model from scratch is too expensive.**  ",
       "- **The new task is similar to the pre-trained model’s task.**"
      ]
     },
     {
      "cell_type": "markdown",
      "metadata": {},
      "source": [
       "# **📊 Example 1: Transfer Learning for Football Player Recognition (Image Classification) ⚽📷**"
      ]
     },
     {
      "cell_type": "markdown",
      "metadata": {},
      "source": [
       "📌 **Scenario:** You want to train a model to **recognize football players** from match photos.  ",
       "- Instead of training from scratch, we **use a pre-trained model like ResNet or VGG**.  ",
       "- Fine-tune it using **images of football players** to specialize the model."
      ]
     },
     {
      "cell_type": "markdown",
      "metadata": {},
      "source": [
       "📌 **Steps:**  ",
       "1️⃣ **Load a pre-trained model (ResNet50, trained on ImageNet)**.  ",
       "2️⃣ **Remove the last classification layer**.  ",
       "3️⃣ **Add a new layer for “Football Player Identification”**.  ",
       "4️⃣ **Fine-tune using our football images**."
      ]
     },
     {
      "cell_type": "markdown",
      "metadata": {},
      "source": [
       "📌 **Python Implementation (Using Pre-Trained ResNet50 for Football Players)**"
      ]
     },
     {
      "cell_type": "code",
      "execution_count": null,
      "metadata": {},
      "outputs": [],
      "source": [
       "from tensorflow.keras.applications import ResNet50\n",
       "from tensorflow.keras.models import Model\n",
       "from tensorflow.keras.layers import Dense, Flatten\n",
       "\n",
       "# Load Pre-Trained Model (Without Final Layer)\n",
       "base_model = ResNet50(weights=\"imagenet\", include_top=False, input_shape=(224, 224, 3))\n",
       "\n",
       "# Add Custom Layers\n",
       "x = Flatten()(base_model.output)\n",
       "x = Dense(512, activation=\"relu\")(x)\n",
       "output_layer = Dense(10, activation=\"softmax\")(x)  # 10 football players\n",
       "\n",
       "# Create New Model\n",
       "model = Model(inputs=base_model.input, outputs=output_layer)\n",
       "\n",
       "# Freeze Pre-Trained Layers (So We Don't Relearn Basic Features)\n",
       "for layer in base_model.layers:\n",
       "    layer.trainable = False\n",
       "\n",
       "# Compile Model\n",
       "model.compile(optimizer=\"adam\", loss=\"categorical_crossentropy\", metrics=[\"accuracy\"])"
      ]
     },
     {
      "cell_type": "markdown",
      "metadata": {},
      "source": [
       "✅ **Why Transfer Learning?**  ",
       "- We **reuse general image knowledge** from **millions of images** instead of training from scratch.  ",
       "- The model **only needs to learn football-specific details**."
      ]
     },
     {
      "cell_type": "markdown",
      "metadata": {},
      "source": [
       "# **📊 Example 2: Transfer Learning for NBA Video Analysis (Deep Learning) 🎥🏀**"
      ]
     },
     {
      "cell_type": "markdown",
      "metadata": {},
      "source": [
       "📌 **Scenario:** You want to build a model that **identifies NBA plays (dunks, assists, 3-pointers, blocks) from video footage**.  ",
       "- Instead of training from scratch, we **use a model pre-trained on YouTube sports videos**.  ",
       "- Fine-tune it using **NBA-specific plays**."
      ]
     },
     {
      "cell_type": "markdown",
      "metadata": {},
      "source": [
       "📌 **Steps:**  ",
       "1️⃣ Use a pre-trained **ConvNet + LSTM model trained on general sports videos**.  ",
       "2️⃣ Fine-tune it using **NBA play-specific data**.  ",
       "3️⃣ **Freeze early layers** (to keep general motion recognition).  ",
       "4️⃣ **Train only the last few layers** (to specialize in NBA plays)."
      ]
     },
     {
      "cell_type": "markdown",
      "metadata": {},
      "source": [
       "✅ **Why Transfer Learning?**  ",
       "✅ Video data is **expensive to label**, so using an existing model saves time.  ",
       "✅ The model **already understands general player movements** and just needs **NBA-specific tuning**."
      ]
     },
     {
      "cell_type": "markdown",
      "metadata": {},
      "source": [
       "# **📊 Example 3: Transfer Learning in NLP (Chatbots & Sentiment Analysis) 🗣️📢**"
      ]
     },
     {
      "cell_type": "markdown",
      "metadata": {},
      "source": [
       "📌 **Scenario:** You want to build a **chatbot for football fans** that understands match discussions.  ",
       "- Instead of training from scratch, we **fine-tune GPT (or BERT) using football-related text data**."
      ]
     },
     {
      "cell_type": "markdown",
      "metadata": {},
      "source": [
       "📌 **Steps:**  ",
       "1️⃣ Start with a **pre-trained NLP model (GPT-4, BERT)**.  ",
       "2️⃣ Fine-tune using **football commentary, fan discussions, and match reports**.  ",
       "3️⃣ The model **adapts to football-specific conversations**."
      ]
     },
     {
      "cell_type": "markdown",
      "metadata": {},
      "source": [
       "✅ **Why Transfer Learning?**  ",
       "✅ Training a chatbot **from scratch requires billions of words**.  ",
       "✅ A general model **already understands language**—we just **specialize it for football fans**."
      ]
     },
     {
      "cell_type": "markdown",
      "metadata": {},
      "source": [
       "# **📊 Advantages & Disadvantages of Transfer Learning**"
      ]
     },
     {
      "cell_type": "markdown",
      "metadata": {},
      "source": [
       "| Feature            | Pros ✅                                                     | Cons ❌                              |",
       "|--------------------|-------------------------------------------------------------|--------------------------------------|",
       "| **Training Time**  | Saves **time & computation** by reusing models.             | Can still require **fine-tuning time**. |",
       "| **Performance**    | Works well for **similar tasks**.                           | Can **fail if the new task is too different**. |",
       "| **Data Requirements** | Needs **less data** for training.                        | Still requires **some domain-specific data**. |",
       "| **Flexibility**    | Works in **images, video, NLP, speech**.                      | Some pre-trained models may not **adapt well**. |"
      ]
     },
     {
      "cell_type": "markdown",
      "metadata": {},
      "source": [
       "✅ **Use Transfer Learning when:**  ",
       "- **You don’t have enough data.**  ",
       "- **Training from scratch is too expensive.**  ",
       "- **The new task is similar to the pre-trained model’s task.**"
      ]
     },
     {
      "cell_type": "markdown",
      "metadata": {},
      "source": [
       "# **🚀 Final Takeaways**"
      ]
     },
     {
      "cell_type": "markdown",
      "metadata": {},
      "source": [
       "1️⃣ **Transfer Learning reuses a pre-trained model and adapts it for a new task.**  ",
       "2️⃣ **It saves time, improves accuracy, and reduces data requirements.**  ",
       "3️⃣ **Used in image recognition, video analysis, self-driving cars, medical AI, and NLP chatbots.**  ",
       "4️⃣ **Examples include football player detection, NBA play classification, and chatbot fine-tuning.**  ",
       "5️⃣ **Works best when the new task is similar to the original training data.**"
      ]
     },
     {
      "cell_type": "markdown",
      "metadata": {},
      "source": [
       "# **Deep Dive into Fine-Tuning Pre-Trained Models for Sports Analytics ⚽🏀🤖**"
      ]
     },
     {
      "cell_type": "markdown",
      "metadata": {},
      "source": [
       "## **💡 Real-Life Analogy: Adapting a Star Player to a New League 🌍⚽**"
      ]
     },
     {
      "cell_type": "markdown",
      "metadata": {},
      "source": [
       "Imagine you’re **a coach signing Lionel Messi** for a new club.  ",
       "- **Pre-Trained Model:** Messi already knows how to **dribble, shoot, and pass** (general skills).  ",
       "- **Fine-Tuning:** You **adjust his playstyle** to **fit the new team’s tactics** (specific adaptation).  ",
       "- **Frozen Layers:** His **fundamental skills don’t change**—only minor tweaks are made."
      ]
     },
     {
      "cell_type": "markdown",
      "metadata": {},
      "source": [
       "📌 **Fine-tuning a deep learning model works the same way! We adapt a pre-trained model for a new but related task.**"
      ]
     },
     {
      "cell_type": "markdown",
      "metadata": {},
      "source": [
       "# **📌 What is Fine-Tuning in Transfer Learning?**"
      ]
     },
     {
      "cell_type": "markdown",
      "metadata": {},
      "source": [
       "✅ **Fine-tuning = Taking a pre-trained model and training it further on new, specific data.**  ",
       "✅ **Steps:**  ",
       "1️⃣ **Use a pre-trained model** (trained on a large dataset like ImageNet for images, YouTube for videos, or GPT for text).  ",
       "2️⃣ **Freeze some layers** (retain general knowledge, like Messi’s skills).  ",
       "3️⃣ **Replace the last few layers** (adapt to the new sport or dataset).  ",
       "4️⃣ **Train only the new layers** on domain-specific data (fine-tuning for NBA, EPL, etc.)."
      ]
     },
     {
      "cell_type": "markdown",
      "metadata": {},
      "source": [
       "📌 **Key Benefit:** Faster training with **higher accuracy on the new task**."
      ]
     },
     {
      "cell_type": "markdown",
      "metadata": {},
      "source": [
       "# **📊 Example 1: Fine-Tuning a Model for Football Player Recognition (Computer Vision) 📷⚽**"
      ]
     },
     {
      "cell_type": "markdown",
      "metadata": {},
      "source": [
       "📌 **Scenario:** You want to **identify football players** in match photos.  ",
       "- **Problem:** Training from scratch requires **millions of images**.  ",
       "- **Solution:** Use **ResNet50 (pre-trained on ImageNet) and fine-tune it** for football players."
      ]
     },
     {
      "cell_type": "markdown",
      "metadata": {},
      "source": [
       "📌 **How?**  ",
       "1️⃣ **Load ResNet50 (Pre-Trained on ImageNet).**  ",
       "2️⃣ **Freeze Early Layers** → Keep general image features (edges, textures, patterns).  ",
       "3️⃣ **Replace Final Layers** → Train on football player images.  ",
       "4️⃣ **Fine-Tune** → Improve classification for football-specific features."
      ]
     },
     {
      "cell_type": "markdown",
      "metadata": {},
      "source": [
       "📌 **Python Implementation (Fine-Tuning ResNet for Football Player Recognition)**"
      ]
     },
     {
      "cell_type": "code",
      "execution_count": null,
      "metadata": {},
      "outputs": [],
      "source": [
       "from tensorflow.keras.applications import ResNet50\n",
       "from tensorflow.keras.models import Model\n",
       "from tensorflow.keras.layers import Dense, Flatten\n",
       "from tensorflow.keras.optimizers import Adam\n",
       "\n",
       "# Load Pre-Trained Model (Without Final Layer)\n",
       "base_model = ResNet50(weights=\"imagenet\", include_top=False, input_shape=(224, 224, 3))\n",
       "\n",
       "# Freeze Early Layers (Keep General Features)\n",
       "for layer in base_model.layers[:-10]:  # Freeze all but the last 10 layers\n",
       "    layer.trainable = False\n",
       "\n",
       "# Add Custom Layers for Football Players\n",
       "x = Flatten()(base_model.output)\n",
       "x = Dense(512, activation=\"relu\")(x)\n",
       "output_layer = Dense(10, activation=\"softmax\")(x)  # 10 football players\n",
       "\n",
       "# Create New Model\n",
       "model = Model(inputs=base_model.input, outputs=output_layer)\n",
       "\n",
       "# Compile Model\n",
       "model.compile(optimizer=Adam(learning_rate=0.0001), loss=\"categorical_crossentropy\", metrics=[\"accuracy\"])"
      ]
     },
     {
      "cell_type": "markdown",
      "metadata": {},
      "source": [
       "✅ **Why Fine-Tune ResNet?**  ",
       "- We **reuse general image knowledge** (faces, jerseys, backgrounds).  ",
       "- The model **only learns football-specific player features**.  ",
       "- **Faster training** (only last few layers are updated)."
      ]
     },
     {
      "cell_type": "markdown",
      "metadata": {},
      "source": [
       "# **📊 Example 2: Fine-Tuning for NBA Play Recognition (Video Analysis) 🎥🏀**"
      ]
     },
     {
      "cell_type": "markdown",
      "metadata": {},
      "source": [
       "📌 **Scenario:** You want to **identify key NBA plays** (dunks, assists, 3-pointers, blocks) from game videos.  ",
       "- **Problem:** Training from scratch on videos **requires massive datasets & GPUs**.  ",
       "- **Solution:** Use a **pre-trained ConvNet+LSTM model trained on general sports videos** and fine-tune it for NBA."
      ]
     },
     {
      "cell_type": "markdown",
      "metadata": {},
      "source": [
       "📌 **How?**  ",
       "1️⃣ Use a pre-trained **3D CNN (e.g., I3D or C3D) trained on general sports videos.**  ",
       "2️⃣ **Freeze Early Layers** → Keep motion features (player movement, ball motion).  ",
       "3️⃣ **Replace Final Layers** → Train only on NBA-specific play clips.  ",
       "4️⃣ **Fine-Tune** → Improve recognition of NBA-specific movements."
      ]
     },
     {
      "cell_type": "markdown",
      "metadata": {},
      "source": [
       "📌 **Python Implementation (Fine-Tuning a Pre-Trained Video Model)**"
      ]
     },
     {
      "cell_type": "code",
      "execution_count": null,
      "metadata": {},
      "outputs": [],
      "source": [
       "from tensorflow.keras.applications import MobileNetV2\n",
       "from tensorflow.keras.layers import Dense, Flatten, LSTM\n",
       "from tensorflow.keras.models import Model\n",
       "from tensorflow.keras.optimizers import Adam\n",
       "\n",
       "# Load Pre-Trained MobileNetV2 (For Video Frames)\n",
       "base_model = MobileNetV2(weights=\"imagenet\", include_top=False, input_shape=(224, 224, 3))\n",
       "\n",
       "# Freeze Early Layers\n",
       "for layer in base_model.layers[:-5]:  \n",
       "    layer.trainable = False\n",
       "\n",
       "# Add Custom Layers for Play Classification\n",
       "x = Flatten()(base_model.output)\n",
       "x = Dense(512, activation=\"relu\")(x)\n",
       "x = Dense(128, activation=\"relu\")(x)\n",
       "output_layer = Dense(4, activation=\"softmax\")(x)  # 4 NBA play categories\n",
       "\n",
       "# Create New Model\n",
       "model = Model(inputs=base_model.input, outputs=output_layer)\n",
       "\n",
       "# Compile Model\n",
       "model.compile(optimizer=Adam(learning_rate=0.0001), loss=\"categorical_crossentropy\", metrics=[\"accuracy\"])"
      ]
     },
     {
      "cell_type": "markdown",
      "metadata": {},
      "source": [
       "✅ **Why Fine-Tune a Video Model?**  ",
       "- It **already understands player movement** from previous training.  ",
       "- We **only adjust it for NBA-specific plays**.  ",
       "- **Saves weeks of training time** compared to starting from scratch."
      ]
     },
     {
      "cell_type": "markdown",
      "metadata": {},
      "source": [
       "# **📊 Example 3: Fine-Tuning NLP for Football Chatbots (Language Models) 🗣️⚽**"
      ]
     },
     {
      "cell_type": "markdown",
      "metadata": {},
      "source": [
       "📌 **Scenario:** You want to build a **chatbot for football fans** that understands match discussions.  ",
       "- **Problem:** Training a language model **from scratch requires billions of words**.  ",
       "- **Solution:** **Fine-tune GPT-4 or BERT** using football-specific text data."
      ]
     },
     {
      "cell_type": "markdown",
      "metadata": {},
      "source": [
       "📌 **How?**  ",
       "1️⃣ **Start with GPT-4 or BERT (Pre-Trained on Wikipedia & Books).**  ",
       "2️⃣ **Fine-tune it on Football-Specific Data** (match reports, fan discussions, news articles).  ",
       "3️⃣ The model **adapts to football-specific conversations**."
      ]
     },
     {
      "cell_type": "markdown",
      "metadata": {},
      "source": [
       "📌 **Python Implementation (Fine-Tuning GPT for Football Chatbot)**"
      ]
     },
     {
      "cell_type": "code",
      "execution_count": null,
      "metadata": {},
      "outputs": [],
      "source": [
       "from transformers import GPT2Tokenizer, GPT2LMHeadModel, Trainer, TrainingArguments\n",
       "\n",
       "# Load Pre-Trained GPT Model\n",
       "model = GPT2LMHeadModel.from_pretrained(\"gpt2\")\n",
       "tokenizer = GPT2Tokenizer.from_pretrained(\"gpt2\")\n",
       "\n",
       "# Prepare Football-Specific Dataset\n",
       "train_data = [\n",
       "    \"Liverpool dominated possession but lacked clinical finishing.\", \n",
       "    \"Messi’s dribbling was unstoppable against Bayern’s high press.\"\n",
       "]\n",
       "\n",
       "# Fine-Tune GPT Model\n",
       "training_args = TrainingArguments(output_dir=\"./results\", per_device_train_batch_size=2, num_train_epochs=3)\n",
       "trainer = Trainer(model=model, args=training_args, train_dataset=train_data)\n",
       "\n",
       "trainer.train()"
      ]
     },
     {
      "cell_type": "markdown",
      "metadata": {},
      "source": [
       "✅ **Why Fine-Tune GPT?**  ",
       "- GPT **already knows general language**.  ",
       "- We **only need to adjust it for football conversations**."
      ]
     },
     {
      "cell_type": "markdown",
      "metadata": {},
      "source": [
       "# **🚀 Key Takeaways: Fine-Tuning for Sports Analytics**"
      ]
     },
     {
      "cell_type": "markdown",
      "metadata": {},
      "source": [
       "| Use Case                                | Pre-Trained Model                   | Fine-Tuning Needed?                      |",
       "|-----------------------------------------|-------------------------------------|------------------------------------------|",
       "| **Football Player Recognition** 📷⚽     | ResNet50 (ImageNet)                 | Yes (train last layers on football images) ✅ |",
       "| **NBA Play Classification** 🎥🏀         | I3D/C3D (Sports Videos)             | Yes (train on NBA clips) ✅                |",
       "| **Football Chatbot (NLP)** 🗣️⚽           | GPT-4, BERT                         | Yes (train on football text) ✅            |"
      ]
     },
     {
      "cell_type": "markdown",
      "metadata": {},
      "source": [
       "✅ **Fine-Tuning is powerful when:**  ",
       "- **You don’t have enough data** to train from scratch.  ",
       "- **You need domain-specific adaptation** (football, NBA, medical, finance).  ",
       "- **The pre-trained model has general knowledge** that can be applied to your task."
      ]
     },
     {
      "cell_type": "markdown",
      "metadata": {},
      "source": [
       "# **🔥 Final Thoughts**"
      ]
     },
     {
      "cell_type": "markdown",
      "metadata": {},
      "source": [
       "1️⃣ **Fine-Tuning = Adjusting Pre-Trained Models for New, Related Tasks.**  ",
       "2️⃣ **It saves time & computational resources.**  ",
       "3️⃣ **Used in image recognition, video analysis, NLP, and self-driving sports analysis.**  ",
       "4️⃣ **Perfect for player detection, action classification, and chatbot creation.**"
      ]
     }
    ],
    "metadata": {
     "kernelspec": {
      "display_name": "Python 3",
      "language": "python",
      "name": "python3"
     },
     "language_info": {
      "name": "python",
      "version": "3.13.0"
     }
    },
    "nbformat": 4,
    "nbformat_minor": 2
   }
   