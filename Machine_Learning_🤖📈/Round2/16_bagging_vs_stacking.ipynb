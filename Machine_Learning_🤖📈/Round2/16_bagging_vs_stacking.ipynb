{
 "cells": [
  {
   "cell_type": "markdown",
   "metadata": {},
   "source": [
    "# **1️⃣6️⃣ Bagging vs. Stacking in Ensemble Methods: Key Differences & Examples 🤖⚽🏀**"
   ]
  },
  {
   "cell_type": "markdown",
   "metadata": {},
   "source": [
    "## **💡 Real-Life Analogy: Team of Coaches vs. Head Coach Strategy 🏆🎤**"
   ]
  },
  {
   "cell_type": "markdown",
   "metadata": {},
   "source": [
    "- **Bagging** is like having **multiple independent assistant coaches** who each watch the game and give their own prediction based solely on their own observations. Later, you **average their opinions** to make a final decision. This approach reduces the variability (overfitting) of the prediction.  \n",
    "- **Stacking** is like having several **specialist coaches** (each with a unique perspective, such as offense, defense, and strategy) whose predictions are then **combined by a head coach**. The head coach (meta-learner) learns the best way to weigh each specialist's opinion to make the final call."
   ]
  },
  {
   "cell_type": "markdown",
   "metadata": {},
   "source": [
    "📌 **Key Difference**:  \n",
    "- **Bagging (Bootstrap Aggregating)** combines predictions from **independently trained models** by averaging or majority voting.  \n",
    "- **Stacking** combines predictions by **training a meta-model** to optimally integrate the outputs of several base learners."
   ]
  },
  {
   "cell_type": "markdown",
   "metadata": {},
   "source": [
    "## **📌 What is Bagging?**"
   ]
  },
  {
   "cell_type": "markdown",
   "metadata": {},
   "source": [
    "✅ **Bagging** (Bootstrap Aggregating) involves:  \n",
    "- **Creating multiple subsets** of the training data (with replacement).  \n",
    "- **Training individual models** (base learners) on each subset independently.  \n",
    "- **Aggregating predictions** (e.g., by averaging for regression or voting for classification).  \n",
    "\n",
    "**Real-Life Sports Example (Football ⚽):**  \n",
    "- Imagine several assistant coaches each analyze **different subsets of match data** (maybe focusing on different time segments).  \n",
    "- Each coach independently predicts whether the team will win or lose.  \n",
    "- Finally, you **average their predictions** (or take a majority vote) to decide the final outcome."
   ]
  },
  {
   "cell_type": "markdown",
   "metadata": {},
   "source": [
    "## **📌 What is Stacking?**"
   ]
  },
  {
   "cell_type": "markdown",
   "metadata": {},
   "source": [
    "✅ **Stacking** (Stacked Generalization) involves:  \n",
    "- **Training multiple diverse models** (base learners) on the entire dataset.  \n",
    "- **Collecting the predictions** of these models.  \n",
    "- **Training a meta-learner** (or second-level model) on these predictions to learn the best way to combine them.  \n",
    "\n",
    "**Real-Life Sports Example (NBA 🏀):**  \n",
    "- Think of having specialist coaches: one focuses on scoring, one on defense, and one on assists/rebounds.  \n",
    "- Each specialist gives their own prediction about whether a team will make the playoffs.  \n",
    "- Then, the head coach (meta-learner) learns to combine these opinions—maybe weighting defense more heavily if that’s proven more predictive—to give a final decision."
   ]
  },
  {
   "cell_type": "markdown",
   "metadata": {},
   "source": [
    "## **📊 Comparison Table: Bagging vs. Stacking**"
   ]
  },
  {
   "cell_type": "markdown",
   "metadata": {},
   "source": [
    "| Feature                      | **Bagging** 🏆                     | **Stacking** 🔗                         |  \n",
    "|------------------------------|------------------------------------|-----------------------------------------|  \n",
    "| **Method**                   | Independent model training on bootstrapped samples | Train diverse base models then combine using a meta-learner |  \n",
    "| **Aggregation**              | Averaging (regression) or voting (classification) | Meta-model learns optimal combination weights |  \n",
    "| **Goal**                     | Reduce variance and prevent overfitting | Reduce bias and leverage model diversity |  \n",
    "| **Independence of Models**   | Models are trained **independently** | Models may be **heterogeneous** and are combined intelligently |  \n",
    "| **Complexity**               | Relatively simple (ensemble of similar models) | More complex (requires training an additional layer) |  \n",
    "| **Example Use-Case**         | Random Forests in sports outcome predictions | Stacking different algorithms to predict NBA playoff success |"
   ]
  },
  {
   "cell_type": "markdown",
   "metadata": {},
   "source": [
    "## **🛠️ Python Code Example: Bagging vs. Stacking**"
   ]
  },
  {
   "cell_type": "code",
   "execution_count": 1,
   "metadata": {},
   "outputs": [],
   "source": [
    "import numpy as np\n",
    "import matplotlib.pyplot as plt\n",
    "from sklearn.datasets import make_classification\n",
    "from sklearn.model_selection import train_test_split\n",
    "from sklearn.ensemble import BaggingClassifier, RandomForestClassifier, StackingClassifier\n",
    "from sklearn.linear_model import LogisticRegression\n",
    "from sklearn.svm import SVC\n",
    "from sklearn.metrics import accuracy_score\n",
    "\n",
    "# Set seed for reproducibility 🔒\n",
    "np.random.seed(42)"
   ]
  },
  {
   "cell_type": "code",
   "execution_count": 2,
   "metadata": {},
   "outputs": [],
   "source": [
    "# Generate synthetic sports data for win/loss prediction\n",
    "# For example, features could represent stats such as Shots, Possession, and Defense metrics.\n",
    "X, y = make_classification(n_samples=500, n_features=5, n_informative=3, n_redundant=0, random_state=42)\n",
    "X_train, X_test, y_train, y_test = train_test_split(X, y, test_size=0.3, random_state=42)"
   ]
  },
  {
   "cell_type": "code",
   "execution_count": 3,
   "metadata": {},
   "outputs": [
    {
     "name": "stdout",
     "output_type": "stream",
     "text": [
      "🏆 Bagging Model Accuracy: 95.33%\n"
     ]
    }
   ],
   "source": [
    "# BAGGING Example: Using RandomForestClassifier as Base Learner\n",
    "bagging_model = BaggingClassifier(\n",
    "    estimator=RandomForestClassifier(n_estimators=10, random_state=42),\n",
    "    n_estimators=20,\n",
    "    random_state=42\n",
    ")\n",
    "bagging_model.fit(X_train, y_train)\n",
    "y_pred_bagging = bagging_model.predict(X_test)\n",
    "accuracy_bagging = accuracy_score(y_test, y_pred_bagging)\n",
    "print(f\"🏆 Bagging Model Accuracy: {accuracy_bagging*100:.2f}%\")"
   ]
  },
  {
   "cell_type": "code",
   "execution_count": 4,
   "metadata": {},
   "outputs": [
    {
     "name": "stdout",
     "output_type": "stream",
     "text": [
      "🔗 Stacking Model Accuracy: 95.33%\n"
     ]
    }
   ],
   "source": [
    "# STACKING Example: Combining Diverse Models\n",
    "# Define base learners\n",
    "base_learners = [\n",
    "    ('lr', LogisticRegression(max_iter=1000, random_state=42)),\n",
    "    ('svc', SVC(probability=True, random_state=42))\n",
    "]\n",
    "\n",
    "# Meta-learner\n",
    "meta_learner = LogisticRegression(max_iter=1000, random_state=42)\n",
    "\n",
    "stacking_model = StackingClassifier(\n",
    "    estimators=base_learners,\n",
    "    final_estimator=meta_learner,\n",
    "    cv=5\n",
    ")\n",
    "stacking_model.fit(X_train, y_train)\n",
    "y_pred_stacking = stacking_model.predict(X_test)\n",
    "accuracy_stacking = accuracy_score(y_test, y_pred_stacking)\n",
    "print(f\"🔗 Stacking Model Accuracy: {accuracy_stacking*100:.2f}%\")"
   ]
  },
  {
   "cell_type": "code",
   "execution_count": 5,
   "metadata": {},
   "outputs": [
    {
     "data": {
      "image/png": "[encoded data removed]",
      "text/plain": [
       "<Figure size 800x600 with 1 Axes>"
      ]
     },
     "metadata": {},
     "output_type": "display_data"
    }
   ],
   "source": [
    "# Visualization: Comparison of Predictions\n",
    "plt.figure(figsize=(8,6))\n",
    "plt.scatter(range(len(y_test)), y_test, color='black', marker='o', label='Actual Outcomes')\n",
    "plt.scatter(range(len(y_test)), y_pred_bagging, color='blue', marker='x', label='Bagging Predictions')\n",
    "plt.scatter(range(len(y_test)), y_pred_stacking, color='green', marker='^', label='Stacking Predictions')\n",
    "plt.xlabel(\"Test Sample Index\")\n",
    "plt.ylabel(\"Win Outcome (0 or 1)\")\n",
    "plt.title(\"Comparison of Bagging vs. Stacking Predictions\")\n",
    "plt.legend()\n",
    "plt.grid(True)\n",
    "plt.show()"
   ]
  },
  {
   "cell_type": "markdown",
   "metadata": {},
   "source": [
    "### **Explanation of the Code & Visual Output:**\n",
    "- **Data Generation**: We simulate a classification dataset that could represent sports match statistics (features) and win/loss outcomes (target).\n",
    "- **BaggingClassifier**: Uses a RandomForestClassifier as a base estimator with multiple models trained on bootstrapped samples, and aggregates predictions via majority voting.\n",
    "- **StackingClassifier**: Combines predictions from a Logistic Regression model and a Support Vector Classifier (SVC), with a meta-learner (Logistic Regression) that learns to optimally combine the base models' outputs.\n",
    "- **Visualization**: A scatter plot compares the actual outcomes with predictions from both bagging and stacking methods, demonstrating their performance on the test data."
   ]
  },
  {
   "cell_type": "markdown",
   "metadata": {},
   "source": [
    "## **🔥 Final Takeaways**\n",
    "\n",
    "1. **Bagging** 🏆:  \n",
    "   - Trains multiple models on bootstrapped subsets independently.  \n",
    "   - Aggregates via averaging/voting, reducing variance.  \n",
    "   - Example: Random Forests for sports outcome prediction.  \n",
    "2. **Stacking** 🔗:  \n",
    "   - Combines diverse base learners with a meta-learner.  \n",
    "   - Learns the best way to blend predictions, reducing bias and leveraging model diversity.  \n",
    "   - Example: Combining Logistic Regression and SVC for NBA playoff prediction.  \n",
    "3. **Choosing Between Them**:  \n",
    "   - Use **Bagging** when you want to stabilize predictions and reduce overfitting.  \n",
    "   - Use **Stacking** when you have diverse models and want to capture their complementary strengths.  \n",
    "4. **Real-Life Impact in Sports**:  \n",
    "   - **Football**: Bagging can help aggregate predictions from similar match data, while stacking can integrate insights from different tactical models.  \n",
    "   - **NBA**: Stacking can combine statistical and video-based models to make more robust playoff predictions.  \n",
    "   - **Poker**: Both methods could be used to aggregate different strategies or hand evaluation models for better decision-making."
   ]
  }
 ],
 "metadata": {
  "kernelspec": {
   "display_name": "tf-env",
   "language": "python",
   "name": "tf-env"
  },
  "language_info": {
   "codemirror_mode": {
    "name": "ipython",
    "version": 3
   },
   "file_extension": ".py",
   "mimetype": "text/x-python",
   "name": "python",
   "nbconvert_exporter": "python",
   "pygments_lexer": "ipython3",
   "version": "3.12.9"
  }
 },
 "nbformat": 4,
 "nbformat_minor": 2
}
