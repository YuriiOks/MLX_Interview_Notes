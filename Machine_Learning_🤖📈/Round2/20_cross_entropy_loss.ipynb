{
 "cells": [
  {
   "cell_type": "markdown",
   "metadata": {},
   "source": [
    "# **2️⃣0️⃣ Cross-Entropy Loss: Concept & Its Role in Training Neural Networks 📊🔥🤖**"
   ]
  },
  {
   "cell_type": "markdown",
   "metadata": {},
   "source": [
    "## **💡 Real-Life Analogy: The Referee’s Scoring System in a Football Match ⚽👨‍⚖️**\n",
    "Imagine a football referee who must decide whether each play is correct or incorrect.\n",
    "- **Correct decisions** get **no penalty** and add to the team's confidence.\n",
    "- **Wrong decisions**, especially when made with high confidence, result in **severe penalties** that hurt the team’s score.\n",
    "- Similarly, **cross-entropy loss** punishes a model **heavily for confident mistakes** and rewards it when its predicted probabilities closely match the actual outcomes. 🎯🚫"
   ]
  },
  {
   "cell_type": "markdown",
   "metadata": {},
   "source": [
    "## **📌 What is Cross-Entropy Loss?**\n",
    "✅ **Cross-Entropy Loss** is a measure of the difference between two probability distributions.\n",
    "- It compares the **true distribution** (actual labels) with the **predicted distribution** (model output).\n",
    "- It is commonly used in **classification problems** (both binary and multi-class) to quantify how far the model’s predictions are from the true labels.\n",
    "- **Key Idea**: The loss is low when the predicted probability for the correct class is high and high when the prediction is incorrect or the model is overly confident in a wrong prediction. 🤖✅"
   ]
  },
  {
   "cell_type": "markdown",
   "metadata": {},
   "source": [
    "### **Mathematical Formulation:**\n",
    "\n",
    "- **For Binary Classification** (using labels $y \\in \\{0, 1\\}$):\n",
    "\n",
    "  $$\n",
    "  L = -\\left[y \\log(\\hat{y}) + (1-y) \\log(1-\\hat{y})\\right]\n",
    "  $$\n",
    "  - $\\hat{y}$: The predicted probability for the positive class.\n",
    "  - If $y = 1$ and $\\hat{y}$ is low, the loss becomes **very high**.\n",
    "\n",
    "- **For Multi-Class Classification** (with one-hot encoded labels):\n",
    "\n",
    "  $$\n",
    "  L = -\\sum_{i=1}^{C} y_i \\log(\\hat{y}_i)\n",
    "  $$\n",
    "  - $C$: Number of classes.\n",
    "  - $y_i$: True label for class $i$ (1 for the correct class, 0 for others).\n",
    "  - $\\hat{y}_i$: Predicted probability for class $i$."
   ]
  },
  {
   "cell_type": "markdown",
   "metadata": {},
   "source": [
    "✅ **Why Use Cross-Entropy Loss?**\n",
    "- It provides **smooth gradients** for training via backpropagation.\n",
    "- It **penalizes confident wrong predictions** more than less confident ones, which helps the model learn to be calibrated in its predictions.\n",
    "- It is **differentiable**, making it suitable for gradient-based optimization algorithms like SGD, Adam, etc. 🔄📈"
   ]
  },
  {
   "cell_type": "markdown",
   "metadata": {},
   "source": [
    "## **🔍 How Is It Used in Training Neural Networks?**\n",
    "1. **Model Output**:\n",
    "   - The network typically ends with a **softmax layer** (for multi-class) or a **sigmoid layer** (for binary), producing a probability distribution over classes.\n",
    "2. **Loss Computation**:\n",
    "   - Cross-entropy loss is computed by comparing the predicted probabilities with the true labels.\n",
    "3. **Backpropagation**:\n",
    "   - The computed loss is then **backpropagated** to update the model weights, reducing the difference between the predicted and true distributions over time.\n",
    "4. **Optimization**:\n",
    "   - Optimizers (e.g., Adam, SGD) use the gradients from the cross-entropy loss to adjust weights in a way that minimizes this loss, leading to a more accurate model."
   ]
  },
  {
   "cell_type": "markdown",
   "metadata": {},
   "source": [
    "## **📊 Sports Example: Predicting Win/Loss in Football ⚽**\n",
    "Imagine you’re building a neural network to predict whether a football team will win (1) or lose (0) based on match statistics (shots, possession, etc.).\n",
    "- **True Labels**: Represented as 0 (loss) or 1 (win).\n",
    "- **Predicted Probabilities**: The model outputs a probability (e.g., 0.85 for a win).\n",
    "- **Cross-Entropy Loss Calculation**:\n",
    "  - If the team **actually wins** ($y = 1$) and the model predicts $\\hat{y} = 0.85$, the loss is:\n",
    "    $$\n",
    "    L = -\\log(0.85)\n",
    "    $$\n",
    "  - If the model predicted a low probability for a win, the loss would be much higher, strongly penalizing the mistake. ⚽🚫"
   ]
  },
  {
   "cell_type": "markdown",
   "metadata": {},
   "source": [
    "## **🛠️ Python Code Example: Using Cross-Entropy Loss in a Neural Network**\n",
    "Below is an example using TensorFlow/Keras to build a simple neural network for a binary classification problem (simulating sports match outcomes). We’ll use **cross-entropy loss** during training and visualize the results."
   ]
  },
  {
   "cell_type": "code",
   "execution_count": 1,
   "metadata": {},
   "outputs": [],
   "source": [
    "import numpy as np\n",
    "import matplotlib.pyplot as plt\n",
    "import tensorflow as tf\n",
    "from tensorflow.keras.models import Sequential\n",
    "from tensorflow.keras.layers import Dense\n",
    "from tensorflow.keras.optimizers import Adam\n",
    "\n",
    "# Set seeds for reproducibility 🔒\n",
    "np.random.seed(42)\n",
    "tf.random.set_seed(42)"
   ]
  },
  {
   "cell_type": "code",
   "execution_count": 2,
   "metadata": {},
   "outputs": [],
   "source": [
    "# Generate Synthetic Sports Data ⚽\n",
    "# Features: [Shots on Target, Possession %] (simplified)\n",
    "# Target: 1 if team wins, 0 if team loses\n",
    "n_samples = 300\n",
    "shots = np.random.randint(0, 11, n_samples)            # 0 to 10 shots\n",
    "possession = np.random.randint(30, 101, n_samples)       # 30% to 100% possession\n",
    "\n",
    "# Create feature matrix X and binary target y using a simple rule:\n",
    "X = np.vstack([shots, possession]).T.astype(np.float32)\n",
    "# If (0.4 * shots + 0.01 * possession) > 3, predict win (1), else loss (0)\n",
    "y = ((0.4 * shots + 0.01 * possession) > 3).astype(int)\n",
    "\n",
    "# Normalize features\n",
    "X[:, 0] /= 10.0  # Normalize shots\n",
    "X[:, 1] /= 100.0  # Normalize possession\n",
    "\n",
    "# Split data into training and testing sets\n",
    "from sklearn.model_selection import train_test_split\n",
    "X_train, X_test, y_train, y_test = train_test_split(X, y, test_size=0.3, random_state=42)"
   ]
  },
  {
   "cell_type": "code",
   "execution_count": 3,
   "metadata": {},
   "outputs": [
    {
     "name": "stderr",
     "output_type": "stream",
     "text": [
      "/Users/Oks_WORKSPACE/Desktop/DEV/MLX_Interview_Notes/.venv/lib/python3.12/site-packages/keras/src/layers/core/dense.py:87: UserWarning: Do not pass an `input_shape`/`input_dim` argument to a layer. When using Sequential models, prefer using an `Input(shape)` object as the first layer in the model instead.\n",
      "  super().__init__(activity_regularizer=activity_regularizer, **kwargs)\n"
     ]
    },
    {
     "data": {
      "text/html": [
       "<pre style=\"white-space:pre;overflow-x:auto;line-height:normal;font-family:Menlo,'DejaVu Sans Mono',consolas,'Courier New',monospace\"><span style=\"font-weight: bold\">Model: \"sequential\"</span>\n",
       "</pre>\n"
      ],
      "text/plain": [
       "\u001b[1mModel: \"sequential\"\u001b[0m\n"
      ]
     },
     "metadata": {},
     "output_type": "display_data"
    },
    {
     "data": {
      "text/html": [
       "<pre style=\"white-space:pre;overflow-x:auto;line-height:normal;font-family:Menlo,'DejaVu Sans Mono',consolas,'Courier New',monospace\">┏━━━━━━━━━━━━━━━━━━━━━━━━━━━━━━━━━┳━━━━━━━━━━━━━━━━━━━━━━━━┳━━━━━━━━━━━━━━━┓\n",
       "┃<span style=\"font-weight: bold\"> Layer (type)                    </span>┃<span style=\"font-weight: bold\"> Output Shape           </span>┃<span style=\"font-weight: bold\">       Param # </span>┃\n",
       "┡━━━━━━━━━━━━━━━━━━━━━━━━━━━━━━━━━╇━━━━━━━━━━━━━━━━━━━━━━━━╇━━━━━━━━━━━━━━━┩\n",
       "│ dense (<span style=\"color: #0087ff; text-decoration-color: #0087ff\">Dense</span>)                   │ (<span style=\"color: #00d7ff; text-decoration-color: #00d7ff\">None</span>, <span style=\"color: #00af00; text-decoration-color: #00af00\">8</span>)              │            <span style=\"color: #00af00; text-decoration-color: #00af00\">24</span> │\n",
       "├─────────────────────────────────┼────────────────────────┼───────────────┤\n",
       "│ dense_1 (<span style=\"color: #0087ff; text-decoration-color: #0087ff\">Dense</span>)                 │ (<span style=\"color: #00d7ff; text-decoration-color: #00d7ff\">None</span>, <span style=\"color: #00af00; text-decoration-color: #00af00\">4</span>)              │            <span style=\"color: #00af00; text-decoration-color: #00af00\">36</span> │\n",
       "├─────────────────────────────────┼────────────────────────┼───────────────┤\n",
       "│ dense_2 (<span style=\"color: #0087ff; text-decoration-color: #0087ff\">Dense</span>)                 │ (<span style=\"color: #00d7ff; text-decoration-color: #00d7ff\">None</span>, <span style=\"color: #00af00; text-decoration-color: #00af00\">1</span>)              │             <span style=\"color: #00af00; text-decoration-color: #00af00\">5</span> │\n",
       "└─────────────────────────────────┴────────────────────────┴───────────────┘\n",
       "</pre>\n"
      ],
      "text/plain": [
       "┏━━━━━━━━━━━━━━━━━━━━━━━━━━━━━━━━━┳━━━━━━━━━━━━━━━━━━━━━━━━┳━━━━━━━━━━━━━━━┓\n",
       "┃\u001b[1m \u001b[0m\u001b[1mLayer (type)                   \u001b[0m\u001b[1m \u001b[0m┃\u001b[1m \u001b[0m\u001b[1mOutput Shape          \u001b[0m\u001b[1m \u001b[0m┃\u001b[1m \u001b[0m\u001b[1m      Param #\u001b[0m\u001b[1m \u001b[0m┃\n",
       "┡━━━━━━━━━━━━━━━━━━━━━━━━━━━━━━━━━╇━━━━━━━━━━━━━━━━━━━━━━━━╇━━━━━━━━━━━━━━━┩\n",
       "│ dense (\u001b[38;5;33mDense\u001b[0m)                   │ (\u001b[38;5;45mNone\u001b[0m, \u001b[38;5;34m8\u001b[0m)              │            \u001b[38;5;34m24\u001b[0m │\n",
       "├─────────────────────────────────┼────────────────────────┼───────────────┤\n",
       "│ dense_1 (\u001b[38;5;33mDense\u001b[0m)                 │ (\u001b[38;5;45mNone\u001b[0m, \u001b[38;5;34m4\u001b[0m)              │            \u001b[38;5;34m36\u001b[0m │\n",
       "├─────────────────────────────────┼────────────────────────┼───────────────┤\n",
       "│ dense_2 (\u001b[38;5;33mDense\u001b[0m)                 │ (\u001b[38;5;45mNone\u001b[0m, \u001b[38;5;34m1\u001b[0m)              │             \u001b[38;5;34m5\u001b[0m │\n",
       "└─────────────────────────────────┴────────────────────────┴───────────────┘\n"
      ]
     },
     "metadata": {},
     "output_type": "display_data"
    },
    {
     "data": {
      "text/html": [
       "<pre style=\"white-space:pre;overflow-x:auto;line-height:normal;font-family:Menlo,'DejaVu Sans Mono',consolas,'Courier New',monospace\"><span style=\"font-weight: bold\"> Total params: </span><span style=\"color: #00af00; text-decoration-color: #00af00\">65</span> (260.00 B)\n",
       "</pre>\n"
      ],
      "text/plain": [
       "\u001b[1m Total params: \u001b[0m\u001b[38;5;34m65\u001b[0m (260.00 B)\n"
      ]
     },
     "metadata": {},
     "output_type": "display_data"
    },
    {
     "data": {
      "text/html": [
       "<pre style=\"white-space:pre;overflow-x:auto;line-height:normal;font-family:Menlo,'DejaVu Sans Mono',consolas,'Courier New',monospace\"><span style=\"font-weight: bold\"> Trainable params: </span><span style=\"color: #00af00; text-decoration-color: #00af00\">65</span> (260.00 B)\n",
       "</pre>\n"
      ],
      "text/plain": [
       "\u001b[1m Trainable params: \u001b[0m\u001b[38;5;34m65\u001b[0m (260.00 B)\n"
      ]
     },
     "metadata": {},
     "output_type": "display_data"
    },
    {
     "data": {
      "text/html": [
       "<pre style=\"white-space:pre;overflow-x:auto;line-height:normal;font-family:Menlo,'DejaVu Sans Mono',consolas,'Courier New',monospace\"><span style=\"font-weight: bold\"> Non-trainable params: </span><span style=\"color: #00af00; text-decoration-color: #00af00\">0</span> (0.00 B)\n",
       "</pre>\n"
      ],
      "text/plain": [
       "\u001b[1m Non-trainable params: \u001b[0m\u001b[38;5;34m0\u001b[0m (0.00 B)\n"
      ]
     },
     "metadata": {},
     "output_type": "display_data"
    }
   ],
   "source": [
    "# Build a Simple Neural Network Model 📊\n",
    "model = Sequential([\n",
    "    Dense(8, activation='relu', input_shape=(X_train.shape[1],)),\n",
    "    Dense(4, activation='relu'),\n",
    "    Dense(1, activation='sigmoid')  # Sigmoid outputs probability for binary classification\n",
    "])\n",
    "\n",
    "# Compile the model with binary cross-entropy loss and Adam optimizer\n",
    "model.compile(optimizer=Adam(learning_rate=0.01), \n",
    "              loss='binary_crossentropy', \n",
    "              metrics=['accuracy'])\n",
    "model.summary()"
   ]
  },
  {
   "cell_type": "code",
   "execution_count": 4,
   "metadata": {},
   "outputs": [
    {
     "name": "stdout",
     "output_type": "stream",
     "text": [
      "Epoch 1/30\n",
      "\u001b[1m11/11\u001b[0m \u001b[32m━━━━━━━━━━━━━━━━━━━━\u001b[0m\u001b[37m\u001b[0m \u001b[1m0s\u001b[0m 8ms/step - accuracy: 0.5763 - loss: 0.7031 - val_accuracy: 0.5952 - val_loss: 0.6568\n",
      "Epoch 2/30\n",
      "\u001b[1m11/11\u001b[0m \u001b[32m━━━━━━━━━━━━━━━━━━━━\u001b[0m\u001b[37m\u001b[0m \u001b[1m0s\u001b[0m 3ms/step - accuracy: 0.5763 - loss: 0.6432 - val_accuracy: 0.5952 - val_loss: 0.6160\n",
      "Epoch 3/30\n",
      "\u001b[1m11/11\u001b[0m \u001b[32m━━━━━━━━━━━━━━━━━━━━\u001b[0m\u001b[37m\u001b[0m \u001b[1m0s\u001b[0m 3ms/step - accuracy: 0.5763 - loss: 0.6006 - val_accuracy: 0.5952 - val_loss: 0.5784\n",
      "Epoch 4/30\n",
      "\u001b[1m11/11\u001b[0m \u001b[32m━━━━━━━━━━━━━━━━━━━━\u001b[0m\u001b[37m\u001b[0m \u001b[1m0s\u001b[0m 3ms/step - accuracy: 0.5763 - loss: 0.5600 - val_accuracy: 0.5952 - val_loss: 0.5428\n",
      "Epoch 5/30\n",
      "\u001b[1m11/11\u001b[0m \u001b[32m━━━━━━━━━━━━━━━━━━━━\u001b[0m\u001b[37m\u001b[0m \u001b[1m0s\u001b[0m 3ms/step - accuracy: 0.5763 - loss: 0.5196 - val_accuracy: 0.5952 - val_loss: 0.5063\n",
      "Epoch 6/30\n",
      "\u001b[1m11/11\u001b[0m \u001b[32m━━━━━━━━━━━━━━━━━━━━\u001b[0m\u001b[37m\u001b[0m \u001b[1m0s\u001b[0m 3ms/step - accuracy: 0.6678 - loss: 0.4832 - val_accuracy: 0.8333 - val_loss: 0.4714\n",
      "Epoch 7/30\n",
      "\u001b[1m11/11\u001b[0m \u001b[32m━━━━━━━━━━━━━━━━━━━━\u001b[0m\u001b[37m\u001b[0m \u001b[1m0s\u001b[0m 3ms/step - accuracy: 0.8408 - loss: 0.4483 - val_accuracy: 0.8571 - val_loss: 0.4374\n",
      "Epoch 8/30\n",
      "\u001b[1m11/11\u001b[0m \u001b[32m━━━━━━━━━━━━━━━━━━━━\u001b[0m\u001b[37m\u001b[0m \u001b[1m0s\u001b[0m 3ms/step - accuracy: 0.8659 - loss: 0.4177 - val_accuracy: 0.8571 - val_loss: 0.4057\n",
      "Epoch 9/30\n",
      "\u001b[1m11/11\u001b[0m \u001b[32m━━━━━━━━━━━━━━━━━━━━\u001b[0m\u001b[37m\u001b[0m \u001b[1m0s\u001b[0m 3ms/step - accuracy: 0.8630 - loss: 0.3904 - val_accuracy: 0.8571 - val_loss: 0.3736\n",
      "Epoch 10/30\n",
      "\u001b[1m11/11\u001b[0m \u001b[32m━━━━━━━━━━━━━━━━━━━━\u001b[0m\u001b[37m\u001b[0m \u001b[1m0s\u001b[0m 3ms/step - accuracy: 0.8771 - loss: 0.3648 - val_accuracy: 0.8810 - val_loss: 0.3440\n",
      "Epoch 11/30\n",
      "\u001b[1m11/11\u001b[0m \u001b[32m━━━━━━━━━━━━━━━━━━━━\u001b[0m\u001b[37m\u001b[0m \u001b[1m0s\u001b[0m 3ms/step - accuracy: 0.8886 - loss: 0.3411 - val_accuracy: 0.9048 - val_loss: 0.3184\n",
      "Epoch 12/30\n",
      "\u001b[1m11/11\u001b[0m \u001b[32m━━━━━━━━━━━━━━━━━━━━\u001b[0m\u001b[37m\u001b[0m \u001b[1m0s\u001b[0m 3ms/step - accuracy: 0.8886 - loss: 0.3211 - val_accuracy: 0.9048 - val_loss: 0.2944\n",
      "Epoch 13/30\n",
      "\u001b[1m11/11\u001b[0m \u001b[32m━━━━━━━━━━━━━━━━━━━━\u001b[0m\u001b[37m\u001b[0m \u001b[1m0s\u001b[0m 3ms/step - accuracy: 0.8866 - loss: 0.3017 - val_accuracy: 0.9762 - val_loss: 0.2709\n",
      "Epoch 14/30\n",
      "\u001b[1m11/11\u001b[0m \u001b[32m━━━━━━━━━━━━━━━━━━━━\u001b[0m\u001b[37m\u001b[0m \u001b[1m0s\u001b[0m 3ms/step - accuracy: 0.9190 - loss: 0.2833 - val_accuracy: 1.0000 - val_loss: 0.2503\n",
      "Epoch 15/30\n",
      "\u001b[1m11/11\u001b[0m \u001b[32m━━━━━━━━━━━━━━━━━━━━\u001b[0m\u001b[37m\u001b[0m \u001b[1m0s\u001b[0m 3ms/step - accuracy: 0.9278 - loss: 0.2672 - val_accuracy: 0.9762 - val_loss: 0.2309\n",
      "Epoch 16/30\n",
      "\u001b[1m11/11\u001b[0m \u001b[32m━━━━━━━━━━━━━━━━━━━━\u001b[0m\u001b[37m\u001b[0m \u001b[1m0s\u001b[0m 3ms/step - accuracy: 0.9190 - loss: 0.2513 - val_accuracy: 1.0000 - val_loss: 0.2133\n",
      "Epoch 17/30\n",
      "\u001b[1m11/11\u001b[0m \u001b[32m━━━━━━━━━━━━━━━━━━━━\u001b[0m\u001b[37m\u001b[0m \u001b[1m0s\u001b[0m 3ms/step - accuracy: 0.9478 - loss: 0.2371 - val_accuracy: 1.0000 - val_loss: 0.1971\n",
      "Epoch 18/30\n",
      "\u001b[1m11/11\u001b[0m \u001b[32m━━━━━━━━━━━━━━━━━━━━\u001b[0m\u001b[37m\u001b[0m \u001b[1m0s\u001b[0m 3ms/step - accuracy: 0.9478 - loss: 0.2237 - val_accuracy: 1.0000 - val_loss: 0.1839\n",
      "Epoch 19/30\n",
      "\u001b[1m11/11\u001b[0m \u001b[32m━━━━━━━━━━━━━━━━━━━━\u001b[0m\u001b[37m\u001b[0m \u001b[1m0s\u001b[0m 2ms/step - accuracy: 0.9542 - loss: 0.2122 - val_accuracy: 1.0000 - val_loss: 0.1792\n",
      "Epoch 20/30\n",
      "\u001b[1m11/11\u001b[0m \u001b[32m━━━━━━━━━━━━━━━━━━━━\u001b[0m\u001b[37m\u001b[0m \u001b[1m0s\u001b[0m 2ms/step - accuracy: 0.9521 - loss: 0.2034 - val_accuracy: 1.0000 - val_loss: 0.1668\n",
      "Epoch 21/30\n",
      "\u001b[1m11/11\u001b[0m \u001b[32m━━━━━━━━━━━━━━━━━━━━\u001b[0m\u001b[37m\u001b[0m \u001b[1m0s\u001b[0m 3ms/step - accuracy: 0.9684 - loss: 0.1939 - val_accuracy: 1.0000 - val_loss: 0.1606\n",
      "Epoch 22/30\n",
      "\u001b[1m11/11\u001b[0m \u001b[32m━━━━━━━━━━━━━━━━━━━━\u001b[0m\u001b[37m\u001b[0m \u001b[1m0s\u001b[0m 3ms/step - accuracy: 0.9630 - loss: 0.1862 - val_accuracy: 1.0000 - val_loss: 0.1526\n",
      "Epoch 23/30\n",
      "\u001b[1m11/11\u001b[0m \u001b[32m━━━━━━━━━━━━━━━━━━━━\u001b[0m\u001b[37m\u001b[0m \u001b[1m0s\u001b[0m 3ms/step - accuracy: 0.9684 - loss: 0.1785 - val_accuracy: 1.0000 - val_loss: 0.1456\n",
      "Epoch 24/30\n",
      "\u001b[1m11/11\u001b[0m \u001b[32m━━━━━━━━━━━━━━━━━━━━\u001b[0m\u001b[37m\u001b[0m \u001b[1m0s\u001b[0m 2ms/step - accuracy: 0.9684 - loss: 0.1717 - val_accuracy: 1.0000 - val_loss: 0.1414\n",
      "Epoch 25/30\n",
      "\u001b[1m11/11\u001b[0m \u001b[32m━━━━━━━━━━━━━━━━━━━━\u001b[0m\u001b[37m\u001b[0m \u001b[1m0s\u001b[0m 2ms/step - accuracy: 0.9890 - loss: 0.1648 - val_accuracy: 1.0000 - val_loss: 0.1342\n",
      "Epoch 26/30\n",
      "\u001b[1m11/11\u001b[0m \u001b[32m━━━━━━━━━━━━━━━━━━━━\u001b[0m\u001b[37m\u001b[0m \u001b[1m0s\u001b[0m 3ms/step - accuracy: 0.9738 - loss: 0.1593 - val_accuracy: 1.0000 - val_loss: 0.1313\n",
      "Epoch 27/30\n",
      "\u001b[1m11/11\u001b[0m \u001b[32m━━━━━━━━━━━━━━━━━━━━\u001b[0m\u001b[37m\u001b[0m \u001b[1m0s\u001b[0m 2ms/step - accuracy: 0.9890 - loss: 0.1531 - val_accuracy: 1.0000 - val_loss: 0.1248\n",
      "Epoch 28/30\n",
      "\u001b[1m11/11\u001b[0m \u001b[32m━━━━━━━━━━━━━━━━━━━━\u001b[0m\u001b[37m\u001b[0m \u001b[1m0s\u001b[0m 2ms/step - accuracy: 0.9805 - loss: 0.1485 - val_accuracy: 1.0000 - val_loss: 0.1228\n",
      "Epoch 29/30\n",
      "\u001b[1m11/11\u001b[0m \u001b[32m━━━━━━━━━━━━━━━━━━━━\u001b[0m\u001b[37m\u001b[0m \u001b[1m0s\u001b[0m 3ms/step - accuracy: 1.0000 - loss: 0.1427 - val_accuracy: 1.0000 - val_loss: 0.1178\n",
      "Epoch 30/30\n",
      "\u001b[1m11/11\u001b[0m \u001b[32m━━━━━━━━━━━━━━━━━━━━\u001b[0m\u001b[37m\u001b[0m \u001b[1m0s\u001b[0m 10ms/step - accuracy: 0.9890 - loss: 0.1384 - val_accuracy: 1.0000 - val_loss: 0.1147\n"
     ]
    }
   ],
   "source": [
    "# Train the Model & Capture Training History 📈\n",
    "history = model.fit(X_train, y_train, epochs=30, batch_size=16, validation_split=0.2, verbose=1)"
   ]
  },
  {
   "cell_type": "code",
   "execution_count": 5,
   "metadata": {},
   "outputs": [
    {
     "data": {
      "image/png": "[encoded data removed]",
      "text/plain": [
       "<Figure size 1200x500 with 2 Axes>"
      ]
     },
     "metadata": {},
     "output_type": "display_data"
    }
   ],
   "source": [
    "# Plot training & validation loss and accuracy\n",
    "plt.figure(figsize=(12,5))\n",
    "\n",
    "# Plot loss\n",
    "plt.subplot(1,2,1)\n",
    "plt.plot(history.history['loss'], 'r-', marker='o', label=\"Training Loss\")\n",
    "plt.plot(history.history['val_loss'], 'b--', marker='s', label=\"Validation Loss\")\n",
    "plt.xlabel(\"Epoch\")\n",
    "plt.ylabel(\"Binary Cross-Entropy Loss\")\n",
    "plt.title(\"Training vs. Validation Loss\")\n",
    "plt.legend()\n",
    "plt.grid(True)\n",
    "\n",
    "# Plot accuracy\n",
    "plt.subplot(1,2,2)\n",
    "plt.plot(history.history['accuracy'], 'r-', marker='o', label=\"Training Accuracy\")\n",
    "plt.plot(history.history['val_accuracy'], 'b--', marker='s', label=\"Validation Accuracy\")\n",
    "plt.xlabel(\"Epoch\")\n",
    "plt.ylabel(\"Accuracy\")\n",
    "plt.title(\"Training vs. Validation Accuracy\")\n",
    "plt.legend()\n",
    "plt.grid(True)\n",
    "plt.tight_layout()\n",
    "plt.show()"
   ]
  },
  {
   "cell_type": "markdown",
   "metadata": {},
   "source": [
    "### **Overall Interpretation**\n"
   ]
  },
  {
   "cell_type": "markdown",
   "metadata": {},
   "source": [
    "\n",
    "- **Training vs. Validation Performance**:  \n",
    "  - The training metrics (accuracy and loss) show a steady improvement, with accuracy increasing and loss decreasing.\n",
    "  - The validation metrics follow a similar trend, which suggests that the model is generalizing reasonably well to unseen data.\n",
    "  \n",
    "- **Model Learning**:  \n",
    "  - The increase in accuracy and decrease in loss (both training and validation) indicate that the model is learning the underlying patterns in the data.\n",
    "  \n",
    "- **Potential Overfitting Concerns**:  \n",
    "  - In some scenarios, if training accuracy is near 100% but validation accuracy stagnates or drops, it might signal overfitting. In this output, validation accuracy eventually reaches 100% as well, which is promising—but it's essential to monitor for any signs of overfitting with more complex data or extended training.\n"
   ]
  },
  {
   "cell_type": "code",
   "execution_count": 6,
   "metadata": {},
   "outputs": [
    {
     "name": "stdout",
     "output_type": "stream",
     "text": [
      "🔍 Test Loss: 0.1420 | Test Accuracy: 100.00%\n"
     ]
    }
   ],
   "source": [
    "# Evaluate the model on the test set\n",
    "test_loss, test_acc = model.evaluate(X_test, y_test, verbose=0)\n",
    "print(f\"🔍 Test Loss: {test_loss:.4f} | Test Accuracy: {test_acc*100:.2f}%\")"
   ]
  },
  {
   "cell_type": "code",
   "execution_count": 7,
   "metadata": {},
   "outputs": [
    {
     "name": "stdout",
     "output_type": "stream",
     "text": [
      "\u001b[1m1/1\u001b[0m \u001b[32m━━━━━━━━━━━━━━━━━━━━\u001b[0m\u001b[37m\u001b[0m \u001b[1m0s\u001b[0m 28ms/step\n",
      "Predicted Probabilities: [0.837 0.837 0.837 0.837 0.716 0.837 0.329 0.694 0.553 0.065]\n",
      "Actual Labels: [1 1 1 1 1 1 0 1 1 0]\n"
     ]
    }
   ],
   "source": [
    "# Make predictions on a few samples from the test set\n",
    "predictions = model.predict(X_test[:10])\n",
    "print(\"Predicted Probabilities:\", np.round(predictions.flatten(), 3))\n",
    "print(\"Actual Labels:\", y_test[:10])"
   ]
  },
  {
   "cell_type": "markdown",
   "metadata": {},
   "source": [
    "### **Explanation of the Code & Output:**\n"
   ]
  },
  {
   "cell_type": "markdown",
   "metadata": {},
   "source": [
    "- **Model Architecture**:  \n",
    "  - The network uses **Dense layers** with ReLU activations for hidden layers and a **sigmoid activation** in the output layer to produce probabilities.\n",
    "- **Loss Function**:  \n",
    "  - **Binary cross-entropy loss** is used, which penalizes the model more when it is confident about an incorrect prediction.\n",
    "- **Training**:  \n",
    "  - The model is trained on synthetic sports data where the outcome (win/loss) is determined by match statistics.\n",
    "- **Visualization**:  \n",
    "  - Loss and accuracy curves are plotted, showing how the model learns over epochs.\n",
    "- **Predictions**:  \n",
    "  - The predicted probabilities for test samples are compared against actual labels.\n"
   ]
  },
  {
   "cell_type": "markdown",
   "metadata": {},
   "source": [
    "## **🔥 Final Takeaways**  \n"
   ]
  },
  {
   "cell_type": "markdown",
   "metadata": {},
   "source": [
    "1. **Cross-Entropy Loss** measures the difference between the true label distribution and the predicted distribution.  \n",
    "2. It is **critical for classification tasks** because it **penalizes confident errors** and drives the model to output probabilities close to the true labels.  \n",
    "3. **Mathematically**, it is defined as:\n",
    "   - **Binary**: $ L = -[y \\log(\\hat{y}) + (1-y) \\log(1-\\hat{y})] $  \n",
    "   - **Multi-Class**: $ L = -\\sum_{i=1}^{C} y_i \\log(\\hat{y}_i) $\n",
    "4. **In practice**, cross-entropy loss is used with a **sigmoid or softmax output layer** in neural networks, and its gradients are used in backpropagation to update model weights.  \n",
    "5. Our **Python example** shows how to implement and train a neural network with cross-entropy loss on synthetic sports data, along with visualizations that make the training process clear and engaging. 🎉📊🤖"
   ]
  }
 ],
 "metadata": {
  "kernelspec": {
   "display_name": "tf-env",
   "language": "python",
   "name": "tf-env"
  },
  "language_info": {
   "codemirror_mode": {
    "name": "ipython",
    "version": 3
   },
   "file_extension": ".py",
   "mimetype": "text/x-python",
   "name": "python",
   "nbconvert_exporter": "python",
   "pygments_lexer": "ipython3",
   "version": "3.12.9"
  }
 },
 "nbformat": 4,
 "nbformat_minor": 2
}
