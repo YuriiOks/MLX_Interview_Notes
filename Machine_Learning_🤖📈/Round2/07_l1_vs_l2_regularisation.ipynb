{
 "cells": [
  {
   "cell_type": "markdown",
   "metadata": {},
   "source": [
    "# **7️⃣ L1 vs. L2 Regularisation: Detailed Explanation, Math, and Code Examples 📏💪🔥**"
   ]
  },
  {
   "cell_type": "markdown",
   "metadata": {},
   "source": [
    "## **💡 Real-Life Analogy: Choosing a Football Team Squad ⚽️🏆**\n",
    "\n",
    "Imagine you're a football coach selecting a squad for a major tournament:\n",
    "- **L1 Regularisation (Lasso)** is like choosing a **lean, star-studded team** where you pick only the most influential players and drop the rest. 🏅\n",
    "- **L2 Regularisation (Ridge)** is like having a **deep squad** where you keep all players but slightly reduce the impact of those who might not be as crucial, ensuring that everyone contributes modestly. 🤝\n",
    "\n",
    "Both approaches aim to build a **balanced team** (or model) that performs well without over-relying on any single player (feature), preventing **overfitting** and enhancing **generalisation**."
   ]
  },
  {
   "cell_type": "markdown",
   "metadata": {},
   "source": [
    "## **📌 What Are L1 and L2 Regularisation?**"
   ]
  },
  {
   "cell_type": "markdown",
   "metadata": {},
   "source": [
    "### **L1 Regularisation (Lasso)**\n",
    "\n",
    "✅ **Definition**: Adds a penalty equal to the **absolute value** of the weights.\n",
    "✅ **Effect**: Tends to **sparsify** the model (i.e., set some coefficients exactly to zero), effectively performing **feature selection**.\n",
    "✅ **Mathematical Formula**:\n",
    "\n",
    "$$\n",
    "\\text{Penalty}_{L1} = \\lambda \\sum_{i=1}^{n} |w_i|\n",
    "$$\n",
    "\n",
    "- $ \\lambda $ is the regularisation parameter (controls the strength of the penalty).\n",
    "- $ w_i $ are the model weights."
   ]
  },
  {
   "cell_type": "markdown",
   "metadata": {},
   "source": [
    "### **L2 Regularisation (Ridge)**\n",
    "\n",
    "✅ **Definition**: Adds a penalty equal to the **square of the weights**.\n",
    "✅ **Effect**: Tends to **shrink all coefficients** towards zero but rarely forces any to be exactly zero.\n",
    "✅ **Mathematical Formula**:\n",
    "\n",
    "$$\n",
    "\\text{Penalty}_{L2} = \\lambda \\sum_{i=1}^{n} w_i^2\n",
    "$$"
   ]
  },
  {
   "cell_type": "markdown",
   "metadata": {},
   "source": [
    "## **📊 Comparison Table: L1 vs. L2 Regularisation**\n",
    "\n",
    "| Feature                     | **L1 Regularisation (Lasso)** 🎯                             | **L2 Regularisation (Ridge)** 🚀               |\n",
    "|-----------------------------|--------------------------------------------------------------|-----------------------------------------------|\n",
    "| **Penalty Function**        | $\\lambda \\sum_{i=1}^{n} \\lvert w_i\\rvert$                   | $\\lambda \\sum_{i=1}^{n} w_i^2$                  |\n",
    "| **Effect on Weights**       | Encourages **sparsity** (many zeros) 🧹                   | Shrinks weights **uniformly** 📉                |\n",
    "| **Feature Selection**       | Performs **implicit feature selection** 🔍                    | Does **not** set weights exactly to zero       |\n",
    "| **Sensitivity to Outliers** | More robust (if features are scaled) 💪                      | Can be sensitive to outliers ⚠️                |\n",
    "| **When to Use**             | When you suspect only a **few features** are important 🏅     | When **all features** contribute, but you want to prevent overfitting 🌟 |"
   ]
  },
  {
   "cell_type": "markdown",
   "metadata": {},
   "source": [
    "## **📈 Visualising the Impact**\n",
    "\n",
    "Imagine plotting the magnitude of coefficients after training:\n",
    "- **L1 Regularisation** might yield a plot where **several coefficients drop to zero** (features dropped from the model).\n",
    "- **L2 Regularisation** yields a plot where **all coefficients are reduced in magnitude** but remain nonzero."
   ]
  },
  {
   "cell_type": "markdown",
   "metadata": {},
   "source": [
    "## **🛠️ Python Code Examples with Synthetic Sports Data**\n",
    "\n",
    "Below, we create a synthetic dataset representing a sports scenario (e.g., predicting a football team’s success based on various features). We'll use **scikit-learn**'s Lasso (L1) and Ridge (L2) regressions to illustrate the differences."
   ]
  },
  {
   "cell_type": "markdown",
   "metadata": {},
   "source": [
    "### **A) Generating Synthetic Football Data**"
   ]
  },
  {
   "cell_type": "code",
   "execution_count": 9,
   "metadata": {},
   "outputs": [],
   "source": [
    "import numpy as np\n",
    "import matplotlib.pyplot as plt\n",
    "from sklearn.linear_model import Lasso, Ridge\n",
    "from sklearn.model_selection import train_test_split\n",
    "from sklearn.preprocessing import StandardScaler"
   ]
  },
  {
   "cell_type": "code",
   "execution_count": 10,
   "metadata": {},
   "outputs": [],
   "source": [
    "# Set seed for reproducibility\n",
    "np.random.seed(42)\n",
    "\n",
    "# Generate synthetic football data\n",
    "n_samples = 200"
   ]
  },
  {
   "cell_type": "code",
   "execution_count": null,
   "metadata": {},
   "outputs": [],
   "source": [
    "# Shots on Target: 0 to 10, Possession: 30% to 100%, Opponent Strength: 0 to 10\n",
    "shots = np.random.randint(0, 11, n_samples)\n",
    "possession = np.random.randint(30, 101, n_samples)\n",
    "opp_strength = np.random.randint(0, 11, n_samples)"
   ]
  },
  {
   "cell_type": "code",
   "execution_count": null,
   "metadata": {},
   "outputs": [],
   "source": [
    "# Stack features into X and create a synthetic target (scoring probability)\n",
    "X = np.vstack([shots, possession, opp_strength]).T\n",
    "# Target: a function of features with noise (e.g., higher shots & possession increase probability, higher opp strength decreases)\n",
    "y = (0.05 * shots + 0.01 * possession - 0.04 * opp_strength + np.random.randn(n_samples)*0.05)\n",
    "y = (y - y.min()) / (y.max() - y.min())  # Scale target between 0 and 1"
   ]
  },
  {
   "cell_type": "code",
   "execution_count": null,
   "metadata": {},
   "outputs": [],
   "source": [
    "# Split data\n",
    "X_train, X_test, y_train, y_test = train_test_split(X, y, test_size=0.2, random_state=42)"
   ]
  },
  {
   "cell_type": "code",
   "execution_count": 14,
   "metadata": {},
   "outputs": [],
   "source": [
    "# Standardize features for regularisation\n",
    "scaler = StandardScaler()\n",
    "X_train_scaled = scaler.fit_transform(X_train)\n",
    "X_test_scaled = scaler.transform(X_test)"
   ]
  },
  {
   "cell_type": "markdown",
   "metadata": {},
   "source": [
    "### **B) Fitting Lasso (L1) and Ridge (L2) Models**"
   ]
  },
  {
   "cell_type": "code",
   "execution_count": 15,
   "metadata": {},
   "outputs": [
    {
     "name": "stdout",
     "output_type": "stream",
     "text": [
      "Lasso (L1) Coefficients: [ 0.00748189  0.03841342 -0.        ]\n",
      "Ridge (L2) Coefficients: [ 0.11561385  0.14425444 -0.08777626]\n"
     ]
    }
   ],
   "source": [
    "# Define regularisation strength\n",
    "alpha_val = 0.1\n",
    "\n",
    "# Train Lasso (L1) model\n",
    "lasso_model = Lasso(alpha=alpha_val, random_state=42)\n",
    "lasso_model.fit(X_train_scaled, y_train)\n",
    "lasso_coef = lasso_model.coef_\n",
    "\n",
    "# Train Ridge (L2) model\n",
    "ridge_model = Ridge(alpha=alpha_val, random_state=42)\n",
    "ridge_model.fit(X_train_scaled, y_train)\n",
    "ridge_coef = ridge_model.coef_\n",
    "\n",
    "print(\"Lasso (L1) Coefficients:\", lasso_coef)\n",
    "print(\"Ridge (L2) Coefficients:\", ridge_coef)"
   ]
  },
  {
   "cell_type": "markdown",
   "metadata": {},
   "source": [
    "### **C) Visualizing Coefficients**"
   ]
  },
  {
   "cell_type": "code",
   "execution_count": 19,
   "metadata": {},
   "outputs": [],
   "source": [
    "features = ['Shots on Target', 'Possession %', 'Opponent Strength']\n",
    "x_pos = np.arange(len(features))"
   ]
  },
  {
   "cell_type": "code",
   "execution_count": 20,
   "metadata": {},
   "outputs": [
    {
     "data": {
      "image/png": "[encoded data removed]",
      "text/plain": [
       "<Figure size 800x500 with 1 Axes>"
      ]
     },
     "metadata": {},
     "output_type": "display_data"
    }
   ],
   "source": [
    "plt.figure(figsize=(8,5))\n",
    "plt.bar(x_pos - 0.15, lasso_coef, width=0.3, color='skyblue', label='Lasso (L1)')\n",
    "plt.bar(x_pos + 0.15, ridge_coef, width=0.3, color='salmon', label='Ridge (L2)')\n",
    "plt.xticks(x_pos, features)\n",
    "plt.ylabel(\"Coefficient Value\")\n",
    "plt.title(\"Comparison of L1 and L2 Regularisation Coefficients\")\n",
    "plt.legend()\n",
    "plt.grid(axis='y', linestyle='--', alpha=0.7)\n",
    "plt.show()"
   ]
  },
  {
   "cell_type": "markdown",
   "metadata": {},
   "source": [
    "### **D) Detailed Output & Explanation**\n"
   ]
  },
  {
   "cell_type": "markdown",
   "metadata": {},
   "source": [
    "\n",
    "**Output:**\n",
    "\n",
    "- **Lasso (L1) Model**: Coefficients are [0.007, 0.038, 0.000].\n",
    "- **Ridge (L2) Model**: Coefficients are [0.116, 0.144, -0.088].\n",
    "\n",
    "\n",
    "**Interpretation:**\n",
    "\n",
    "- The **Lasso (L1) model** has effectively shrunk the coefficient for the third feature (which could represent \"Opponent Strength\" in our synthetic football data) to zero. This indicates that L1 regularisation is performing feature selection by eliminating the impact of features deemed less important.\n",
    "- In contrast, the **Ridge (L2) model** has reduced the magnitude of all coefficients but retained a nonzero value for the third feature. This shows that while Ridge regularisation shrinks coefficients to prevent overfitting, it does not completely remove any feature from the model.\n"
   ]
  },
  {
   "cell_type": "markdown",
   "metadata": {},
   "source": [
    "## **🚀 Real-Life Sports Context Recap with Emojis**\n",
    "\n",
    "- **Football Team Selection ⚽**:  \n",
    "  - **L1 (Lasso)**: Chooses the best players (features) by dropping the unnecessary ones.  \n",
    "  - **L2 (Ridge)**: Keeps the whole squad but reduces the impact of less critical players.  \n",
    "- **NBA Analytics 🏀**:  \n",
    "  - When predicting outcomes (like win probability), using regularisation helps the model **avoid overfitting** to noisy performance data.\n",
    "- **Poker Strategy ♠️♥️**:  \n",
    "  - Similar principles apply when selecting key strategic variables without over-emphasizing outliers."
   ]
  },
  {
   "cell_type": "markdown",
   "metadata": {},
   "source": [
    "## **🔥 Final Takeaways**\n",
    "\n",
    "1. **L1 Regularisation (Lasso)** adds a penalty proportional to the absolute value of weights, leading to **sparse models** that perform feature selection. 🧹  \n",
    "2. **L2 Regularisation (Ridge)** adds a penalty proportional to the square of weights, **shrinking coefficients** uniformly and keeping all features in the model. 🚀  \n",
    "3. **The choice** depends on your dataset and goals: use L1 for **feature selection** and L2 for **stability when all features are informative**.  \n",
    "4. **Our Python code** demonstrates these concepts using synthetic football data, with clear visualizations to help both technical and non-technical audiences understand the differences."
   ]
  }
 ],
 "metadata": {
  "kernelspec": {
   "display_name": "tf-env",
   "language": "python",
   "name": "tf-env"
  },
  "language_info": {
   "codemirror_mode": {
    "name": "ipython",
    "version": 3
   },
   "file_extension": ".py",
   "mimetype": "text/x-python",
   "name": "python",
   "nbconvert_exporter": "python",
   "pygments_lexer": "ipython3",
   "version": "3.12.9"
  }
 },
 "nbformat": 4,
 "nbformat_minor": 2
}
