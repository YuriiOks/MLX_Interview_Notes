{
 "cells": [
  {
   "cell_type": "markdown",
   "metadata": {},
   "source": [
    "# **1️⃣2️⃣ Attention Mechanism in Transformers: How It Works & Why It's Amazing 🤖✨🎯**"
   ]
  },
  {
   "cell_type": "markdown",
   "metadata": {},
   "source": [
    "## **💡 Real-Life Analogy: A Sports Commentator Focusing on Key Players 🎙️🏀⚽**"
   ]
  },
  {
   "cell_type": "markdown",
   "metadata": {},
   "source": [
    "Imagine you’re watching a high-stakes basketball game. A seasoned commentator doesn’t try to describe every single move on the court—instead, they focus on the **key players** and **crucial moments** that shape the game. They “pay attention” to:"
   ]
  },
  {
   "cell_type": "markdown",
   "metadata": {},
   "source": [
    "- **Star players’ movements**  \n",
    "- **Critical passes**  \n",
    "- **Decisive shots**"
   ]
  },
  {
   "cell_type": "markdown",
   "metadata": {},
   "source": [
    "Similarly, the **attention mechanism** in Transformer models **selectively focuses** on the most important parts of the input sequence, ignoring less relevant information. This allows the model to understand context and relationships in the data—like a commentator highlighting the key plays!"
   ]
  },
  {
   "cell_type": "markdown",
   "metadata": {},
   "source": [
    "## **📌 What is the Attention Mechanism?**"
   ]
  },
  {
   "cell_type": "markdown",
   "metadata": {},
   "source": [
    "✅ **Attention** allows models to **weigh different parts** of the input differently, so they can focus on the most relevant information when producing an output.  \n",
    "✅ In **Transformers**, it is the backbone of the model, enabling it to process sequences in parallel without recurrence.  \n",
    "✅ **Self-Attention** is a specific type where each element of the sequence attends to all other elements to capture contextual relationships."
   ]
  },
  {
   "cell_type": "markdown",
   "metadata": {},
   "source": [
    "## **🔍 Mathematical Details: Scaled Dot-Product Attention**"
   ]
  },
  {
   "cell_type": "markdown",
   "metadata": {},
   "source": [
    "Given:\n",
    "- **Queries (Q)**, **Keys (K)**, and **Values (V)**, all represented as matrices.\n",
    "\n",
    "The **attention mechanism** computes:\n",
    "\n",
    "$$\n",
    "\\text{Attention}(Q, K, V) = \\text{softmax}\\Big(\\frac{QK^\\top}{\\sqrt{d_k}}\\Big) V\n",
    "$$\n",
    "\n",
    "Where:\n",
    "- $Q$ = Query matrix  \n",
    "- $K$ = Key matrix  \n",
    "- $V$ = Value matrix  \n",
    "- $d_k$ = Dimensionality of the keys (used for scaling)  \n",
    "- **softmax** converts the scores into probabilities, emphasizing the most relevant keys."
   ]
  },
  {
   "cell_type": "markdown",
   "metadata": {},
   "source": [
    "### **Step-by-Step Breakdown:**"
   ]
  },
  {
   "cell_type": "markdown",
   "metadata": {},
   "source": [
    "1. **Dot Product $QK^\\top$**:  \n",
    "   - Computes similarity between queries and keys.  \n",
    "   - Higher scores indicate more relevance. 🔍\n",
    "\n",
    "2. **Scaling by $\\sqrt{d_k}$**:  \n",
    "   - Prevents the dot products from growing too large in magnitude, stabilizing the gradients. 🔢\n",
    "\n",
    "3. **Applying Softmax**:  \n",
    "   - Converts scaled scores into a probability distribution.  \n",
    "   - Each query then “attends” more to keys with higher probabilities. 🎯\n",
    "\n",
    "4. **Weighted Sum (softmax output $\\times V$)**:  \n",
    "   - Produces a weighted sum of the values, with weights determined by the attention scores.  \n",
    "   - This output represents the aggregated information that the query “pays attention” to."
   ]
  },
  {
   "cell_type": "markdown",
   "metadata": {},
   "source": [
    "## **💡 Real-Life Sports Examples Using Attention**"
   ]
  },
  {
   "cell_type": "markdown",
   "metadata": {},
   "source": [
    "### **🏀 NBA Example: Highlight Reel Generation**\n",
    "- **Scenario**: A model generates a highlight reel by focusing on key moments in a game.\n",
    "- **Attention Use**: \n",
    "  - **Queries**: Moments in the video where a highlight might occur (e.g., a fast break).\n",
    "  - **Keys/Values**: Features from all video frames (e.g., player movements, crowd reaction).\n",
    "- **Outcome**: The model assigns higher attention weights to frames with spectacular dunks and clutch plays, creating an engaging highlight reel. 🎥🔥"
   ]
  },
  {
   "cell_type": "markdown",
   "metadata": {},
   "source": [
    "### **⚽ Football Example: Tactical Analysis**\n",
    "- **Scenario**: Analyzing a match to understand team strategy.\n",
    "- **Attention Use**: \n",
    "  - Processes sequences of match events (e.g., passes, shots, defensive moves).\n",
    "  - Uses self-attention to capture long-range dependencies, such as a pass from deep in defense leading to a goal.\n",
    "- **Outcome**: Coaches receive insights on which plays and formations were most effective, enabling better tactical decisions. 📊📈"
   ]
  },
  {
   "cell_type": "markdown",
   "metadata": {},
   "source": [
    "### **♠️ Poker Example: Decision Support**\n",
    "- **Scenario**: In Texas Hold’em, a model suggests optimal moves by analyzing betting patterns over the course of a hand.\n",
    "- **Attention Use**: \n",
    "  - **Queries**: Current betting round features.\n",
    "  - **Keys/Values**: Historical betting actions and outcomes in the hand.\n",
    "- **Outcome**: The model identifies crucial past bets that influence the current decision, helping players make smarter bets. 🃏💡"
   ]
  },
  {
   "cell_type": "markdown",
   "metadata": {},
   "source": [
    "## **🛠️ Python Code Example: Scaled Dot-Product Attention**"
   ]
  },
  {
   "cell_type": "code",
   "execution_count": 1,
   "metadata": {},
   "outputs": [],
   "source": [
    "import numpy as np\n",
    "import matplotlib.pyplot as plt"
   ]
  },
  {
   "cell_type": "code",
   "execution_count": 2,
   "metadata": {},
   "outputs": [],
   "source": [
    "# Set seed for reproducibility 🔒\n",
    "np.random.seed(42)"
   ]
  },
  {
   "cell_type": "code",
   "execution_count": 3,
   "metadata": {},
   "outputs": [],
   "source": [
    "def softmax(x, axis=-1):\n",
    "    \"\"\"Compute softmax values for each set of scores in x.\"\"\"\n",
    "    exps = np.exp(x - np.max(x, axis=axis, keepdims=True))\n",
    "    return exps / np.sum(exps, axis=axis, keepdims=True)"
   ]
  },
  {
   "cell_type": "code",
   "execution_count": 4,
   "metadata": {},
   "outputs": [],
   "source": [
    "def scaled_dot_product_attention(Q, K, V):\n",
    "    \"\"\"\n",
    "    Calculate the scaled dot-product attention.\n",
    "    \n",
    "    Parameters:\n",
    "        Q: Query matrix of shape (num_queries, d_k)\n",
    "        K: Key matrix of shape (num_keys, d_k)\n",
    "        V: Value matrix of shape (num_keys, d_v)\n",
    "    \n",
    "    Returns:\n",
    "        output: Attention output matrix of shape (num_queries, d_v)\n",
    "        attention_weights: Attention weights matrix of shape (num_queries, num_keys)\n",
    "    \"\"\"\n",
    "    d_k = Q.shape[1]\n",
    "    # Compute the dot products between queries and keys\n",
    "    scores = np.dot(Q, K.T)  # Shape: (num_queries, num_keys)\n",
    "    # Scale scores\n",
    "    scores_scaled = scores / np.sqrt(d_k)\n",
    "    # Apply softmax to get attention weights\n",
    "    attention_weights = softmax(scores_scaled, axis=1)\n",
    "    # Multiply by values to get the final output\n",
    "    output = np.dot(attention_weights, V)\n",
    "    return output, attention_weights"
   ]
  },
  {
   "cell_type": "code",
   "execution_count": 5,
   "metadata": {},
   "outputs": [],
   "source": [
    "# Simulate random data for queries, keys, and values 🎲\n",
    "num_queries = 5\n",
    "num_keys = 8\n",
    "d_k = 4  # Dimensionality of keys/queries\n",
    "d_v = 6  # Dimensionality of values"
   ]
  },
  {
   "cell_type": "code",
   "execution_count": 6,
   "metadata": {},
   "outputs": [],
   "source": [
    "Q = np.random.rand(num_queries, d_k)\n",
    "K = np.random.rand(num_keys, d_k)\n",
    "V = np.random.rand(num_keys, d_v)"
   ]
  },
  {
   "cell_type": "code",
   "execution_count": 7,
   "metadata": {},
   "outputs": [
    {
     "data": {
      "text/plain": [
       "array([[0.37454012, 0.95071431, 0.73199394, 0.59865848],\n",
       "       [0.15601864, 0.15599452, 0.05808361, 0.86617615],\n",
       "       [0.60111501, 0.70807258, 0.02058449, 0.96990985],\n",
       "       [0.83244264, 0.21233911, 0.18182497, 0.18340451],\n",
       "       [0.30424224, 0.52475643, 0.43194502, 0.29122914]])"
      ]
     },
     "metadata": {},
     "output_type": "display_data"
    },
    {
     "data": {
      "text/plain": [
       "array([[0.61185289, 0.13949386, 0.29214465, 0.36636184],\n",
       "       [0.45606998, 0.78517596, 0.19967378, 0.51423444],\n",
       "       [0.59241457, 0.04645041, 0.60754485, 0.17052412],\n",
       "       [0.06505159, 0.94888554, 0.96563203, 0.80839735],\n",
       "       [0.30461377, 0.09767211, 0.68423303, 0.44015249],\n",
       "       [0.12203823, 0.49517691, 0.03438852, 0.9093204 ],\n",
       "       [0.25877998, 0.66252228, 0.31171108, 0.52006802],\n",
       "       [0.54671028, 0.18485446, 0.96958463, 0.77513282]])"
      ]
     },
     "metadata": {},
     "output_type": "display_data"
    },
    {
     "data": {
      "text/plain": [
       "array([[0.93949894, 0.89482735, 0.59789998, 0.92187424, 0.0884925 ,\n",
       "        0.19598286],\n",
       "       [0.04522729, 0.32533033, 0.38867729, 0.27134903, 0.82873751,\n",
       "        0.35675333],\n",
       "       [0.28093451, 0.54269608, 0.14092422, 0.80219698, 0.07455064,\n",
       "        0.98688694],\n",
       "       [0.77224477, 0.19871568, 0.00552212, 0.81546143, 0.70685734,\n",
       "        0.72900717],\n",
       "       [0.77127035, 0.07404465, 0.35846573, 0.11586906, 0.86310343,\n",
       "        0.62329813],\n",
       "       [0.33089802, 0.06355835, 0.31098232, 0.32518332, 0.72960618,\n",
       "        0.63755747],\n",
       "       [0.88721274, 0.47221493, 0.11959425, 0.71324479, 0.76078505,\n",
       "        0.5612772 ],\n",
       "       [0.77096718, 0.4937956 , 0.52273283, 0.42754102, 0.02541913,\n",
       "        0.10789143]])"
      ]
     },
     "metadata": {},
     "output_type": "display_data"
    }
   ],
   "source": [
    "display(Q, K, V)"
   ]
  },
  {
   "cell_type": "code",
   "execution_count": 8,
   "metadata": {},
   "outputs": [],
   "source": [
    "# Compute attention output and weights\n",
    "attn_output, attn_weights = scaled_dot_product_attention(Q, K, V)"
   ]
  },
  {
   "cell_type": "code",
   "execution_count": 12,
   "metadata": {},
   "outputs": [
    {
     "name": "stdout",
     "output_type": "stream",
     "text": [
      "🎯 Attention Output:\n"
     ]
    },
    {
     "data": {
      "text/plain": [
       "array([[0.60978992, 0.36418525, 0.28625934, 0.55607077, 0.52895233,\n",
       "        0.5231956 ],\n",
       "       [0.60104704, 0.36977393, 0.30302827, 0.54298296, 0.52051986,\n",
       "        0.51808177],\n",
       "       [0.59460655, 0.36804434, 0.29868911, 0.54540471, 0.53103534,\n",
       "        0.51565288],\n",
       "       [0.60025768, 0.39297011, 0.3106662 , 0.55297076, 0.49451172,\n",
       "        0.51555645],\n",
       "       [0.60485609, 0.37522112, 0.29680586, 0.55256315, 0.51694292,\n",
       "        0.52238702]])"
      ]
     },
     "metadata": {},
     "output_type": "display_data"
    },
    {
     "name": "stdout",
     "output_type": "stream",
     "text": [
      "\n",
      "🎯 Attention Weights:\n"
     ]
    },
    {
     "data": {
      "text/plain": [
       "array([[0.09750009, 0.13006417, 0.09837628, 0.1888612 , 0.10648745,\n",
       "        0.11277419, 0.12341203, 0.14252459],\n",
       "       [0.11309357, 0.1249334 , 0.10393719, 0.14254958, 0.11493087,\n",
       "        0.14052858, 0.12256039, 0.13746642],\n",
       "       [0.1090529 , 0.14038183, 0.09571009, 0.15375199, 0.10195222,\n",
       "        0.13854537, 0.12718305, 0.13342255],\n",
       "       [0.12897918, 0.13012768, 0.12804696, 0.12393503, 0.11788904,\n",
       "        0.112157  , 0.11959348, 0.13927163],\n",
       "       [0.11106794, 0.12869153, 0.11243479, 0.15588995, 0.11533682,\n",
       "        0.11585609, 0.12399871, 0.13672417]])"
      ]
     },
     "metadata": {},
     "output_type": "display_data"
    }
   ],
   "source": [
    "print(\"🎯 Attention Output:\")\n",
    "display(attn_output)\n",
    "print(\"\\n🎯 Attention Weights:\")\n",
    "display(attn_weights)\n"
   ]
  },
  {
   "cell_type": "code",
   "execution_count": 14,
   "metadata": {},
   "outputs": [
    {
     "data": {
      "image/png": "[encoded data removed]",
      "text/plain": [
       "<Figure size 800x500 with 2 Axes>"
      ]
     },
     "metadata": {},
     "output_type": "display_data"
    }
   ],
   "source": [
    "# Visualize attention weights as a heatmap\n",
    "plt.figure(figsize=(8, 5))\n",
    "plt.imshow(attn_weights, cmap='viridis')\n",
    "plt.title(\"Attention Weights Heatmap\")\n",
    "plt.xlabel(\"Key Index\")\n",
    "plt.ylabel(\"Query Index\")\n",
    "plt.colorbar(label=\"Attention Weight\")\n",
    "plt.show()"
   ]
  },
  {
   "cell_type": "markdown",
   "metadata": {},
   "source": [
    "### **Explanation of the Code & Output:**\n",
    "- **Softmax Function**: Converts raw scores into probabilities that sum to 1 across each query. 🔢✅\n",
    "- **Scaled Dot-Product Attention**:\n",
    "  - **Step 1**: Computes dot products between $Q$ and $K^\\top$.\n",
    "  - **Step 2**: Scales the scores by $\\sqrt{d_k}$ to stabilize gradients.\n",
    "  - **Step 3**: Applies softmax to obtain attention weights.\n",
    "  - **Step 4**: Uses these weights to compute a weighted sum of the values $V$, yielding the attention output.\n",
    "- **Output**:\n",
    "  - The **attention output** matrix represents aggregated information for each query.\n",
    "  - The **attention weights** heatmap visually shows which keys each query focused on (darker colors indicate higher weights). 🎨👀"
   ]
  },
  {
   "cell_type": "markdown",
   "metadata": {},
   "source": [
    "## **🔥 Final Takeaways**"
   ]
  },
  {
   "cell_type": "markdown",
   "metadata": {},
   "source": [
    "1. **Attention Mechanism**: \n",
    "   - Allows models to **focus on the most relevant parts** of the input sequence, much like a coach or commentator paying special attention to key plays. 🏀⚽🎙️\n",
    "2. **Scaled Dot-Product Attention Equation**: \n",
    "   $$\n",
    "   \\text{Attention}(Q, K, V) = \\text{softmax}\\left(\\frac{QK^\\top}{\\sqrt{d_k}}\\right)V\n",
    "   $$\n",
    "   - This formula efficiently computes which parts of the input to focus on. 🔮✨\n",
    "3. **Real-Life Applications**:\n",
    "   - **NBA Video Analysis**: Identifying key plays.\n",
    "   - **Football Tactical Analysis**: Understanding game momentum.\n",
    "   - **Poker Strategy**: Analyzing betting patterns over a hand.\n",
    "4. **Python Code Example**: \n",
    "   - Demonstrates attention computations with clear visualizations of attention weights. 📊🎉\n",
    "5. **Enhanced Performance**: \n",
    "   - Transformers leverage attention to process entire sequences in parallel, making them extremely effective for NLP, video analysis, and sports analytics. 🚀🤖"
   ]
  }
 ],
 "metadata": {
  "kernelspec": {
   "display_name": "tf-env",
   "language": "python",
   "name": "tf-env"
  },
  "language_info": {
   "codemirror_mode": {
    "name": "ipython",
    "version": 3
   },
   "file_extension": ".py",
   "mimetype": "text/x-python",
   "name": "python",
   "nbconvert_exporter": "python",
   "pygments_lexer": "ipython3",
   "version": "3.12.9"
  }
 },
 "nbformat": 4,
 "nbformat_minor": 2
}
