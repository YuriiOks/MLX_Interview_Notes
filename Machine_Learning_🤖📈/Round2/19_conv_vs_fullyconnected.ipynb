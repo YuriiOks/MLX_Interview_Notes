{
 "cells": [
  {
   "cell_type": "markdown",
   "metadata": {},
   "source": [
    "# **1️⃣9️⃣ Convolutional vs. Fully Connected Layers: Key Differences & Applications 🤖🎨⚽🏀**"
   ]
  },
  {
   "cell_type": "markdown",
   "metadata": {},
   "source": [
    "## **💡 Real-Life Analogy: The Coach’s Role on the Field vs. the Entire Team Strategy 🏆🎯**"
   ]
  },
  {
   "cell_type": "markdown",
   "metadata": {},
   "source": [
    "Imagine you're a football coach:  \n",
    "- A **convolutional layer** is like a **specialized assistant coach** who focuses on local, **specific regions of the field**—for example, analyzing a particular zone's defense or offense. They look at small areas and extract **local features** such as player formations, passes, or dribbles. ⚽🔍  \n",
    "- A **fully connected layer** is like the **head coach** who takes all the insights from different assistants and **integrates them into an overall game plan**. They consider **all information** from the field holistically to make final decisions. 🏆🧠"
   ]
  },
  {
   "cell_type": "markdown",
   "metadata": {},
   "source": [
    "## **📌 What Is a Convolutional Layer?**"
   ]
  },
  {
   "cell_type": "code",
   "execution_count": 8,
   "metadata": {},
   "outputs": [],
   "source": [
    "from mermaid_renderer import render_mermaid, render_mermaid_from_file"
   ]
  },
  {
   "cell_type": "code",
   "execution_count": 9,
   "metadata": {},
   "outputs": [
    {
     "data": {
      "text/html": [
       "<img src=\"https://mermaid.ink/img/Zmxvd2NoYXJ0IExSCiAgc3ViZ3JhcGggSW5wdXRbIklucHV0IEltYWdlIC8gRmVhdHVyZSBNYXAiXQogICAgQVsiUGl4ZWwgTWF0cml4IChlLmcuLCAyOHgyOCkiXQogIGVuZAogIHN1YmdyYXBoIEZpbHRlclsiQ29udm9sdXRpb25hbCBGaWx0ZXIiXQogICAgQlsiS2VybmVsIChlLmcuLCAzeDMpIl0KICBlbmQKICBzdWJncmFwaCBPcGVyYXRpb25bIkNvbnZvbHV0aW9uIE9wZXJhdGlvbiJdCiAgICBDWyJTbGlkZSBGaWx0ZXIgT3ZlciBJbnB1dCJdCiAgICBEWyJDb21wdXRlIExvY2FsIERvdCBQcm9kdWN0Il0KICBlbmQKICBzdWJncmFwaCBPdXRwdXRbIk91dHB1dCBGZWF0dXJlIE1hcCJdCiAgICBFWyJBY3RpdmF0aW9uIE1hcCAoRXh0cmFjdGVkIEZlYXR1cmVzKSJdCiAgZW5kCgogIEEgLS0+IEMKICBCIC0tPiBDCiAgQyAtLT4gRAogIEQgLS0+IEU=\"/>"
      ],
      "text/plain": [
       "<IPython.core.display.Image object>"
      ]
     },
     "metadata": {},
     "output_type": "display_data"
    }
   ],
   "source": [
    "render_mermaid_from_file(\"19/01_conv.mmd\")"
   ]
  },
  {
   "cell_type": "markdown",
   "metadata": {},
   "source": [
    "✅ A **convolutional layer** (Conv layer) is a specialized neural network layer used primarily in **image, video, and spatial data processing**. It applies **filters (kernels)** that slide (convolve) across the input to detect **local patterns** such as edges, textures, or shapes.  \n",
    "- **Key Properties**:\n",
    "  - **Local Connectivity**: Neurons in a conv layer are connected only to a local region of the input. 📸🕵️‍♂️  \n",
    "  - **Parameter Sharing**: The same filter (set of weights) is used across different parts of the input, reducing the number of parameters. 🔄  \n",
    "  - **Translation Invariance**: The learned features are robust to shifts in the input (e.g., an object appearing anywhere in an image). 🎯✨"
   ]
  },
  {
   "cell_type": "markdown",
   "metadata": {},
   "source": [
    "### **Mathematical Insight**\n",
    "\n",
    "**Convolution Operation**:  \n",
    "$$\n",
    "(I * K)(x, y) = \\sum_{i}\\sum_{j} I(x+i, y+j) \\cdot K(i, j)\n",
    "$$\n",
    "where:\n",
    "- $I$ is the input image (or feature map).\n",
    "- $K$ is the convolutional kernel (filter).\n",
    "- The operation is performed across spatial dimensions."
   ]
  },
  {
   "cell_type": "markdown",
   "metadata": {},
   "source": [
    "## **📌 What Is a Fully Connected Layer?**"
   ]
  },
  {
   "cell_type": "code",
   "execution_count": 10,
   "metadata": {},
   "outputs": [
    {
     "data": {
      "text/html": [
       "<img src=\"https://mermaid.ink/img/Zmxvd2NoYXJ0IFRECiAgICBzdWJncmFwaCBJbnB1dExheWVyW0lucHV0IExheWVyXQogICAgICBJMVtOZXVyb24gMV0KICAgICAgSTJbTmV1cm9uIDJdCiAgICAgIEkzW05ldXJvbiAzXQogICAgICBJNFtOZXVyb24gNF0KICAgIGVuZAogICAgc3ViZ3JhcGggRkNbRnVsbHkgQ29ubmVjdGVkIExheWVyXQogICAgICBGMVtOZXVyb24gMV0KICAgICAgRjJbTmV1cm9uIDJdCiAgICAgIEYzW05ldXJvbiAzXQogICAgZW5kCgogICAgSTEgLS0+IEYxCiAgICBJMSAtLT4gRjIKICAgIEkxIC0tPiBGMwogICAgSTIgLS0+IEYxCiAgICBJMiAtLT4gRjIKICAgIEkyIC0tPiBGMwogICAgSTMgLS0+IEYxCiAgICBJMyAtLT4gRjIKICAgIEkzIC0tPiBGMwogICAgSTQgLS0+IEYxCiAgICBJNCAtLT4gRjIKICAgIEk0IC0tPiBGMw==\"/>"
      ],
      "text/plain": [
       "<IPython.core.display.Image object>"
      ]
     },
     "metadata": {},
     "output_type": "display_data"
    }
   ],
   "source": [
    "render_mermaid_from_file(\"19/02_full.mmd\")"
   ]
  },
  {
   "cell_type": "markdown",
   "metadata": {},
   "source": [
    "✅ A **fully connected layer** (Dense layer) is a traditional neural network layer where every neuron is connected to **every neuron in the previous layer**.  \n",
    "- **Key Properties**:\n",
    "  - **Global Connectivity**: It processes the entire input, capturing complex, non-linear combinations of features. 🌐  \n",
    "  - **High Parameter Count**: Because every input is connected to every output, it has many parameters, which can lead to overfitting if not managed. 🏋️‍♂️  \n",
    "  - **Integration Role**: Used near the output end to combine features extracted by earlier layers (like conv layers) into final predictions. 🎯"
   ]
  },
  {
   "cell_type": "markdown",
   "metadata": {},
   "source": [
    "### **Mathematical Insight**\n",
    "\n",
    "**Fully Connected Operation**:  \n",
    "$$\n",
    "y = \\sigma(Wx + b)\n",
    "$$\n",
    "where:\n",
    "- $x$ is the input vector.\n",
    "- $W$ is the weight matrix.\n",
    "- $b$ is the bias vector.\n",
    "- $\\sigma$ is an activation function."
   ]
  },
  {
   "cell_type": "markdown",
   "metadata": {},
   "source": [
    "## **🔄 Key Differences Between Convolutional and Fully Connected Layers**"
   ]
  },
  {
   "cell_type": "markdown",
   "metadata": {},
   "source": [
    "| **Aspect**                 | **Convolutional Layer** 🎨       | **Fully Connected Layer** 🔗         |\n",
    "|----------------------------|------------------------------------|--------------------------------------|\n",
    "| **Connectivity**           | Local (neighbors only)             | Global (all-to-all)                  |\n",
    "| **Parameter Sharing**      | Yes (same filter across input)     | No (unique weights for each connection) |\n",
    "| **Output Structure**       | Preserves spatial dimensions (feature maps) | Flattens input to a vector         |\n",
    "| **Applications**           | Images, videos, spatial data       | Final decision-making, classification, regression |\n",
    "| **Computational Efficiency** | Fewer parameters, faster          | More parameters, can be computationally heavy |\n",
    "| **Translation Invariance** | Yes, robust to shifts              | Not inherently invariant             |"
   ]
  },
  {
   "cell_type": "markdown",
   "metadata": {},
   "source": [
    "## **📊 Practical Sports Examples with Emojis**"
   ]
  },
  {
   "cell_type": "markdown",
   "metadata": {},
   "source": [
    "### **🏀 NBA Example: Analyzing Game Footage**  \n",
    "- **Convolutional Layers**:  \n",
    "  - Used in CNNs for **video analysis** to detect key actions (like dunks or passes) by extracting **local visual features** from frames. 🎥🏀  \n",
    "- **Fully Connected Layers**:  \n",
    "  - Combine these local features to classify overall game actions or predict outcomes (e.g., win/loss probabilities). 🧠🎯"
   ]
  },
  {
   "cell_type": "markdown",
   "metadata": {},
   "source": [
    "### **⚽ Football Example: Tactical Analysis of Player Movements**  \n",
    "- **Convolutional Layers**:  \n",
    "  - Process **spatial data** from tracking systems (e.g., positions on the pitch) to extract movement patterns, formations, or plays. ⚽🔍  \n",
    "- **Fully Connected Layers**:  \n",
    "  - Integrate these features to decide on strategies or predict match outcomes. 🏆📊"
   ]
  },
  {
   "cell_type": "markdown",
   "metadata": {},
   "source": [
    "### **♠️ Texas Hold’em Poker Example: Image-Based Card Recognition**  \n",
    "- **Convolutional Layers**:  \n",
    "  - Recognize cards from images by detecting patterns, numbers, and suits. 🃏🎴  \n",
    "- **Fully Connected Layers**:  \n",
    "  - Use these recognized features to determine hand strength or suggest betting strategies. 💰🤖"
   ]
  },
  {
   "cell_type": "markdown",
   "metadata": {},
   "source": [
    "## **🛠️ Python Code Example: Convolutional vs. Fully Connected Layers**"
   ]
  },
  {
   "cell_type": "markdown",
   "metadata": {},
   "source": [
    "Below is a simple Keras example that demonstrates a CNN architecture for image classification (think of it as processing sports images). We include convolutional layers followed by a fully connected layer."
   ]
  },
  {
   "cell_type": "code",
   "execution_count": 1,
   "metadata": {},
   "outputs": [],
   "source": [
    "'''\n",
    "Simple CNN Model Demonstrating Convolutional and Fully Connected Layers 🎨🏆\n",
    "---------------------------------------------------------------------------\n",
    "This example creates a simple CNN using TensorFlow/Keras. It processes synthetic \n",
    "sports-like images (e.g., simplified representations of sports events) and \n",
    "classifies them. The model architecture highlights the role of convolutional \n",
    "layers for feature extraction and fully connected layers for final decision making.\n",
    "'''\n",
    "\n",
    "import tensorflow as tf\n",
    "from tensorflow.keras.models import Sequential\n",
    "from tensorflow.keras.layers import Conv2D, MaxPooling2D, Flatten, Dense\n",
    "import numpy as np\n",
    "import matplotlib.pyplot as plt"
   ]
  },
  {
   "cell_type": "code",
   "execution_count": 2,
   "metadata": {},
   "outputs": [],
   "source": [
    "# Set seed for reproducibility 🔒\n",
    "tf.random.set_seed(42)\n",
    "np.random.seed(42)"
   ]
  },
  {
   "cell_type": "code",
   "execution_count": 3,
   "metadata": {},
   "outputs": [],
   "source": [
    "# Generate synthetic \"sports\" image data for demonstration\n",
    "# For simplicity, let's create random images (e.g., 28x28 grayscale)\n",
    "num_samples = 500\n",
    "img_height, img_width = 28, 28\n",
    "num_channels = 1  # grayscale\n",
    "num_classes = 2  # e.g., win or loss outcome"
   ]
  },
  {
   "cell_type": "code",
   "execution_count": 4,
   "metadata": {},
   "outputs": [],
   "source": [
    "# Generate random image data and random labels\n",
    "X_images = np.random.rand(num_samples, img_height, img_width, num_channels).astype('float32')\n",
    "y_labels = np.random.randint(0, num_classes, num_samples)"
   ]
  },
  {
   "cell_type": "code",
   "execution_count": 5,
   "metadata": {},
   "outputs": [
    {
     "name": "stderr",
     "output_type": "stream",
     "text": [
      "/Users/Oks_WORKSPACE/Desktop/DEV/MLX_Interview_Notes/.venv/lib/python3.12/site-packages/keras/src/layers/convolutional/base_conv.py:107: UserWarning: Do not pass an `input_shape`/`input_dim` argument to a layer. When using Sequential models, prefer using an `Input(shape)` object as the first layer in the model instead.\n",
      "  super().__init__(activity_regularizer=activity_regularizer, **kwargs)\n"
     ]
    },
    {
     "data": {
      "text/html": [
       "<pre style=\"white-space:pre;overflow-x:auto;line-height:normal;font-family:Menlo,'DejaVu Sans Mono',consolas,'Courier New',monospace\"><span style=\"font-weight: bold\">Model: \"Sports_CNN\"</span>\n",
       "</pre>\n"
      ],
      "text/plain": [
       "\u001b[1mModel: \"Sports_CNN\"\u001b[0m\n"
      ]
     },
     "metadata": {},
     "output_type": "display_data"
    },
    {
     "data": {
      "text/html": [
       "<pre style=\"white-space:pre;overflow-x:auto;line-height:normal;font-family:Menlo,'DejaVu Sans Mono',consolas,'Courier New',monospace\">┏━━━━━━━━━━━━━━━━━━━━━━━━━━━━━━━━━┳━━━━━━━━━━━━━━━━━━━━━━━━┳━━━━━━━━━━━━━━━┓\n",
       "┃<span style=\"font-weight: bold\"> Layer (type)                    </span>┃<span style=\"font-weight: bold\"> Output Shape           </span>┃<span style=\"font-weight: bold\">       Param # </span>┃\n",
       "┡━━━━━━━━━━━━━━━━━━━━━━━━━━━━━━━━━╇━━━━━━━━━━━━━━━━━━━━━━━━╇━━━━━━━━━━━━━━━┩\n",
       "│ conv2d (<span style=\"color: #0087ff; text-decoration-color: #0087ff\">Conv2D</span>)                 │ (<span style=\"color: #00d7ff; text-decoration-color: #00d7ff\">None</span>, <span style=\"color: #00af00; text-decoration-color: #00af00\">26</span>, <span style=\"color: #00af00; text-decoration-color: #00af00\">26</span>, <span style=\"color: #00af00; text-decoration-color: #00af00\">32</span>)     │           <span style=\"color: #00af00; text-decoration-color: #00af00\">320</span> │\n",
       "├─────────────────────────────────┼────────────────────────┼───────────────┤\n",
       "│ max_pooling2d (<span style=\"color: #0087ff; text-decoration-color: #0087ff\">MaxPooling2D</span>)    │ (<span style=\"color: #00d7ff; text-decoration-color: #00d7ff\">None</span>, <span style=\"color: #00af00; text-decoration-color: #00af00\">13</span>, <span style=\"color: #00af00; text-decoration-color: #00af00\">13</span>, <span style=\"color: #00af00; text-decoration-color: #00af00\">32</span>)     │             <span style=\"color: #00af00; text-decoration-color: #00af00\">0</span> │\n",
       "├─────────────────────────────────┼────────────────────────┼───────────────┤\n",
       "│ conv2d_1 (<span style=\"color: #0087ff; text-decoration-color: #0087ff\">Conv2D</span>)               │ (<span style=\"color: #00d7ff; text-decoration-color: #00d7ff\">None</span>, <span style=\"color: #00af00; text-decoration-color: #00af00\">11</span>, <span style=\"color: #00af00; text-decoration-color: #00af00\">11</span>, <span style=\"color: #00af00; text-decoration-color: #00af00\">64</span>)     │        <span style=\"color: #00af00; text-decoration-color: #00af00\">18,496</span> │\n",
       "├─────────────────────────────────┼────────────────────────┼───────────────┤\n",
       "│ max_pooling2d_1 (<span style=\"color: #0087ff; text-decoration-color: #0087ff\">MaxPooling2D</span>)  │ (<span style=\"color: #00d7ff; text-decoration-color: #00d7ff\">None</span>, <span style=\"color: #00af00; text-decoration-color: #00af00\">5</span>, <span style=\"color: #00af00; text-decoration-color: #00af00\">5</span>, <span style=\"color: #00af00; text-decoration-color: #00af00\">64</span>)       │             <span style=\"color: #00af00; text-decoration-color: #00af00\">0</span> │\n",
       "├─────────────────────────────────┼────────────────────────┼───────────────┤\n",
       "│ flatten (<span style=\"color: #0087ff; text-decoration-color: #0087ff\">Flatten</span>)               │ (<span style=\"color: #00d7ff; text-decoration-color: #00d7ff\">None</span>, <span style=\"color: #00af00; text-decoration-color: #00af00\">1600</span>)           │             <span style=\"color: #00af00; text-decoration-color: #00af00\">0</span> │\n",
       "├─────────────────────────────────┼────────────────────────┼───────────────┤\n",
       "│ dense (<span style=\"color: #0087ff; text-decoration-color: #0087ff\">Dense</span>)                   │ (<span style=\"color: #00d7ff; text-decoration-color: #00d7ff\">None</span>, <span style=\"color: #00af00; text-decoration-color: #00af00\">128</span>)            │       <span style=\"color: #00af00; text-decoration-color: #00af00\">204,928</span> │\n",
       "├─────────────────────────────────┼────────────────────────┼───────────────┤\n",
       "│ dense_1 (<span style=\"color: #0087ff; text-decoration-color: #0087ff\">Dense</span>)                 │ (<span style=\"color: #00d7ff; text-decoration-color: #00d7ff\">None</span>, <span style=\"color: #00af00; text-decoration-color: #00af00\">2</span>)              │           <span style=\"color: #00af00; text-decoration-color: #00af00\">258</span> │\n",
       "└─────────────────────────────────┴────────────────────────┴───────────────┘\n",
       "</pre>\n"
      ],
      "text/plain": [
       "┏━━━━━━━━━━━━━━━━━━━━━━━━━━━━━━━━━┳━━━━━━━━━━━━━━━━━━━━━━━━┳━━━━━━━━━━━━━━━┓\n",
       "┃\u001b[1m \u001b[0m\u001b[1mLayer (type)                   \u001b[0m\u001b[1m \u001b[0m┃\u001b[1m \u001b[0m\u001b[1mOutput Shape          \u001b[0m\u001b[1m \u001b[0m┃\u001b[1m \u001b[0m\u001b[1m      Param #\u001b[0m\u001b[1m \u001b[0m┃\n",
       "┡━━━━━━━━━━━━━━━━━━━━━━━━━━━━━━━━━╇━━━━━━━━━━━━━━━━━━━━━━━━╇━━━━━━━━━━━━━━━┩\n",
       "│ conv2d (\u001b[38;5;33mConv2D\u001b[0m)                 │ (\u001b[38;5;45mNone\u001b[0m, \u001b[38;5;34m26\u001b[0m, \u001b[38;5;34m26\u001b[0m, \u001b[38;5;34m32\u001b[0m)     │           \u001b[38;5;34m320\u001b[0m │\n",
       "├─────────────────────────────────┼────────────────────────┼───────────────┤\n",
       "│ max_pooling2d (\u001b[38;5;33mMaxPooling2D\u001b[0m)    │ (\u001b[38;5;45mNone\u001b[0m, \u001b[38;5;34m13\u001b[0m, \u001b[38;5;34m13\u001b[0m, \u001b[38;5;34m32\u001b[0m)     │             \u001b[38;5;34m0\u001b[0m │\n",
       "├─────────────────────────────────┼────────────────────────┼───────────────┤\n",
       "│ conv2d_1 (\u001b[38;5;33mConv2D\u001b[0m)               │ (\u001b[38;5;45mNone\u001b[0m, \u001b[38;5;34m11\u001b[0m, \u001b[38;5;34m11\u001b[0m, \u001b[38;5;34m64\u001b[0m)     │        \u001b[38;5;34m18,496\u001b[0m │\n",
       "├─────────────────────────────────┼────────────────────────┼───────────────┤\n",
       "│ max_pooling2d_1 (\u001b[38;5;33mMaxPooling2D\u001b[0m)  │ (\u001b[38;5;45mNone\u001b[0m, \u001b[38;5;34m5\u001b[0m, \u001b[38;5;34m5\u001b[0m, \u001b[38;5;34m64\u001b[0m)       │             \u001b[38;5;34m0\u001b[0m │\n",
       "├─────────────────────────────────┼────────────────────────┼───────────────┤\n",
       "│ flatten (\u001b[38;5;33mFlatten\u001b[0m)               │ (\u001b[38;5;45mNone\u001b[0m, \u001b[38;5;34m1600\u001b[0m)           │             \u001b[38;5;34m0\u001b[0m │\n",
       "├─────────────────────────────────┼────────────────────────┼───────────────┤\n",
       "│ dense (\u001b[38;5;33mDense\u001b[0m)                   │ (\u001b[38;5;45mNone\u001b[0m, \u001b[38;5;34m128\u001b[0m)            │       \u001b[38;5;34m204,928\u001b[0m │\n",
       "├─────────────────────────────────┼────────────────────────┼───────────────┤\n",
       "│ dense_1 (\u001b[38;5;33mDense\u001b[0m)                 │ (\u001b[38;5;45mNone\u001b[0m, \u001b[38;5;34m2\u001b[0m)              │           \u001b[38;5;34m258\u001b[0m │\n",
       "└─────────────────────────────────┴────────────────────────┴───────────────┘\n"
      ]
     },
     "metadata": {},
     "output_type": "display_data"
    },
    {
     "data": {
      "text/html": [
       "<pre style=\"white-space:pre;overflow-x:auto;line-height:normal;font-family:Menlo,'DejaVu Sans Mono',consolas,'Courier New',monospace\"><span style=\"font-weight: bold\"> Total params: </span><span style=\"color: #00af00; text-decoration-color: #00af00\">224,002</span> (875.01 KB)\n",
       "</pre>\n"
      ],
      "text/plain": [
       "\u001b[1m Total params: \u001b[0m\u001b[38;5;34m224,002\u001b[0m (875.01 KB)\n"
      ]
     },
     "metadata": {},
     "output_type": "display_data"
    },
    {
     "data": {
      "text/html": [
       "<pre style=\"white-space:pre;overflow-x:auto;line-height:normal;font-family:Menlo,'DejaVu Sans Mono',consolas,'Courier New',monospace\"><span style=\"font-weight: bold\"> Trainable params: </span><span style=\"color: #00af00; text-decoration-color: #00af00\">224,002</span> (875.01 KB)\n",
       "</pre>\n"
      ],
      "text/plain": [
       "\u001b[1m Trainable params: \u001b[0m\u001b[38;5;34m224,002\u001b[0m (875.01 KB)\n"
      ]
     },
     "metadata": {},
     "output_type": "display_data"
    },
    {
     "data": {
      "text/html": [
       "<pre style=\"white-space:pre;overflow-x:auto;line-height:normal;font-family:Menlo,'DejaVu Sans Mono',consolas,'Courier New',monospace\"><span style=\"font-weight: bold\"> Non-trainable params: </span><span style=\"color: #00af00; text-decoration-color: #00af00\">0</span> (0.00 B)\n",
       "</pre>\n"
      ],
      "text/plain": [
       "\u001b[1m Non-trainable params: \u001b[0m\u001b[38;5;34m0\u001b[0m (0.00 B)\n"
      ]
     },
     "metadata": {},
     "output_type": "display_data"
    }
   ],
   "source": [
    "# Build a simple CNN model\n",
    "model = Sequential(name=\"Sports_CNN\")\n",
    "# Convolutional Layers: Feature extraction (e.g., detecting patterns in player movements)\n",
    "model.add(Conv2D(32, kernel_size=(3,3), activation='relu', input_shape=(img_height, img_width, num_channels)))\n",
    "model.add(MaxPooling2D(pool_size=(2,2)))\n",
    "model.add(Conv2D(64, kernel_size=(3,3), activation='relu'))\n",
    "model.add(MaxPooling2D(pool_size=(2,2)))\n",
    "# Flatten the feature maps to prepare for the fully connected layer\n",
    "model.add(Flatten())\n",
    "# Fully Connected Layer: Combines all extracted features to make the final prediction\n",
    "model.add(Dense(128, activation='relu'))\n",
    "model.add(Dense(num_classes, activation='softmax'))\n",
    "\n",
    "model.compile(optimizer='adam', loss='sparse_categorical_crossentropy', metrics=['accuracy'])\n",
    "model.summary()"
   ]
  },
  {
   "cell_type": "code",
   "execution_count": 6,
   "metadata": {},
   "outputs": [
    {
     "name": "stdout",
     "output_type": "stream",
     "text": [
      "Epoch 1/20\n",
      "\u001b[1m13/13\u001b[0m \u001b[32m━━━━━━━━━━━━━━━━━━━━\u001b[0m\u001b[37m\u001b[0m \u001b[1m0s\u001b[0m 12ms/step - accuracy: 0.4831 - loss: 0.7117 - val_accuracy: 0.5600 - val_loss: 0.6935\n",
      "Epoch 2/20\n",
      "\u001b[1m13/13\u001b[0m \u001b[32m━━━━━━━━━━━━━━━━━━━━\u001b[0m\u001b[37m\u001b[0m \u001b[1m0s\u001b[0m 7ms/step - accuracy: 0.6022 - loss: 0.6892 - val_accuracy: 0.5200 - val_loss: 0.6929\n",
      "Epoch 3/20\n",
      "\u001b[1m13/13\u001b[0m \u001b[32m━━━━━━━━━━━━━━━━━━━━\u001b[0m\u001b[37m\u001b[0m \u001b[1m0s\u001b[0m 7ms/step - accuracy: 0.5731 - loss: 0.6813 - val_accuracy: 0.5200 - val_loss: 0.6929\n",
      "Epoch 4/20\n",
      "\u001b[1m13/13\u001b[0m \u001b[32m━━━━━━━━━━━━━━━━━━━━\u001b[0m\u001b[37m\u001b[0m \u001b[1m0s\u001b[0m 7ms/step - accuracy: 0.5731 - loss: 0.6791 - val_accuracy: 0.5200 - val_loss: 0.6935\n",
      "Epoch 5/20\n",
      "\u001b[1m13/13\u001b[0m \u001b[32m━━━━━━━━━━━━━━━━━━━━\u001b[0m\u001b[37m\u001b[0m \u001b[1m0s\u001b[0m 7ms/step - accuracy: 0.5762 - loss: 0.6724 - val_accuracy: 0.4800 - val_loss: 0.6941\n",
      "Epoch 6/20\n",
      "\u001b[1m13/13\u001b[0m \u001b[32m━━━━━━━━━━━━━━━━━━━━\u001b[0m\u001b[37m\u001b[0m \u001b[1m0s\u001b[0m 7ms/step - accuracy: 0.6543 - loss: 0.6624 - val_accuracy: 0.4800 - val_loss: 0.6960\n",
      "Epoch 7/20\n",
      "\u001b[1m13/13\u001b[0m \u001b[32m━━━━━━━━━━━━━━━━━━━━\u001b[0m\u001b[37m\u001b[0m \u001b[1m0s\u001b[0m 7ms/step - accuracy: 0.7490 - loss: 0.6415 - val_accuracy: 0.5100 - val_loss: 0.6994\n",
      "Epoch 8/20\n",
      "\u001b[1m13/13\u001b[0m \u001b[32m━━━━━━━━━━━━━━━━━━━━\u001b[0m\u001b[37m\u001b[0m \u001b[1m0s\u001b[0m 7ms/step - accuracy: 0.7613 - loss: 0.6107 - val_accuracy: 0.4800 - val_loss: 0.7052\n",
      "Epoch 9/20\n",
      "\u001b[1m13/13\u001b[0m \u001b[32m━━━━━━━━━━━━━━━━━━━━\u001b[0m\u001b[37m\u001b[0m \u001b[1m0s\u001b[0m 7ms/step - accuracy: 0.8394 - loss: 0.5600 - val_accuracy: 0.4800 - val_loss: 0.7097\n",
      "Epoch 10/20\n",
      "\u001b[1m13/13\u001b[0m \u001b[32m━━━━━━━━━━━━━━━━━━━━\u001b[0m\u001b[37m\u001b[0m \u001b[1m0s\u001b[0m 7ms/step - accuracy: 0.8829 - loss: 0.4793 - val_accuracy: 0.5100 - val_loss: 0.7324\n",
      "Epoch 11/20\n",
      "\u001b[1m13/13\u001b[0m \u001b[32m━━━━━━━━━━━━━━━━━━━━\u001b[0m\u001b[37m\u001b[0m \u001b[1m0s\u001b[0m 10ms/step - accuracy: 0.9702 - loss: 0.3753 - val_accuracy: 0.4800 - val_loss: 0.7558\n",
      "Epoch 12/20\n",
      "\u001b[1m13/13\u001b[0m \u001b[32m━━━━━━━━━━━━━━━━━━━━\u001b[0m\u001b[37m\u001b[0m \u001b[1m0s\u001b[0m 7ms/step - accuracy: 0.9840 - loss: 0.2762 - val_accuracy: 0.4700 - val_loss: 0.8009\n",
      "Epoch 13/20\n",
      "\u001b[1m13/13\u001b[0m \u001b[32m━━━━━━━━━━━━━━━━━━━━\u001b[0m\u001b[37m\u001b[0m \u001b[1m0s\u001b[0m 9ms/step - accuracy: 0.9940 - loss: 0.1820 - val_accuracy: 0.4800 - val_loss: 0.8844\n",
      "Epoch 14/20\n",
      "\u001b[1m13/13\u001b[0m \u001b[32m━━━━━━━━━━━━━━━━━━━━\u001b[0m\u001b[37m\u001b[0m \u001b[1m0s\u001b[0m 7ms/step - accuracy: 0.9949 - loss: 0.1127 - val_accuracy: 0.4600 - val_loss: 0.9128\n",
      "Epoch 15/20\n",
      "\u001b[1m13/13\u001b[0m \u001b[32m━━━━━━━━━━━━━━━━━━━━\u001b[0m\u001b[37m\u001b[0m \u001b[1m0s\u001b[0m 8ms/step - accuracy: 1.0000 - loss: 0.0700 - val_accuracy: 0.4600 - val_loss: 0.9779\n",
      "Epoch 16/20\n",
      "\u001b[1m13/13\u001b[0m \u001b[32m━━━━━━━━━━━━━━━━━━━━\u001b[0m\u001b[37m\u001b[0m \u001b[1m0s\u001b[0m 8ms/step - accuracy: 1.0000 - loss: 0.0439 - val_accuracy: 0.4500 - val_loss: 1.0623\n",
      "Epoch 17/20\n",
      "\u001b[1m13/13\u001b[0m \u001b[32m━━━━━━━━━━━━━━━━━━━━\u001b[0m\u001b[37m\u001b[0m \u001b[1m0s\u001b[0m 7ms/step - accuracy: 1.0000 - loss: 0.0395 - val_accuracy: 0.4600 - val_loss: 1.2806\n",
      "Epoch 18/20\n",
      "\u001b[1m13/13\u001b[0m \u001b[32m━━━━━━━━━━━━━━━━━━━━\u001b[0m\u001b[37m\u001b[0m \u001b[1m0s\u001b[0m 7ms/step - accuracy: 1.0000 - loss: 0.0614 - val_accuracy: 0.4300 - val_loss: 1.1179\n",
      "Epoch 19/20\n",
      "\u001b[1m13/13\u001b[0m \u001b[32m━━━━━━━━━━━━━━━━━━━━\u001b[0m\u001b[37m\u001b[0m \u001b[1m0s\u001b[0m 7ms/step - accuracy: 1.0000 - loss: 0.0511 - val_accuracy: 0.4900 - val_loss: 1.3949\n",
      "Epoch 20/20\n",
      "\u001b[1m13/13\u001b[0m \u001b[32m━━━━━━━━━━━━━━━━━━━━\u001b[0m\u001b[37m\u001b[0m \u001b[1m0s\u001b[0m 8ms/step - accuracy: 1.0000 - loss: 0.0338 - val_accuracy: 0.4400 - val_loss: 1.2214\n"
     ]
    }
   ],
   "source": [
    "# Train the model briefly for demonstration\n",
    "history = model.fit(X_images, y_labels, epochs=20, batch_size=32, validation_split=0.2, verbose=1)"
   ]
  },
  {
   "cell_type": "code",
   "execution_count": 7,
   "metadata": {},
   "outputs": [
    {
     "data": {
      "image/png": "[encoded data removed]",
      "text/plain": [
       "<Figure size 1200x500 with 2 Axes>"
      ]
     },
     "metadata": {},
     "output_type": "display_data"
    }
   ],
   "source": [
    "# Plot training accuracy and loss for visualization 🎨\n",
    "plt.figure(figsize=(12,5))\n",
    "plt.subplot(1,2,1)\n",
    "plt.plot(history.history['accuracy'], 'o-', label=\"Training Accuracy\")\n",
    "plt.plot(history.history['val_accuracy'], 's--', label=\"Validation Accuracy\")\n",
    "plt.xlabel(\"Epoch\")\n",
    "plt.ylabel(\"Accuracy\")\n",
    "plt.title(\"Training vs. Validation Accuracy\")\n",
    "plt.legend()\n",
    "plt.grid(True)\n",
    "\n",
    "plt.subplot(1,2,2)\n",
    "plt.plot(history.history['loss'], 'o-', label=\"Training Loss\")\n",
    "plt.plot(history.history['val_loss'], 's--', label=\"Validation Loss\")\n",
    "plt.xlabel(\"Epoch\")\n",
    "plt.ylabel(\"Loss\")\n",
    "plt.title(\"Training vs. Validation Loss\")\n",
    "plt.legend()\n",
    "plt.grid(True)\n",
    "plt.tight_layout()\n",
    "plt.show()"
   ]
  },
  {
   "cell_type": "markdown",
   "metadata": {},
   "source": [
    "### **Metrics Explained**\n",
    "\n"
   ]
  },
  {
   "cell_type": "markdown",
   "metadata": {},
   "source": [
    "- **Training Accuracy (`accuracy`)**:\n",
    "  - **Definition**: The proportion of training examples that the model correctly classified.\n",
    "  - **Observation**:  \n",
    "    - The list starts at about **50.75%** and gradually increases over epochs, eventually reaching **100%**.\n",
    "    - This indicates that the model is learning to fit the training data very well.\n",
    "  - **Analogy**:  \n",
    "    - Think of it like a coach gradually improving the team’s performance during practice until every play is executed perfectly.\n",
    "\n",
    "- **Training Loss (`loss`)**:\n",
    "  - **Definition**: The value of the loss function (here, likely Mean Squared Error or similar) computed on the training set.\n",
    "  - **Observation**:  \n",
    "    - The loss starts at around **0.697** and decreases steadily over the epochs, eventually dropping to about **0.00186**.\n",
    "    - A lower loss means the model’s predictions are very close to the actual targets on the training data.\n",
    "  - **Analogy**:  \n",
    "    - This is similar to reducing the number of mistakes in practice sessions—the fewer the mistakes, the better the performance.\n",
    "\n",
    "- **Validation Accuracy (`val_accuracy`)**:\n",
    "  - **Definition**: The proportion of examples in the validation set that the model correctly classified.\n",
    "  - **Observation**:  \n",
    "    - The validation accuracy starts around **52%** and hovers in the range of **46% to 55%** over the epochs.\n",
    "    - Unlike the training accuracy, it does not show a strong upward trend, suggesting that the model may be overfitting to the training data.\n",
    "  - **Analogy**:  \n",
    "    - It’s like having a team that practices perfectly in training, but when playing an actual game (validation), they only perform marginally better than random chance.\n",
    "\n",
    "- **Validation Loss (`val_loss`)**:\n",
    "  - **Definition**: The loss computed on the validation set.\n",
    "  - **Observation**:  \n",
    "    - The validation loss starts at approximately **0.6925** and remains relatively constant in the early epochs. However, later epochs show an increase, reaching values over **1.22**.\n",
    "    - The rising validation loss indicates that while the model continues to improve on the training data, its performance on unseen data worsens—a typical sign of overfitting.\n",
    "  - **Analogy**:  \n",
    "    - Imagine a team that practices so intensively that they become overly specialized in their training drills. When they face a real opponent with different challenges, their performance suffers.\n",
    "\n",
    "\n"
   ]
  },
  {
   "cell_type": "markdown",
   "metadata": {},
   "source": [
    "### **Overall Interpretation**\n"
   ]
  },
  {
   "cell_type": "markdown",
   "metadata": {},
   "source": [
    "\n",
    "- **Training vs. Validation**:  \n",
    "  - The model is **performing extremely well on the training set** (100% accuracy and very low loss), but its performance on the validation set is **stagnant or even deteriorating**.\n",
    "  - This gap is a clear indicator of **overfitting**, where the model has learned the training data (including its noise) too well and fails to generalize to new, unseen data.\n",
    "\n",
    "- **Next Steps**:  \n",
    "  - To address overfitting, you might consider techniques such as:\n",
    "    - **Regularisation** (e.g., dropout, L1/L2 regularisation)\n",
    "    - **Early stopping** to halt training once validation loss stops improving.\n",
    "    - **Data augmentation** or obtaining more training data to improve generalisation.\n",
    "  \n",
    "- **Sports Analogy Recap**:  \n",
    "  - Imagine a coach who runs drills to perfection (training accuracy is 100%), but when the team faces a new opponent (validation), they don't perform as well. The team is overfitted to the practice environment and needs to learn to adapt to different scenarios.\n"
   ]
  },
  {
   "cell_type": "markdown",
   "metadata": {},
   "source": [
    "### **Explanation of the Code & Output:**\n"
   ]
  },
  {
   "cell_type": "markdown",
   "metadata": {},
   "source": [
    "- **Convolutional Layers**:  \n",
    "  - The first two Conv2D layers, along with MaxPooling2D layers, serve to **extract local features** from the images.  \n",
    "  - They detect patterns like edges and textures (analogous to identifying player positions or movements).\n",
    "- **Flatten & Fully Connected Layers**:  \n",
    "  - After flattening the output of conv layers, the Dense (fully connected) layers integrate all the local features to **form a final prediction**.  \n",
    "  - The final softmax layer outputs class probabilities (e.g., win vs. loss).\n",
    "- **Visualization**:  \n",
    "  - Training and validation accuracy and loss curves provide insights into model performance.\n",
    "\n"
   ]
  },
  {
   "cell_type": "markdown",
   "metadata": {},
   "source": [
    "## **🔥 Final Takeaways**  \n"
   ]
  },
  {
   "cell_type": "markdown",
   "metadata": {},
   "source": [
    "1. **Convolutional Layers** 🎨:  \n",
    "   - Focus on **local feature extraction** (like analyzing specific plays or player positions).  \n",
    "   - Use **filters/kernels** that slide over the input to detect patterns. 🔍  \n",
    "2. **Fully Connected Layers** 🔗:  \n",
    "   - Integrate all the features extracted by conv layers to make final predictions.  \n",
    "   - Act as the “head coach” making the ultimate decision based on all the gathered insights. 🏆  \n",
    "3. **Key Difference**:  \n",
    "   - **Conv layers** are specialized for **spatial data** and require **fewer parameters** due to weight sharing.  \n",
    "   - **Fully connected layers** consider the **global context** but can be **computationally heavy**.  \n",
    "4. **Real-Life Sports Impact**:  \n",
    "   - In **NBA video analysis**, conv layers identify key actions, while fully connected layers combine these insights to predict game outcomes.  \n",
    "   - In **football tactical analysis**, conv layers detect local movement patterns, and fully connected layers help decide overall match strategy.  \n",
    "   - In **poker card recognition**, conv layers recognize card patterns, and fully connected layers determine hand strength.  \n",
    "5. **Our Python Code**:  \n",
    "   - Demonstrates a complete CNN architecture with clear visualization of training performance, making it accessible to both technical and non-technical sports professionals. 🎉📊"
   ]
  }
 ],
 "metadata": {
  "kernelspec": {
   "display_name": "tf-env",
   "language": "python",
   "name": "tf-env"
  },
  "language_info": {
   "codemirror_mode": {
    "name": "ipython",
    "version": 3
   },
   "file_extension": ".py",
   "mimetype": "text/x-python",
   "name": "python",
   "nbconvert_exporter": "python",
   "pygments_lexer": "ipython3",
   "version": "3.12.9"
  }
 },
 "nbformat": 4,
 "nbformat_minor": 2
}
