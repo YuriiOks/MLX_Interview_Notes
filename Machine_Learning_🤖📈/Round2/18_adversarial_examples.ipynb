{
 "cells": [
  {
   "cell_type": "markdown",
   "metadata": {},
   "source": [
    "# **1️⃣8️⃣ Adversarial Examples & Model Robustness: An In-Depth Look 🤖💥🛡️**"
   ]
  },
  {
   "cell_type": "markdown",
   "metadata": {},
   "source": [
    "## **💡 Real-Life Analogy: The Sneaky Foul in Football & The Illusive Bluff in Poker 🎲⚽♠️**\n",
    "\n",
    "Imagine you’re watching a football match:\n",
    "- A player makes a **subtle, almost invisible foul** that fools the referee—so subtle that most fans don’t notice it, but it completely changes the game outcome! 😱\n",
    "Or think of a poker game:\n",
    "- A player uses a **tiny, almost imperceptible gesture** as a bluff that confuses their opponents and leads them to make poor decisions. 🤫🃏\n",
    "\n",
    "**Adversarial examples** in machine learning are like these sneaky tactics—they are **inputs with tiny, almost unnoticeable perturbations** that cause a model to make a **wrong prediction** even though the change is nearly invisible to humans."
   ]
  },
  {
   "cell_type": "markdown",
   "metadata": {},
   "source": [
    "## **📌 What Is an Adversarial Example?**\n",
    "\n",
    "✅ **Adversarial examples** are intentionally modified inputs that cause a machine learning model to **misclassify** or produce **erroneous outputs**.  \n",
    "✅ The modifications are **small and often imperceptible** but are crafted using knowledge of the model’s gradients.  \n",
    "✅ They reveal **vulnerabilities** in models, especially in deep neural networks, by exploiting how the model's decision boundaries are shaped.  "
   ]
  },
  {
   "cell_type": "markdown",
   "metadata": {},
   "source": [
    "### **Mathematical Insight**\n",
    "\n",
    "Given an input $x$ and its true label $y$, a small perturbation $\\delta$ is added to create an adversarial example:\n",
    "\n",
    "$$\n",
    "x_{\\text{adv}} = x + \\delta\n",
    "$$\n",
    "\n",
    "The perturbation $\\delta$ is computed such that:\n",
    "\n",
    "$$\n",
    "\\delta = \\epsilon \\cdot \\operatorname{sign}(\\nabla_x L(\\theta, x, y))\n",
    "$$\n",
    "\n",
    "where:\n",
    "- $L(\\theta, x, y)$ is the loss function.\n",
    "- $\\nabla_x L$ is the gradient of the loss with respect to the input.\n",
    "- $\\epsilon$ is a small constant controlling the perturbation magnitude.\n",
    "\n",
    "This is the basis of the **Fast Gradient Sign Method (FGSM)**. ⚡🔍"
   ]
  },
  {
   "cell_type": "markdown",
   "metadata": {},
   "source": [
    "## **🔄 How Can We Make Models Robust Against Adversarial Examples?**\n",
    "\n",
    "To counter adversarial examples, we can use several strategies:\n",
    "\n",
    "1. **Adversarial Training**:\n",
    "   - **Mix adversarial examples** into the training data so that the model learns to classify them correctly.\n",
    "   - Think of it as **training your team against unexpected fouls** so they know how to react. 🚨⚽\n",
    "\n",
    "2. **Defensive Distillation**:\n",
    "   - Train a model to output **soft probabilities** (a \"distilled\" version) that are less sensitive to small input changes.\n",
    "   - Like teaching players to **focus on the overall strategy** rather than minute individual moves. 🧠💡\n",
    "\n",
    "3. **Gradient Masking/Obfuscation**:\n",
    "   - Techniques that **hide or distort the gradient information**, making it harder for attackers to compute effective perturbations.\n",
    "   - Similar to **changing team formations mid-game** so opponents cannot predict your strategy. 🔀🏆\n",
    "\n",
    "4. **Regularization and Robust Optimization**:\n",
    "   - Use **regularization techniques** (e.g., dropout, weight decay) to improve the generalization of the model.\n",
    "   - This is like **rotating players** to ensure the team isn’t over-reliant on one strategy. 🔄🛡️\n",
    "\n",
    "5. **Input Preprocessing and Detection**:\n",
    "   - Apply **filters or detectors** that identify and neutralize adversarial noise before feeding the input to the model.\n",
    "   - Like a **security checkpoint** that filters out suspicious items before they reach the field. 🚧🔍"
   ]
  },
  {
   "cell_type": "markdown",
   "metadata": {},
   "source": [
    "## **🛠️ Python Code Example: Creating Adversarial Examples with FGSM & Adversarial Training**\n",
    "\n",
    "Below is a detailed example using TensorFlow/Keras that demonstrates how to generate adversarial examples using the FGSM method and how to perform adversarial training to improve model robustness. We'll simulate a simple classification task (e.g., classifying handwritten digits, which can be analogized to sports signals) using the MNIST dataset. (Note: Although MNIST isn’t sports data, the concepts are transferable!)"
   ]
  },
  {
   "cell_type": "code",
   "execution_count": 1,
   "metadata": {},
   "outputs": [],
   "source": [
    "import tensorflow as tf\n",
    "import numpy as np\n",
    "import matplotlib.pyplot as plt\n",
    "\n",
    "# Set seeds for reproducibility 🔒\n",
    "tf.random.set_seed(42)\n",
    "np.random.seed(42)"
   ]
  },
  {
   "cell_type": "code",
   "execution_count": 2,
   "metadata": {},
   "outputs": [],
   "source": [
    "# Load the MNIST dataset for demonstration (imagine these are \"sports signals\" 📊)\n",
    "(x_train, y_train), (x_test, y_test) = tf.keras.datasets.mnist.load_data()\n",
    "x_train = x_train.astype('float32') / 255.0\n",
    "x_test = x_test.astype('float32') / 255.0\n",
    "x_train = np.expand_dims(x_train, -1)\n",
    "x_test = np.expand_dims(x_test, -1)"
   ]
  },
  {
   "cell_type": "code",
   "execution_count": 3,
   "metadata": {},
   "outputs": [
    {
     "name": "stderr",
     "output_type": "stream",
     "text": [
      "/Users/Oks_WORKSPACE/Desktop/DEV/MLX_Interview_Notes/.venv/lib/python3.12/site-packages/keras/src/layers/convolutional/base_conv.py:107: UserWarning: Do not pass an `input_shape`/`input_dim` argument to a layer. When using Sequential models, prefer using an `Input(shape)` object as the first layer in the model instead.\n",
      "  super().__init__(activity_regularizer=activity_regularizer, **kwargs)\n"
     ]
    },
    {
     "data": {
      "text/html": [
       "<pre style=\"white-space:pre;overflow-x:auto;line-height:normal;font-family:Menlo,'DejaVu Sans Mono',consolas,'Courier New',monospace\"><span style=\"font-weight: bold\">Model: \"sequential\"</span>\n",
       "</pre>\n"
      ],
      "text/plain": [
       "\u001b[1mModel: \"sequential\"\u001b[0m\n"
      ]
     },
     "metadata": {},
     "output_type": "display_data"
    },
    {
     "data": {
      "text/html": [
       "<pre style=\"white-space:pre;overflow-x:auto;line-height:normal;font-family:Menlo,'DejaVu Sans Mono',consolas,'Courier New',monospace\">┏━━━━━━━━━━━━━━━━━━━━━━━━━━━━━━━━━┳━━━━━━━━━━━━━━━━━━━━━━━━┳━━━━━━━━━━━━━━━┓\n",
       "┃<span style=\"font-weight: bold\"> Layer (type)                    </span>┃<span style=\"font-weight: bold\"> Output Shape           </span>┃<span style=\"font-weight: bold\">       Param # </span>┃\n",
       "┡━━━━━━━━━━━━━━━━━━━━━━━━━━━━━━━━━╇━━━━━━━━━━━━━━━━━━━━━━━━╇━━━━━━━━━━━━━━━┩\n",
       "│ conv2d (<span style=\"color: #0087ff; text-decoration-color: #0087ff\">Conv2D</span>)                 │ (<span style=\"color: #00d7ff; text-decoration-color: #00d7ff\">None</span>, <span style=\"color: #00af00; text-decoration-color: #00af00\">26</span>, <span style=\"color: #00af00; text-decoration-color: #00af00\">26</span>, <span style=\"color: #00af00; text-decoration-color: #00af00\">32</span>)     │           <span style=\"color: #00af00; text-decoration-color: #00af00\">320</span> │\n",
       "├─────────────────────────────────┼────────────────────────┼───────────────┤\n",
       "│ max_pooling2d (<span style=\"color: #0087ff; text-decoration-color: #0087ff\">MaxPooling2D</span>)    │ (<span style=\"color: #00d7ff; text-decoration-color: #00d7ff\">None</span>, <span style=\"color: #00af00; text-decoration-color: #00af00\">13</span>, <span style=\"color: #00af00; text-decoration-color: #00af00\">13</span>, <span style=\"color: #00af00; text-decoration-color: #00af00\">32</span>)     │             <span style=\"color: #00af00; text-decoration-color: #00af00\">0</span> │\n",
       "├─────────────────────────────────┼────────────────────────┼───────────────┤\n",
       "│ flatten (<span style=\"color: #0087ff; text-decoration-color: #0087ff\">Flatten</span>)               │ (<span style=\"color: #00d7ff; text-decoration-color: #00d7ff\">None</span>, <span style=\"color: #00af00; text-decoration-color: #00af00\">5408</span>)           │             <span style=\"color: #00af00; text-decoration-color: #00af00\">0</span> │\n",
       "├─────────────────────────────────┼────────────────────────┼───────────────┤\n",
       "│ dense (<span style=\"color: #0087ff; text-decoration-color: #0087ff\">Dense</span>)                   │ (<span style=\"color: #00d7ff; text-decoration-color: #00d7ff\">None</span>, <span style=\"color: #00af00; text-decoration-color: #00af00\">100</span>)            │       <span style=\"color: #00af00; text-decoration-color: #00af00\">540,900</span> │\n",
       "├─────────────────────────────────┼────────────────────────┼───────────────┤\n",
       "│ dense_1 (<span style=\"color: #0087ff; text-decoration-color: #0087ff\">Dense</span>)                 │ (<span style=\"color: #00d7ff; text-decoration-color: #00d7ff\">None</span>, <span style=\"color: #00af00; text-decoration-color: #00af00\">10</span>)             │         <span style=\"color: #00af00; text-decoration-color: #00af00\">1,010</span> │\n",
       "└─────────────────────────────────┴────────────────────────┴───────────────┘\n",
       "</pre>\n"
      ],
      "text/plain": [
       "┏━━━━━━━━━━━━━━━━━━━━━━━━━━━━━━━━━┳━━━━━━━━━━━━━━━━━━━━━━━━┳━━━━━━━━━━━━━━━┓\n",
       "┃\u001b[1m \u001b[0m\u001b[1mLayer (type)                   \u001b[0m\u001b[1m \u001b[0m┃\u001b[1m \u001b[0m\u001b[1mOutput Shape          \u001b[0m\u001b[1m \u001b[0m┃\u001b[1m \u001b[0m\u001b[1m      Param #\u001b[0m\u001b[1m \u001b[0m┃\n",
       "┡━━━━━━━━━━━━━━━━━━━━━━━━━━━━━━━━━╇━━━━━━━━━━━━━━━━━━━━━━━━╇━━━━━━━━━━━━━━━┩\n",
       "│ conv2d (\u001b[38;5;33mConv2D\u001b[0m)                 │ (\u001b[38;5;45mNone\u001b[0m, \u001b[38;5;34m26\u001b[0m, \u001b[38;5;34m26\u001b[0m, \u001b[38;5;34m32\u001b[0m)     │           \u001b[38;5;34m320\u001b[0m │\n",
       "├─────────────────────────────────┼────────────────────────┼───────────────┤\n",
       "│ max_pooling2d (\u001b[38;5;33mMaxPooling2D\u001b[0m)    │ (\u001b[38;5;45mNone\u001b[0m, \u001b[38;5;34m13\u001b[0m, \u001b[38;5;34m13\u001b[0m, \u001b[38;5;34m32\u001b[0m)     │             \u001b[38;5;34m0\u001b[0m │\n",
       "├─────────────────────────────────┼────────────────────────┼───────────────┤\n",
       "│ flatten (\u001b[38;5;33mFlatten\u001b[0m)               │ (\u001b[38;5;45mNone\u001b[0m, \u001b[38;5;34m5408\u001b[0m)           │             \u001b[38;5;34m0\u001b[0m │\n",
       "├─────────────────────────────────┼────────────────────────┼───────────────┤\n",
       "│ dense (\u001b[38;5;33mDense\u001b[0m)                   │ (\u001b[38;5;45mNone\u001b[0m, \u001b[38;5;34m100\u001b[0m)            │       \u001b[38;5;34m540,900\u001b[0m │\n",
       "├─────────────────────────────────┼────────────────────────┼───────────────┤\n",
       "│ dense_1 (\u001b[38;5;33mDense\u001b[0m)                 │ (\u001b[38;5;45mNone\u001b[0m, \u001b[38;5;34m10\u001b[0m)             │         \u001b[38;5;34m1,010\u001b[0m │\n",
       "└─────────────────────────────────┴────────────────────────┴───────────────┘\n"
      ]
     },
     "metadata": {},
     "output_type": "display_data"
    },
    {
     "data": {
      "text/html": [
       "<pre style=\"white-space:pre;overflow-x:auto;line-height:normal;font-family:Menlo,'DejaVu Sans Mono',consolas,'Courier New',monospace\"><span style=\"font-weight: bold\"> Total params: </span><span style=\"color: #00af00; text-decoration-color: #00af00\">542,230</span> (2.07 MB)\n",
       "</pre>\n"
      ],
      "text/plain": [
       "\u001b[1m Total params: \u001b[0m\u001b[38;5;34m542,230\u001b[0m (2.07 MB)\n"
      ]
     },
     "metadata": {},
     "output_type": "display_data"
    },
    {
     "data": {
      "text/html": [
       "<pre style=\"white-space:pre;overflow-x:auto;line-height:normal;font-family:Menlo,'DejaVu Sans Mono',consolas,'Courier New',monospace\"><span style=\"font-weight: bold\"> Trainable params: </span><span style=\"color: #00af00; text-decoration-color: #00af00\">542,230</span> (2.07 MB)\n",
       "</pre>\n"
      ],
      "text/plain": [
       "\u001b[1m Trainable params: \u001b[0m\u001b[38;5;34m542,230\u001b[0m (2.07 MB)\n"
      ]
     },
     "metadata": {},
     "output_type": "display_data"
    },
    {
     "data": {
      "text/html": [
       "<pre style=\"white-space:pre;overflow-x:auto;line-height:normal;font-family:Menlo,'DejaVu Sans Mono',consolas,'Courier New',monospace\"><span style=\"font-weight: bold\"> Non-trainable params: </span><span style=\"color: #00af00; text-decoration-color: #00af00\">0</span> (0.00 B)\n",
       "</pre>\n"
      ],
      "text/plain": [
       "\u001b[1m Non-trainable params: \u001b[0m\u001b[38;5;34m0\u001b[0m (0.00 B)\n"
      ]
     },
     "metadata": {},
     "output_type": "display_data"
    }
   ],
   "source": [
    "# Build a simple CNN model for classification 🎯\n",
    "model = tf.keras.Sequential([\n",
    "    tf.keras.layers.Conv2D(32, kernel_size=(3,3), activation='relu', input_shape=x_train.shape[1:]),\n",
    "    tf.keras.layers.MaxPooling2D(pool_size=(2,2)),\n",
    "    tf.keras.layers.Flatten(),\n",
    "    tf.keras.layers.Dense(100, activation='relu'),\n",
    "    tf.keras.layers.Dense(10, activation='softmax')\n",
    "])\n",
    "model.compile(optimizer='adam', loss='sparse_categorical_crossentropy', metrics=['accuracy'])\n",
    "model.summary()"
   ]
  },
  {
   "cell_type": "code",
   "execution_count": 4,
   "metadata": {},
   "outputs": [
    {
     "name": "stdout",
     "output_type": "stream",
     "text": [
      "Epoch 1/100\n",
      "422/422 - 3s - 7ms/step - accuracy: 0.9296 - loss: 0.2480 - val_accuracy: 0.9752 - val_loss: 0.0912\n",
      "Epoch 2/100\n",
      "422/422 - 3s - 7ms/step - accuracy: 0.9756 - loss: 0.0807 - val_accuracy: 0.9833 - val_loss: 0.0638\n",
      "Epoch 3/100\n",
      "422/422 - 3s - 7ms/step - accuracy: 0.9841 - loss: 0.0540 - val_accuracy: 0.9860 - val_loss: 0.0577\n",
      "Epoch 4/100\n",
      "422/422 - 3s - 7ms/step - accuracy: 0.9886 - loss: 0.0399 - val_accuracy: 0.9848 - val_loss: 0.0571\n",
      "Epoch 5/100\n",
      "422/422 - 3s - 7ms/step - accuracy: 0.9917 - loss: 0.0303 - val_accuracy: 0.9848 - val_loss: 0.0589\n",
      "Epoch 6/100\n",
      "422/422 - 3s - 7ms/step - accuracy: 0.9940 - loss: 0.0231 - val_accuracy: 0.9842 - val_loss: 0.0610\n",
      "Epoch 7/100\n",
      "422/422 - 3s - 7ms/step - accuracy: 0.9955 - loss: 0.0178 - val_accuracy: 0.9848 - val_loss: 0.0611\n",
      "Epoch 8/100\n",
      "422/422 - 3s - 7ms/step - accuracy: 0.9967 - loss: 0.0135 - val_accuracy: 0.9845 - val_loss: 0.0618\n",
      "Epoch 9/100\n",
      "422/422 - 3s - 7ms/step - accuracy: 0.9978 - loss: 0.0103 - val_accuracy: 0.9852 - val_loss: 0.0614\n",
      "Epoch 10/100\n",
      "422/422 - 3s - 7ms/step - accuracy: 0.9981 - loss: 0.0085 - val_accuracy: 0.9837 - val_loss: 0.0685\n",
      "Epoch 11/100\n",
      "422/422 - 3s - 7ms/step - accuracy: 0.9979 - loss: 0.0076 - val_accuracy: 0.9848 - val_loss: 0.0749\n",
      "Epoch 12/100\n",
      "422/422 - 3s - 7ms/step - accuracy: 0.9985 - loss: 0.0057 - val_accuracy: 0.9862 - val_loss: 0.0760\n",
      "Epoch 13/100\n",
      "422/422 - 3s - 6ms/step - accuracy: 0.9984 - loss: 0.0061 - val_accuracy: 0.9867 - val_loss: 0.0762\n",
      "Epoch 14/100\n",
      "422/422 - 3s - 7ms/step - accuracy: 0.9983 - loss: 0.0059 - val_accuracy: 0.9885 - val_loss: 0.0662\n",
      "Epoch 15/100\n",
      "422/422 - 3s - 7ms/step - accuracy: 0.9985 - loss: 0.0047 - val_accuracy: 0.9887 - val_loss: 0.0652\n",
      "Epoch 16/100\n",
      "422/422 - 3s - 6ms/step - accuracy: 0.9989 - loss: 0.0040 - val_accuracy: 0.9882 - val_loss: 0.0689\n",
      "Epoch 17/100\n",
      "422/422 - 3s - 6ms/step - accuracy: 0.9992 - loss: 0.0032 - val_accuracy: 0.9892 - val_loss: 0.0613\n",
      "Epoch 18/100\n",
      "422/422 - 3s - 6ms/step - accuracy: 0.9993 - loss: 0.0027 - val_accuracy: 0.9892 - val_loss: 0.0732\n",
      "Epoch 19/100\n",
      "422/422 - 3s - 6ms/step - accuracy: 0.9994 - loss: 0.0021 - val_accuracy: 0.9877 - val_loss: 0.0645\n",
      "Epoch 20/100\n",
      "422/422 - 3s - 6ms/step - accuracy: 0.9986 - loss: 0.0042 - val_accuracy: 0.9885 - val_loss: 0.0750\n",
      "Epoch 21/100\n",
      "422/422 - 3s - 6ms/step - accuracy: 0.9994 - loss: 0.0021 - val_accuracy: 0.9875 - val_loss: 0.0777\n",
      "Epoch 22/100\n",
      "422/422 - 3s - 6ms/step - accuracy: 0.9998 - loss: 0.0011 - val_accuracy: 0.9890 - val_loss: 0.0780\n",
      "Epoch 23/100\n",
      "422/422 - 3s - 7ms/step - accuracy: 1.0000 - loss: 3.6790e-04 - val_accuracy: 0.9888 - val_loss: 0.0743\n",
      "Epoch 24/100\n",
      "422/422 - 3s - 7ms/step - accuracy: 1.0000 - loss: 1.2641e-04 - val_accuracy: 0.9890 - val_loss: 0.0772\n",
      "Epoch 25/100\n",
      "422/422 - 3s - 7ms/step - accuracy: 1.0000 - loss: 6.7801e-05 - val_accuracy: 0.9892 - val_loss: 0.0784\n",
      "Epoch 26/100\n",
      "422/422 - 3s - 7ms/step - accuracy: 1.0000 - loss: 4.8256e-05 - val_accuracy: 0.9892 - val_loss: 0.0797\n",
      "Epoch 27/100\n",
      "422/422 - 3s - 7ms/step - accuracy: 1.0000 - loss: 3.8486e-05 - val_accuracy: 0.9892 - val_loss: 0.0809\n",
      "Epoch 28/100\n",
      "422/422 - 3s - 7ms/step - accuracy: 1.0000 - loss: 3.1598e-05 - val_accuracy: 0.9890 - val_loss: 0.0822\n",
      "Epoch 29/100\n",
      "422/422 - 3s - 7ms/step - accuracy: 1.0000 - loss: 2.6295e-05 - val_accuracy: 0.9890 - val_loss: 0.0836\n",
      "Epoch 30/100\n",
      "422/422 - 3s - 7ms/step - accuracy: 1.0000 - loss: 2.2035e-05 - val_accuracy: 0.9890 - val_loss: 0.0850\n",
      "Epoch 31/100\n",
      "422/422 - 3s - 7ms/step - accuracy: 1.0000 - loss: 1.8481e-05 - val_accuracy: 0.9890 - val_loss: 0.0866\n",
      "Epoch 32/100\n",
      "422/422 - 3s - 7ms/step - accuracy: 1.0000 - loss: 1.5516e-05 - val_accuracy: 0.9888 - val_loss: 0.0882\n",
      "Epoch 33/100\n",
      "422/422 - 3s - 7ms/step - accuracy: 1.0000 - loss: 1.2992e-05 - val_accuracy: 0.9890 - val_loss: 0.0897\n",
      "Epoch 34/100\n",
      "422/422 - 3s - 7ms/step - accuracy: 1.0000 - loss: 1.0866e-05 - val_accuracy: 0.9890 - val_loss: 0.0913\n",
      "Epoch 35/100\n",
      "422/422 - 3s - 7ms/step - accuracy: 1.0000 - loss: 9.0603e-06 - val_accuracy: 0.9888 - val_loss: 0.0930\n",
      "Epoch 36/100\n",
      "422/422 - 3s - 7ms/step - accuracy: 1.0000 - loss: 7.5272e-06 - val_accuracy: 0.9888 - val_loss: 0.0946\n",
      "Epoch 37/100\n",
      "422/422 - 3s - 6ms/step - accuracy: 1.0000 - loss: 6.2362e-06 - val_accuracy: 0.9888 - val_loss: 0.0963\n",
      "Epoch 38/100\n",
      "422/422 - 3s - 7ms/step - accuracy: 1.0000 - loss: 5.1429e-06 - val_accuracy: 0.9888 - val_loss: 0.0979\n",
      "Epoch 39/100\n",
      "422/422 - 3s - 6ms/step - accuracy: 1.0000 - loss: 4.2181e-06 - val_accuracy: 0.9888 - val_loss: 0.0997\n",
      "Epoch 40/100\n",
      "422/422 - 3s - 6ms/step - accuracy: 1.0000 - loss: 3.4555e-06 - val_accuracy: 0.9893 - val_loss: 0.1013\n",
      "Epoch 41/100\n",
      "422/422 - 3s - 7ms/step - accuracy: 1.0000 - loss: 2.8149e-06 - val_accuracy: 0.9893 - val_loss: 0.1030\n",
      "Epoch 42/100\n",
      "422/422 - 3s - 7ms/step - accuracy: 1.0000 - loss: 2.2874e-06 - val_accuracy: 0.9892 - val_loss: 0.1048\n",
      "Epoch 43/100\n",
      "422/422 - 3s - 7ms/step - accuracy: 1.0000 - loss: 1.8616e-06 - val_accuracy: 0.9892 - val_loss: 0.1063\n",
      "Epoch 44/100\n",
      "422/422 - 3s - 7ms/step - accuracy: 1.0000 - loss: 1.5096e-06 - val_accuracy: 0.9890 - val_loss: 0.1081\n",
      "Epoch 45/100\n",
      "422/422 - 3s - 7ms/step - accuracy: 1.0000 - loss: 1.2205e-06 - val_accuracy: 0.9890 - val_loss: 0.1099\n",
      "Epoch 46/100\n",
      "422/422 - 3s - 7ms/step - accuracy: 1.0000 - loss: 9.9083e-07 - val_accuracy: 0.9890 - val_loss: 0.1116\n",
      "Epoch 47/100\n",
      "422/422 - 3s - 6ms/step - accuracy: 1.0000 - loss: 7.9917e-07 - val_accuracy: 0.9890 - val_loss: 0.1133\n",
      "Epoch 48/100\n",
      "422/422 - 3s - 7ms/step - accuracy: 1.0000 - loss: 6.4677e-07 - val_accuracy: 0.9890 - val_loss: 0.1150\n",
      "Epoch 49/100\n",
      "422/422 - 3s - 6ms/step - accuracy: 1.0000 - loss: 5.2383e-07 - val_accuracy: 0.9892 - val_loss: 0.1168\n",
      "Epoch 50/100\n",
      "422/422 - 3s - 6ms/step - accuracy: 1.0000 - loss: 4.2389e-07 - val_accuracy: 0.9892 - val_loss: 0.1186\n",
      "Epoch 51/100\n",
      "422/422 - 3s - 6ms/step - accuracy: 1.0000 - loss: 3.4336e-07 - val_accuracy: 0.9892 - val_loss: 0.1203\n",
      "Epoch 52/100\n",
      "422/422 - 3s - 7ms/step - accuracy: 1.0000 - loss: 2.7833e-07 - val_accuracy: 0.9892 - val_loss: 0.1222\n",
      "Epoch 53/100\n",
      "422/422 - 3s - 7ms/step - accuracy: 1.0000 - loss: 2.2620e-07 - val_accuracy: 0.9892 - val_loss: 0.1239\n",
      "Epoch 54/100\n",
      "422/422 - 3s - 6ms/step - accuracy: 1.0000 - loss: 1.8382e-07 - val_accuracy: 0.9892 - val_loss: 0.1256\n",
      "Epoch 55/100\n",
      "422/422 - 3s - 7ms/step - accuracy: 1.0000 - loss: 1.4954e-07 - val_accuracy: 0.9890 - val_loss: 0.1274\n",
      "Epoch 56/100\n",
      "422/422 - 3s - 7ms/step - accuracy: 1.0000 - loss: 1.2198e-07 - val_accuracy: 0.9892 - val_loss: 0.1291\n",
      "Epoch 57/100\n",
      "422/422 - 3s - 7ms/step - accuracy: 1.0000 - loss: 9.9730e-08 - val_accuracy: 0.9893 - val_loss: 0.1309\n",
      "Epoch 58/100\n",
      "422/422 - 3s - 7ms/step - accuracy: 1.0000 - loss: 8.1709e-08 - val_accuracy: 0.9893 - val_loss: 0.1326\n",
      "Epoch 59/100\n",
      "422/422 - 3s - 6ms/step - accuracy: 1.0000 - loss: 6.6967e-08 - val_accuracy: 0.9892 - val_loss: 0.1343\n",
      "Epoch 60/100\n",
      "422/422 - 3s - 6ms/step - accuracy: 1.0000 - loss: 5.5112e-08 - val_accuracy: 0.9892 - val_loss: 0.1359\n",
      "Epoch 61/100\n",
      "422/422 - 3s - 7ms/step - accuracy: 1.0000 - loss: 4.5417e-08 - val_accuracy: 0.9892 - val_loss: 0.1376\n",
      "Epoch 62/100\n",
      "422/422 - 3s - 7ms/step - accuracy: 1.0000 - loss: 3.7611e-08 - val_accuracy: 0.9892 - val_loss: 0.1392\n",
      "Epoch 63/100\n",
      "422/422 - 3s - 7ms/step - accuracy: 1.0000 - loss: 3.1189e-08 - val_accuracy: 0.9892 - val_loss: 0.1409\n",
      "Epoch 64/100\n",
      "422/422 - 3s - 7ms/step - accuracy: 1.0000 - loss: 2.5888e-08 - val_accuracy: 0.9892 - val_loss: 0.1424\n",
      "Epoch 65/100\n",
      "422/422 - 3s - 6ms/step - accuracy: 1.0000 - loss: 2.1667e-08 - val_accuracy: 0.9892 - val_loss: 0.1439\n",
      "Epoch 66/100\n",
      "422/422 - 3s - 7ms/step - accuracy: 1.0000 - loss: 1.8115e-08 - val_accuracy: 0.9893 - val_loss: 0.1455\n",
      "Epoch 67/100\n",
      "422/422 - 3s - 7ms/step - accuracy: 1.0000 - loss: 1.5263e-08 - val_accuracy: 0.9893 - val_loss: 0.1470\n",
      "Epoch 68/100\n",
      "422/422 - 3s - 7ms/step - accuracy: 1.0000 - loss: 1.2883e-08 - val_accuracy: 0.9892 - val_loss: 0.1484\n",
      "Epoch 69/100\n",
      "422/422 - 3s - 7ms/step - accuracy: 1.0000 - loss: 1.0921e-08 - val_accuracy: 0.9892 - val_loss: 0.1499\n",
      "Epoch 70/100\n",
      "422/422 - 3s - 7ms/step - accuracy: 1.0000 - loss: 9.3094e-09 - val_accuracy: 0.9892 - val_loss: 0.1512\n",
      "Epoch 71/100\n",
      "422/422 - 3s - 6ms/step - accuracy: 1.0000 - loss: 7.9716e-09 - val_accuracy: 0.9892 - val_loss: 0.1525\n",
      "Epoch 72/100\n",
      "422/422 - 3s - 6ms/step - accuracy: 1.0000 - loss: 6.8082e-09 - val_accuracy: 0.9890 - val_loss: 0.1537\n",
      "Epoch 73/100\n",
      "422/422 - 3s - 7ms/step - accuracy: 1.0000 - loss: 5.9274e-09 - val_accuracy: 0.9890 - val_loss: 0.1549\n",
      "Epoch 74/100\n",
      "422/422 - 3s - 6ms/step - accuracy: 1.0000 - loss: 5.1282e-09 - val_accuracy: 0.9890 - val_loss: 0.1560\n",
      "Epoch 75/100\n",
      "422/422 - 3s - 6ms/step - accuracy: 1.0000 - loss: 4.5763e-09 - val_accuracy: 0.9890 - val_loss: 0.1572\n",
      "Epoch 76/100\n",
      "422/422 - 3s - 7ms/step - accuracy: 1.0000 - loss: 4.0531e-09 - val_accuracy: 0.9890 - val_loss: 0.1581\n",
      "Epoch 77/100\n",
      "422/422 - 3s - 6ms/step - accuracy: 1.0000 - loss: 3.5476e-09 - val_accuracy: 0.9890 - val_loss: 0.1590\n",
      "Epoch 78/100\n",
      "422/422 - 3s - 7ms/step - accuracy: 1.0000 - loss: 3.1966e-09 - val_accuracy: 0.9890 - val_loss: 0.1600\n",
      "Epoch 79/100\n",
      "422/422 - 3s - 7ms/step - accuracy: 1.0000 - loss: 2.8676e-09 - val_accuracy: 0.9890 - val_loss: 0.1608\n",
      "Epoch 80/100\n",
      "422/422 - 3s - 7ms/step - accuracy: 1.0000 - loss: 2.5718e-09 - val_accuracy: 0.9890 - val_loss: 0.1617\n",
      "Epoch 81/100\n",
      "422/422 - 3s - 7ms/step - accuracy: 1.0000 - loss: 2.3246e-09 - val_accuracy: 0.9890 - val_loss: 0.1624\n",
      "Epoch 82/100\n",
      "422/422 - 3s - 7ms/step - accuracy: 1.0000 - loss: 2.1546e-09 - val_accuracy: 0.9893 - val_loss: 0.1630\n",
      "Epoch 83/100\n",
      "422/422 - 3s - 7ms/step - accuracy: 1.0000 - loss: 1.9802e-09 - val_accuracy: 0.9892 - val_loss: 0.1636\n",
      "Epoch 84/100\n",
      "422/422 - 3s - 7ms/step - accuracy: 1.0000 - loss: 1.8389e-09 - val_accuracy: 0.9892 - val_loss: 0.1642\n",
      "Epoch 85/100\n",
      "422/422 - 3s - 7ms/step - accuracy: 1.0000 - loss: 1.7087e-09 - val_accuracy: 0.9892 - val_loss: 0.1648\n",
      "Epoch 86/100\n",
      "422/422 - 3s - 7ms/step - accuracy: 1.0000 - loss: 1.6226e-09 - val_accuracy: 0.9892 - val_loss: 0.1654\n",
      "Epoch 87/100\n",
      "422/422 - 3s - 7ms/step - accuracy: 1.0000 - loss: 1.5078e-09 - val_accuracy: 0.9893 - val_loss: 0.1661\n",
      "Epoch 88/100\n",
      "422/422 - 3s - 7ms/step - accuracy: 1.0000 - loss: 1.4283e-09 - val_accuracy: 0.9893 - val_loss: 0.1666\n",
      "Epoch 89/100\n",
      "422/422 - 3s - 7ms/step - accuracy: 1.0000 - loss: 1.3577e-09 - val_accuracy: 0.9893 - val_loss: 0.1673\n",
      "Epoch 90/100\n",
      "422/422 - 3s - 6ms/step - accuracy: 1.0000 - loss: 1.2914e-09 - val_accuracy: 0.9893 - val_loss: 0.1679\n",
      "Epoch 91/100\n",
      "422/422 - 3s - 7ms/step - accuracy: 1.0000 - loss: 1.2296e-09 - val_accuracy: 0.9893 - val_loss: 0.1684\n",
      "Epoch 92/100\n",
      "422/422 - 3s - 6ms/step - accuracy: 1.0000 - loss: 1.1811e-09 - val_accuracy: 0.9893 - val_loss: 0.1690\n",
      "Epoch 93/100\n",
      "422/422 - 3s - 6ms/step - accuracy: 1.0000 - loss: 1.1126e-09 - val_accuracy: 0.9893 - val_loss: 0.1694\n",
      "Epoch 94/100\n",
      "422/422 - 3s - 6ms/step - accuracy: 1.0000 - loss: 1.0663e-09 - val_accuracy: 0.9893 - val_loss: 0.1700\n",
      "Epoch 95/100\n",
      "422/422 - 3s - 7ms/step - accuracy: 1.0000 - loss: 1.0287e-09 - val_accuracy: 0.9893 - val_loss: 0.1705\n",
      "Epoch 96/100\n",
      "422/422 - 3s - 6ms/step - accuracy: 1.0000 - loss: 9.9783e-10 - val_accuracy: 0.9893 - val_loss: 0.1710\n",
      "Epoch 97/100\n",
      "422/422 - 3s - 7ms/step - accuracy: 1.0000 - loss: 9.6913e-10 - val_accuracy: 0.9893 - val_loss: 0.1716\n",
      "Epoch 98/100\n",
      "422/422 - 3s - 7ms/step - accuracy: 1.0000 - loss: 9.4705e-10 - val_accuracy: 0.9893 - val_loss: 0.1721\n",
      "Epoch 99/100\n",
      "422/422 - 3s - 6ms/step - accuracy: 1.0000 - loss: 9.1615e-10 - val_accuracy: 0.9893 - val_loss: 0.1727\n",
      "Epoch 100/100\n",
      "422/422 - 3s - 7ms/step - accuracy: 1.0000 - loss: 8.9186e-10 - val_accuracy: 0.9893 - val_loss: 0.1731\n"
     ]
    },
    {
     "data": {
      "text/plain": [
       "<keras.src.callbacks.history.History at 0x16ad8b4a0>"
      ]
     },
     "execution_count": 4,
     "metadata": {},
     "output_type": "execute_result"
    }
   ],
   "source": [
    "# Train the model (for demonstration, we use a few epochs) 🔥\n",
    "model.fit(x_train, y_train, epochs=100, batch_size=128, validation_split=0.1, verbose=2)"
   ]
  },
  {
   "cell_type": "code",
   "execution_count": 5,
   "metadata": {},
   "outputs": [],
   "source": [
    "def fgsm_attack(model, x, y, epsilon=0.1):\n",
    "    \"\"\"\n",
    "    Generates adversarial examples using the Fast Gradient Sign Method.\n",
    "    \n",
    "    Parameters:\n",
    "        model: Trained model.\n",
    "        x: Input sample.\n",
    "        y: True label.\n",
    "        epsilon: Perturbation magnitude.\n",
    "    \n",
    "    Returns:\n",
    "        x_adv: Adversarial example.\n",
    "    \"\"\"\n",
    "    # Ensure input is a tensor\n",
    "    x_tensor = tf.convert_to_tensor(x)\n",
    "    y_tensor = tf.convert_to_tensor(y)\n",
    "    \n",
    "    # Record computation for gradient\n",
    "    with tf.GradientTape() as tape:\n",
    "        tape.watch(x_tensor)\n",
    "        prediction = model(x_tensor)\n",
    "        loss = tf.keras.losses.sparse_categorical_crossentropy(y_tensor, prediction)\n",
    "    # Compute gradient of loss w.r.t input\n",
    "    gradient = tape.gradient(loss, x_tensor)\n",
    "    signed_grad = tf.sign(gradient)\n",
    "    x_adv = x_tensor + epsilon * signed_grad\n",
    "    x_adv = tf.clip_by_value(x_adv, 0, 1)  # Ensure valid pixel range\n",
    "    return x_adv\n"
   ]
  },
  {
   "cell_type": "code",
   "execution_count": 6,
   "metadata": {},
   "outputs": [],
   "source": [
    "# Pick a sample from the test set for demonstration 🎲\n",
    "sample_idx = 0\n",
    "x_sample = x_test[sample_idx:sample_idx+1]\n",
    "y_sample = y_test[sample_idx:sample_idx+1]\n",
    "\n",
    "# Generate adversarial example\n",
    "x_adv = fgsm_attack(model, x_sample, y_sample, epsilon=0.2)"
   ]
  },
  {
   "cell_type": "code",
   "execution_count": 7,
   "metadata": {},
   "outputs": [
    {
     "data": {
      "image/png": "[encoded data removed]",
      "text/plain": [
       "<Figure size 800x400 with 2 Axes>"
      ]
     },
     "metadata": {},
     "output_type": "display_data"
    }
   ],
   "source": [
    "# Visualize the original and adversarial example side by side 🎨\n",
    "plt.figure(figsize=(8,4))\n",
    "plt.subplot(1,2,1)\n",
    "plt.imshow(x_sample[0,:,:,0], cmap='gray')\n",
    "plt.title(\"Original Image\")\n",
    "plt.axis('off')\n",
    "\n",
    "plt.subplot(1,2,2)\n",
    "plt.imshow(x_adv[0,:,:,0], cmap='gray')\n",
    "plt.title(\"Adversarial Image\")\n",
    "plt.axis('off')\n",
    "plt.show()"
   ]
  },
  {
   "cell_type": "code",
   "execution_count": 8,
   "metadata": {},
   "outputs": [
    {
     "name": "stdout",
     "output_type": "stream",
     "text": [
      "\u001b[1m1/1\u001b[0m \u001b[32m━━━━━━━━━━━━━━━━━━━━\u001b[0m\u001b[37m\u001b[0m \u001b[1m0s\u001b[0m 28ms/step\n",
      "\u001b[1m1/1\u001b[0m \u001b[32m━━━━━━━━━━━━━━━━━━━━\u001b[0m\u001b[37m\u001b[0m \u001b[1m0s\u001b[0m 12ms/step\n",
      "Original Prediction: 7 🤖\n",
      "Adversarial Prediction: 3 ⚠️\n"
     ]
    }
   ],
   "source": [
    "# Predict on adversarial example\n",
    "pred_orig = model.predict(x_sample)\n",
    "pred_adv = model.predict(x_adv)\n",
    "print(f\"Original Prediction: {np.argmax(pred_orig)} 🤖\")\n",
    "print(f\"Adversarial Prediction: {np.argmax(pred_adv)} ⚠️\")"
   ]
  },
  {
   "cell_type": "code",
   "execution_count": 9,
   "metadata": {},
   "outputs": [
    {
     "name": "stdout",
     "output_type": "stream",
     "text": [
      "\u001b[1m1/1\u001b[0m \u001b[32m━━━━━━━━━━━━━━━━━━━━\u001b[0m\u001b[37m\u001b[0m \u001b[1m0s\u001b[0m 25ms/step\n",
      "\u001b[1m1/1\u001b[0m \u001b[32m━━━━━━━━━━━━━━━━━━━━\u001b[0m\u001b[37m\u001b[0m \u001b[1m0s\u001b[0m 13ms/step\n"
     ]
    },
    {
     "data": {
      "image/png": "[encoded data removed]",
      "text/plain": [
       "<Figure size 1500x800 with 18 Axes>"
      ]
     },
     "metadata": {},
     "output_type": "display_data"
    }
   ],
   "source": [
    "# Preselect 9 samples from the test set\n",
    "num_samples = 9\n",
    "x_samples = x_test[:num_samples]\n",
    "y_samples = y_test[:num_samples]\n",
    "\n",
    "# Precompute predictions on the original samples\n",
    "pred_orig_all = model.predict(x_samples)\n",
    "orig_preds = np.argmax(pred_orig_all, axis=1)\n",
    "\n",
    "# Generate adversarial examples for all selected samples and store them\n",
    "x_adv_list = []\n",
    "for i in range(num_samples):\n",
    "    x_sample = x_samples[i:i+1]\n",
    "    y_sample = y_samples[i:i+1]\n",
    "    x_adv = fgsm_attack(model, x_sample, y_sample, epsilon=0.2)\n",
    "    x_adv_list.append(x_adv)\n",
    "x_adv_all = np.concatenate(x_adv_list, axis=0)\n",
    "\n",
    "# Precompute predictions on all adversarial examples\n",
    "pred_adv_all = model.predict(x_adv_all)\n",
    "adv_preds = np.argmax(pred_adv_all, axis=1)\n",
    "\n",
    "# Create a subplot grid for 9 comparisons (3 rows x 6 columns: 2 images per comparison)\n",
    "fig, axs = plt.subplots(3, 6, figsize=(15, 8))\n",
    "\n",
    "for i in range(num_samples):\n",
    "    row = i // 3\n",
    "    col = (i % 3) * 2\n",
    "    # Plot original image with its prediction\n",
    "    axs[row, col].imshow(x_samples[i, :, :, 0], cmap='gray')\n",
    "    axs[row, col].set_title(f\"Original\\nPred: {orig_preds[i]}\")\n",
    "    axs[row, col].axis('off')\n",
    "    \n",
    "    # Plot adversarial image with its prediction\n",
    "    axs[row, col+1].imshow(x_adv_all[i, :, :, 0], cmap='gray')\n",
    "    axs[row, col+1].set_title(f\"Adversarial\\nPred: {adv_preds[i]}\")\n",
    "    axs[row, col+1].axis('off')\n",
    "\n",
    "plt.tight_layout()\n",
    "plt.show()\n"
   ]
  },
  {
   "cell_type": "code",
   "execution_count": 10,
   "metadata": {},
   "outputs": [
    {
     "name": "stdout",
     "output_type": "stream",
     "text": [
      "\u001b[1m1/1\u001b[0m \u001b[32m━━━━━━━━━━━━━━━━━━━━\u001b[0m\u001b[37m\u001b[0m \u001b[1m0s\u001b[0m 15ms/step\n",
      "\u001b[1m1/1\u001b[0m \u001b[32m━━━━━━━━━━━━━━━━━━━━\u001b[0m\u001b[37m\u001b[0m \u001b[1m0s\u001b[0m 13ms/step\n",
      "Sample 0: Original Prediction: 7, Adversarial Prediction: 3\n",
      "\u001b[1m1/1\u001b[0m \u001b[32m━━━━━━━━━━━━━━━━━━━━\u001b[0m\u001b[37m\u001b[0m \u001b[1m0s\u001b[0m 12ms/step\n",
      "\u001b[1m1/1\u001b[0m \u001b[32m━━━━━━━━━━━━━━━━━━━━\u001b[0m\u001b[37m\u001b[0m \u001b[1m0s\u001b[0m 12ms/step\n",
      "Sample 1: Original Prediction: 2, Adversarial Prediction: 2\n",
      "\u001b[1m1/1\u001b[0m \u001b[32m━━━━━━━━━━━━━━━━━━━━\u001b[0m\u001b[37m\u001b[0m \u001b[1m0s\u001b[0m 11ms/step\n",
      "\u001b[1m1/1\u001b[0m \u001b[32m━━━━━━━━━━━━━━━━━━━━\u001b[0m\u001b[37m\u001b[0m \u001b[1m0s\u001b[0m 13ms/step\n",
      "Sample 2: Original Prediction: 1, Adversarial Prediction: 1\n",
      "\u001b[1m1/1\u001b[0m \u001b[32m━━━━━━━━━━━━━━━━━━━━\u001b[0m\u001b[37m\u001b[0m \u001b[1m0s\u001b[0m 12ms/step\n",
      "\u001b[1m1/1\u001b[0m \u001b[32m━━━━━━━━━━━━━━━━━━━━\u001b[0m\u001b[37m\u001b[0m \u001b[1m0s\u001b[0m 13ms/step\n",
      "Sample 3: Original Prediction: 0, Adversarial Prediction: 6\n",
      "\u001b[1m1/1\u001b[0m \u001b[32m━━━━━━━━━━━━━━━━━━━━\u001b[0m\u001b[37m\u001b[0m \u001b[1m0s\u001b[0m 11ms/step\n",
      "\u001b[1m1/1\u001b[0m \u001b[32m━━━━━━━━━━━━━━━━━━━━\u001b[0m\u001b[37m\u001b[0m \u001b[1m0s\u001b[0m 13ms/step\n",
      "Sample 4: Original Prediction: 4, Adversarial Prediction: 9\n",
      "\u001b[1m1/1\u001b[0m \u001b[32m━━━━━━━━━━━━━━━━━━━━\u001b[0m\u001b[37m\u001b[0m \u001b[1m0s\u001b[0m 12ms/step\n",
      "\u001b[1m1/1\u001b[0m \u001b[32m━━━━━━━━━━━━━━━━━━━━\u001b[0m\u001b[37m\u001b[0m \u001b[1m0s\u001b[0m 12ms/step\n",
      "Sample 5: Original Prediction: 1, Adversarial Prediction: 7\n",
      "\u001b[1m1/1\u001b[0m \u001b[32m━━━━━━━━━━━━━━━━━━━━\u001b[0m\u001b[37m\u001b[0m \u001b[1m0s\u001b[0m 14ms/step\n",
      "\u001b[1m1/1\u001b[0m \u001b[32m━━━━━━━━━━━━━━━━━━━━\u001b[0m\u001b[37m\u001b[0m \u001b[1m0s\u001b[0m 12ms/step\n",
      "Sample 6: Original Prediction: 4, Adversarial Prediction: 9\n",
      "\u001b[1m1/1\u001b[0m \u001b[32m━━━━━━━━━━━━━━━━━━━━\u001b[0m\u001b[37m\u001b[0m \u001b[1m0s\u001b[0m 13ms/step\n",
      "\u001b[1m1/1\u001b[0m \u001b[32m━━━━━━━━━━━━━━━━━━━━\u001b[0m\u001b[37m\u001b[0m \u001b[1m0s\u001b[0m 12ms/step\n",
      "Sample 7: Original Prediction: 9, Adversarial Prediction: 5\n",
      "\u001b[1m1/1\u001b[0m \u001b[32m━━━━━━━━━━━━━━━━━━━━\u001b[0m\u001b[37m\u001b[0m \u001b[1m0s\u001b[0m 12ms/step\n",
      "\u001b[1m1/1\u001b[0m \u001b[32m━━━━━━━━━━━━━━━━━━━━\u001b[0m\u001b[37m\u001b[0m \u001b[1m0s\u001b[0m 12ms/step\n",
      "Sample 8: Original Prediction: 5, Adversarial Prediction: 6\n"
     ]
    }
   ],
   "source": [
    "# (Optional) Print predictions for a few sample comparisons\n",
    "for i in range(num_samples):\n",
    "    x_sample = x_test[i:i+1]\n",
    "    y_sample = y_test[i:i+1]\n",
    "    x_adv = fgsm_attack(model, x_sample, y_sample, epsilon=0.2)\n",
    "    pred_orig = model.predict(x_sample)\n",
    "    pred_adv = model.predict(x_adv)\n",
    "    print(f\"Sample {i}: Original Prediction: {np.argmax(pred_orig)}, Adversarial Prediction: {np.argmax(pred_adv)}\")\n"
   ]
  },
  {
   "cell_type": "code",
   "execution_count": 11,
   "metadata": {},
   "outputs": [],
   "source": [
    "def create_adversarial_training_data(model, X, y, epsilon=0.1):\n",
    "    X_adv = fgsm_attack(model, X, y, epsilon)\n",
    "    X_combined = tf.concat([X, X_adv], axis=0)\n",
    "    y_combined = tf.concat([y, y], axis=0)\n",
    "    return X_combined, y_combined"
   ]
  },
  {
   "cell_type": "code",
   "execution_count": 12,
   "metadata": {},
   "outputs": [],
   "source": [
    "# Use a subset of training data for adversarial training demonstration\n",
    "X_subset = x_train[:100]\n",
    "y_subset = y_train[:100]\n",
    "\n",
    "X_adv_train, y_adv_train = create_adversarial_training_data(model, X_subset, y_subset, epsilon=0.1)"
   ]
  },
  {
   "cell_type": "code",
   "execution_count": 13,
   "metadata": {},
   "outputs": [],
   "source": [
    "# Build a new model for adversarial training\n",
    "model_adv = tf.keras.Sequential([\n",
    "    tf.keras.layers.Conv2D(32, kernel_size=(3,3), activation='relu', input_shape=x_train.shape[1:]),\n",
    "    tf.keras.layers.MaxPooling2D(pool_size=(2,2)),\n",
    "    tf.keras.layers.Flatten(),\n",
    "    tf.keras.layers.Dense(100, activation='relu'),\n",
    "    tf.keras.layers.Dense(10, activation='softmax')\n",
    "])\n",
    "model_adv.compile(optimizer='adam', loss='sparse_categorical_crossentropy', metrics=['accuracy'])"
   ]
  },
  {
   "cell_type": "code",
   "execution_count": 14,
   "metadata": {},
   "outputs": [
    {
     "name": "stdout",
     "output_type": "stream",
     "text": [
      "Epoch 1/5\n",
      "12/12 - 1s - 52ms/step - accuracy: 0.3667 - loss: 1.9878 - val_accuracy: 0.7000 - val_loss: 1.3566\n",
      "Epoch 2/5\n",
      "12/12 - 0s - 6ms/step - accuracy: 0.8333 - loss: 0.9695 - val_accuracy: 0.9500 - val_loss: 0.5057\n",
      "Epoch 3/5\n",
      "12/12 - 0s - 6ms/step - accuracy: 0.9611 - loss: 0.3282 - val_accuracy: 0.9500 - val_loss: 0.2147\n",
      "Epoch 4/5\n",
      "12/12 - 0s - 6ms/step - accuracy: 0.9833 - loss: 0.1255 - val_accuracy: 1.0000 - val_loss: 0.0992\n",
      "Epoch 5/5\n",
      "12/12 - 0s - 6ms/step - accuracy: 1.0000 - loss: 0.0460 - val_accuracy: 1.0000 - val_loss: 0.0441\n",
      "Adversarial training complete! 🛡️\n",
      "Model Accuracy on Adversarial Test Data: 15.00% ⚔️\n"
     ]
    }
   ],
   "source": [
    "# Train the model with adversarial examples included 🎉\n",
    "history_adv = model_adv.fit(X_adv_train, y_adv_train, epochs=5, batch_size=16, validation_split=0.1, verbose=2)\n",
    "print(\"Adversarial training complete! 🛡️\")\n",
    "\n",
    "# Evaluate robustness on adversarial test examples\n",
    "x_test_adv = fgsm_attack(model_adv, x_test[:100], y_test[:100], epsilon=0.2)\n",
    "accuracy_adv = model_adv.evaluate(x_test_adv, y_test[:100], verbose=0)[1]\n",
    "print(f\"Model Accuracy on Adversarial Test Data: {accuracy_adv*100:.2f}% ⚔️\")"
   ]
  },
  {
   "cell_type": "markdown",
   "metadata": {},
   "source": [
    "The output shows that the adversarial training procedure succeeded in achieving near-perfect performance on the training data (and its corresponding validation split) when both original and adversarial examples (generated with an epsilon of 0.1) are included. For example, during training, accuracy quickly rose from around 36% to 100% on the training set and reached 100% on the validation set by epoch 5.\n",
    "\n",
    "However, when the model is then evaluated on adversarial examples generated on the test set with a higher perturbation strength (epsilon = 0.2), the accuracy falls dramatically to 15%. This indicates that:\n",
    "\n",
    "- **Adversarial Training Worked as Intended for the Training Distribution:**  \n",
    "  The model learned to classify both the original and the adversarial training examples (with epsilon=0.1) very well, as seen by the high training and validation accuracies.\n",
    "\n",
    "- **Robustness is Limited to the Perturbation Strength Used During Training:**  \n",
    "  When the test adversarial examples are generated with a stronger perturbation (epsilon=0.2), the model is still highly vulnerable. In other words, the adversarial training with epsilon=0.1 did not generalize robustly to attacks with a higher epsilon.\n",
    "\n",
    "- **Implication:**  \n",
    "  This behavior is expected in adversarial training scenarios. The model becomes robust to the level of perturbation it sees during training but might not defend effectively against stronger attacks. To further improve robustness, one might consider:\n",
    "  - Training with a range of epsilon values.\n",
    "  - Incorporating more sophisticated adversarial training methods.\n",
    "  - Increasing the size of the adversarial training set.\n",
    "\n",
    "So, while the training metrics (accuracy, loss) look excellent on the combined adversarial training data, the low accuracy on adversarial test examples (15%) confirms that the model is still vulnerable to stronger adversarial attacks—exactly as anticipated."
   ]
  },
  {
   "cell_type": "markdown",
   "metadata": {},
   "source": [
    "## **🚀 Final Takeaways**\n",
    "\n",
    "1. **Adversarial Examples** are tiny perturbations to inputs that can **fool machine learning models**, much like a subtle foul or a deceptive bluff in sports. 😱🃏  \n",
    "2. They are crafted by using the model's **gradients** (e.g., via the FGSM method) to find the minimal change that causes misclassification. 🎯💥  \n",
    "3. **Robustness Strategies** include:\n",
    "   - **Adversarial Training**: Incorporate adversarial examples during training so the model learns to resist them. 🛡️💪  \n",
    "   - **Defensive Techniques**: Gradient masking, defensive distillation, and input preprocessing help improve model stability. 🔒✨  \n",
    "4. The provided **Python code** demonstrates how to generate adversarial examples, visualize the differences, and even perform adversarial training—all while using lots of emojis to keep things fun and engaging! 🎉🤖🔥  \n",
    "5. These methods are critical in applications where security and reliability are paramount, such as in **autonomous driving**, **medical diagnosis**, and even **sports analytics**. 🚗🏥🏆"
   ]
  }
 ],
 "metadata": {
  "kernelspec": {
   "display_name": "tf-env",
   "language": "python",
   "name": "tf-env"
  },
  "language_info": {
   "codemirror_mode": {
    "name": "ipython",
    "version": 3
   },
   "file_extension": ".py",
   "mimetype": "text/x-python",
   "name": "python",
   "nbconvert_exporter": "python",
   "pygments_lexer": "ipython3",
   "version": "3.12.9"
  }
 },
 "nbformat": 4,
 "nbformat_minor": 2
}
