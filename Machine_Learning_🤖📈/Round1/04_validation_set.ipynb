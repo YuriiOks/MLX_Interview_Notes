{
 "cells": [
  {
   "cell_type": "markdown",
   "metadata": {},
   "source": [
    "# **4️⃣ Purpose of a Validation Set in Machine Learning 🤖📊**"
   ]
  },
  {
   "cell_type": "markdown",
   "metadata": {},
   "source": [
    "## **💡 Real-Life Analogy: Training for a Football Match ⚽**"
   ]
  },
  {
   "cell_type": "markdown",
   "metadata": {},
   "source": [
    "Imagine you are **training a football team** for an upcoming match:"
   ]
  },
  {
   "cell_type": "markdown",
   "metadata": {},
   "source": [
    "1️⃣ **Training Set (Practice Drills):** Players learn new skills & tactics in training.  \n",
    "2️⃣ **Validation Set (Practice Match):** You test tactics **before the actual game** to see what works.  \n",
    "3️⃣ **Test Set (Real Match):** The real competition—**final performance evaluation**!  "
   ]
  },
  {
   "cell_type": "markdown",
   "metadata": {},
   "source": [
    "📌 **In Machine Learning, the validation set helps fine-tune a model before final testing!**"
   ]
  },
  {
   "cell_type": "markdown",
   "metadata": {},
   "source": [
    "## **📌 What is a Validation Set?**"
   ]
  },
  {
   "cell_type": "markdown",
   "metadata": {},
   "source": [
    "✅ **A validation set is a portion of the dataset used to tune the model's hyperparameters and evaluate its performance during training.**  \n",
    "✅ It helps determine **when to stop training** and **avoid overfitting**.  \n",
    "✅ The model is trained on the **training set** and tested on the **validation set** to improve performance **before** final testing.  "
   ]
  },
  {
   "cell_type": "markdown",
   "metadata": {},
   "source": [
    "📌 **Key Idea:**  \n",
    "- **Training Set:** Used to **train** the model.  \n",
    "- **Validation Set:** Used to **fine-tune** and adjust hyperparameters.  \n",
    "- **Test Set:** Used for **final evaluation** (never seen before).  "
   ]
  },
  {
   "cell_type": "markdown",
   "metadata": {},
   "source": [
    "✅ **Mathematical Notation:**  \n",
    "If $ D $ is the full dataset, we split it as:  \n",
    "$$\n",
    "D = D_{\\text{train}} \\cup D_{\\text{val}} \\cup D_{\\text{test}}\n",
    "$$"
   ]
  },
  {
   "cell_type": "markdown",
   "metadata": {},
   "source": [
    "## **📊 Example: Using a Validation Set in Football (Predicting Player Performance) ⚽**"
   ]
  },
  {
   "cell_type": "markdown",
   "metadata": {},
   "source": [
    "You want to predict whether a player will **score in a match** based on:  \n",
    "- **Shots on target 🎯**  \n",
    "- **Minutes played ⏳**  \n",
    "- **Opposition strength 🏆**  "
   ]
  },
  {
   "cell_type": "markdown",
   "metadata": {},
   "source": [
    "📌 **Dataset Split:**  \n",
    "| Data | Example | Usage |  \n",
    "|------|---------|------|  \n",
    "| **Training Set** | Matches from **2018-2021** | Used to train the model. |  \n",
    "| **Validation Set** | Matches from **2022** | Used to fine-tune parameters. |  \n",
    "| **Test Set** | Matches from **2023** | Used for final evaluation. |  "
   ]
  },
  {
   "cell_type": "markdown",
   "metadata": {},
   "source": [
    "✅ **Why Use a Validation Set?**  \n",
    "- Without it, the model might **overfit** and perform poorly on 2023 games.  \n",
    "- The validation set ensures the model **generalizes well before testing**.  "
   ]
  },
  {
   "cell_type": "markdown",
   "metadata": {},
   "source": [
    "## **📊 Example: Using a Validation Set in NBA Analytics 🏀**"
   ]
  },
  {
   "cell_type": "markdown",
   "metadata": {},
   "source": [
    "You want to predict if an NBA team will **win or lose** based on:  \n",
    "- **3-point percentage 🎯**  \n",
    "- **Turnovers per game 🔄**  \n",
    "- **Defensive efficiency 🏀**  "
   ]
  },
  {
   "cell_type": "markdown",
   "metadata": {},
   "source": [
    "📌 **Dataset Split:**  \n",
    "| Data | Example | Usage |  \n",
    "|------|---------|------|  \n",
    "| **Training Set** | Games from **2010-2018** | Train model on historical trends. |  \n",
    "| **Validation Set** | Games from **2019-2021** | Fine-tune hyperparameters. |  \n",
    "| **Test Set** | Games from **2022** | Evaluate final model accuracy. |  "
   ]
  },
  {
   "cell_type": "markdown",
   "metadata": {},
   "source": [
    "✅ **Why?**  \n",
    "- If the model **performs well on validation data**, it will likely **generalize** to test data.  "
   ]
  },
  {
   "cell_type": "markdown",
   "metadata": {},
   "source": [
    "## **🆚 Validation Set vs. Test Set: Key Differences**"
   ]
  },
  {
   "cell_type": "markdown",
   "metadata": {},
   "source": [
    "| Feature | Validation Set ✅ | Test Set ✅ |  \n",
    "|---------|-----------------|--------------|  \n",
    "| **Purpose** | Used for tuning hyperparameters & avoiding overfitting. | Final evaluation of model performance. |  \n",
    "| **When Used?** | During training. | After model training is complete. |  \n",
    "| **Exposure to Model?** | Model **sees** this data during tuning. | Model **never sees** this data until final testing. |  \n",
    "| **Adjustments?** | Hyperparameters are adjusted based on validation performance. | No changes are made after test evaluation. |  "
   ]
  },
  {
   "cell_type": "markdown",
   "metadata": {},
   "source": [
    "## **🔄 Types of Validation Strategies**"
   ]
  },
  {
   "cell_type": "markdown",
   "metadata": {},
   "source": [
    "✅ **1️⃣ Simple Train-Validation-Test Split (80-10-10 or 70-15-15)**  \n",
    "- **Best for large datasets.**  \n",
    "- Example:  \n",
    "  - **70% Training**  \n",
    "  - **15% Validation**  \n",
    "  - **15% Testing**  "
   ]
  },
  {
   "cell_type": "markdown",
   "metadata": {},
   "source": [
    "✅ **2️⃣ K-Fold Cross-Validation (Good for Small Data)**  \n",
    "- Splits data into **K parts** and rotates the validation set.  \n",
    "- Example: **5-Fold CV** → Each part is used as a validation set once.  "
   ]
  },
  {
   "cell_type": "markdown",
   "metadata": {},
   "source": [
    "✅ **3️⃣ Leave-One-Out Cross-Validation (LOOCV)**  \n",
    "- Each sample is tested separately (best for small datasets).  "
   ]
  },
  {
   "cell_type": "markdown",
   "metadata": {},
   "source": [
    "✅ **4️⃣ Time-Based Validation Split (Used in Finance & Sports)**  \n",
    "- Example: **Train on 2015-2019, Validate on 2020, Test on 2021+**.  \n",
    "- Ensures the model works for **future predictions**.  "
   ]
  },
  {
   "cell_type": "markdown",
   "metadata": {},
   "source": [
    "## **🛠️ Python Example: Train-Validation-Test Split**"
   ]
  },
  {
   "cell_type": "code",
   "execution_count": 1,
   "metadata": {},
   "outputs": [
    {
     "name": "stdout",
     "output_type": "stream",
     "text": [
      "Training Set: (700, 5)\n",
      "Validation Set: (150, 5)\n",
      "Test Set: (150, 5)\n"
     ]
    }
   ],
   "source": [
    "from sklearn.model_selection import train_test_split\n",
    "import numpy as np\n",
    "\n",
    "# Sample dataset (NBA Wins Prediction)\n",
    "X = np.random.rand(1000, 5)  # 1000 games, 5 features (e.g., 3PT %, Turnovers)\n",
    "y = np.random.randint(0, 2, size=1000)  # 0 = Loss, 1 = Win\n",
    "\n",
    "# Split into Training (70%), Validation (15%), and Test (15%)\n",
    "X_train, X_temp, y_train, y_temp = train_test_split(X, y, test_size=0.3, random_state=42)\n",
    "X_val, X_test, y_val, y_test = train_test_split(X_temp, y_temp, test_size=0.5, random_state=42)\n",
    "\n",
    "print(f\"Training Set: {X_train.shape}\")\n",
    "print(f\"Validation Set: {X_val.shape}\")\n",
    "print(f\"Test Set: {X_test.shape}\")"
   ]
  },
  {
   "cell_type": "markdown",
   "metadata": {},
   "source": [
    "✅ **Output:**  \n",
    "```\n",
    "Training Set: (700, 5)\n",
    "Validation Set: (150, 5)\n",
    "Test Set: (150, 5)\n",
    "```"
   ]
  },
  {
   "cell_type": "markdown",
   "metadata": {},
   "source": [
    "## **🚀 Why is a Validation Set Important?**"
   ]
  },
  {
   "cell_type": "markdown",
   "metadata": {},
   "source": [
    "- **Prevents Overfitting** → Helps the model generalize instead of memorizing training data.  \n",
    "- **Hyperparameter Tuning** → Optimizes parameters like learning rate, tree depth, etc.  \n",
    "- **Improves Final Test Accuracy** → Ensures better real-world performance.  "
   ]
  },
  {
   "cell_type": "markdown",
   "metadata": {},
   "source": [
    "## **🔥 Summary**"
   ]
  },
  {
   "cell_type": "markdown",
   "metadata": {},
   "source": [
    "1️⃣ **A validation set is used to tune the model before final testing.**  \n",
    "2️⃣ **It prevents overfitting and helps select the best hyperparameters.**  \n",
    "3️⃣ **The test set is only used for final evaluation.**  \n",
    "4️⃣ **Common splits: 70%-15%-15% or Cross-Validation for small datasets.**  \n",
    "5️⃣ **Essential in sports analytics, finance, and AI applications!**  "
   ]
  }
 ],
 "metadata": {
  "kernelspec": {
   "display_name": "Python 3",
   "language": "python",
   "name": "python3"
  },
  "language_info": {
   "codemirror_mode": {
    "name": "ipython",
    "version": 3
   },
   "file_extension": ".py",
   "mimetype": "text/x-python",
   "name": "python",
   "nbconvert_exporter": "python",
   "pygments_lexer": "ipython3",
   "version": "3.13.0"
  }
 },
 "nbformat": 4,
 "nbformat_minor": 2
}
