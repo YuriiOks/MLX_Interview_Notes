{
 "cells": [
  {
   "cell_type": "markdown",
   "metadata": {},
   "source": [
    "# **3️⃣ Overfitting in Machine Learning: Causes & Solutions 🤖📊**"
   ]
  },
  {
   "cell_type": "markdown",
   "metadata": {},
   "source": [
    "## **💡 Real-Life Analogy: Cramming for an Exam 📚🎓**"
   ]
  },
  {
   "cell_type": "markdown",
   "metadata": {},
   "source": [
    "Imagine you are preparing for an **exam**:"
   ]
  },
  {
   "cell_type": "markdown",
   "metadata": {},
   "source": [
    "- **Overfitting** → You memorize **every single past question** but don’t understand the concepts. ❌  \n",
    "- **Underfitting** → You barely study and don’t even know the basics. ❌  \n",
    "- **Good Generalization** → You study key concepts and apply them to **new problems**. ✅"
   ]
  },
  {
   "cell_type": "markdown",
   "metadata": {},
   "source": [
    "📌 **In Machine Learning, overfitting happens when a model learns the \"training data\" too well but performs poorly on new, unseen data.**"
   ]
  },
  {
   "cell_type": "markdown",
   "metadata": {},
   "source": [
    "## **📌 What is Overfitting?**"
   ]
  },
  {
   "cell_type": "markdown",
   "metadata": {},
   "source": [
    "✅ **Overfitting occurs when a machine learning model learns not just the underlying pattern but also the noise in the training data.**  \n",
    "✅ The model becomes **too complex**, capturing random fluctuations instead of general patterns.  \n",
    "✅ **Result?** High accuracy on training data but poor performance on new data (test set)."
   ]
  },
  {
   "cell_type": "markdown",
   "metadata": {},
   "source": [
    "📌 **Mathematical Definition:**  \n",
    "Let’s say we want to fit a function $f(x)$ to data points.  \n",
    "- **Underfitting:** $f(x)$ is **too simple** → Cannot capture important trends.  \n",
    "- **Overfitting:** $f(x)$ is **too complex** → Captures noise as if it were a real pattern."
   ]
  },
  {
   "cell_type": "markdown",
   "metadata": {},
   "source": [
    "✅ **Example:**"
   ]
  },
  {
   "cell_type": "markdown",
   "metadata": {},
   "source": [
    "- **Linear Model (Underfitting):** $y = mx + b$ (too simple, high bias).  \n",
    "- **Polynomial Model (Overfitting):** $y = ax^5 + bx^4 + cx^3 + dx^2 + ex + f$ (too complex, high variance)."
   ]
  },
  {
   "cell_type": "markdown",
   "metadata": {},
   "source": [
    "## **📊 Example: Overfitting in Football (Soccer) ⚽**"
   ]
  },
  {
   "cell_type": "markdown",
   "metadata": {},
   "source": [
    "**Scenario:** You build a model to predict whether a player will score in a match.  \n",
    "- **Underfitting:** Model only considers **minutes played** (too simple, ignores key factors like xG).  \n",
    "- **Overfitting:** Model memorizes **each past game**, including random weather conditions or small injuries that **won’t repeat** in new matches."
   ]
  },
  {
   "cell_type": "markdown",
   "metadata": {},
   "source": [
    "📌 **Result?**  \n",
    "- The overfitted model works **perfectly on past matches** ✅ but fails on future games ❌."
   ]
  },
  {
   "cell_type": "markdown",
   "metadata": {},
   "source": [
    "## **📊 Example: Overfitting in NBA 🏀**"
   ]
  },
  {
   "cell_type": "markdown",
   "metadata": {},
   "source": [
    "**Scenario:** Predicting whether a team will win based on historical data.  \n",
    "- **Underfitting:** Only considers **team ranking** (ignores recent form, injuries).  \n",
    "- **Overfitting:** Memorizes past games **exactly** (e.g., assumes that \"Team X always loses on Tuesday nights\")."
   ]
  },
  {
   "cell_type": "markdown",
   "metadata": {},
   "source": [
    "📌 **Result?**  \n",
    "- It predicts past games with **100% accuracy** but fails on new games."
   ]
  },
  {
   "cell_type": "markdown",
   "metadata": {},
   "source": [
    "## **🆚 Underfitting vs. Overfitting vs. Generalization**"
   ]
  },
  {
   "cell_type": "markdown",
   "metadata": {},
   "source": [
    "| Type                         | Description                                        | Example                                                        |\n",
    "|------------------------------|----------------------------------------------------|----------------------------------------------------------------|\n",
    "| **Underfitting**             | Model is too simple, doesn't capture patterns.     | Using **only height** to predict **NBA success**.              |\n",
    "| **Overfitting**              | Model is too complex, memorizes noise.             | Assuming **NBA players with red shoes always win**.            |\n",
    "| **Generalization (Good Fit)**| Model learns patterns but ignores noise.           | Using **points, assists, and efficiency ratings** for predictions. |"
   ]
  },
  {
   "cell_type": "markdown",
   "metadata": {},
   "source": [
    "## **🛠️ How to Avoid Overfitting?**"
   ]
  },
  {
   "cell_type": "markdown",
   "metadata": {},
   "source": [
    "✅ **1️⃣ Use More Training Data 📊**  \n",
    "- More data helps the model learn **real patterns** instead of noise.  \n",
    "- Example: **Football scouting** → Instead of analyzing **one season**, analyze **5+ seasons**."
   ]
  },
  {
   "cell_type": "markdown",
   "metadata": {},
   "source": [
    "✅ **2️⃣ Cross-Validation 🔄**  \n",
    "- **K-Fold Cross-Validation** splits data into **multiple training/testing sets**.  \n",
    "- Prevents the model from learning **only from one specific dataset**."
   ]
  },
  {
   "cell_type": "markdown",
   "metadata": {},
   "source": [
    "✅ **3️⃣ Feature Selection 🧠**  \n",
    "- Remove **irrelevant features** that introduce noise.  \n",
    "- Example: **NBA model** → Remove **shoe color** as a feature since it doesn’t affect performance."
   ]
  },
  {
   "cell_type": "markdown",
   "metadata": {},
   "source": [
    "✅ **4️⃣ Regularization (L1 & L2) 🏋️‍♂️**  \n",
    "- **L1 Regularization (Lasso):** Shrinks irrelevant feature weights to **zero**.  \n",
    "- **L2 Regularization (Ridge):** Reduces the impact of unnecessary features.  \n",
    "- Example: In **Stock Market Prediction**, regularization removes features like **random news headlines**."
   ]
  },
  {
   "cell_type": "markdown",
   "metadata": {},
   "source": [
    "✅ **5️⃣ Prune Decision Trees 🌳**  \n",
    "- **Deep decision trees overfit** because they memorize every possible outcome.  \n",
    "- **Solution?** Prune branches that only split based on **rare events**."
   ]
  },
  {
   "cell_type": "markdown",
   "metadata": {},
   "source": [
    "✅ **6️⃣ Dropout in Neural Networks 🤖**  \n",
    "- Randomly **turns off neurons** during training so the model **doesn’t rely on specific patterns**.  \n",
    "- Example: **Image recognition (AI in self-driving cars)** → Dropout prevents the model from memorizing **exact shadows** in training images."
   ]
  },
  {
   "cell_type": "markdown",
   "metadata": {},
   "source": [
    "✅ **7️⃣ Use Simpler Models 📉**  \n",
    "- If a **linear model** works well, avoid deep neural networks (which may overfit).  \n",
    "- Example: Predicting **house prices** may not need a **deep learning model**—just **Linear Regression**!"
   ]
  },
  {
   "cell_type": "markdown",
   "metadata": {},
   "source": [
    "## **🛠️ Python Example: Overfitting & Regularization**"
   ]
  },
  {
   "cell_type": "code",
   "execution_count": 1,
   "metadata": {},
   "outputs": [
    {
     "data": {
      "image/png": "[encoded data removed]",
      "text/plain": [
       "<Figure size 640x480 with 1 Axes>"
      ]
     },
     "metadata": {},
     "output_type": "display_data"
    }
   ],
   "source": [
    "from sklearn.linear_model import LinearRegression, Ridge\n",
    "from sklearn.preprocessing import PolynomialFeatures\n",
    "from sklearn.pipeline import make_pipeline\n",
    "import numpy as np\n",
    "import matplotlib.pyplot as plt\n",
    "\n",
    "# Generate dataset\n",
    "np.random.seed(42)\n",
    "X = np.linspace(0, 10, 20).reshape(-1, 1)\n",
    "y = X.ravel()**3 - 10 * X.ravel()**2 + 5 * X.ravel() + np.random.normal(0, 10, size=20)  # Non-linear function with noise\n",
    "\n",
    "# Create overfitted polynomial model\n",
    "poly_overfit = make_pipeline(PolynomialFeatures(degree=8), LinearRegression())\n",
    "poly_overfit.fit(X, y)\n",
    "\n",
    "# Regularized model with Ridge (L2 Regularization)\n",
    "poly_regularized = make_pipeline(PolynomialFeatures(degree=8), Ridge(alpha=10))\n",
    "poly_regularized.fit(X, y)\n",
    "\n",
    "# Plot results\n",
    "plt.scatter(X, y, color='black', label=\"True Data\")\n",
    "plt.plot(X, poly_overfit.predict(X), label=\"Overfitted Model (Degree 8)\", color='red', linestyle='dashed')\n",
    "plt.plot(X, poly_regularized.predict(X), label=\"Regularized Model (Degree 8, Ridge)\", color='blue')\n",
    "plt.legend()\n",
    "plt.title(\"Overfitting vs. Regularized Model\")\n",
    "plt.show()"
   ]
  },
  {
   "cell_type": "markdown",
   "metadata": {},
   "source": [
    "✅ **What Happens?**  \n",
    "- The **red dashed line (overfitted model)** captures noise and oscillates wildly. ❌  \n",
    "- The **blue line (regularized model)** smooths out fluctuations and generalizes better. ✅"
   ]
  },
  {
   "cell_type": "markdown",
   "metadata": {},
   "source": [
    "## **🚀 Real-World Applications: Avoiding Overfitting**"
   ]
  },
  {
   "cell_type": "markdown",
   "metadata": {},
   "source": [
    "✅ **Football (Player Performance Prediction ⚽)** → Avoid overfitting by using **5+ seasons of data** instead of just one.  \n",
    "✅ **NBA Analytics (Shot Selection 🏀)** → Avoid overfitting by **removing irrelevant stats (e.g., jersey color)**.  \n",
    "✅ **Stock Market Forecasting 📈** → Use **Lasso (L1 Regularization)** to remove unnecessary indicators.  \n",
    "✅ **Medical Diagnosis 🏥** → Use **cross-validation** to prevent models from learning patterns specific to one hospital."
   ]
  },
  {
   "cell_type": "markdown",
   "metadata": {},
   "source": [
    "## **🔥 Summary**"
   ]
  },
  {
   "cell_type": "markdown",
   "metadata": {},
   "source": [
    "1️⃣ **Overfitting = Memorizing training data instead of learning real patterns.**  \n",
    "2️⃣ **Underfitting = Model too simple to capture relationships.**  \n",
    "3️⃣ **Generalization = The right balance for making accurate predictions.**  \n",
    "4️⃣ **To prevent overfitting: Use more data, cross-validation, feature selection, and regularization.**  \n",
    "5️⃣ **Overfitting happens in football scouting, NBA analytics, finance, and AI-based medical diagnosis.**"
   ]
  }
 ],
 "metadata": {
  "kernelspec": {
   "display_name": "Python 3",
   "language": "python",
   "name": "python3"
  },
  "language_info": {
   "codemirror_mode": {
    "name": "ipython",
    "version": 3
   },
   "file_extension": ".py",
   "mimetype": "text/x-python",
   "name": "python",
   "nbconvert_exporter": "python",
   "pygments_lexer": "ipython3",
   "version": "3.13.0"
  }
 },
 "nbformat": 4,
 "nbformat_minor": 2
}
