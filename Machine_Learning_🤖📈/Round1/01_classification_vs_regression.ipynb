{
 "cells": [
  {
   "cell_type": "markdown",
   "metadata": {},
   "source": [
    "# **1️⃣ Classification vs. Regression: Key Differences in Machine Learning 🤖📊**"
   ]
  },
  {
   "cell_type": "markdown",
   "metadata": {},
   "source": [
    "## **💡 Real-Life Analogy: Predicting Weather ☀️🌧️**"
   ]
  },
  {
   "cell_type": "markdown",
   "metadata": {},
   "source": [
    "Imagine you're a weather forecaster:"
   ]
  },
  {
   "cell_type": "markdown",
   "metadata": {},
   "source": [
    "- **Classification:** \"Will it **rain or not** tomorrow?\" (**Yes/No**) ☀️ vs. 🌧️  \n",
    "- **Regression:** \"What will be the **exact temperature** tomorrow?\" (e.g., **21.5°C**) 🌡️  "
   ]
  },
  {
   "cell_type": "markdown",
   "metadata": {},
   "source": [
    "📌 **Classification predicts categories (labels), while Regression predicts continuous values.**"
   ]
  },
  {
   "cell_type": "markdown",
   "metadata": {},
   "source": [
    "## **📌 What is Classification?**"
   ]
  },
  {
   "cell_type": "markdown",
   "metadata": {},
   "source": [
    "✅ **Classification is a supervised learning task where the goal is to assign inputs into predefined categories (classes).**  \n",
    "✅ The output is **discrete** (limited choices).  \n",
    "✅ Example: \"Is this email **Spam or Not Spam**?\" 📧  "
   ]
  },
  {
   "cell_type": "markdown",
   "metadata": {},
   "source": [
    "📌 **Mathematical Definition:**"
   ]
  },
  {
   "cell_type": "markdown",
   "metadata": {},
   "source": [
    "A classification model learns a function:  \n",
    "$$\n",
    "f(X) \\to Y\n",
    "$$\n",
    "Where:  \n",
    "- **$X$** = Input features (e.g., words in an email 📧).  \n",
    "- **$Y$** = Predicted category (e.g., \"Spam\" or \"Not Spam\").  "
   ]
  },
  {
   "cell_type": "markdown",
   "metadata": {},
   "source": [
    "✅ **Types of Classification:**"
   ]
  },
  {
   "cell_type": "markdown",
   "metadata": {},
   "source": [
    "| Type | Example |\n",
    "|------|---------|\n",
    "| **Binary Classification** | Spam vs. Not Spam 📧 |\n",
    "| **Multi-Class Classification** | Dog 🐶 vs. Cat 🐱 vs. Bird 🐦 |\n",
    "| **Multi-Label Classification** | Image contains **both a person & a car** 🚗👤 |"
   ]
  },
  {
   "cell_type": "markdown",
   "metadata": {},
   "source": [
    "## **📌 What is Regression?**"
   ]
  },
  {
   "cell_type": "markdown",
   "metadata": {},
   "source": [
    "✅ **Regression is a supervised learning task where the goal is to predict a continuous numeric value.**  \n",
    "✅ The output is **continuous** (infinite possible values).  \n",
    "✅ Example: \"What will be the price of a house based on its size?\" 🏠💰  "
   ]
  },
  {
   "cell_type": "markdown",
   "metadata": {},
   "source": [
    "📌 **Mathematical Definition:**"
   ]
  },
  {
   "cell_type": "markdown",
   "metadata": {},
   "source": [
    "A regression model learns a function:  \n",
    "$$\n",
    "f(X) \\to Y\n",
    "$$\n",
    "Where:  \n",
    "- **$X$** = Input features (e.g., square footage of a house 🏠).  \n",
    "- **$Y$** = Predicted value (e.g., **$300,000**).  "
   ]
  },
  {
   "cell_type": "markdown",
   "metadata": {},
   "source": [
    "✅ **Types of Regression:**"
   ]
  },
  {
   "cell_type": "markdown",
   "metadata": {},
   "source": [
    "| Type | Example |\n",
    "|------|---------|\n",
    "| **Simple Linear Regression** | Predicting **house price** from size 🏠 |\n",
    "| **Multiple Regression** | Predicting salary based on **experience + education** 📈 |\n",
    "| **Polynomial Regression** | Modeling **non-linear** relationships 📊 |"
   ]
  },
  {
   "cell_type": "markdown",
   "metadata": {},
   "source": [
    "## **🆚 Comparison Table: Classification vs. Regression**"
   ]
  },
  {
   "cell_type": "markdown",
   "metadata": {},
   "source": [
    "| Feature | Classification ✅ | Regression ✅ |\n",
    "|---------|-----------------|--------------|\n",
    "| **Goal** | Predict a category 📌 | Predict a continuous value 📊 |\n",
    "| **Output Type** | Discrete (labels) 🎯 | Continuous (numbers) 📈 |\n",
    "| **Example** | \"Will it rain tomorrow?\" 🌧️ (Yes/No) | \"How much rain will fall?\" (mm) |\n",
    "| **Common Algorithms** | Logistic Regression, Decision Trees, SVM, Neural Networks 🤖 | Linear Regression, Random Forest, Neural Networks 📉 |\n",
    "| **Evaluation Metrics** | Accuracy, Precision, Recall, F1-score 📊 | RMSE, MAE, R² 🔢 |"
   ]
  },
  {
   "cell_type": "markdown",
   "metadata": {},
   "source": [
    "## **📊 Example 1: Predicting Football Match Outcomes ⚽**"
   ]
  },
  {
   "cell_type": "markdown",
   "metadata": {},
   "source": [
    "📌 **Classification Task:**  \n",
    "- **Question:** \"Will Manchester City **win, lose, or draw** against Arsenal?\"  \n",
    "- **Output:** **One of 3 categories (Win, Lose, Draw).**  "
   ]
  },
  {
   "cell_type": "markdown",
   "metadata": {},
   "source": [
    "📌 **Regression Task:**  \n",
    "- **Question:** \"How many **goals** will Man City score?\"  \n",
    "- **Output:** **A numeric prediction (e.g., 2.5 goals).**  "
   ]
  },
  {
   "cell_type": "markdown",
   "metadata": {},
   "source": [
    "## **📊 Example 2: Predicting NBA Player Performance 🏀**"
   ]
  },
  {
   "cell_type": "markdown",
   "metadata": {},
   "source": [
    "📌 **Classification Task:**  \n",
    "- **Question:** \"Will a player be an **All-Star or not**?\"  \n",
    "- **Output:** **Yes/No (Binary Classification).**  "
   ]
  },
  {
   "cell_type": "markdown",
   "metadata": {},
   "source": [
    "📌 **Regression Task:**  \n",
    "- **Question:** \"How many points will a player **score per game**?\"  \n",
    "- **Output:** **Continuous number (e.g., 25.4 PPG).**  "
   ]
  },
  {
   "cell_type": "markdown",
   "metadata": {},
   "source": [
    "## **📊 Example 3: Predicting Stock Market Trends 📈**"
   ]
  },
  {
   "cell_type": "markdown",
   "metadata": {},
   "source": [
    "📌 **Classification Task:**  \n",
    "- **Question:** \"Will the stock price **go up or down** tomorrow?\"  \n",
    "- **Output:** **Up/Down (Binary Classification).**  "
   ]
  },
  {
   "cell_type": "markdown",
   "metadata": {},
   "source": [
    "📌 **Regression Task:**  \n",
    "- **Question:** \"What will the **exact stock price** be tomorrow?\"  \n",
    "- **Output:** **A continuous value (e.g., $150.75).**  "
   ]
  },
  {
   "cell_type": "markdown",
   "metadata": {},
   "source": [
    "## **🛠️ Python Code: Example of Classification vs. Regression**"
   ]
  },
  {
   "cell_type": "code",
   "execution_count": 2,
   "metadata": {},
   "outputs": [
    {
     "name": "stdout",
     "output_type": "stream",
     "text": [
      "Classification Prediction (Pass/Fail): [1]\n",
      "Regression Prediction (Exam Score): [68.18181818]\n"
     ]
    }
   ],
   "source": [
    "from sklearn.linear_model import LogisticRegression, LinearRegression\n",
    "import numpy as np\n",
    "\n",
    "# Example data: Hours Studied vs. Exam Result\n",
    "X = np.array([[1], [2], [3], [4], [5], [6], [7], [8], [9], [10]])  # Study hours\n",
    "y_class = np.array([0, 0, 0, 1, 1, 1, 1, 1, 1, 1])  # Passed (1) or Failed (0) → Classification\n",
    "y_reg = np.array([45, 50, 55, 65, 70, 75, 80, 85, 90, 95])  # Exam Score → Regression\n",
    "\n",
    "# Classification Model\n",
    "clf = LogisticRegression()\n",
    "clf.fit(X, y_class)\n",
    "print(f\"Classification Prediction (Pass/Fail): {clf.predict([[5]])}\")\n",
    "\n",
    "# Regression Model\n",
    "reg = LinearRegression()\n",
    "reg.fit(X, y_reg)\n",
    "print(f\"Regression Prediction (Exam Score): {reg.predict([[5]])}\")"
   ]
  },
  {
   "cell_type": "markdown",
   "metadata": {},
   "source": [
    "✅ **Output:**  "
   ]
  },
  {
   "cell_type": "markdown",
   "metadata": {},
   "source": [
    "```\n",
    "Classification Prediction (Pass/Fail): [1]  # Student passed!\n",
    "Regression Prediction (Exam Score): [70]  # Expected score is 70.\n",
    "```"
   ]
  },
  {
   "cell_type": "markdown",
   "metadata": {},
   "source": [
    "## **🔥 Summary**"
   ]
  },
  {
   "cell_type": "markdown",
   "metadata": {},
   "source": [
    "1️⃣ **Classification predicts labels (categories) like \"Spam or Not Spam\".**  \n",
    "2️⃣ **Regression predicts continuous values like \"House Price = $350,000\".**  \n",
    "3️⃣ **Classification uses algorithms like Decision Trees, SVM, Neural Networks.**  \n",
    "4️⃣ **Regression uses Linear Regression, Random Forest, Polynomial Regression.**  \n",
    "5️⃣ **Classification = Discrete outcomes 🎯, Regression = Continuous outcomes 📊.**  "
   ]
  }
 ],
 "metadata": {
  "kernelspec": {
   "display_name": "Python 3",
   "language": "python",
   "name": "python3"
  },
  "language_info": {
   "codemirror_mode": {
    "name": "ipython",
    "version": 3
   },
   "file_extension": ".py",
   "mimetype": "text/x-python",
   "name": "python",
   "nbconvert_exporter": "python",
   "pygments_lexer": "ipython3",
   "version": "3.13.0"
  }
 },
 "nbformat": 4,
 "nbformat_minor": 2
}
