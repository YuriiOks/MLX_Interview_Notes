{
 "cells": [
  {
   "cell_type": "markdown",
   "metadata": {},
   "source": [
    "# **2️⃣ What is a Feature in Machine Learning? 🔍🤖**"
   ]
  },
  {
   "cell_type": "markdown",
   "metadata": {},
   "source": [
    "## **💡 Real-Life Analogy: Player Stats in Football ⚽**"
   ]
  },
  {
   "cell_type": "markdown",
   "metadata": {},
   "source": [
    "Imagine you're **scouting a football player** for your team. To decide if they are good, you look at:"
   ]
  },
  {
   "cell_type": "markdown",
   "metadata": {},
   "source": [
    "- **Goals scored per season** ⚽  \n",
    "- **Assists per game** 🎯  \n",
    "- **Pass accuracy (%)** 🎯  \n",
    "- **Minutes played per match** ⏳  "
   ]
  },
  {
   "cell_type": "markdown",
   "metadata": {},
   "source": [
    "📌 **Each of these stats is a *feature*!**  \n",
    "In **machine learning**, a **feature** is an **individual measurable property of data** that helps a model make predictions."
   ]
  },
  {
   "cell_type": "markdown",
   "metadata": {},
   "source": [
    "## **📌 Definition of a Feature in Machine Learning**"
   ]
  },
  {
   "cell_type": "markdown",
   "metadata": {},
   "source": [
    "✅ **A feature is a variable (column) in a dataset that provides information to a machine learning model.**  \n",
    "✅ Features help the model learn patterns and make predictions."
   ]
  },
  {
   "cell_type": "markdown",
   "metadata": {},
   "source": [
    "📌 **Example Feature Set (Football Player Data)**"
   ]
  },
  {
   "cell_type": "markdown",
   "metadata": {},
   "source": [
    "| Player Name | Goals Scored | Assists | Pass Accuracy (%) | Minutes Played |\n",
    "|------------|--------------|---------|------------------|---------------|\n",
    "| Haaland    | 30           | 5       | 85               | 2700          |\n",
    "| Mbappé     | 28           | 7       | 89               | 2600          |\n",
    "| Messi      | 18           | 15      | 92               | 2500          |"
   ]
  },
  {
   "cell_type": "markdown",
   "metadata": {},
   "source": [
    "- **Each row represents a player.**  \n",
    "- **Each column (Goals, Assists, etc.) is a feature.**  "
   ]
  },
  {
   "cell_type": "markdown",
   "metadata": {},
   "source": [
    "## **📊 Types of Features**"
   ]
  },
  {
   "cell_type": "markdown",
   "metadata": {},
   "source": [
    "| Feature Type             | Description                                  | Example                                          |\n",
    "|--------------------------|----------------------------------------------|--------------------------------------------------|\n",
    "| **Numerical (Continuous)**   | Features with continuous values.             | **Height (cm), Weight (kg), Age** 📏               |\n",
    "| **Categorical (Discrete)**   | Features with fixed categories.              | **Team Name, Position (Forward/Midfielder)** ⚽    |\n",
    "| **Boolean (Binary)**         | Features with True/False (0 or 1) values.      | **Injured? (Yes/No), Has Contract?** ✅❌         |\n",
    "| **Textual**                  | Features that store textual data.            | **Player Description, Club Name** 🏟️             |\n",
    "| **Derived Features**         | Features created from existing ones.         | **Goals per Match = Goals / Matches Played** 📊  |"
   ]
  },
  {
   "cell_type": "markdown",
   "metadata": {},
   "source": [
    "✅ **Feature Engineering is the process of creating new features from existing ones to improve model performance.**"
   ]
  },
  {
   "cell_type": "markdown",
   "metadata": {},
   "source": [
    "## **📊 Example: Features in Different Machine Learning Problems**"
   ]
  },
  {
   "cell_type": "markdown",
   "metadata": {},
   "source": [
    "| **Problem**                           | **Example Features**                                                |\n",
    "|---------------------------------------|---------------------------------------------------------------------|\n",
    "| **Predicting Football Match Outcomes ⚽** | Shots on target, possession %, fouls committed, team ranking         |\n",
    "| **NBA Player Performance 🏀**            | Points per game, assists, rebounds, shooting percentage              |\n",
    "| **Stock Market Prediction 📈**           | Trading volume, moving average, volatility, interest rates           |\n",
    "| **Spam Detection 📧**                    | Number of words, presence of \"free\", sender email address            |\n",
    "| **House Price Prediction 🏠**            | Square footage, number of bedrooms, location, crime rate             |"
   ]
  },
  {
   "cell_type": "markdown",
   "metadata": {},
   "source": [
    "## **🛠️ Python Example: Extracting Features from a Dataset**"
   ]
  },
  {
   "cell_type": "code",
   "execution_count": 2,
   "metadata": {},
   "outputs": [
    {
     "data": {
      "text/html": [
       "<div>\n",
       "<style scoped>\n",
       "    .dataframe tbody tr th:only-of-type {\n",
       "        vertical-align: middle;\n",
       "    }\n",
       "\n",
       "    .dataframe tbody tr th {\n",
       "        vertical-align: top;\n",
       "    }\n",
       "\n",
       "    .dataframe thead th {\n",
       "        text-align: right;\n",
       "    }\n",
       "</style>\n",
       "<table border=\"1\" class=\"dataframe\">\n",
       "  <thead>\n",
       "    <tr style=\"text-align: right;\">\n",
       "      <th></th>\n",
       "      <th>Goals</th>\n",
       "      <th>Assists</th>\n",
       "      <th>Pass_Accuracy</th>\n",
       "      <th>Minutes_Played</th>\n",
       "    </tr>\n",
       "  </thead>\n",
       "  <tbody>\n",
       "    <tr>\n",
       "      <th>0</th>\n",
       "      <td>30</td>\n",
       "      <td>5</td>\n",
       "      <td>85</td>\n",
       "      <td>2700</td>\n",
       "    </tr>\n",
       "    <tr>\n",
       "      <th>1</th>\n",
       "      <td>28</td>\n",
       "      <td>7</td>\n",
       "      <td>89</td>\n",
       "      <td>2600</td>\n",
       "    </tr>\n",
       "    <tr>\n",
       "      <th>2</th>\n",
       "      <td>18</td>\n",
       "      <td>15</td>\n",
       "      <td>92</td>\n",
       "      <td>2500</td>\n",
       "    </tr>\n",
       "  </tbody>\n",
       "</table>\n",
       "</div>"
      ],
      "text/plain": [
       "   Goals  Assists  Pass_Accuracy  Minutes_Played\n",
       "0     30        5             85            2700\n",
       "1     28        7             89            2600\n",
       "2     18       15             92            2500"
      ]
     },
     "metadata": {},
     "output_type": "display_data"
    }
   ],
   "source": [
    "import pandas as pd\n",
    "\n",
    "# Sample football player dataset\n",
    "data = {\n",
    "    \"Player\": [\"Haaland\", \"Mbappe\", \"Messi\"],\n",
    "    \"Goals\": [30, 28, 18],  \n",
    "    \"Assists\": [5, 7, 15],  \n",
    "    \"Pass_Accuracy\": [85, 89, 92],  \n",
    "    \"Minutes_Played\": [2700, 2600, 2500]\n",
    "}\n",
    "\n",
    "# Convert to DataFrame\n",
    "df = pd.DataFrame(data)\n",
    "\n",
    "# Select numerical features for machine learning model\n",
    "features = df.drop(columns=[\"Player\"])  # Removing the non-numeric column\n",
    "\n",
    "display(features)"
   ]
  },
  {
   "cell_type": "markdown",
   "metadata": {},
   "source": [
    "✅ **Output:**  \n",
    "\n",
    "- The **\"Player\" column is removed** because machine learning models **work with numerical features**.  \n",
    "- The remaining **numerical features** can be used to predict performance."
   ]
  },
  {
   "cell_type": "markdown",
   "metadata": {},
   "source": [
    "## **🚀 Feature Selection: Choosing the Best Features**"
   ]
  },
  {
   "cell_type": "markdown",
   "metadata": {},
   "source": [
    "✅ **Not all features improve model performance!**  \n",
    "✅ **Feature Selection** is the process of keeping only the most relevant features.  \n",
    "📌 **Methods for Feature Selection:**"
   ]
  },
  {
   "cell_type": "markdown",
   "metadata": {},
   "source": [
    "| Method                                 | Description                                                                  |\n",
    "|----------------------------------------|------------------------------------------------------------------------------|\n",
    "| **Correlation Analysis**               | Select features that are strongly related to the target variable. 📊         |\n",
    "| **Mutual Information**                 | Measures how much knowing one feature helps predict another. 🔍              |\n",
    "| **Lasso Regression (L1 Regularization)** | Automatically removes less useful features. ❌                              |\n",
    "| **Principal Component Analysis (PCA)** | Reduces high-dimensional features into fewer, more important ones. 🧠         |"
   ]
  },
  {
   "cell_type": "markdown",
   "metadata": {},
   "source": [
    "## **🔥 Summary**"
   ]
  },
  {
   "cell_type": "markdown",
   "metadata": {},
   "source": [
    "1️⃣ **A feature is an individual measurable property of data (e.g., goals scored, height, weight).**  \n",
    "2️⃣ **Features can be numerical, categorical, binary, textual, or derived.**  \n",
    "3️⃣ **Feature engineering creates new useful features from existing ones.**  \n",
    "4️⃣ **Feature selection removes unnecessary features to improve model performance.**  \n",
    "5️⃣ **In football, NBA, stock market, and spam detection, the right features determine model success!**  "
   ]
  }
 ],
 "metadata": {
  "kernelspec": {
   "display_name": "Python 3",
   "language": "python",
   "name": "python3"
  },
  "language_info": {
   "codemirror_mode": {
    "name": "ipython",
    "version": 3
   },
   "file_extension": ".py",
   "mimetype": "text/x-python",
   "name": "python",
   "nbconvert_exporter": "python",
   "pygments_lexer": "ipython3",
   "version": "3.13.0"
  }
 },
 "nbformat": 4,
 "nbformat_minor": 2
}
