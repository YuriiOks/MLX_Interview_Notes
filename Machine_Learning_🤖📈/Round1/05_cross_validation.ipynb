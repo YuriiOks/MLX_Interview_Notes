{
 "cells": [
  {
   "cell_type": "markdown",
   "metadata": {},
   "source": [
    "# **5️⃣ Cross-Validation: Concept & Importance in Machine Learning 🔄🤖**"
   ]
  },
  {
   "cell_type": "markdown",
   "metadata": {},
   "source": [
    "## **💡 Real-Life Analogy: Football (Soccer) Training Drills ⚽**"
   ]
  },
  {
   "cell_type": "markdown",
   "metadata": {},
   "source": [
    "Imagine you're **coaching a football team** for an important tournament."
   ]
  },
  {
   "cell_type": "markdown",
   "metadata": {},
   "source": [
    "- If you only practice against **one opponent**, your team **might not be ready** for different playing styles. ❌  \n",
    "- Instead, you **rotate opponents** during practice (e.g., fast teams, defensive teams, physical teams). ✅  \n",
    "- This helps your team **generalize** and perform well in real matches!  "
   ]
  },
  {
   "cell_type": "markdown",
   "metadata": {},
   "source": [
    "📌 **Cross-validation does the same thing in Machine Learning—it rotates the training and validation sets to ensure the model generalizes well to new data.**"
   ]
  },
  {
   "cell_type": "markdown",
   "metadata": {},
   "source": [
    "## **📌 What is Cross-Validation?**"
   ]
  },
  {
   "cell_type": "markdown",
   "metadata": {},
   "source": [
    "✅ **Cross-validation is a technique used to assess the performance of a machine learning model by splitting the dataset into multiple training and validation subsets.**  \n",
    "✅ It ensures that the model performs well on **unseen data** and **prevents overfitting**."
   ]
  },
  {
   "cell_type": "markdown",
   "metadata": {},
   "source": [
    "📌 **Key Idea:**  \n",
    "- Instead of using **just one validation set**, we **rotate different parts of the data** as validation.  \n",
    "- This gives a **more reliable estimate of model performance**."
   ]
  },
  {
   "cell_type": "markdown",
   "metadata": {},
   "source": [
    "✅ **Mathematical Representation:**  \n",
    "Given a dataset $ D $, we divide it into $ k $ subsets:  \n",
    "$$\n",
    "D = \\{ D_1, D_2, ..., D_k \\}\n",
    "$$\n",
    "Each subset takes turns being the **validation set**, while the rest form the **training set**."
   ]
  },
  {
   "cell_type": "markdown",
   "metadata": {},
   "source": [
    "## **📊 Why is Cross-Validation Important?**"
   ]
  },
  {
   "cell_type": "markdown",
   "metadata": {},
   "source": [
    "✅ **1️⃣ More Reliable Model Performance 📊**  \n",
    "- Instead of relying on **one train-test split**, CV gives a **better estimate of model accuracy**.  \n",
    "\n",
    "✅ **2️⃣ Prevents Overfitting 🔄**  \n",
    "- Ensures the model **doesn’t memorize one specific training set**.  \n",
    "- Example: **Football scouting** → A player shouldn’t be judged only on one game.  \n",
    "\n",
    "✅ **3️⃣ Works Well for Small Datasets 📉**  \n",
    "- When data is limited, CV helps **maximize data usage**.  \n",
    "\n",
    "✅ **4️⃣ Hyperparameter Tuning 🛠️**  \n",
    "- Helps select **optimal model settings** (e.g., learning rate, depth of trees)."
   ]
  },
  {
   "cell_type": "markdown",
   "metadata": {},
   "source": [
    "## **🔄 Types of Cross-Validation**"
   ]
  },
  {
   "cell_type": "markdown",
   "metadata": {},
   "source": [
    "| Cross-Validation Method           | Description                                                         | Best Used For                                            |\n",
    "|-----------------------------------|---------------------------------------------------------------------|----------------------------------------------------------|\n",
    "| **K-Fold Cross-Validation**       | Splits data into **K parts**, rotating the validation set each time.  | General ML models.                                       |\n",
    "| **Stratified K-Fold**             | Ensures class distribution is **balanced** in each fold.             | **Imbalanced datasets** (e.g., rare diseases, fraud detection). |\n",
    "| **Leave-One-Out CV (LOOCV)**        | Uses **one data point** as validation, trains on the rest.            | **Very small datasets** (e.g., medical studies).         |\n",
    "| **Time Series CV (Rolling Window)** | Uses **past data to predict future events**.                           | **Stock market, sports predictions, weather forecasting.** |"
   ]
  },
  {
   "cell_type": "markdown",
   "metadata": {},
   "source": [
    "## **📊 Example: K-Fold Cross-Validation in Football (Predicting Match Outcomes) ⚽**"
   ]
  },
  {
   "cell_type": "markdown",
   "metadata": {},
   "source": [
    "📌 **Scenario:** You’re predicting if a football team will **win, lose, or draw** based on:  \n",
    "- **Shots on target 🎯**  \n",
    "- **Possession % ⚽**  \n",
    "- **Pass accuracy % 🏆**  \n",
    "\n",
    "Instead of training on **just one split**, we use **K-Fold Cross-Validation**:  \n",
    "1️⃣ Split the dataset into **K parts (folds)**.  \n",
    "2️⃣ Train the model on **K-1 folds** and test on the **remaining fold**.  \n",
    "3️⃣ Repeat until **each fold has been a validation set once**.  \n",
    "4️⃣ Average the results for a **final accuracy score**."
   ]
  },
  {
   "cell_type": "markdown",
   "metadata": {},
   "source": [
    "📌 **Example (5-Fold CV, K=5)**  \n",
    "| Fold | Training Data (%) | Validation Data (%) |  \n",
    "|------|-----------------|------------------|  \n",
    "| **1** | 80% | 20% |  \n",
    "| **2** | 80% | 20% |  \n",
    "| **3** | 80% | 20% |  \n",
    "| **4** | 80% | 20% |  \n",
    "| **5** | 80% | 20% |  \n",
    "\n",
    "✅ **Final model accuracy = Average accuracy across all 5 folds!**"
   ]
  },
  {
   "cell_type": "markdown",
   "metadata": {},
   "source": [
    "## **📊 Example: Stratified K-Fold Cross-Validation in NBA 🏀**"
   ]
  },
  {
   "cell_type": "markdown",
   "metadata": {},
   "source": [
    "📌 **Scenario:** You’re predicting if an NBA player will make the **All-Star team** based on stats.  \n",
    "- **Problem:** **Only 5% of players become All-Stars** → Imbalanced dataset!  \n",
    "- **Solution:** Use **Stratified K-Fold Cross-Validation** to **preserve class balance**."
   ]
  },
  {
   "cell_type": "markdown",
   "metadata": {},
   "source": [
    "📌 **Comparison of Methods:**  \n",
    "| Method              | Training Data                              | Issue?               |\n",
    "|---------------------|--------------------------------------------|----------------------|\n",
    "| **Regular K-Fold**   | Might have **some folds with no All-Stars**   | Biased results ❌     |\n",
    "| **Stratified K-Fold** | Ensures each fold has the **same % of All-Stars** | Balanced ✅          |\n",
    "\n",
    "✅ **Result:** The model gets **better accuracy on real-world NBA data**!"
   ]
  },
  {
   "cell_type": "markdown",
   "metadata": {},
   "source": [
    "## **📊 Example: Time Series Cross-Validation in Stock Market 📈**"
   ]
  },
  {
   "cell_type": "markdown",
   "metadata": {},
   "source": [
    "📌 **Scenario:** You’re predicting **stock prices** for Tesla (TSLA) based on historical data.  \n",
    "- **Problem:** You can’t use **random splits** because stock prices are time-dependent!  \n",
    "- **Solution:** Use **Rolling Window Cross-Validation** (past data predicts future events).  \n",
    "\n",
    "📌 **Time-Based Split (Rolling Window CV)**  \n",
    "| Fold | Training Data | Validation Data |  \n",
    "|------|--------------|----------------|  \n",
    "| **1** | 2018-2019   | 2020           |  \n",
    "| **2** | 2019-2020   | 2021           |  \n",
    "| **3** | 2020-2021   | 2022           |  \n",
    "\n",
    "✅ **Result:** Model learns from past trends **without looking into the future**!"
   ]
  },
  {
   "cell_type": "markdown",
   "metadata": {},
   "source": [
    "## **🛠️ Python Code: K-Fold Cross-Validation**"
   ]
  },
  {
   "cell_type": "code",
   "execution_count": 3,
   "metadata": {},
   "outputs": [
    {
     "name": "stdout",
     "output_type": "stream",
     "text": [
      "Cross-Validation Scores: [0.53  0.475 0.52  0.435 0.5  ]\n",
      "Mean Accuracy: 0.4920\n"
     ]
    }
   ],
   "source": [
    "from sklearn.model_selection import KFold, cross_val_score\n",
    "from sklearn.ensemble import RandomForestClassifier\n",
    "import numpy as np\n",
    "\n",
    "# Sample dataset (NBA Wins Prediction)\n",
    "X = np.random.rand(1000, 5)  # 1000 games, 5 features (e.g., 3PT %, Turnovers)\n",
    "y = np.random.randint(0, 2, size=1000)  # 0 = Loss, 1 = Win\n",
    "\n",
    "# Define 5-Fold Cross-Validation\n",
    "kf = KFold(n_splits=5, shuffle=True, random_state=42)\n",
    "\n",
    "# Train model using cross-validation\n",
    "model = RandomForestClassifier()\n",
    "cv_scores = cross_val_score(model, X, y, cv=kf, scoring=\"accuracy\")\n",
    "\n",
    "print(f\"Cross-Validation Scores: {cv_scores}\")\n",
    "print(f\"Mean Accuracy: {cv_scores.mean():.4f}\")"
   ]
  },
  {
   "cell_type": "markdown",
   "metadata": {},
   "source": [
    "✅ **Output:**  \n",
    "\n",
    "\n",
    "- Instead of **one accuracy score**, we get **5 scores from different splits**.\n",
    "- **Final accuracy = Mean of all folds (49.2%)** → More reliable performance estimate!"
   ]
  },
  {
   "cell_type": "markdown",
   "metadata": {},
   "source": [
    "## **🚀 Applications of Cross-Validation in Machine Learning**"
   ]
  },
  {
   "cell_type": "markdown",
   "metadata": {},
   "source": [
    "✅ **Football Match Predictions ⚽** → Ensures the model isn’t **overfitting to specific teams.**  \n",
    "✅ **NBA Analytics 🏀** → Prevents models from **memorizing past seasons** instead of generalizing.  \n",
    "✅ **Stock Market Forecasting 📈** → Uses **Time-Series Cross-Validation** to predict future trends.  \n",
    "✅ **Medical Diagnosis 🏥** → Uses **Stratified K-Fold CV** to handle **rare diseases (imbalanced data).**  \n",
    "✅ **Fraud Detection 💳** → Prevents **overfitting to past fraud cases** and improves real-world accuracy."
   ]
  },
  {
   "cell_type": "markdown",
   "metadata": {},
   "source": [
    "## **🔥 Summary**"
   ]
  },
  {
   "cell_type": "markdown",
   "metadata": {},
   "source": [
    "1️⃣ **Cross-validation helps evaluate models by rotating training & validation sets.**  \n",
    "2️⃣ **K-Fold CV splits data into multiple folds, improving generalization.**  \n",
    "3️⃣ **Stratified K-Fold CV ensures balanced classes in imbalanced datasets.**  \n",
    "4️⃣ **Time-Series CV is crucial for stock market & sports predictions.**  \n",
    "5️⃣ **Cross-validation prevents overfitting and improves model reliability!**"
   ]
  }
 ],
 "metadata": {
  "kernelspec": {
   "display_name": "Python 3",
   "language": "python",
   "name": "python3"
  },
  "language_info": {
   "codemirror_mode": {
    "name": "ipython",
    "version": 3
   },
   "file_extension": ".py",
   "mimetype": "text/x-python",
   "name": "python",
   "nbconvert_exporter": "python",
   "pygments_lexer": "ipython3",
   "version": "3.13.0"
  }
 },
 "nbformat": 4,
 "nbformat_minor": 2
}
