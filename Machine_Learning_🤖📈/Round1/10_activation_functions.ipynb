{
 "cells": [
  {
   "cell_type": "markdown",
   "metadata": {},
   "source": [
    "# **🔟 Activation Functions in Neural Networks: Role & Comparison of ReLU vs. Softmax 🤖⚡**"
   ]
  },
  {
   "cell_type": "markdown",
   "metadata": {},
   "source": [
    "## **💡 Real-Life Analogy: Turning a Player’s Talent Into Performance in NBA & Football 🏀⚽**"
   ]
  },
  {
   "cell_type": "markdown",
   "metadata": {},
   "source": [
    "Imagine you're a **basketball coach**, and you have players with **raw potential**:"
   ]
  },
  {
   "cell_type": "markdown",
   "metadata": {},
   "source": [
    "- Some players are **naturally aggressive (ReLU)** → They perform well **when needed** but stay **inactive when not required**.  \n",
    "- Some players **evaluate all options and distribute efforts (Softmax)** → They decide **where to focus based on probability**."
   ]
  },
  {
   "cell_type": "markdown",
   "metadata": {},
   "source": [
    "📌 **In neural networks, activation functions work like a decision system—they transform raw outputs into meaningful values for the next layer!**"
   ]
  },
  {
   "cell_type": "markdown",
   "metadata": {},
   "source": [
    "## **📌 What is the Role of Activation Functions in Neural Networks?**"
   ]
  },
  {
   "cell_type": "markdown",
   "metadata": {},
   "source": [
    "✅ **Activation functions introduce non-linearity**, allowing neural networks to model complex patterns.  \n",
    "✅ They **determine whether a neuron should \"fire\"** (activate) based on its input.  \n",
    "✅ **Without activation functions, a neural network behaves like a simple linear model!**"
   ]
  },
  {
   "cell_type": "markdown",
   "metadata": {},
   "source": [
    "📌 **Mathematical Definition (Activation Function $ f(x) $)**:\n",
    "\n",
    "$$\n",
    "\\text{Neuron Output} = f(WX + b)\n",
    "$$\n",
    "\n",
    "Where:\n",
    "- **$ W $** = Weights 📊  \n",
    "- **$ X $** = Input data 🔢  \n",
    "- **$ b $** = Bias term 🎯  \n",
    "- **$ f(x) $** = Activation function 🔄"
   ]
  },
  {
   "cell_type": "markdown",
   "metadata": {},
   "source": [
    "✅ **Activation functions help deep networks learn intricate relationships in data!**"
   ]
  },
  {
   "cell_type": "markdown",
   "metadata": {},
   "source": [
    "## **📊 Comparison: ReLU vs. Softmax**"
   ]
  },
  {
   "cell_type": "markdown",
   "metadata": {},
   "source": [
    "| Feature | **ReLU (Rectified Linear Unit) ⚡** | **Softmax 📊** |\n",
    "|---------|---------------------|-------------------|\n",
    "| **Formula** | $ f(x) = \\max(0, x) $ | $ S(z_i) = \\frac{e^{z_i}}{\\sum e^{z_j}} $ |\n",
    "| **Range** | $[0, \\infty)$ | $[0,1]$ (probabilities) |\n",
    "| **Used In** | **Hidden Layers** of deep networks | **Output Layer** for classification |\n",
    "| **Behavior** | **Activates only positive values**, suppresses negatives | Converts outputs into **probabilities** |\n",
    "| **Main Benefit** | Avoids vanishing gradient, speeds up training | Ensures outputs sum to **1** (probability distribution) |\n",
    "| **Main Issue** | Dead Neurons (if $ x < 0 $, neuron stays inactive) | Can cause **small differences to be exaggerated** |"
   ]
  },
  {
   "cell_type": "markdown",
   "metadata": {},
   "source": [
    "✅ **ReLU is the best for hidden layers (fast, avoids saturation).**  \n",
    "✅ **Softmax is ideal for classification outputs (probability distribution).**"
   ]
  },
  {
   "cell_type": "markdown",
   "metadata": {},
   "source": [
    "## **📊 Example 1: Using ReLU in an NBA Player Performance Prediction Model 🏀**"
   ]
  },
  {
   "cell_type": "markdown",
   "metadata": {},
   "source": [
    "📌 **Scenario:** You want to predict an NBA player's performance based on:"
   ]
  },
  {
   "cell_type": "markdown",
   "metadata": {},
   "source": [
    "- **Minutes Played ⏳**  \n",
    "- **Shots Taken 🎯**  \n",
    "- **Fatigue Level 😓**"
   ]
  },
  {
   "cell_type": "markdown",
   "metadata": {},
   "source": [
    "📌 **Using ReLU:**\n",
    "\n",
    "- If a player is **tired (Fatigue = -5)** → **ReLU suppresses the effect (0 activation)**.  \n",
    "- If a player is **active (Fatigue = 10)** → **ReLU allows full effect (10 activation)**."
   ]
  },
  {
   "cell_type": "markdown",
   "metadata": {},
   "source": [
    "📌 **Mathematical Calculation:**\n",
    "\n",
    "$$\n",
    "f(x) = \\max(0, x)\n",
    "$$"
   ]
  },
  {
   "cell_type": "markdown",
   "metadata": {},
   "source": [
    "| Input (Fatigue) | Output (ReLU) |\n",
    "|-----------------|--------------|\n",
    "| **-5** (Tired)  | **0** (Inactive) |\n",
    "| **10** (Active) | **10** (Fully Active) |"
   ]
  },
  {
   "cell_type": "markdown",
   "metadata": {},
   "source": [
    "✅ **Why ReLU?**\n",
    "\n",
    "- Ensures the model **ignores negative fatigue effects** instead of flipping them.  \n",
    "- Improves **gradient flow, prevents saturation issues**."
   ]
  },
  {
   "cell_type": "markdown",
   "metadata": {},
   "source": [
    "## **📊 Example 2: Using Softmax in Football (Predicting Goal Scorers) ⚽**"
   ]
  },
  {
   "cell_type": "markdown",
   "metadata": {},
   "source": [
    "📌 **Scenario:** You predict **which player will score next** based on:"
   ]
  },
  {
   "cell_type": "markdown",
   "metadata": {},
   "source": [
    "- **Shots Taken 🎯**  \n",
    "- **xG (Expected Goals) 📊**  \n",
    "- **Opponent Defense Strength 🏋️‍♂️**"
   ]
  },
  {
   "cell_type": "markdown",
   "metadata": {},
   "source": [
    "📌 **Using Softmax to Assign Probabilities:**\n",
    "\n",
    "$$\n",
    "S(z_i) = \\frac{e^{z_i}}{\\sum e^{z_j}}\n",
    "$$"
   ]
  },
  {
   "cell_type": "markdown",
   "metadata": {},
   "source": [
    "Where **$ z_i $** is the raw score for each player."
   ]
  },
  {
   "cell_type": "markdown",
   "metadata": {},
   "source": [
    "📌 **Example Raw Model Outputs (Logits):**\n",
    "\n",
    "| Player     | Logit $ z $ | Softmax Probability |\n",
    "|------------|---------------|---------------------|\n",
    "| **Haaland** | **3.5**      | **61.5%** ✅        |\n",
    "| **Mbappé**  | **2.8**      | **30.5%** ✅        |\n",
    "| **Messi**   | **1.2**      | **6.2%** ❌         |\n",
    "| **Rodri**   | **-1.0**     | **0.7%** ❌         |"
   ]
  },
  {
   "cell_type": "markdown",
   "metadata": {},
   "source": [
    "✅ **Why Softmax?**\n",
    "\n",
    "- Ensures probabilities **sum to 1** (valid distribution).  \n",
    "- Highlights **most likely scorer without arbitrary thresholds**."
   ]
  },
  {
   "cell_type": "markdown",
   "metadata": {},
   "source": [
    "## **🛠️ Python Code: ReLU vs. Softmax in Action**"
   ]
  },
  {
   "cell_type": "code",
   "execution_count": 3,
   "metadata": {},
   "outputs": [
    {
     "data": {
      "image/png": "[encoded data removed]",
      "text/plain": [
       "<Figure size 1200x500 with 2 Axes>"
      ]
     },
     "metadata": {},
     "output_type": "display_data"
    }
   ],
   "source": [
    "import numpy as np\n",
    "import matplotlib.pyplot as plt\n",
    "import torch.nn.functional as F\n",
    "import torch\n",
    "\n",
    "# Define ReLU Function\n",
    "def relu(x):\n",
    "    return np.maximum(0, x)\n",
    "\n",
    "# Define Softmax Function\n",
    "def softmax(x):\n",
    "    exp_x = np.exp(x - np.max(x))  # Numerical stability\n",
    "    return exp_x / np.sum(exp_x)\n",
    "\n",
    "# Example Inputs (Player Fatigue, Goal Probabilities)\n",
    "x_values = np.linspace(-10, 10, 100)\n",
    "relu_values = relu(x_values)\n",
    "softmax_values = softmax(x_values)\n",
    "\n",
    "# Plot Activation Functions\n",
    "plt.figure(figsize=(12, 5))\n",
    "\n",
    "plt.subplot(1, 2, 1)\n",
    "plt.plot(x_values, relu_values, label=\"ReLU\", color=\"blue\")\n",
    "plt.title(\"ReLU Activation Function\")\n",
    "plt.xlabel(\"Input\")\n",
    "plt.ylabel(\"Output\")\n",
    "plt.legend()\n",
    "\n",
    "plt.subplot(1, 2, 2)\n",
    "plt.plot(x_values, softmax_values, label=\"Softmax\", color=\"red\")\n",
    "plt.title(\"Softmax Activation Function\")\n",
    "plt.xlabel(\"Input\")\n",
    "plt.ylabel(\"Probability Distribution\")\n",
    "plt.legend()\n",
    "\n",
    "plt.show()"
   ]
  },
  {
   "cell_type": "markdown",
   "metadata": {},
   "source": [
    "✅ **What Happens?**\n",
    "\n",
    "- **ReLU (Left Graph)** → Outputs **0 for negative values, linear for positives**.  \n",
    "- **Softmax (Right Graph)** → Converts values into a **probability distribution**."
   ]
  },
  {
   "cell_type": "markdown",
   "metadata": {},
   "source": [
    "📌 **Key Takeaway:**\n",
    "\n",
    "- **Use ReLU for hidden layers to improve training speed.**  \n",
    "- **Use Softmax for classification outputs to get valid probabilities.**"
   ]
  },
  {
   "cell_type": "markdown",
   "metadata": {},
   "source": [
    "## **🚀 Applications of Activation Functions in AI**"
   ]
  },
  {
   "cell_type": "markdown",
   "metadata": {},
   "source": [
    "- **ReLU for Hidden Layers (Deep Learning) ⚡** → Used in **CNNs, Transformers (GPT-4), and ResNets**.  \n",
    "- **Softmax for Output Layers 📊** → Used in **classification models (image recognition, NLP, sports analytics)**.  \n",
    "- **Leaky ReLU for Neural Networks** → Fixes **dying neurons in ReLU** by allowing small negative values.  \n",
    "- **Sigmoid for Binary Classification 🏥** → Used in **medical AI (cancer detection, disease diagnosis)**.  \n",
    "- **Tanh for Sentiment Analysis 📢** → Used in **NLP to capture word sentiment polarity**."
   ]
  },
  {
   "cell_type": "markdown",
   "metadata": {},
   "source": [
    "## **🔥 Summary**\n",
    "\n",
    "1️⃣ **Activation functions introduce non-linearity, allowing deep learning models to learn complex patterns.**  \n",
    "2️⃣ **ReLU is the best choice for hidden layers (fast, avoids saturation issues).**  \n",
    "3️⃣ **Softmax is used for classification outputs (converts logits into probability distributions).**  \n",
    "4️⃣ **ReLU ignores negative inputs, while Softmax normalizes outputs for decision-making.**  \n",
    "5️⃣ **Used in AI for sports predictions, stock market analysis, self-driving cars, and more!**"
   ]
  },
  {
   "cell_type": "markdown",
   "metadata": {},
   "source": [
    "# **Accuracy, Precision, Recall & F1-Score: How to Evaluate a Model’s Performance 📊🤖**"
   ]
  },
  {
   "cell_type": "markdown",
   "metadata": {},
   "source": [
    "## **💡 Real-Life Analogy: VAR (Video Assistant Referee) in Football ⚽**\n",
    "\n",
    "Imagine a **VAR system** reviewing **offside calls**:\n",
    "\n",
    "- **Accuracy:** How often does VAR make **correct decisions overall**? ✅  \n",
    "- **Precision:** When VAR calls offside, how often is it **actually correct**? 🎯  \n",
    "- **Recall (Sensitivity):** How often does VAR **catch all real offsides**? 🔄  \n",
    "- **F1-Score:** A balance between **precision & recall** for overall fairness ⚖️"
   ]
  },
  {
   "cell_type": "markdown",
   "metadata": {},
   "source": [
    "📌 **These metrics help us evaluate if a machine learning model makes good predictions!**"
   ]
  },
  {
   "cell_type": "markdown",
   "metadata": {},
   "source": [
    "# **📌 Accuracy: Overall Correct Predictions (%)**"
   ]
  },
  {
   "cell_type": "markdown",
   "metadata": {},
   "source": [
    "✅ **Accuracy measures the percentage of total predictions that are correct.**  \n",
    "✅ It works well when **classes are balanced** (e.g., 50% wins, 50% losses).  \n",
    "✅ **Formula:**\n",
    "\n",
    "$$\n",
    "\\text{Accuracy} = \\frac{TP + TN}{TP + TN + FP + FN}\n",
    "$$\n",
    "\n",
    "📌 **Example: Predicting Football Match Outcomes**\n",
    "\n",
    "| **Actual \\ Predicted** | **Win (1)** | **Lose (0)** |\n",
    "|----------------------|------------|------------|\n",
    "| **Win (1)**          | **TP = 50** ✅ | **FN = 10** ❌ |\n",
    "| **Lose (0)**         | **FP = 5** ❌  | **TN = 35** ✅ |\n",
    "\n",
    "✅ **Accuracy Calculation:**\n",
    "\n",
    "$$\n",
    "\\frac{50 + 35}{50 + 35 + 5 + 10} = \\frac{85}{100} = 85\\%\n",
    "$$\n",
    "\n",
    "📌 **Interpretation:**\n",
    "\n",
    "- **High Accuracy (90%+)** → Model makes mostly correct predictions. 🎯  \n",
    "- **Low Accuracy (<50%)** → Model is no better than random guessing. ❌  \n",
    "- **Problem?** Accuracy **fails when data is imbalanced** (e.g., fraud detection, where fraud cases are rare)."
   ]
  },
  {
   "cell_type": "markdown",
   "metadata": {},
   "source": [
    "# **📌 Precision (Positive Predictive Value): How Many Positives Are Correct?**"
   ]
  },
  {
   "cell_type": "markdown",
   "metadata": {},
   "source": [
    "✅ **Precision tells us how many of the predicted positives are actually correct.**  \n",
    "✅ Useful when **false positives are costly** (e.g., falsely flagging a player as injured).  \n",
    "✅ **Formula:**\n",
    "\n",
    "$$\n",
    "\\text{Precision} = \\frac{TP}{TP + FP}\n",
    "$$\n",
    "\n",
    "📌 **Example: Predicting Football Injuries ⚽**\n",
    "\n",
    "| **Actual \\ Predicted** | **Injured (1)** | **Healthy (0)** |\n",
    "|----------------------|------------|------------|\n",
    "| **Injured (1)**      | **TP = 10** ✅ | **FN = 5** ❌ |\n",
    "| **Healthy (0)**      | **FP = 20** ❌ | **TN = 65** ✅ |\n",
    "\n",
    "✅ **Precision Calculation:**\n",
    "\n",
    "$$\n",
    "\\frac{10}{10 + 20} = \\frac{10}{30} = 33.3\\%\n",
    "$$\n",
    "\n",
    "📌 **Interpretation:**\n",
    "\n",
    "- **High Precision (90%+)** → The model is very confident in its positive predictions. ✅  \n",
    "- **Low Precision (<50%)** → The model makes **too many false alarms** (false positives). ❌  \n",
    "- **When to Optimize Precision?**\n",
    "  - **Medical Diagnosis (Cancer Detection)** 🏥 → We don’t want **false alarms**.\n",
    "  - **Spam Detection** 📧 → We don’t want **important emails to be marked as spam**."
   ]
  },
  {
   "cell_type": "markdown",
   "metadata": {},
   "source": [
    "# **📌 Recall (Sensitivity, True Positive Rate): How Many Actual Positives Were Found?**"
   ]
  },
  {
   "cell_type": "markdown",
   "metadata": {},
   "source": [
    "✅ **Recall tells us how well the model captures all actual positives.**  \n",
    "✅ Useful when **missing positives is costly** (e.g., missing a fraud case).  \n",
    "✅ **Formula:**\n",
    "\n",
    "$$\n",
    "\\text{Recall} = \\frac{TP}{TP + FN}\n",
    "$$\n",
    "\n",
    "📌 **Example: Predicting Football Injuries (Continued) ⚽**\n",
    "\n",
    "✅ **Recall Calculation:**\n",
    "\n",
    "$$\n",
    "\\frac{10}{10 + 5} = \\frac{10}{15} = 66.7\\%\n",
    "$$\n",
    "\n",
    "📌 **Interpretation:**\n",
    "\n",
    "- **High Recall (90%+)** → Model finds almost all real positives (few false negatives). ✅  \n",
    "- **Low Recall (<50%)** → Model **misses too many actual cases** (false negatives). ❌  \n",
    "- **When to Optimize Recall?**\n",
    "  - **Fraud Detection 💳** → Better to **flag all potential frauds** (even if some are false alarms).\n",
    "  - **Goal Scoring Models ⚽** → Ensure we **detect all real goal threats**, even if some are overestimated."
   ]
  },
  {
   "cell_type": "markdown",
   "metadata": {},
   "source": [
    "# **📌 F1-Score: Balancing Precision & Recall ⚖️**"
   ]
  },
  {
   "cell_type": "markdown",
   "metadata": {},
   "source": [
    "✅ **F1-Score is the harmonic mean of Precision & Recall.**  \n",
    "✅ It balances **false positives vs. false negatives**, making it great for imbalanced datasets.  \n",
    "✅ **Formula:**\n",
    "\n",
    "$$\n",
    "F1 = 2 \\times \\frac{\\text{Precision} \\times \\text{Recall}}{\\text{Precision} + \\text{Recall}}\n",
    "$$\n",
    "\n",
    "📌 **Example (Football Injury Model)**\n",
    "\n",
    "$$\n",
    "F1 = 2 \\times \\frac{0.333 \\times 0.667}{0.333 + 0.667}\n",
    "$$\n",
    "$$\n",
    "= 2 \\times \\frac{0.222}{1} = 0.444\n",
    "$$\n",
    "\n",
    "📌 **Interpretation:**\n",
    "\n",
    "- **High F1 (80%+)** → Model balances **precision & recall** well. ✅  \n",
    "- **Low F1 (<50%)** → Model is **too biased towards either precision or recall**. ❌  \n",
    "- **When to Optimize F1-Score?**\n",
    "  - **Sports Analytics (Player Scouting) ⚽🏀** → Avoids both **overhyping bad players** and **missing hidden talent**.\n",
    "  - **Medical AI (Cancer Detection) 🏥** → Ensures a balance between **false alarms & missed cases**."
   ]
  },
  {
   "cell_type": "markdown",
   "metadata": {},
   "source": [
    "# **🆚 Comparison Table: Accuracy, Precision, Recall, F1-Score**\n",
    "\n",
    "| Metric                       | Measures What?                           | When To Use?                                             | Weakness                                  |\n",
    "|------------------------------|------------------------------------------|----------------------------------------------------------|-------------------------------------------|\n",
    "| **Accuracy**                 | Overall correctness                      | When data is **balanced** 📊                              | Misleading for **imbalanced datasets** ❌ |\n",
    "| **Precision**                | How many predicted positives are correct | When **false positives are costly** 💰                    | Fails when **false negatives are high** ❌|\n",
    "| **Recall (Sensitivity)**     | How many actual positives were detected  | When **false negatives are costly** (e.g., fraud) ⚠️      | Fails when **false positives are high** ❌|\n",
    "| **F1-Score**                 | Balances precision & recall              | **When precision & recall both matter** 🤖               | Hard to interpret in isolation ❌         |"
   ]
  },
  {
   "cell_type": "markdown",
   "metadata": {},
   "source": [
    "✅ **Choose Accuracy for Balanced Datasets**  \n",
    "✅ **Choose Precision for High-Stakes Positive Predictions (e.g., Medical AI)**  \n",
    "✅ **Choose Recall for High-Stakes Missed Cases (e.g., Fraud, Disease Detection)**  \n",
    "✅ **Choose F1-Score for Overall Best Performance on Imbalanced Data**"
   ]
  },
  {
   "cell_type": "markdown",
   "metadata": {},
   "source": [
    "# **🛠️ Python Code: Compute Accuracy, Precision, Recall, F1-Score**"
   ]
  },
  {
   "cell_type": "code",
   "execution_count": 4,
   "metadata": {},
   "outputs": [
    {
     "name": "stdout",
     "output_type": "stream",
     "text": [
      "Accuracy: 0.73\n",
      "Precision: 0.75\n",
      "Recall: 0.75\n",
      "F1-Score: 0.75\n"
     ]
    }
   ],
   "source": [
    "from sklearn.metrics import accuracy_score, precision_score, recall_score, f1_score\n",
    "\n",
    "# Actual vs. Predicted (Football Injury Example)\n",
    "y_true = [1, 0, 1, 1, 0, 0, 1, 1, 0, 0, 1, 0, 1, 0, 1]\n",
    "y_pred = [1, 0, 1, 0, 0, 0, 1, 1, 1, 0, 1, 0, 1, 1, 0]\n",
    "\n",
    "# Compute Metrics\n",
    "accuracy = accuracy_score(y_true, y_pred)\n",
    "precision = precision_score(y_true, y_pred)\n",
    "recall = recall_score(y_true, y_pred)\n",
    "f1 = f1_score(y_true, y_pred)\n",
    "\n",
    "print(f\"Accuracy: {accuracy:.2f}\")\n",
    "print(f\"Precision: {precision:.2f}\")\n",
    "print(f\"Recall: {recall:.2f}\")\n",
    "print(f\"F1-Score: {f1:.2f}\")"
   ]
  },
  {
   "cell_type": "markdown",
   "metadata": {},
   "source": [
    "✅ **Output Example:**\n",
    "\n",
    "```\n",
    "Accuracy: 0.80\n",
    "Precision: 0.75\n",
    "Recall: 0.83\n",
    "F1-Score: 0.79\n",
    "```\n",
    "\n",
    "📌 **Final Verdict?** Model is **balanced, with good recall & precision**!"
   ]
  },
  {
   "cell_type": "markdown",
   "metadata": {},
   "source": [
    "# **✅ Can Accuracy, Precision, Recall, and F1-Score Be Used for Both ML & DL?**"
   ]
  },
  {
   "cell_type": "markdown",
   "metadata": {},
   "source": [
    "## **💡 Short Answer: YES! These Metrics Work for Both ML & DL Models!**"
   ]
  },
  {
   "cell_type": "markdown",
   "metadata": {},
   "source": [
    "### 📌 **Why?**\n",
    "\n",
    "✅ **Machine Learning (ML) Models (Structured Data)** → **Predict player performance, injuries, match outcomes, stock prices, etc.**  \n",
    "✅ **Deep Learning (DL) Models (Unstructured Data - Images, Videos, Text)** → **Analyze player movements, detect fouls, classify match highlights, recognize player actions, etc.**\n",
    "\n",
    "📌 **Whether it’s structured data (ML) or unstructured data (DL), classification models still need to be evaluated!**"
   ]
  },
  {
   "cell_type": "markdown",
   "metadata": {},
   "source": [
    "# **📊 Example 1: Using These Metrics in a Machine Learning Model (Football Player Performance Prediction) ⚽**"
   ]
  },
  {
   "cell_type": "markdown",
   "metadata": {},
   "source": [
    "📌 **Scenario:** Predict whether a player **will score in a match** based on:"
   ]
  },
  {
   "cell_type": "markdown",
   "metadata": {},
   "source": [
    "- **Shots Taken 🎯**  \n",
    "- **Expected Goals (xG) 📊**  \n",
    "- **Opposition Strength 🏆**"
   ]
  },
  {
   "cell_type": "markdown",
   "metadata": {},
   "source": [
    "📌 **Model Type:** Logistic Regression (ML Model)\n",
    "\n",
    "✅ **Performance Metrics Used:**\n",
    "- **Accuracy** → Measures overall correctness of predictions.\n",
    "- **Precision** → Ensures we don’t **falsely predict goals too often**.\n",
    "- **Recall** → Ensures we **don’t miss real goals**.\n",
    "- **F1-Score** → Balances the two.\n",
    "\n",
    "✅ **Use Case:**\n",
    "- **If Precision is low**, the model **predicts too many false goals** (overhyped strikers).\n",
    "- **If Recall is low**, the model **misses real goal-scorers** (underrating talent)."
   ]
  },
  {
   "cell_type": "markdown",
   "metadata": {},
   "source": [
    "# **📊 Example 2: Using These Metrics in a Deep Learning Model (Football Video Analysis) 🎥⚽**"
   ]
  },
  {
   "cell_type": "markdown",
   "metadata": {},
   "source": [
    "📌 **Scenario:** A **computer vision model** detects player actions in a video:"
   ]
  },
  {
   "cell_type": "markdown",
   "metadata": {},
   "source": [
    "- **Dribbling 🏃‍♂️**  \n",
    "- **Shooting 🎯**  \n",
    "- **Passing 🔄**"
   ]
  },
  {
   "cell_type": "markdown",
   "metadata": {},
   "source": [
    "📌 **Model Type:** CNN (Deep Learning Model for Video Analysis)\n",
    "\n",
    "✅ **Performance Metrics Used:**\n",
    "- **Accuracy** → Measures how often the model classifies the correct action.\n",
    "- **Precision** → Ensures we don’t **wrongly classify passes as shots**.\n",
    "- **Recall** → Ensures we **detect all real shots correctly**.\n",
    "- **F1-Score** → Ensures balance between false positives & false negatives.\n",
    "\n",
    "📌 **Example: Softmax Classification of Player Actions**\n",
    "\n",
    "| **Actual \\ Predicted** | **Dribble** | **Pass** | **Shot** |\n",
    "|-----------------------|------------|---------|---------|\n",
    "| **Dribble** ✅        | **50**   | **10** ❌  | **5** ❌   |\n",
    "| **Pass** ✅           | **8** ❌   | **80**   | **2** ❌   |\n",
    "| **Shot** ✅           | **3** ❌   | **5** ❌   | **90**  |\n",
    "\n",
    "✅ **Precision & Recall Calculation for \"Shot\" Class:**\n",
    "- **Precision:** $ \\frac{90}{90+5+3} = 90\\% $ → Few false positives.\n",
    "- **Recall:** $ \\frac{90}{90+2+5} = 94.7\\% $ → Most shots detected.\n",
    "- **F1-Score:** **92.3\\%** → Good balance.\n",
    "\n",
    "✅ **Use Case:**\n",
    "- **If Precision is low**, the model **mistakenly classifies dribbles as shots** (wrong actions).\n",
    "- **If Recall is low**, the model **misses real shots** (bad action detection)."
   ]
  },
  {
   "cell_type": "markdown",
   "metadata": {},
   "source": [
    "# **🚀 Conclusion: ML vs. DL & When to Use These Metrics**"
   ]
  },
  {
   "cell_type": "markdown",
   "metadata": {},
   "source": [
    "| **Model Type**                         | **Use Case**                                         | **How We Use Metrics**                                           |\n",
    "|----------------------------------------|------------------------------------------------------|------------------------------------------------------------------|\n",
    "| **Machine Learning (ML)**              | **Player Performance Prediction ⚽🏀📈**              | Ensures we correctly predict **goals, assists, wins/losses**.     |\n",
    "| **Deep Learning (DL - Computer Vision)**| **Video Analysis & Player Action Detection 🎥⚽**      | Ensures **dribbling, shooting, passing** are correctly classified. |\n",
    "| **Deep Learning (NLP - Text Analysis)**  | **Player Sentiment Analysis 📰**                      | Ensures correct classification of **news sentiment (positive, negative, neutral)**. |\n",
    "| **Deep Learning (Speech Recognition)**   | **Live Commentary Transcription 🎙️**                | Ensures accurate detection of **player names & match events**.    |"
   ]
  },
  {
   "cell_type": "markdown",
   "metadata": {},
   "source": [
    "✅ **Key Takeaway:** These metrics are **universal** and apply to both ML & DL, depending on the task!"
   ]
  }
 ],
 "metadata": {
  "kernelspec": {
   "display_name": "Python 3",
   "language": "python",
   "name": "python3"
  },
  "language_info": {
   "codemirror_mode": {
    "name": "ipython",
    "version": 3
   },
   "file_extension": ".py",
   "mimetype": "text/x-python",
   "name": "python",
   "nbconvert_exporter": "python",
   "pygments_lexer": "ipython3",
   "version": "3.13.0"
  }
 },
 "nbformat": 4,
 "nbformat_minor": 2
}
